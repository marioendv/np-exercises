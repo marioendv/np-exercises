{
  "nbformat": 4,
  "nbformat_minor": 0,
  "metadata": {
    "colab": {
      "name": "Modelo Regresion Covid-19 Colombia.ipynb",
      "provenance": [],
      "collapsed_sections": [],
      "toc_visible": true,
      "mount_file_id": "1E6LMq6tcLxFpnJOJS8i8GbohHSUV-CnG",
      "authorship_tag": "ABX9TyPJ+1sNXKxQjPGvViV64y2Z",
      "include_colab_link": true
    },
    "kernelspec": {
      "name": "python3",
      "display_name": "Python 3"
    }
  },
  "cells": [
    {
      "cell_type": "markdown",
      "metadata": {
        "id": "view-in-github",
        "colab_type": "text"
      },
      "source": [
        "<a href=\"https://colab.research.google.com/github/mrugeles/np-exercises/blob/master/Modelo_Regresion_Covid_19_Colombia.ipynb\" target=\"_parent\"><img src=\"https://colab.research.google.com/assets/colab-badge.svg\" alt=\"Open In Colab\"/></a>"
      ]
    },
    {
      "cell_type": "code",
      "metadata": {
        "id": "N2CwVf3ByuF8",
        "colab_type": "code",
        "colab": {
          "base_uri": "https://localhost:8080/",
          "height": 138
        },
        "outputId": "49a78f6e-e3ee-48e0-eeb4-fc70a66881e5"
      },
      "source": [
        "!pip install sodapy"
      ],
      "execution_count": null,
      "outputs": [
        {
          "output_type": "stream",
          "text": [
            "Requirement already satisfied: sodapy in /usr/local/lib/python3.6/dist-packages (2.1.0)\n",
            "Requirement already satisfied: requests>=2.20.0 in /usr/local/lib/python3.6/dist-packages (from sodapy) (2.23.0)\n",
            "Requirement already satisfied: urllib3!=1.25.0,!=1.25.1,<1.26,>=1.21.1 in /usr/local/lib/python3.6/dist-packages (from requests>=2.20.0->sodapy) (1.24.3)\n",
            "Requirement already satisfied: certifi>=2017.4.17 in /usr/local/lib/python3.6/dist-packages (from requests>=2.20.0->sodapy) (2020.6.20)\n",
            "Requirement already satisfied: idna<3,>=2.5 in /usr/local/lib/python3.6/dist-packages (from requests>=2.20.0->sodapy) (2.9)\n",
            "Requirement already satisfied: chardet<4,>=3.0.2 in /usr/local/lib/python3.6/dist-packages (from requests>=2.20.0->sodapy) (3.0.4)\n"
          ],
          "name": "stdout"
        }
      ]
    },
    {
      "cell_type": "markdown",
      "metadata": {
        "id": "CS8tLStDg4_9",
        "colab_type": "text"
      },
      "source": [
        "# Modelo de regresión sobre casos en Colombia de Covid-19\n",
        "\n",
        "Este es un ejemplo de un modelo de regresión con un dataset muy limitado de apenas 14 registros (Marzo 19 del 2020) disponibles en la página del [Instituto Nacional de Salud](https://www.ins.gov.co/Noticias/Paginas/Coronavirus.aspx).\n",
        "\n",
        "Este notebook se ha creado con fines educativos para demostrar cómo realizar un modelo de regresión polinomial.\n",
        "\n",
        "Hay que tener en cuenta que la evolución de la infermedad con el tiempo define una curva logística y no una exponencial, esto es, la curva alcanza un punto de inflexión para luego tener una tendencia hacia una asintota horizonal."
      ]
    },
    {
      "cell_type": "code",
      "metadata": {
        "id": "A8drEzgnAZht",
        "colab_type": "code",
        "colab": {}
      },
      "source": [
        "import pandas as pd\n",
        "import numpy as np\n",
        "import operator\n",
        "import datetime\n",
        "from scipy.signal import find_peaks\n",
        "\n",
        "import plotly.graph_objects as go\n",
        "\n",
        "from sklearn.model_selection import train_test_split\n",
        "\n",
        "endpoint = 'https://www.datos.gov.co/resource/gt2j-8ykr.json'\n"
      ],
      "execution_count": null,
      "outputs": []
    },
    {
      "cell_type": "code",
      "metadata": {
        "id": "skK1JJr2ypGb",
        "colab_type": "code",
        "colab": {
          "base_uri": "https://localhost:8080/",
          "height": 316
        },
        "outputId": "674d402f-1bda-4fbf-f299-e056c7ee2439"
      },
      "source": [
        "from sodapy import Socrata\n",
        "\n",
        "client = Socrata(\"www.datos.gov.co\", None)\n",
        "results = client.get_all(\"gt2j-8ykr\")\n",
        "results_df = pd.DataFrame.from_records(results)\n",
        "results_df.tail()"
      ],
      "execution_count": null,
      "outputs": [
        {
          "output_type": "stream",
          "text": [
            "WARNING:root:Requests made without an app_token will be subject to strict throttling limits.\n"
          ],
          "name": "stderr"
        },
        {
          "output_type": "execute_result",
          "data": {
            "text/html": [
              "<div>\n",
              "<style scoped>\n",
              "    .dataframe tbody tr th:only-of-type {\n",
              "        vertical-align: middle;\n",
              "    }\n",
              "\n",
              "    .dataframe tbody tr th {\n",
              "        vertical-align: top;\n",
              "    }\n",
              "\n",
              "    .dataframe thead th {\n",
              "        text-align: right;\n",
              "    }\n",
              "</style>\n",
              "<table border=\"1\" class=\"dataframe\">\n",
              "  <thead>\n",
              "    <tr style=\"text-align: right;\">\n",
              "      <th></th>\n",
              "      <th>id_de_caso</th>\n",
              "      <th>fecha_de_notificaci_n</th>\n",
              "      <th>c_digo_divipola</th>\n",
              "      <th>ciudad_de_ubicaci_n</th>\n",
              "      <th>departamento</th>\n",
              "      <th>atenci_n</th>\n",
              "      <th>edad</th>\n",
              "      <th>sexo</th>\n",
              "      <th>tipo</th>\n",
              "      <th>estado</th>\n",
              "      <th>pa_s_de_procedencia</th>\n",
              "      <th>fis</th>\n",
              "      <th>fecha_diagnostico</th>\n",
              "      <th>fecha_recuperado</th>\n",
              "      <th>fecha_reporte_web</th>\n",
              "      <th>tipo_recuperaci_n</th>\n",
              "      <th>codigo_departamento</th>\n",
              "      <th>codigo_pais</th>\n",
              "      <th>pertenencia_etnica</th>\n",
              "      <th>fecha_de_muerte</th>\n",
              "      <th>nombre_grupo_etnico</th>\n",
              "    </tr>\n",
              "  </thead>\n",
              "  <tbody>\n",
              "    <tr>\n",
              "      <th>97841</th>\n",
              "      <td>97882</td>\n",
              "      <td>2020-06-25T00:00:00.000</td>\n",
              "      <td>11001</td>\n",
              "      <td>Bogotá D.C.</td>\n",
              "      <td>Bogotá D.C.</td>\n",
              "      <td>Casa</td>\n",
              "      <td>41</td>\n",
              "      <td>M</td>\n",
              "      <td>En estudio</td>\n",
              "      <td>Leve</td>\n",
              "      <td>NaN</td>\n",
              "      <td>2020-06-23T00:00:00.000</td>\n",
              "      <td>2020-06-30T00:00:00.000</td>\n",
              "      <td>NaN</td>\n",
              "      <td>2020-06-30T00:00:00.000</td>\n",
              "      <td>NaN</td>\n",
              "      <td>11</td>\n",
              "      <td>NaN</td>\n",
              "      <td>NaN</td>\n",
              "      <td>NaN</td>\n",
              "      <td>NaN</td>\n",
              "    </tr>\n",
              "    <tr>\n",
              "      <th>97842</th>\n",
              "      <td>97883</td>\n",
              "      <td>2020-06-25T00:00:00.000</td>\n",
              "      <td>11001</td>\n",
              "      <td>Bogotá D.C.</td>\n",
              "      <td>Bogotá D.C.</td>\n",
              "      <td>Casa</td>\n",
              "      <td>20</td>\n",
              "      <td>F</td>\n",
              "      <td>En estudio</td>\n",
              "      <td>Leve</td>\n",
              "      <td>NaN</td>\n",
              "      <td>2020-06-24T00:00:00.000</td>\n",
              "      <td>2020-06-30T00:00:00.000</td>\n",
              "      <td>NaN</td>\n",
              "      <td>2020-06-30T00:00:00.000</td>\n",
              "      <td>NaN</td>\n",
              "      <td>11</td>\n",
              "      <td>NaN</td>\n",
              "      <td>NaN</td>\n",
              "      <td>NaN</td>\n",
              "      <td>NaN</td>\n",
              "    </tr>\n",
              "    <tr>\n",
              "      <th>97843</th>\n",
              "      <td>97884</td>\n",
              "      <td>2020-06-25T00:00:00.000</td>\n",
              "      <td>11001</td>\n",
              "      <td>Bogotá D.C.</td>\n",
              "      <td>Bogotá D.C.</td>\n",
              "      <td>Casa</td>\n",
              "      <td>34</td>\n",
              "      <td>M</td>\n",
              "      <td>En estudio</td>\n",
              "      <td>Leve</td>\n",
              "      <td>NaN</td>\n",
              "      <td>2020-06-24T00:00:00.000</td>\n",
              "      <td>2020-06-30T00:00:00.000</td>\n",
              "      <td>NaN</td>\n",
              "      <td>2020-06-30T00:00:00.000</td>\n",
              "      <td>NaN</td>\n",
              "      <td>11</td>\n",
              "      <td>NaN</td>\n",
              "      <td>NaN</td>\n",
              "      <td>NaN</td>\n",
              "      <td>NaN</td>\n",
              "    </tr>\n",
              "    <tr>\n",
              "      <th>97844</th>\n",
              "      <td>97885</td>\n",
              "      <td>2020-06-16T00:00:00.000</td>\n",
              "      <td>11001</td>\n",
              "      <td>Bogotá D.C.</td>\n",
              "      <td>Bogotá D.C.</td>\n",
              "      <td>Casa</td>\n",
              "      <td>67</td>\n",
              "      <td>M</td>\n",
              "      <td>En estudio</td>\n",
              "      <td>Asintomático</td>\n",
              "      <td>NaN</td>\n",
              "      <td>Asintomático</td>\n",
              "      <td>2020-06-30T00:00:00.000</td>\n",
              "      <td>NaN</td>\n",
              "      <td>2020-06-30T00:00:00.000</td>\n",
              "      <td>NaN</td>\n",
              "      <td>11</td>\n",
              "      <td>NaN</td>\n",
              "      <td>NaN</td>\n",
              "      <td>NaN</td>\n",
              "      <td>NaN</td>\n",
              "    </tr>\n",
              "    <tr>\n",
              "      <th>97845</th>\n",
              "      <td>97886</td>\n",
              "      <td>2020-06-23T00:00:00.000</td>\n",
              "      <td>11001</td>\n",
              "      <td>Bogotá D.C.</td>\n",
              "      <td>Bogotá D.C.</td>\n",
              "      <td>Casa</td>\n",
              "      <td>36</td>\n",
              "      <td>M</td>\n",
              "      <td>En estudio</td>\n",
              "      <td>Leve</td>\n",
              "      <td>NaN</td>\n",
              "      <td>2020-06-21T00:00:00.000</td>\n",
              "      <td>2020-06-30T00:00:00.000</td>\n",
              "      <td>NaN</td>\n",
              "      <td>2020-06-30T00:00:00.000</td>\n",
              "      <td>NaN</td>\n",
              "      <td>11</td>\n",
              "      <td>NaN</td>\n",
              "      <td>NaN</td>\n",
              "      <td>NaN</td>\n",
              "      <td>NaN</td>\n",
              "    </tr>\n",
              "  </tbody>\n",
              "</table>\n",
              "</div>"
            ],
            "text/plain": [
              "      id_de_caso    fecha_de_notificaci_n  ... fecha_de_muerte nombre_grupo_etnico\n",
              "97841      97882  2020-06-25T00:00:00.000  ...             NaN                 NaN\n",
              "97842      97883  2020-06-25T00:00:00.000  ...             NaN                 NaN\n",
              "97843      97884  2020-06-25T00:00:00.000  ...             NaN                 NaN\n",
              "97844      97885  2020-06-16T00:00:00.000  ...             NaN                 NaN\n",
              "97845      97886  2020-06-23T00:00:00.000  ...             NaN                 NaN\n",
              "\n",
              "[5 rows x 21 columns]"
            ]
          },
          "metadata": {
            "tags": []
          },
          "execution_count": 30
        }
      ]
    },
    {
      "cell_type": "code",
      "metadata": {
        "id": "cIn9D9xk1GwY",
        "colab_type": "code",
        "colab": {}
      },
      "source": [
        "from sklearn.model_selection import train_test_split\n",
        "from sklearn.linear_model import LinearRegression\n",
        "from sklearn.preprocessing import PolynomialFeatures\n",
        "\n",
        "def to_polinomyal(x):\n",
        "    polynomial_features= PolynomialFeatures(degree=3)\n",
        "    x = x[:, np.newaxis]\n",
        "\n",
        "    return polynomial_features.fit_transform(x)\n",
        "\n",
        "def build_model(x, y):\n",
        "    x = to_polinomyal(x)\n",
        "    y = to_polinomyal(y)\n",
        "\n",
        "    X_train, X_test, y_train, y_test = train_test_split(x, y, test_size=0.2, random_state=300)\n",
        "\n",
        "    model = LinearRegression()\n",
        "    return model.fit(X_train, y_train)\n",
        "\n",
        "def get_predictions(model, x_predic): \n",
        "    x_predic = to_polinomyal(x_predic)\n",
        "    y_predic = model.predict(x_predic)\n",
        "\n",
        "    predictions = pd.DataFrame(columns=['x', 'y'])\n",
        "    predictions['x'] = x_predic[:, 1]\n",
        "    predictions['y'] = y_predic[:, 1]\n",
        "\n",
        "    return predictions"
      ],
      "execution_count": null,
      "outputs": []
    },
    {
      "cell_type": "code",
      "metadata": {
        "id": "9iFlvWCsvzss",
        "colab_type": "code",
        "colab": {
          "base_uri": "https://localhost:8080/",
          "height": 299
        },
        "outputId": "8f7ee1b4-69fc-4333-e12c-45d1a923f993"
      },
      "source": [
        "dataset = results_df\n",
        "dataset['fecha_de_notificaci_n'] = pd.to_datetime(dataset['fecha_de_notificaci_n'])\n",
        "dataset.sort_values(by = 'fecha_de_notificaci_n', inplace=True)\n",
        "dataset.tail()"
      ],
      "execution_count": null,
      "outputs": [
        {
          "output_type": "execute_result",
          "data": {
            "text/html": [
              "<div>\n",
              "<style scoped>\n",
              "    .dataframe tbody tr th:only-of-type {\n",
              "        vertical-align: middle;\n",
              "    }\n",
              "\n",
              "    .dataframe tbody tr th {\n",
              "        vertical-align: top;\n",
              "    }\n",
              "\n",
              "    .dataframe thead th {\n",
              "        text-align: right;\n",
              "    }\n",
              "</style>\n",
              "<table border=\"1\" class=\"dataframe\">\n",
              "  <thead>\n",
              "    <tr style=\"text-align: right;\">\n",
              "      <th></th>\n",
              "      <th>id_de_caso</th>\n",
              "      <th>fecha_de_notificaci_n</th>\n",
              "      <th>c_digo_divipola</th>\n",
              "      <th>ciudad_de_ubicaci_n</th>\n",
              "      <th>departamento</th>\n",
              "      <th>atenci_n</th>\n",
              "      <th>edad</th>\n",
              "      <th>sexo</th>\n",
              "      <th>tipo</th>\n",
              "      <th>estado</th>\n",
              "      <th>pa_s_de_procedencia</th>\n",
              "      <th>fis</th>\n",
              "      <th>fecha_diagnostico</th>\n",
              "      <th>fecha_recuperado</th>\n",
              "      <th>fecha_reporte_web</th>\n",
              "      <th>tipo_recuperaci_n</th>\n",
              "      <th>codigo_departamento</th>\n",
              "      <th>codigo_pais</th>\n",
              "      <th>pertenencia_etnica</th>\n",
              "      <th>fecha_de_muerte</th>\n",
              "      <th>nombre_grupo_etnico</th>\n",
              "    </tr>\n",
              "  </thead>\n",
              "  <tbody>\n",
              "    <tr>\n",
              "      <th>96177</th>\n",
              "      <td>96218</td>\n",
              "      <td>2020-06-30</td>\n",
              "      <td>54810</td>\n",
              "      <td>Tibú</td>\n",
              "      <td>Norte de Santander</td>\n",
              "      <td>Casa</td>\n",
              "      <td>44</td>\n",
              "      <td>M</td>\n",
              "      <td>En estudio</td>\n",
              "      <td>Leve</td>\n",
              "      <td>NaN</td>\n",
              "      <td>2020-06-28T00:00:00.000</td>\n",
              "      <td>2020-06-30T00:00:00.000</td>\n",
              "      <td>NaN</td>\n",
              "      <td>2020-06-30T00:00:00.000</td>\n",
              "      <td>NaN</td>\n",
              "      <td>54</td>\n",
              "      <td>NaN</td>\n",
              "      <td>NaN</td>\n",
              "      <td>NaN</td>\n",
              "      <td>NaN</td>\n",
              "    </tr>\n",
              "    <tr>\n",
              "      <th>95374</th>\n",
              "      <td>95415</td>\n",
              "      <td>2020-06-30</td>\n",
              "      <td>63130</td>\n",
              "      <td>Calarcá</td>\n",
              "      <td>Quindío</td>\n",
              "      <td>Casa</td>\n",
              "      <td>71</td>\n",
              "      <td>M</td>\n",
              "      <td>En estudio</td>\n",
              "      <td>Leve</td>\n",
              "      <td>NaN</td>\n",
              "      <td>2020-06-26T00:00:00.000</td>\n",
              "      <td>2020-06-30T00:00:00.000</td>\n",
              "      <td>NaN</td>\n",
              "      <td>2020-06-30T00:00:00.000</td>\n",
              "      <td>NaN</td>\n",
              "      <td>63</td>\n",
              "      <td>NaN</td>\n",
              "      <td>NaN</td>\n",
              "      <td>NaN</td>\n",
              "      <td>NaN</td>\n",
              "    </tr>\n",
              "    <tr>\n",
              "      <th>97136</th>\n",
              "      <td>97177</td>\n",
              "      <td>2020-06-30</td>\n",
              "      <td>63130</td>\n",
              "      <td>Calarcá</td>\n",
              "      <td>Quindío</td>\n",
              "      <td>Casa</td>\n",
              "      <td>38</td>\n",
              "      <td>M</td>\n",
              "      <td>En estudio</td>\n",
              "      <td>Leve</td>\n",
              "      <td>NaN</td>\n",
              "      <td>2020-06-17T00:00:00.000</td>\n",
              "      <td>2020-06-30T00:00:00.000</td>\n",
              "      <td>NaN</td>\n",
              "      <td>2020-06-30T00:00:00.000</td>\n",
              "      <td>NaN</td>\n",
              "      <td>63</td>\n",
              "      <td>NaN</td>\n",
              "      <td>NaN</td>\n",
              "      <td>NaN</td>\n",
              "      <td>NaN</td>\n",
              "    </tr>\n",
              "    <tr>\n",
              "      <th>96591</th>\n",
              "      <td>96632</td>\n",
              "      <td>2020-06-30</td>\n",
              "      <td>05266</td>\n",
              "      <td>Envigado</td>\n",
              "      <td>Antioquia</td>\n",
              "      <td>Casa</td>\n",
              "      <td>27</td>\n",
              "      <td>F</td>\n",
              "      <td>En estudio</td>\n",
              "      <td>Leve</td>\n",
              "      <td>NaN</td>\n",
              "      <td>2020-06-20T00:00:00.000</td>\n",
              "      <td>2020-06-30T00:00:00.000</td>\n",
              "      <td>NaN</td>\n",
              "      <td>2020-06-30T00:00:00.000</td>\n",
              "      <td>NaN</td>\n",
              "      <td>5</td>\n",
              "      <td>NaN</td>\n",
              "      <td>NaN</td>\n",
              "      <td>NaN</td>\n",
              "      <td>NaN</td>\n",
              "    </tr>\n",
              "    <tr>\n",
              "      <th>97027</th>\n",
              "      <td>97068</td>\n",
              "      <td>2020-06-30</td>\n",
              "      <td>05425</td>\n",
              "      <td>Maceo</td>\n",
              "      <td>Antioquia</td>\n",
              "      <td>Casa</td>\n",
              "      <td>50</td>\n",
              "      <td>M</td>\n",
              "      <td>En estudio</td>\n",
              "      <td>Leve</td>\n",
              "      <td>NaN</td>\n",
              "      <td>2020-06-22T00:00:00.000</td>\n",
              "      <td>2020-06-30T00:00:00.000</td>\n",
              "      <td>NaN</td>\n",
              "      <td>2020-06-30T00:00:00.000</td>\n",
              "      <td>NaN</td>\n",
              "      <td>5</td>\n",
              "      <td>NaN</td>\n",
              "      <td>NaN</td>\n",
              "      <td>NaN</td>\n",
              "      <td>NaN</td>\n",
              "    </tr>\n",
              "  </tbody>\n",
              "</table>\n",
              "</div>"
            ],
            "text/plain": [
              "      id_de_caso fecha_de_notificaci_n  ... fecha_de_muerte nombre_grupo_etnico\n",
              "96177      96218            2020-06-30  ...             NaN                 NaN\n",
              "95374      95415            2020-06-30  ...             NaN                 NaN\n",
              "97136      97177            2020-06-30  ...             NaN                 NaN\n",
              "96591      96632            2020-06-30  ...             NaN                 NaN\n",
              "97027      97068            2020-06-30  ...             NaN                 NaN\n",
              "\n",
              "[5 rows x 21 columns]"
            ]
          },
          "metadata": {
            "tags": []
          },
          "execution_count": 32
        }
      ]
    },
    {
      "cell_type": "code",
      "metadata": {
        "id": "dgeRWvu7wJaZ",
        "colab_type": "code",
        "colab": {
          "base_uri": "https://localhost:8080/",
          "height": 195
        },
        "outputId": "5abee01f-e2f3-4348-ef95-3b2fabb9c1e5"
      },
      "source": [
        "cases_by_day = dataset.groupby('fecha_de_notificaci_n').count()\n",
        "cases_by_day.reset_index(inplace=True)\n",
        "cases_by_day.rename(columns={'fecha_de_notificaci_n': 'date', 'id_de_caso':'cases'}, inplace=True)\n",
        "cases_by_day = cases_by_day[['date', 'cases']]\n",
        "cases_by_day.head()"
      ],
      "execution_count": null,
      "outputs": [
        {
          "output_type": "execute_result",
          "data": {
            "text/html": [
              "<div>\n",
              "<style scoped>\n",
              "    .dataframe tbody tr th:only-of-type {\n",
              "        vertical-align: middle;\n",
              "    }\n",
              "\n",
              "    .dataframe tbody tr th {\n",
              "        vertical-align: top;\n",
              "    }\n",
              "\n",
              "    .dataframe thead th {\n",
              "        text-align: right;\n",
              "    }\n",
              "</style>\n",
              "<table border=\"1\" class=\"dataframe\">\n",
              "  <thead>\n",
              "    <tr style=\"text-align: right;\">\n",
              "      <th></th>\n",
              "      <th>date</th>\n",
              "      <th>cases</th>\n",
              "    </tr>\n",
              "  </thead>\n",
              "  <tbody>\n",
              "    <tr>\n",
              "      <th>0</th>\n",
              "      <td>2020-03-02</td>\n",
              "      <td>1</td>\n",
              "    </tr>\n",
              "    <tr>\n",
              "      <th>1</th>\n",
              "      <td>2020-03-06</td>\n",
              "      <td>1</td>\n",
              "    </tr>\n",
              "    <tr>\n",
              "      <th>2</th>\n",
              "      <td>2020-03-07</td>\n",
              "      <td>1</td>\n",
              "    </tr>\n",
              "    <tr>\n",
              "      <th>3</th>\n",
              "      <td>2020-03-08</td>\n",
              "      <td>2</td>\n",
              "    </tr>\n",
              "    <tr>\n",
              "      <th>4</th>\n",
              "      <td>2020-03-09</td>\n",
              "      <td>3</td>\n",
              "    </tr>\n",
              "  </tbody>\n",
              "</table>\n",
              "</div>"
            ],
            "text/plain": [
              "        date  cases\n",
              "0 2020-03-02      1\n",
              "1 2020-03-06      1\n",
              "2 2020-03-07      1\n",
              "3 2020-03-08      2\n",
              "4 2020-03-09      3"
            ]
          },
          "metadata": {
            "tags": []
          },
          "execution_count": 33
        }
      ]
    },
    {
      "cell_type": "markdown",
      "metadata": {
        "id": "RDSebAAyxMtZ",
        "colab_type": "text"
      },
      "source": [
        "# Cases by day"
      ]
    },
    {
      "cell_type": "code",
      "metadata": {
        "id": "N7eeUev8xJG8",
        "colab_type": "code",
        "colab": {
          "base_uri": "https://localhost:8080/",
          "height": 542
        },
        "outputId": "557b57b6-85c3-4c30-e717-4c9a03d36731"
      },
      "source": [
        "fig = go.Figure()\n",
        "fig.add_trace(go.Scatter(x=cases_by_day['date'], y=cases_by_day['cases'], mode='lines+markers', name='Cases by day'))\n",
        "fig.show()"
      ],
      "execution_count": null,
      "outputs": [
        {
          "output_type": "display_data",
          "data": {
            "text/html": [
              "<html>\n",
              "<head><meta charset=\"utf-8\" /></head>\n",
              "<body>\n",
              "    <div>\n",
              "            <script src=\"https://cdnjs.cloudflare.com/ajax/libs/mathjax/2.7.5/MathJax.js?config=TeX-AMS-MML_SVG\"></script><script type=\"text/javascript\">if (window.MathJax) {MathJax.Hub.Config({SVG: {font: \"STIX-Web\"}});}</script>\n",
              "                <script type=\"text/javascript\">window.PlotlyConfig = {MathJaxConfig: 'local'};</script>\n",
              "        <script src=\"https://cdn.plot.ly/plotly-latest.min.js\"></script>    \n",
              "            <div id=\"fdeb321f-32da-4e3d-9941-8999cb0629be\" class=\"plotly-graph-div\" style=\"height:525px; width:100%;\"></div>\n",
              "            <script type=\"text/javascript\">\n",
              "                \n",
              "                    window.PLOTLYENV=window.PLOTLYENV || {};\n",
              "                    \n",
              "                if (document.getElementById(\"fdeb321f-32da-4e3d-9941-8999cb0629be\")) {\n",
              "                    Plotly.newPlot(\n",
              "                        'fdeb321f-32da-4e3d-9941-8999cb0629be',\n",
              "                        [{\"mode\": \"lines+markers\", \"name\": \"Cases by day\", \"type\": \"scatter\", \"x\": [\"2020-03-02T00:00:00\", \"2020-03-06T00:00:00\", \"2020-03-07T00:00:00\", \"2020-03-08T00:00:00\", \"2020-03-09T00:00:00\", \"2020-03-10T00:00:00\", \"2020-03-11T00:00:00\", \"2020-03-12T00:00:00\", \"2020-03-13T00:00:00\", \"2020-03-14T00:00:00\", \"2020-03-15T00:00:00\", \"2020-03-16T00:00:00\", \"2020-03-17T00:00:00\", \"2020-03-18T00:00:00\", \"2020-03-19T00:00:00\", \"2020-03-20T00:00:00\", \"2020-03-21T00:00:00\", \"2020-03-22T00:00:00\", \"2020-03-23T00:00:00\", \"2020-03-24T00:00:00\", \"2020-03-25T00:00:00\", \"2020-03-26T00:00:00\", \"2020-03-27T00:00:00\", \"2020-03-28T00:00:00\", \"2020-03-29T00:00:00\", \"2020-03-30T00:00:00\", \"2020-03-31T00:00:00\", \"2020-04-01T00:00:00\", \"2020-04-02T00:00:00\", \"2020-04-03T00:00:00\", \"2020-04-04T00:00:00\", \"2020-04-05T00:00:00\", \"2020-04-06T00:00:00\", \"2020-04-07T00:00:00\", \"2020-04-08T00:00:00\", \"2020-04-09T00:00:00\", \"2020-04-10T00:00:00\", \"2020-04-11T00:00:00\", \"2020-04-12T00:00:00\", \"2020-04-13T00:00:00\", \"2020-04-14T00:00:00\", \"2020-04-15T00:00:00\", \"2020-04-16T00:00:00\", \"2020-04-17T00:00:00\", \"2020-04-18T00:00:00\", \"2020-04-19T00:00:00\", \"2020-04-20T00:00:00\", \"2020-04-21T00:00:00\", \"2020-04-22T00:00:00\", \"2020-04-23T00:00:00\", \"2020-04-24T00:00:00\", \"2020-04-25T00:00:00\", \"2020-04-26T00:00:00\", \"2020-04-27T00:00:00\", \"2020-04-28T00:00:00\", \"2020-04-29T00:00:00\", \"2020-04-30T00:00:00\", \"2020-05-01T00:00:00\", \"2020-05-02T00:00:00\", \"2020-05-03T00:00:00\", \"2020-05-04T00:00:00\", \"2020-05-05T00:00:00\", \"2020-05-06T00:00:00\", \"2020-05-07T00:00:00\", \"2020-05-08T00:00:00\", \"2020-05-09T00:00:00\", \"2020-05-10T00:00:00\", \"2020-05-11T00:00:00\", \"2020-05-12T00:00:00\", \"2020-05-13T00:00:00\", \"2020-05-14T00:00:00\", \"2020-05-15T00:00:00\", \"2020-05-16T00:00:00\", \"2020-05-17T00:00:00\", \"2020-05-18T00:00:00\", \"2020-05-19T00:00:00\", \"2020-05-20T00:00:00\", \"2020-05-21T00:00:00\", \"2020-05-22T00:00:00\", \"2020-05-23T00:00:00\", \"2020-05-24T00:00:00\", \"2020-05-25T00:00:00\", \"2020-05-26T00:00:00\", \"2020-05-27T00:00:00\", \"2020-05-28T00:00:00\", \"2020-05-29T00:00:00\", \"2020-05-30T00:00:00\", \"2020-05-31T00:00:00\", \"2020-06-01T00:00:00\", \"2020-06-02T00:00:00\", \"2020-06-03T00:00:00\", \"2020-06-04T00:00:00\", \"2020-06-05T00:00:00\", \"2020-06-06T00:00:00\", \"2020-06-07T00:00:00\", \"2020-06-08T00:00:00\", \"2020-06-09T00:00:00\", \"2020-06-10T00:00:00\", \"2020-06-11T00:00:00\", \"2020-06-12T00:00:00\", \"2020-06-13T00:00:00\", \"2020-06-14T00:00:00\", \"2020-06-15T00:00:00\", \"2020-06-16T00:00:00\", \"2020-06-17T00:00:00\", \"2020-06-18T00:00:00\", \"2020-06-19T00:00:00\", \"2020-06-20T00:00:00\", \"2020-06-21T00:00:00\", \"2020-06-22T00:00:00\", \"2020-06-23T00:00:00\", \"2020-06-24T00:00:00\", \"2020-06-25T00:00:00\", \"2020-06-26T00:00:00\", \"2020-06-27T00:00:00\", \"2020-06-28T00:00:00\", \"2020-06-29T00:00:00\", \"2020-06-30T00:00:00\"], \"y\": [1, 1, 1, 2, 3, 4, 8, 11, 13, 20, 19, 29, 42, 44, 69, 78, 79, 81, 94, 141, 163, 159, 159, 166, 138, 194, 191, 195, 166, 185, 159, 100, 149, 153, 125, 140, 121, 249, 156, 183, 235, 164, 253, 176, 202, 219, 212, 218, 243, 297, 303, 305, 251, 404, 509, 368, 471, 458, 461, 390, 501, 778, 733, 745, 940, 733, 453, 713, 812, 830, 1051, 961, 895, 830, 1179, 1142, 1331, 1313, 1389, 1408, 893, 1151, 1461, 1343, 1371, 1379, 1285, 1023, 1704, 1603, 1845, 1735, 1956, 1752, 1410, 2448, 2284, 2648, 2750, 2664, 2202, 1483, 1686, 3255, 3312, 3357, 3246, 2598, 1906, 1841, 3016, 2261, 1720, 1376, 669, 177, 163, 6]}],\n",
              "                        {\"template\": {\"data\": {\"bar\": [{\"error_x\": {\"color\": \"#2a3f5f\"}, \"error_y\": {\"color\": \"#2a3f5f\"}, \"marker\": {\"line\": {\"color\": \"#E5ECF6\", \"width\": 0.5}}, \"type\": \"bar\"}], \"barpolar\": [{\"marker\": {\"line\": {\"color\": \"#E5ECF6\", \"width\": 0.5}}, \"type\": \"barpolar\"}], \"carpet\": [{\"aaxis\": {\"endlinecolor\": \"#2a3f5f\", \"gridcolor\": \"white\", \"linecolor\": \"white\", \"minorgridcolor\": \"white\", \"startlinecolor\": \"#2a3f5f\"}, \"baxis\": {\"endlinecolor\": \"#2a3f5f\", \"gridcolor\": \"white\", \"linecolor\": \"white\", \"minorgridcolor\": \"white\", \"startlinecolor\": \"#2a3f5f\"}, \"type\": \"carpet\"}], \"choropleth\": [{\"colorbar\": {\"outlinewidth\": 0, \"ticks\": \"\"}, \"type\": \"choropleth\"}], \"contour\": [{\"colorbar\": {\"outlinewidth\": 0, \"ticks\": \"\"}, \"colorscale\": [[0.0, \"#0d0887\"], [0.1111111111111111, \"#46039f\"], [0.2222222222222222, \"#7201a8\"], [0.3333333333333333, \"#9c179e\"], [0.4444444444444444, \"#bd3786\"], [0.5555555555555556, \"#d8576b\"], [0.6666666666666666, \"#ed7953\"], [0.7777777777777778, \"#fb9f3a\"], [0.8888888888888888, \"#fdca26\"], [1.0, \"#f0f921\"]], \"type\": \"contour\"}], \"contourcarpet\": [{\"colorbar\": {\"outlinewidth\": 0, \"ticks\": \"\"}, \"type\": \"contourcarpet\"}], \"heatmap\": [{\"colorbar\": {\"outlinewidth\": 0, \"ticks\": \"\"}, \"colorscale\": [[0.0, \"#0d0887\"], [0.1111111111111111, \"#46039f\"], [0.2222222222222222, \"#7201a8\"], [0.3333333333333333, \"#9c179e\"], [0.4444444444444444, \"#bd3786\"], [0.5555555555555556, \"#d8576b\"], [0.6666666666666666, \"#ed7953\"], [0.7777777777777778, \"#fb9f3a\"], [0.8888888888888888, \"#fdca26\"], [1.0, \"#f0f921\"]], \"type\": \"heatmap\"}], \"heatmapgl\": [{\"colorbar\": {\"outlinewidth\": 0, \"ticks\": \"\"}, \"colorscale\": [[0.0, \"#0d0887\"], [0.1111111111111111, \"#46039f\"], [0.2222222222222222, \"#7201a8\"], [0.3333333333333333, \"#9c179e\"], [0.4444444444444444, \"#bd3786\"], [0.5555555555555556, \"#d8576b\"], [0.6666666666666666, \"#ed7953\"], [0.7777777777777778, \"#fb9f3a\"], [0.8888888888888888, \"#fdca26\"], [1.0, \"#f0f921\"]], \"type\": \"heatmapgl\"}], \"histogram\": [{\"marker\": {\"colorbar\": {\"outlinewidth\": 0, \"ticks\": \"\"}}, \"type\": \"histogram\"}], \"histogram2d\": [{\"colorbar\": {\"outlinewidth\": 0, \"ticks\": \"\"}, \"colorscale\": [[0.0, \"#0d0887\"], [0.1111111111111111, \"#46039f\"], [0.2222222222222222, \"#7201a8\"], [0.3333333333333333, \"#9c179e\"], [0.4444444444444444, \"#bd3786\"], [0.5555555555555556, \"#d8576b\"], [0.6666666666666666, \"#ed7953\"], [0.7777777777777778, \"#fb9f3a\"], [0.8888888888888888, \"#fdca26\"], [1.0, \"#f0f921\"]], \"type\": \"histogram2d\"}], \"histogram2dcontour\": [{\"colorbar\": {\"outlinewidth\": 0, \"ticks\": \"\"}, \"colorscale\": [[0.0, \"#0d0887\"], [0.1111111111111111, \"#46039f\"], [0.2222222222222222, \"#7201a8\"], [0.3333333333333333, \"#9c179e\"], [0.4444444444444444, \"#bd3786\"], [0.5555555555555556, \"#d8576b\"], [0.6666666666666666, \"#ed7953\"], [0.7777777777777778, \"#fb9f3a\"], [0.8888888888888888, \"#fdca26\"], [1.0, \"#f0f921\"]], \"type\": \"histogram2dcontour\"}], \"mesh3d\": [{\"colorbar\": {\"outlinewidth\": 0, \"ticks\": \"\"}, \"type\": \"mesh3d\"}], \"parcoords\": [{\"line\": {\"colorbar\": {\"outlinewidth\": 0, \"ticks\": \"\"}}, \"type\": \"parcoords\"}], \"pie\": [{\"automargin\": true, \"type\": \"pie\"}], \"scatter\": [{\"marker\": {\"colorbar\": {\"outlinewidth\": 0, \"ticks\": \"\"}}, \"type\": \"scatter\"}], \"scatter3d\": [{\"line\": {\"colorbar\": {\"outlinewidth\": 0, \"ticks\": \"\"}}, \"marker\": {\"colorbar\": {\"outlinewidth\": 0, \"ticks\": \"\"}}, \"type\": \"scatter3d\"}], \"scattercarpet\": [{\"marker\": {\"colorbar\": {\"outlinewidth\": 0, \"ticks\": \"\"}}, \"type\": \"scattercarpet\"}], \"scattergeo\": [{\"marker\": {\"colorbar\": {\"outlinewidth\": 0, \"ticks\": \"\"}}, \"type\": \"scattergeo\"}], \"scattergl\": [{\"marker\": {\"colorbar\": {\"outlinewidth\": 0, \"ticks\": \"\"}}, \"type\": \"scattergl\"}], \"scattermapbox\": [{\"marker\": {\"colorbar\": {\"outlinewidth\": 0, \"ticks\": \"\"}}, \"type\": \"scattermapbox\"}], \"scatterpolar\": [{\"marker\": {\"colorbar\": {\"outlinewidth\": 0, \"ticks\": \"\"}}, \"type\": \"scatterpolar\"}], \"scatterpolargl\": [{\"marker\": {\"colorbar\": {\"outlinewidth\": 0, \"ticks\": \"\"}}, \"type\": \"scatterpolargl\"}], \"scatterternary\": [{\"marker\": {\"colorbar\": {\"outlinewidth\": 0, \"ticks\": \"\"}}, \"type\": \"scatterternary\"}], \"surface\": [{\"colorbar\": {\"outlinewidth\": 0, \"ticks\": \"\"}, \"colorscale\": [[0.0, \"#0d0887\"], [0.1111111111111111, \"#46039f\"], [0.2222222222222222, \"#7201a8\"], [0.3333333333333333, \"#9c179e\"], [0.4444444444444444, \"#bd3786\"], [0.5555555555555556, \"#d8576b\"], [0.6666666666666666, \"#ed7953\"], [0.7777777777777778, \"#fb9f3a\"], [0.8888888888888888, \"#fdca26\"], [1.0, \"#f0f921\"]], \"type\": \"surface\"}], \"table\": [{\"cells\": {\"fill\": {\"color\": \"#EBF0F8\"}, \"line\": {\"color\": \"white\"}}, \"header\": {\"fill\": {\"color\": \"#C8D4E3\"}, \"line\": {\"color\": \"white\"}}, \"type\": \"table\"}]}, \"layout\": {\"annotationdefaults\": {\"arrowcolor\": \"#2a3f5f\", \"arrowhead\": 0, \"arrowwidth\": 1}, \"coloraxis\": {\"colorbar\": {\"outlinewidth\": 0, \"ticks\": \"\"}}, \"colorscale\": {\"diverging\": [[0, \"#8e0152\"], [0.1, \"#c51b7d\"], [0.2, \"#de77ae\"], [0.3, \"#f1b6da\"], [0.4, \"#fde0ef\"], [0.5, \"#f7f7f7\"], [0.6, \"#e6f5d0\"], [0.7, \"#b8e186\"], [0.8, \"#7fbc41\"], [0.9, \"#4d9221\"], [1, \"#276419\"]], \"sequential\": [[0.0, \"#0d0887\"], [0.1111111111111111, \"#46039f\"], [0.2222222222222222, \"#7201a8\"], [0.3333333333333333, \"#9c179e\"], [0.4444444444444444, \"#bd3786\"], [0.5555555555555556, \"#d8576b\"], [0.6666666666666666, \"#ed7953\"], [0.7777777777777778, \"#fb9f3a\"], [0.8888888888888888, \"#fdca26\"], [1.0, \"#f0f921\"]], \"sequentialminus\": [[0.0, \"#0d0887\"], [0.1111111111111111, \"#46039f\"], [0.2222222222222222, \"#7201a8\"], [0.3333333333333333, \"#9c179e\"], [0.4444444444444444, \"#bd3786\"], [0.5555555555555556, \"#d8576b\"], [0.6666666666666666, \"#ed7953\"], [0.7777777777777778, \"#fb9f3a\"], [0.8888888888888888, \"#fdca26\"], [1.0, \"#f0f921\"]]}, \"colorway\": [\"#636efa\", \"#EF553B\", \"#00cc96\", \"#ab63fa\", \"#FFA15A\", \"#19d3f3\", \"#FF6692\", \"#B6E880\", \"#FF97FF\", \"#FECB52\"], \"font\": {\"color\": \"#2a3f5f\"}, \"geo\": {\"bgcolor\": \"white\", \"lakecolor\": \"white\", \"landcolor\": \"#E5ECF6\", \"showlakes\": true, \"showland\": true, \"subunitcolor\": \"white\"}, \"hoverlabel\": {\"align\": \"left\"}, \"hovermode\": \"closest\", \"mapbox\": {\"style\": \"light\"}, \"paper_bgcolor\": \"white\", \"plot_bgcolor\": \"#E5ECF6\", \"polar\": {\"angularaxis\": {\"gridcolor\": \"white\", \"linecolor\": \"white\", \"ticks\": \"\"}, \"bgcolor\": \"#E5ECF6\", \"radialaxis\": {\"gridcolor\": \"white\", \"linecolor\": \"white\", \"ticks\": \"\"}}, \"scene\": {\"xaxis\": {\"backgroundcolor\": \"#E5ECF6\", \"gridcolor\": \"white\", \"gridwidth\": 2, \"linecolor\": \"white\", \"showbackground\": true, \"ticks\": \"\", \"zerolinecolor\": \"white\"}, \"yaxis\": {\"backgroundcolor\": \"#E5ECF6\", \"gridcolor\": \"white\", \"gridwidth\": 2, \"linecolor\": \"white\", \"showbackground\": true, \"ticks\": \"\", \"zerolinecolor\": \"white\"}, \"zaxis\": {\"backgroundcolor\": \"#E5ECF6\", \"gridcolor\": \"white\", \"gridwidth\": 2, \"linecolor\": \"white\", \"showbackground\": true, \"ticks\": \"\", \"zerolinecolor\": \"white\"}}, \"shapedefaults\": {\"line\": {\"color\": \"#2a3f5f\"}}, \"ternary\": {\"aaxis\": {\"gridcolor\": \"white\", \"linecolor\": \"white\", \"ticks\": \"\"}, \"baxis\": {\"gridcolor\": \"white\", \"linecolor\": \"white\", \"ticks\": \"\"}, \"bgcolor\": \"#E5ECF6\", \"caxis\": {\"gridcolor\": \"white\", \"linecolor\": \"white\", \"ticks\": \"\"}}, \"title\": {\"x\": 0.05}, \"xaxis\": {\"automargin\": true, \"gridcolor\": \"white\", \"linecolor\": \"white\", \"ticks\": \"\", \"title\": {\"standoff\": 15}, \"zerolinecolor\": \"white\", \"zerolinewidth\": 2}, \"yaxis\": {\"automargin\": true, \"gridcolor\": \"white\", \"linecolor\": \"white\", \"ticks\": \"\", \"title\": {\"standoff\": 15}, \"zerolinecolor\": \"white\", \"zerolinewidth\": 2}}}},\n",
              "                        {\"responsive\": true}\n",
              "                    ).then(function(){\n",
              "                            \n",
              "var gd = document.getElementById('fdeb321f-32da-4e3d-9941-8999cb0629be');\n",
              "var x = new MutationObserver(function (mutations, observer) {{\n",
              "        var display = window.getComputedStyle(gd).display;\n",
              "        if (!display || display === 'none') {{\n",
              "            console.log([gd, 'removed!']);\n",
              "            Plotly.purge(gd);\n",
              "            observer.disconnect();\n",
              "        }}\n",
              "}});\n",
              "\n",
              "// Listen for the removal of the full notebook cells\n",
              "var notebookContainer = gd.closest('#notebook-container');\n",
              "if (notebookContainer) {{\n",
              "    x.observe(notebookContainer, {childList: true});\n",
              "}}\n",
              "\n",
              "// Listen for the clearing of the current output cell\n",
              "var outputEl = gd.closest('.output');\n",
              "if (outputEl) {{\n",
              "    x.observe(outputEl, {childList: true});\n",
              "}}\n",
              "\n",
              "                        })\n",
              "                };\n",
              "                \n",
              "            </script>\n",
              "        </div>\n",
              "</body>\n",
              "</html>"
            ]
          },
          "metadata": {
            "tags": []
          }
        }
      ]
    },
    {
      "cell_type": "code",
      "metadata": {
        "id": "nK_PD7FDzZP0",
        "colab_type": "code",
        "colab": {
          "base_uri": "https://localhost:8080/",
          "height": 195
        },
        "outputId": "ce8a88a4-d194-4680-db81-12517aba428e"
      },
      "source": [
        "cases_by_day['x'] = np.arange(0, cases_by_day.shape[0])\n",
        "cases_by_day['y'] = cases_by_day['cases'].cumsum()\n",
        "cases_by_day.tail()"
      ],
      "execution_count": null,
      "outputs": [
        {
          "output_type": "execute_result",
          "data": {
            "text/html": [
              "<div>\n",
              "<style scoped>\n",
              "    .dataframe tbody tr th:only-of-type {\n",
              "        vertical-align: middle;\n",
              "    }\n",
              "\n",
              "    .dataframe tbody tr th {\n",
              "        vertical-align: top;\n",
              "    }\n",
              "\n",
              "    .dataframe thead th {\n",
              "        text-align: right;\n",
              "    }\n",
              "</style>\n",
              "<table border=\"1\" class=\"dataframe\">\n",
              "  <thead>\n",
              "    <tr style=\"text-align: right;\">\n",
              "      <th></th>\n",
              "      <th>date</th>\n",
              "      <th>cases</th>\n",
              "      <th>x</th>\n",
              "      <th>y</th>\n",
              "    </tr>\n",
              "  </thead>\n",
              "  <tbody>\n",
              "    <tr>\n",
              "      <th>113</th>\n",
              "      <td>2020-06-26</td>\n",
              "      <td>1376</td>\n",
              "      <td>113</td>\n",
              "      <td>96831</td>\n",
              "    </tr>\n",
              "    <tr>\n",
              "      <th>114</th>\n",
              "      <td>2020-06-27</td>\n",
              "      <td>669</td>\n",
              "      <td>114</td>\n",
              "      <td>97500</td>\n",
              "    </tr>\n",
              "    <tr>\n",
              "      <th>115</th>\n",
              "      <td>2020-06-28</td>\n",
              "      <td>177</td>\n",
              "      <td>115</td>\n",
              "      <td>97677</td>\n",
              "    </tr>\n",
              "    <tr>\n",
              "      <th>116</th>\n",
              "      <td>2020-06-29</td>\n",
              "      <td>163</td>\n",
              "      <td>116</td>\n",
              "      <td>97840</td>\n",
              "    </tr>\n",
              "    <tr>\n",
              "      <th>117</th>\n",
              "      <td>2020-06-30</td>\n",
              "      <td>6</td>\n",
              "      <td>117</td>\n",
              "      <td>97846</td>\n",
              "    </tr>\n",
              "  </tbody>\n",
              "</table>\n",
              "</div>"
            ],
            "text/plain": [
              "          date  cases    x      y\n",
              "113 2020-06-26   1376  113  96831\n",
              "114 2020-06-27    669  114  97500\n",
              "115 2020-06-28    177  115  97677\n",
              "116 2020-06-29    163  116  97840\n",
              "117 2020-06-30      6  117  97846"
            ]
          },
          "metadata": {
            "tags": []
          },
          "execution_count": 35
        }
      ]
    },
    {
      "cell_type": "markdown",
      "metadata": {
        "id": "wothtL8F0SZe",
        "colab_type": "text"
      },
      "source": [
        "# Aggregated cases"
      ]
    },
    {
      "cell_type": "code",
      "metadata": {
        "id": "5kpSGw7S0S30",
        "colab_type": "code",
        "colab": {
          "base_uri": "https://localhost:8080/",
          "height": 542
        },
        "outputId": "96d74779-9769-4840-fd4e-ca054b46939f"
      },
      "source": [
        "fig = go.Figure()\n",
        "fig.add_trace(go.Scatter(x=cases_by_day['x'], y=cases_by_day['y'], mode='lines+markers', name='Acumulated cases'))\n",
        "fig.show()"
      ],
      "execution_count": null,
      "outputs": [
        {
          "output_type": "display_data",
          "data": {
            "text/html": [
              "<html>\n",
              "<head><meta charset=\"utf-8\" /></head>\n",
              "<body>\n",
              "    <div>\n",
              "            <script src=\"https://cdnjs.cloudflare.com/ajax/libs/mathjax/2.7.5/MathJax.js?config=TeX-AMS-MML_SVG\"></script><script type=\"text/javascript\">if (window.MathJax) {MathJax.Hub.Config({SVG: {font: \"STIX-Web\"}});}</script>\n",
              "                <script type=\"text/javascript\">window.PlotlyConfig = {MathJaxConfig: 'local'};</script>\n",
              "        <script src=\"https://cdn.plot.ly/plotly-latest.min.js\"></script>    \n",
              "            <div id=\"ca3e9cff-77ce-4514-98e8-0746574ec525\" class=\"plotly-graph-div\" style=\"height:525px; width:100%;\"></div>\n",
              "            <script type=\"text/javascript\">\n",
              "                \n",
              "                    window.PLOTLYENV=window.PLOTLYENV || {};\n",
              "                    \n",
              "                if (document.getElementById(\"ca3e9cff-77ce-4514-98e8-0746574ec525\")) {\n",
              "                    Plotly.newPlot(\n",
              "                        'ca3e9cff-77ce-4514-98e8-0746574ec525',\n",
              "                        [{\"mode\": \"lines+markers\", \"name\": \"Acumulated cases\", \"type\": \"scatter\", \"x\": [0, 1, 2, 3, 4, 5, 6, 7, 8, 9, 10, 11, 12, 13, 14, 15, 16, 17, 18, 19, 20, 21, 22, 23, 24, 25, 26, 27, 28, 29, 30, 31, 32, 33, 34, 35, 36, 37, 38, 39, 40, 41, 42, 43, 44, 45, 46, 47, 48, 49, 50, 51, 52, 53, 54, 55, 56, 57, 58, 59, 60, 61, 62, 63, 64, 65, 66, 67, 68, 69, 70, 71, 72, 73, 74, 75, 76, 77, 78, 79, 80, 81, 82, 83, 84, 85, 86, 87, 88, 89, 90, 91, 92, 93, 94, 95, 96, 97, 98, 99, 100, 101, 102, 103, 104, 105, 106, 107, 108, 109, 110, 111, 112, 113, 114, 115, 116, 117], \"y\": [1, 2, 3, 5, 8, 12, 20, 31, 44, 64, 83, 112, 154, 198, 267, 345, 424, 505, 599, 740, 903, 1062, 1221, 1387, 1525, 1719, 1910, 2105, 2271, 2456, 2615, 2715, 2864, 3017, 3142, 3282, 3403, 3652, 3808, 3991, 4226, 4390, 4643, 4819, 5021, 5240, 5452, 5670, 5913, 6210, 6513, 6818, 7069, 7473, 7982, 8350, 8821, 9279, 9740, 10130, 10631, 11409, 12142, 12887, 13827, 14560, 15013, 15726, 16538, 17368, 18419, 19380, 20275, 21105, 22284, 23426, 24757, 26070, 27459, 28867, 29760, 30911, 32372, 33715, 35086, 36465, 37750, 38773, 40477, 42080, 43925, 45660, 47616, 49368, 50778, 53226, 55510, 58158, 60908, 63572, 65774, 67257, 68943, 72198, 75510, 78867, 82113, 84711, 86617, 88458, 91474, 93735, 95455, 96831, 97500, 97677, 97840, 97846]}],\n",
              "                        {\"template\": {\"data\": {\"bar\": [{\"error_x\": {\"color\": \"#2a3f5f\"}, \"error_y\": {\"color\": \"#2a3f5f\"}, \"marker\": {\"line\": {\"color\": \"#E5ECF6\", \"width\": 0.5}}, \"type\": \"bar\"}], \"barpolar\": [{\"marker\": {\"line\": {\"color\": \"#E5ECF6\", \"width\": 0.5}}, \"type\": \"barpolar\"}], \"carpet\": [{\"aaxis\": {\"endlinecolor\": \"#2a3f5f\", \"gridcolor\": \"white\", \"linecolor\": \"white\", \"minorgridcolor\": \"white\", \"startlinecolor\": \"#2a3f5f\"}, \"baxis\": {\"endlinecolor\": \"#2a3f5f\", \"gridcolor\": \"white\", \"linecolor\": \"white\", \"minorgridcolor\": \"white\", \"startlinecolor\": \"#2a3f5f\"}, \"type\": \"carpet\"}], \"choropleth\": [{\"colorbar\": {\"outlinewidth\": 0, \"ticks\": \"\"}, \"type\": \"choropleth\"}], \"contour\": [{\"colorbar\": {\"outlinewidth\": 0, \"ticks\": \"\"}, \"colorscale\": [[0.0, \"#0d0887\"], [0.1111111111111111, \"#46039f\"], [0.2222222222222222, \"#7201a8\"], [0.3333333333333333, \"#9c179e\"], [0.4444444444444444, \"#bd3786\"], [0.5555555555555556, \"#d8576b\"], [0.6666666666666666, \"#ed7953\"], [0.7777777777777778, \"#fb9f3a\"], [0.8888888888888888, \"#fdca26\"], [1.0, \"#f0f921\"]], \"type\": \"contour\"}], \"contourcarpet\": [{\"colorbar\": {\"outlinewidth\": 0, \"ticks\": \"\"}, \"type\": \"contourcarpet\"}], \"heatmap\": [{\"colorbar\": {\"outlinewidth\": 0, \"ticks\": \"\"}, \"colorscale\": [[0.0, \"#0d0887\"], [0.1111111111111111, \"#46039f\"], [0.2222222222222222, \"#7201a8\"], [0.3333333333333333, \"#9c179e\"], [0.4444444444444444, \"#bd3786\"], [0.5555555555555556, \"#d8576b\"], [0.6666666666666666, \"#ed7953\"], [0.7777777777777778, \"#fb9f3a\"], [0.8888888888888888, \"#fdca26\"], [1.0, \"#f0f921\"]], \"type\": \"heatmap\"}], \"heatmapgl\": [{\"colorbar\": {\"outlinewidth\": 0, \"ticks\": \"\"}, \"colorscale\": [[0.0, \"#0d0887\"], [0.1111111111111111, \"#46039f\"], [0.2222222222222222, \"#7201a8\"], [0.3333333333333333, \"#9c179e\"], [0.4444444444444444, \"#bd3786\"], [0.5555555555555556, \"#d8576b\"], [0.6666666666666666, \"#ed7953\"], [0.7777777777777778, \"#fb9f3a\"], [0.8888888888888888, \"#fdca26\"], [1.0, \"#f0f921\"]], \"type\": \"heatmapgl\"}], \"histogram\": [{\"marker\": {\"colorbar\": {\"outlinewidth\": 0, \"ticks\": \"\"}}, \"type\": \"histogram\"}], \"histogram2d\": [{\"colorbar\": {\"outlinewidth\": 0, \"ticks\": \"\"}, \"colorscale\": [[0.0, \"#0d0887\"], [0.1111111111111111, \"#46039f\"], [0.2222222222222222, \"#7201a8\"], [0.3333333333333333, \"#9c179e\"], [0.4444444444444444, \"#bd3786\"], [0.5555555555555556, \"#d8576b\"], [0.6666666666666666, \"#ed7953\"], [0.7777777777777778, \"#fb9f3a\"], [0.8888888888888888, \"#fdca26\"], [1.0, \"#f0f921\"]], \"type\": \"histogram2d\"}], \"histogram2dcontour\": [{\"colorbar\": {\"outlinewidth\": 0, \"ticks\": \"\"}, \"colorscale\": [[0.0, \"#0d0887\"], [0.1111111111111111, \"#46039f\"], [0.2222222222222222, \"#7201a8\"], [0.3333333333333333, \"#9c179e\"], [0.4444444444444444, \"#bd3786\"], [0.5555555555555556, \"#d8576b\"], [0.6666666666666666, \"#ed7953\"], [0.7777777777777778, \"#fb9f3a\"], [0.8888888888888888, \"#fdca26\"], [1.0, \"#f0f921\"]], \"type\": \"histogram2dcontour\"}], \"mesh3d\": [{\"colorbar\": {\"outlinewidth\": 0, \"ticks\": \"\"}, \"type\": \"mesh3d\"}], \"parcoords\": [{\"line\": {\"colorbar\": {\"outlinewidth\": 0, \"ticks\": \"\"}}, \"type\": \"parcoords\"}], \"pie\": [{\"automargin\": true, \"type\": \"pie\"}], \"scatter\": [{\"marker\": {\"colorbar\": {\"outlinewidth\": 0, \"ticks\": \"\"}}, \"type\": \"scatter\"}], \"scatter3d\": [{\"line\": {\"colorbar\": {\"outlinewidth\": 0, \"ticks\": \"\"}}, \"marker\": {\"colorbar\": {\"outlinewidth\": 0, \"ticks\": \"\"}}, \"type\": \"scatter3d\"}], \"scattercarpet\": [{\"marker\": {\"colorbar\": {\"outlinewidth\": 0, \"ticks\": \"\"}}, \"type\": \"scattercarpet\"}], \"scattergeo\": [{\"marker\": {\"colorbar\": {\"outlinewidth\": 0, \"ticks\": \"\"}}, \"type\": \"scattergeo\"}], \"scattergl\": [{\"marker\": {\"colorbar\": {\"outlinewidth\": 0, \"ticks\": \"\"}}, \"type\": \"scattergl\"}], \"scattermapbox\": [{\"marker\": {\"colorbar\": {\"outlinewidth\": 0, \"ticks\": \"\"}}, \"type\": \"scattermapbox\"}], \"scatterpolar\": [{\"marker\": {\"colorbar\": {\"outlinewidth\": 0, \"ticks\": \"\"}}, \"type\": \"scatterpolar\"}], \"scatterpolargl\": [{\"marker\": {\"colorbar\": {\"outlinewidth\": 0, \"ticks\": \"\"}}, \"type\": \"scatterpolargl\"}], \"scatterternary\": [{\"marker\": {\"colorbar\": {\"outlinewidth\": 0, \"ticks\": \"\"}}, \"type\": \"scatterternary\"}], \"surface\": [{\"colorbar\": {\"outlinewidth\": 0, \"ticks\": \"\"}, \"colorscale\": [[0.0, \"#0d0887\"], [0.1111111111111111, \"#46039f\"], [0.2222222222222222, \"#7201a8\"], [0.3333333333333333, \"#9c179e\"], [0.4444444444444444, \"#bd3786\"], [0.5555555555555556, \"#d8576b\"], [0.6666666666666666, \"#ed7953\"], [0.7777777777777778, \"#fb9f3a\"], [0.8888888888888888, \"#fdca26\"], [1.0, \"#f0f921\"]], \"type\": \"surface\"}], \"table\": [{\"cells\": {\"fill\": {\"color\": \"#EBF0F8\"}, \"line\": {\"color\": \"white\"}}, \"header\": {\"fill\": {\"color\": \"#C8D4E3\"}, \"line\": {\"color\": \"white\"}}, \"type\": \"table\"}]}, \"layout\": {\"annotationdefaults\": {\"arrowcolor\": \"#2a3f5f\", \"arrowhead\": 0, \"arrowwidth\": 1}, \"coloraxis\": {\"colorbar\": {\"outlinewidth\": 0, \"ticks\": \"\"}}, \"colorscale\": {\"diverging\": [[0, \"#8e0152\"], [0.1, \"#c51b7d\"], [0.2, \"#de77ae\"], [0.3, \"#f1b6da\"], [0.4, \"#fde0ef\"], [0.5, \"#f7f7f7\"], [0.6, \"#e6f5d0\"], [0.7, \"#b8e186\"], [0.8, \"#7fbc41\"], [0.9, \"#4d9221\"], [1, \"#276419\"]], \"sequential\": [[0.0, \"#0d0887\"], [0.1111111111111111, \"#46039f\"], [0.2222222222222222, \"#7201a8\"], [0.3333333333333333, \"#9c179e\"], [0.4444444444444444, \"#bd3786\"], [0.5555555555555556, \"#d8576b\"], [0.6666666666666666, \"#ed7953\"], [0.7777777777777778, \"#fb9f3a\"], [0.8888888888888888, \"#fdca26\"], [1.0, \"#f0f921\"]], \"sequentialminus\": [[0.0, \"#0d0887\"], [0.1111111111111111, \"#46039f\"], [0.2222222222222222, \"#7201a8\"], [0.3333333333333333, \"#9c179e\"], [0.4444444444444444, \"#bd3786\"], [0.5555555555555556, \"#d8576b\"], [0.6666666666666666, \"#ed7953\"], [0.7777777777777778, \"#fb9f3a\"], [0.8888888888888888, \"#fdca26\"], [1.0, \"#f0f921\"]]}, \"colorway\": [\"#636efa\", \"#EF553B\", \"#00cc96\", \"#ab63fa\", \"#FFA15A\", \"#19d3f3\", \"#FF6692\", \"#B6E880\", \"#FF97FF\", \"#FECB52\"], \"font\": {\"color\": \"#2a3f5f\"}, \"geo\": {\"bgcolor\": \"white\", \"lakecolor\": \"white\", \"landcolor\": \"#E5ECF6\", \"showlakes\": true, \"showland\": true, \"subunitcolor\": \"white\"}, \"hoverlabel\": {\"align\": \"left\"}, \"hovermode\": \"closest\", \"mapbox\": {\"style\": \"light\"}, \"paper_bgcolor\": \"white\", \"plot_bgcolor\": \"#E5ECF6\", \"polar\": {\"angularaxis\": {\"gridcolor\": \"white\", \"linecolor\": \"white\", \"ticks\": \"\"}, \"bgcolor\": \"#E5ECF6\", \"radialaxis\": {\"gridcolor\": \"white\", \"linecolor\": \"white\", \"ticks\": \"\"}}, \"scene\": {\"xaxis\": {\"backgroundcolor\": \"#E5ECF6\", \"gridcolor\": \"white\", \"gridwidth\": 2, \"linecolor\": \"white\", \"showbackground\": true, \"ticks\": \"\", \"zerolinecolor\": \"white\"}, \"yaxis\": {\"backgroundcolor\": \"#E5ECF6\", \"gridcolor\": \"white\", \"gridwidth\": 2, \"linecolor\": \"white\", \"showbackground\": true, \"ticks\": \"\", \"zerolinecolor\": \"white\"}, \"zaxis\": {\"backgroundcolor\": \"#E5ECF6\", \"gridcolor\": \"white\", \"gridwidth\": 2, \"linecolor\": \"white\", \"showbackground\": true, \"ticks\": \"\", \"zerolinecolor\": \"white\"}}, \"shapedefaults\": {\"line\": {\"color\": \"#2a3f5f\"}}, \"ternary\": {\"aaxis\": {\"gridcolor\": \"white\", \"linecolor\": \"white\", \"ticks\": \"\"}, \"baxis\": {\"gridcolor\": \"white\", \"linecolor\": \"white\", \"ticks\": \"\"}, \"bgcolor\": \"#E5ECF6\", \"caxis\": {\"gridcolor\": \"white\", \"linecolor\": \"white\", \"ticks\": \"\"}}, \"title\": {\"x\": 0.05}, \"xaxis\": {\"automargin\": true, \"gridcolor\": \"white\", \"linecolor\": \"white\", \"ticks\": \"\", \"title\": {\"standoff\": 15}, \"zerolinecolor\": \"white\", \"zerolinewidth\": 2}, \"yaxis\": {\"automargin\": true, \"gridcolor\": \"white\", \"linecolor\": \"white\", \"ticks\": \"\", \"title\": {\"standoff\": 15}, \"zerolinecolor\": \"white\", \"zerolinewidth\": 2}}}},\n",
              "                        {\"responsive\": true}\n",
              "                    ).then(function(){\n",
              "                            \n",
              "var gd = document.getElementById('ca3e9cff-77ce-4514-98e8-0746574ec525');\n",
              "var x = new MutationObserver(function (mutations, observer) {{\n",
              "        var display = window.getComputedStyle(gd).display;\n",
              "        if (!display || display === 'none') {{\n",
              "            console.log([gd, 'removed!']);\n",
              "            Plotly.purge(gd);\n",
              "            observer.disconnect();\n",
              "        }}\n",
              "}});\n",
              "\n",
              "// Listen for the removal of the full notebook cells\n",
              "var notebookContainer = gd.closest('#notebook-container');\n",
              "if (notebookContainer) {{\n",
              "    x.observe(notebookContainer, {childList: true});\n",
              "}}\n",
              "\n",
              "// Listen for the clearing of the current output cell\n",
              "var outputEl = gd.closest('.output');\n",
              "if (outputEl) {{\n",
              "    x.observe(outputEl, {childList: true});\n",
              "}}\n",
              "\n",
              "                        })\n",
              "                };\n",
              "                \n",
              "            </script>\n",
              "        </div>\n",
              "</body>\n",
              "</html>"
            ]
          },
          "metadata": {
            "tags": []
          }
        }
      ]
    },
    {
      "cell_type": "code",
      "metadata": {
        "id": "55ukbu7xJrKz",
        "colab_type": "code",
        "colab": {
          "base_uri": "https://localhost:8080/",
          "height": 284
        },
        "outputId": "14a7d3b7-0961-4720-e058-a2c7abece8a1"
      },
      "source": [
        "cases_by_day.describe()"
      ],
      "execution_count": null,
      "outputs": [
        {
          "output_type": "execute_result",
          "data": {
            "text/html": [
              "<div>\n",
              "<style scoped>\n",
              "    .dataframe tbody tr th:only-of-type {\n",
              "        vertical-align: middle;\n",
              "    }\n",
              "\n",
              "    .dataframe tbody tr th {\n",
              "        vertical-align: top;\n",
              "    }\n",
              "\n",
              "    .dataframe thead th {\n",
              "        text-align: right;\n",
              "    }\n",
              "</style>\n",
              "<table border=\"1\" class=\"dataframe\">\n",
              "  <thead>\n",
              "    <tr style=\"text-align: right;\">\n",
              "      <th></th>\n",
              "      <th>cases</th>\n",
              "      <th>x</th>\n",
              "      <th>y</th>\n",
              "    </tr>\n",
              "  </thead>\n",
              "  <tbody>\n",
              "    <tr>\n",
              "      <th>count</th>\n",
              "      <td>118.000000</td>\n",
              "      <td>118.000000</td>\n",
              "      <td>118.000000</td>\n",
              "    </tr>\n",
              "    <tr>\n",
              "      <th>mean</th>\n",
              "      <td>829.203390</td>\n",
              "      <td>58.500000</td>\n",
              "      <td>25283.754237</td>\n",
              "    </tr>\n",
              "    <tr>\n",
              "      <th>std</th>\n",
              "      <td>893.565953</td>\n",
              "      <td>34.207699</td>\n",
              "      <td>30418.230222</td>\n",
              "    </tr>\n",
              "    <tr>\n",
              "      <th>min</th>\n",
              "      <td>1.000000</td>\n",
              "      <td>0.000000</td>\n",
              "      <td>1.000000</td>\n",
              "    </tr>\n",
              "    <tr>\n",
              "      <th>25%</th>\n",
              "      <td>159.000000</td>\n",
              "      <td>29.250000</td>\n",
              "      <td>2495.750000</td>\n",
              "    </tr>\n",
              "    <tr>\n",
              "      <th>50%</th>\n",
              "      <td>428.500000</td>\n",
              "      <td>58.500000</td>\n",
              "      <td>9935.000000</td>\n",
              "    </tr>\n",
              "    <tr>\n",
              "      <th>75%</th>\n",
              "      <td>1374.750000</td>\n",
              "      <td>87.750000</td>\n",
              "      <td>40051.000000</td>\n",
              "    </tr>\n",
              "    <tr>\n",
              "      <th>max</th>\n",
              "      <td>3357.000000</td>\n",
              "      <td>117.000000</td>\n",
              "      <td>97846.000000</td>\n",
              "    </tr>\n",
              "  </tbody>\n",
              "</table>\n",
              "</div>"
            ],
            "text/plain": [
              "             cases           x             y\n",
              "count   118.000000  118.000000    118.000000\n",
              "mean    829.203390   58.500000  25283.754237\n",
              "std     893.565953   34.207699  30418.230222\n",
              "min       1.000000    0.000000      1.000000\n",
              "25%     159.000000   29.250000   2495.750000\n",
              "50%     428.500000   58.500000   9935.000000\n",
              "75%    1374.750000   87.750000  40051.000000\n",
              "max    3357.000000  117.000000  97846.000000"
            ]
          },
          "metadata": {
            "tags": []
          },
          "execution_count": 37
        }
      ]
    },
    {
      "cell_type": "code",
      "metadata": {
        "id": "3D5PIwud9wdL",
        "colab_type": "code",
        "colab": {}
      },
      "source": [
        "prediction_days = 300"
      ],
      "execution_count": null,
      "outputs": []
    },
    {
      "cell_type": "code",
      "metadata": {
        "id": "x_t7cylH02Ji",
        "colab_type": "code",
        "colab": {
          "base_uri": "https://localhost:8080/",
          "height": 542
        },
        "outputId": "8ded055e-ff24-4dec-a002-cc425422c1dd"
      },
      "source": [
        "prediction_days = 300\n",
        "train_df = cases_by_day[:100]\n",
        "model = build_model(train_df['x'], train_df['y'])\n",
        "predictions = get_predictions(model, np.arange(0, prediction_days))\n",
        "    \n",
        "fig = go.Figure()\n",
        "fig.add_trace(go.Scatter(x=cases_by_day['x'], y=cases_by_day['y'], mode='lines+markers', name='Confirmed cases'))\n",
        "fig.add_trace(go.Scatter(x=predictions['x'], y=predictions['y'], mode='lines', name='Projection'))\n",
        "\n",
        "fig.update_layout(\n",
        "    title_text=\"Confirmed cases vs Predictions\"\n",
        ")\n",
        "fig.show()"
      ],
      "execution_count": null,
      "outputs": [
        {
          "output_type": "display_data",
          "data": {
            "text/html": [
              "<html>\n",
              "<head><meta charset=\"utf-8\" /></head>\n",
              "<body>\n",
              "    <div>\n",
              "            <script src=\"https://cdnjs.cloudflare.com/ajax/libs/mathjax/2.7.5/MathJax.js?config=TeX-AMS-MML_SVG\"></script><script type=\"text/javascript\">if (window.MathJax) {MathJax.Hub.Config({SVG: {font: \"STIX-Web\"}});}</script>\n",
              "                <script type=\"text/javascript\">window.PlotlyConfig = {MathJaxConfig: 'local'};</script>\n",
              "        <script src=\"https://cdn.plot.ly/plotly-latest.min.js\"></script>    \n",
              "            <div id=\"e79319c9-485e-480f-9453-6885ce634081\" class=\"plotly-graph-div\" style=\"height:525px; width:100%;\"></div>\n",
              "            <script type=\"text/javascript\">\n",
              "                \n",
              "                    window.PLOTLYENV=window.PLOTLYENV || {};\n",
              "                    \n",
              "                if (document.getElementById(\"e79319c9-485e-480f-9453-6885ce634081\")) {\n",
              "                    Plotly.newPlot(\n",
              "                        'e79319c9-485e-480f-9453-6885ce634081',\n",
              "                        [{\"mode\": \"lines+markers\", \"name\": \"Confirmed cases\", \"type\": \"scatter\", \"x\": [0, 1, 2, 3, 4, 5, 6, 7, 8, 9, 10, 11, 12, 13, 14, 15, 16, 17, 18, 19, 20, 21, 22, 23, 24, 25, 26, 27, 28, 29, 30, 31, 32, 33, 34, 35, 36, 37, 38, 39, 40, 41, 42, 43, 44, 45, 46, 47, 48, 49, 50, 51, 52, 53, 54, 55, 56, 57, 58, 59, 60, 61, 62, 63, 64, 65, 66, 67, 68, 69, 70, 71, 72, 73, 74, 75, 76, 77, 78, 79, 80, 81, 82, 83, 84, 85, 86, 87, 88, 89, 90, 91, 92, 93, 94, 95, 96, 97, 98, 99, 100, 101, 102, 103, 104, 105, 106, 107, 108, 109, 110, 111, 112, 113, 114, 115, 116, 117], \"y\": [1, 2, 3, 5, 8, 12, 20, 31, 44, 64, 83, 112, 154, 198, 267, 345, 424, 505, 599, 740, 903, 1062, 1221, 1387, 1525, 1719, 1910, 2105, 2271, 2456, 2615, 2715, 2864, 3017, 3142, 3282, 3403, 3652, 3808, 3991, 4226, 4390, 4643, 4819, 5021, 5240, 5452, 5670, 5913, 6210, 6513, 6818, 7069, 7473, 7982, 8350, 8821, 9279, 9740, 10130, 10631, 11409, 12142, 12887, 13827, 14560, 15013, 15726, 16538, 17368, 18419, 19380, 20275, 21105, 22284, 23426, 24757, 26070, 27459, 28867, 29760, 30911, 32372, 33715, 35086, 36465, 37750, 38773, 40477, 42080, 43925, 45660, 47616, 49368, 50778, 53226, 55510, 58158, 60908, 63572, 65774, 67257, 68943, 72198, 75510, 78867, 82113, 84711, 86617, 88458, 91474, 93735, 95455, 96831, 97500, 97677, 97840, 97846]}, {\"mode\": \"lines\", \"name\": \"Projection\", \"type\": \"scatter\", \"x\": [0.0, 1.0, 2.0, 3.0, 4.0, 5.0, 6.0, 7.0, 8.0, 9.0, 10.0, 11.0, 12.0, 13.0, 14.0, 15.0, 16.0, 17.0, 18.0, 19.0, 20.0, 21.0, 22.0, 23.0, 24.0, 25.0, 26.0, 27.0, 28.0, 29.0, 30.0, 31.0, 32.0, 33.0, 34.0, 35.0, 36.0, 37.0, 38.0, 39.0, 40.0, 41.0, 42.0, 43.0, 44.0, 45.0, 46.0, 47.0, 48.0, 49.0, 50.0, 51.0, 52.0, 53.0, 54.0, 55.0, 56.0, 57.0, 58.0, 59.0, 60.0, 61.0, 62.0, 63.0, 64.0, 65.0, 66.0, 67.0, 68.0, 69.0, 70.0, 71.0, 72.0, 73.0, 74.0, 75.0, 76.0, 77.0, 78.0, 79.0, 80.0, 81.0, 82.0, 83.0, 84.0, 85.0, 86.0, 87.0, 88.0, 89.0, 90.0, 91.0, 92.0, 93.0, 94.0, 95.0, 96.0, 97.0, 98.0, 99.0, 100.0, 101.0, 102.0, 103.0, 104.0, 105.0, 106.0, 107.0, 108.0, 109.0, 110.0, 111.0, 112.0, 113.0, 114.0, 115.0, 116.0, 117.0, 118.0, 119.0, 120.0, 121.0, 122.0, 123.0, 124.0, 125.0, 126.0, 127.0, 128.0, 129.0, 130.0, 131.0, 132.0, 133.0, 134.0, 135.0, 136.0, 137.0, 138.0, 139.0, 140.0, 141.0, 142.0, 143.0, 144.0, 145.0, 146.0, 147.0, 148.0, 149.0, 150.0, 151.0, 152.0, 153.0, 154.0, 155.0, 156.0, 157.0, 158.0, 159.0, 160.0, 161.0, 162.0, 163.0, 164.0, 165.0, 166.0, 167.0, 168.0, 169.0, 170.0, 171.0, 172.0, 173.0, 174.0, 175.0, 176.0, 177.0, 178.0, 179.0, 180.0, 181.0, 182.0, 183.0, 184.0, 185.0, 186.0, 187.0, 188.0, 189.0, 190.0, 191.0, 192.0, 193.0, 194.0, 195.0, 196.0, 197.0, 198.0, 199.0, 200.0, 201.0, 202.0, 203.0, 204.0, 205.0, 206.0, 207.0, 208.0, 209.0, 210.0, 211.0, 212.0, 213.0, 214.0, 215.0, 216.0, 217.0, 218.0, 219.0, 220.0, 221.0, 222.0, 223.0, 224.0, 225.0, 226.0, 227.0, 228.0, 229.0, 230.0, 231.0, 232.0, 233.0, 234.0, 235.0, 236.0, 237.0, 238.0, 239.0, 240.0, 241.0, 242.0, 243.0, 244.0, 245.0, 246.0, 247.0, 248.0, 249.0, 250.0, 251.0, 252.0, 253.0, 254.0, 255.0, 256.0, 257.0, 258.0, 259.0, 260.0, 261.0, 262.0, 263.0, 264.0, 265.0, 266.0, 267.0, 268.0, 269.0, 270.0, 271.0, 272.0, 273.0, 274.0, 275.0, 276.0, 277.0, 278.0, 279.0, 280.0, 281.0, 282.0, 283.0, 284.0, 285.0, 286.0, 287.0, 288.0, 289.0, 290.0, 291.0, 292.0, 293.0, 294.0, 295.0, 296.0, 297.0, 298.0, 299.0], \"y\": [-1045.3886330487694, -827.8295441862236, -624.2935864946521, -434.08227105974333, -256.4971089671858, -90.83961130266778, 63.58871084812199, 207.48634639949523, 341.5517842657637, 466.4835133612387, 582.9800226002319, 691.7398008970542, 793.4613371660182, 888.8431203214352, 978.5836392776159, 1063.3813829488731, 1143.934840249518, 1220.9425000938613, 1295.1028513962156, 1367.1143830708916, 1437.6755840322016, 1507.4849431944563, 1577.2409494719677, 1647.6420917790488, 1719.3868590300085, 1793.1737401391597, 1869.7012240208146, 1949.6677995892833, 2033.771955758878, 2122.7121814439115, 2217.1869655586934, 2317.894797017537, 2425.5341647347514, 2540.80355762465, 2664.401464601545, 2797.026374579746, 2939.3767764735667, 3092.151159197316, 3256.048011665307, 3431.765822791852, 3620.0030814912625, 3821.4582766778485, 4036.829897265922, 4266.816432169795, 4512.116370303778, 4773.428200582185, 5051.450411919327, 5346.881493229513, 5660.419933427056, 5992.764221426268, 6344.61284614146, 6716.664296486945, 7109.617061377034, 7524.169629726037, 7961.020490448263, 8420.86813245803, 8904.411044669647, 9412.347715997426, 9945.376635355678, 10504.196291658713, 11089.505173820842, 11702.00177075638, 12342.38457137964, 13011.352064604926, 13709.602739346556, 14437.83508451884, 15196.747589036087, 15987.038741812612, 16809.407031762723, 17664.55094780074, 18553.168978840964, 19475.95961379771, 20433.621341585294, 21426.85265111802, 22456.352031310205, 23522.81797107616, 24626.948959330195, 25769.443484986623, 26951.00003695975, 28172.3171041639, 29434.093175513375, 30737.026739922487, 32081.81628630555, 33469.16030357688, 34899.75728065077, 36374.30570644155, 37893.50406986353, 39458.05085983101, 41068.64456525832, 42725.98367505976, 44430.76667814964, 46183.69206344227, 47985.45831985197, 49836.763936293035, 51738.30740167979, 53690.78720492656, 55694.90183494764, 57751.34978065733, 59860.829530969975, 62024.039574799855, 64241.67840106129, 66514.44449866858, 68843.03635653609, 71228.15246357807, 73670.49130870885, 76170.75138084275, 78729.63116889408, 81347.82916177715, 84026.04384840626, 86764.97371769574, 89565.3172585599, 92427.77295991304, 95353.03931066947, 98341.81479974352, 101394.79791604947, 104512.68714850167, 107696.18098601441, 110945.977917502, 114262.77643187875, 117647.27501805898, 121100.17216495701, 124622.16636148714, 128213.95609656366, 131876.23985910093, 135609.71613801323, 139415.08342221487, 143293.04020062016, 147244.28496214343, 151269.516195699, 155369.43239020114, 159544.7320345642, 163796.11361770245, 168124.27562853025, 172529.91655596189, 177013.73488891165, 181576.4291162939, 186218.69772702293, 190941.23921001304, 195744.75205417853, 200629.93474843376, 205597.485781693, 210648.10364287053, 215782.48682088073, 221001.3338046379, 226305.34308305633, 231695.21314505034, 237171.64247953423, 242735.32957542234, 248386.97292162894, 254127.27100706837, 259956.92232065494, 265876.62535130297, 271887.07858792675, 277988.9805194406, 284183.02963475883, 290469.9244227957, 296850.36337246565, 303325.0449726829, 309894.6677123618, 316559.93008041655, 323321.5305657616, 330180.16765731125, 337136.53984397976, 344191.3456146814, 351345.2834583306, 358599.0518638416, 365953.34932012873, 373408.87431610626, 380966.3253406886, 388626.4008827899, 396389.7994313246, 404257.219475207, 412229.3595033514, 420306.91800467204, 428490.59346808336, 436781.08438249957, 445179.089236835, 453685.306520004, 462300.43472092086, 471025.17232849984, 479860.2178316554, 488806.26971930166, 497864.0264803531, 507034.1866037239, 516317.4485783285, 525714.5108930811, 535226.072036896, 544852.8304986877, 554595.4847673702, 564454.7333318581, 574431.2746810656, 584525.8073039069, 594739.0296892965, 605071.6403261487, 615524.3377033776, 626097.8203098978, 636792.7866346234, 647609.9351664687, 658549.9643943482, 669613.572807176, 680801.4588938666, 692114.3211433343, 703552.8580444932, 715117.7680862579, 726809.7497575424, 738629.5015472611, 750577.7219443286, 762655.1094376589, 774862.3625161664, 787200.1796687654, 799669.2593843703, 812270.3001518953, 825004.0004602547, 837871.058798363, 850872.1736551342, 864008.0435194828, 877279.3668803232, 890686.8422265695, 904231.1680471363, 917913.0428309377, 931733.1650668879, 945692.2332439014, 959790.9458508926, 974030.0013767754, 988410.0983104646, 1002931.9351408744, 1017596.2103569189, 1032403.6224475125, 1047354.8699015696, 1062450.6512080042, 1077691.664855731, 1093078.6093336642, 1108612.183130718, 1124293.084735807, 1140122.0126378452, 1156099.665325747, 1172226.7412884268, 1188503.9390147987, 1204931.9569937773, 1221511.4937142767, 1238243.2476652113, 1255127.9173354956, 1272166.2012140434, 1289358.7977897695, 1306706.4055515877, 1324209.722988413, 1341869.4485891592, 1359686.2808427406, 1377660.9182380717, 1395794.059264067, 1414086.4024096406, 1432538.6461637067, 1451151.4890151795, 1469925.6294529738, 1488861.7659660035, 1507960.5970431832, 1527222.821173427, 1546649.1368456492, 1566240.2425487642, 1585996.8367716863, 1605919.61800333, 1626009.284732609, 1646266.5354484383, 1666692.068639732, 1687286.5827954044, 1708050.7764043694, 1728985.347955542, 1750090.9959378361, 1771368.4188401662, 1792818.3151514463, 1814441.383360591, 1836238.3219565146, 1858209.8294281312, 1880356.6042643555, 1902679.3449541014, 1925178.7499862835, 1947855.5178498158, 1970710.347033613, 1993743.936026589, 2016956.9833176585, 2040350.1873957356, 2063924.2467497345, 2087679.85986857, 2111617.725241156, 2135738.5413564066, 2160043.0067032366, 2184531.81977056, 2209205.6790472916, 2234065.2830223446, 2259111.330184635, 2284344.5190230752, 2309765.548026581, 2335375.115684066, 2361173.9204844446, 2387162.6609166316, 2413342.0354695404, 2439712.742632086, 2466275.4808931826, 2493030.9487417447, 2519979.844666686]}],\n",
              "                        {\"template\": {\"data\": {\"bar\": [{\"error_x\": {\"color\": \"#2a3f5f\"}, \"error_y\": {\"color\": \"#2a3f5f\"}, \"marker\": {\"line\": {\"color\": \"#E5ECF6\", \"width\": 0.5}}, \"type\": \"bar\"}], \"barpolar\": [{\"marker\": {\"line\": {\"color\": \"#E5ECF6\", \"width\": 0.5}}, \"type\": \"barpolar\"}], \"carpet\": [{\"aaxis\": {\"endlinecolor\": \"#2a3f5f\", \"gridcolor\": \"white\", \"linecolor\": \"white\", \"minorgridcolor\": \"white\", \"startlinecolor\": \"#2a3f5f\"}, \"baxis\": {\"endlinecolor\": \"#2a3f5f\", \"gridcolor\": \"white\", \"linecolor\": \"white\", \"minorgridcolor\": \"white\", \"startlinecolor\": \"#2a3f5f\"}, \"type\": \"carpet\"}], \"choropleth\": [{\"colorbar\": {\"outlinewidth\": 0, \"ticks\": \"\"}, \"type\": \"choropleth\"}], \"contour\": [{\"colorbar\": {\"outlinewidth\": 0, \"ticks\": \"\"}, \"colorscale\": [[0.0, \"#0d0887\"], [0.1111111111111111, \"#46039f\"], [0.2222222222222222, \"#7201a8\"], [0.3333333333333333, \"#9c179e\"], [0.4444444444444444, \"#bd3786\"], [0.5555555555555556, \"#d8576b\"], [0.6666666666666666, \"#ed7953\"], [0.7777777777777778, \"#fb9f3a\"], [0.8888888888888888, \"#fdca26\"], [1.0, \"#f0f921\"]], \"type\": \"contour\"}], \"contourcarpet\": [{\"colorbar\": {\"outlinewidth\": 0, \"ticks\": \"\"}, \"type\": \"contourcarpet\"}], \"heatmap\": [{\"colorbar\": {\"outlinewidth\": 0, \"ticks\": \"\"}, \"colorscale\": [[0.0, \"#0d0887\"], [0.1111111111111111, \"#46039f\"], [0.2222222222222222, \"#7201a8\"], [0.3333333333333333, \"#9c179e\"], [0.4444444444444444, \"#bd3786\"], [0.5555555555555556, \"#d8576b\"], [0.6666666666666666, \"#ed7953\"], [0.7777777777777778, \"#fb9f3a\"], [0.8888888888888888, \"#fdca26\"], [1.0, \"#f0f921\"]], \"type\": \"heatmap\"}], \"heatmapgl\": [{\"colorbar\": {\"outlinewidth\": 0, \"ticks\": \"\"}, \"colorscale\": [[0.0, \"#0d0887\"], [0.1111111111111111, \"#46039f\"], [0.2222222222222222, \"#7201a8\"], [0.3333333333333333, \"#9c179e\"], [0.4444444444444444, \"#bd3786\"], [0.5555555555555556, \"#d8576b\"], [0.6666666666666666, \"#ed7953\"], [0.7777777777777778, \"#fb9f3a\"], [0.8888888888888888, \"#fdca26\"], [1.0, \"#f0f921\"]], \"type\": \"heatmapgl\"}], \"histogram\": [{\"marker\": {\"colorbar\": {\"outlinewidth\": 0, \"ticks\": \"\"}}, \"type\": \"histogram\"}], \"histogram2d\": [{\"colorbar\": {\"outlinewidth\": 0, \"ticks\": \"\"}, \"colorscale\": [[0.0, \"#0d0887\"], [0.1111111111111111, \"#46039f\"], [0.2222222222222222, \"#7201a8\"], [0.3333333333333333, \"#9c179e\"], [0.4444444444444444, \"#bd3786\"], [0.5555555555555556, \"#d8576b\"], [0.6666666666666666, \"#ed7953\"], [0.7777777777777778, \"#fb9f3a\"], [0.8888888888888888, \"#fdca26\"], [1.0, \"#f0f921\"]], \"type\": \"histogram2d\"}], \"histogram2dcontour\": [{\"colorbar\": {\"outlinewidth\": 0, \"ticks\": \"\"}, \"colorscale\": [[0.0, \"#0d0887\"], [0.1111111111111111, \"#46039f\"], [0.2222222222222222, \"#7201a8\"], [0.3333333333333333, \"#9c179e\"], [0.4444444444444444, \"#bd3786\"], [0.5555555555555556, \"#d8576b\"], [0.6666666666666666, \"#ed7953\"], [0.7777777777777778, \"#fb9f3a\"], [0.8888888888888888, \"#fdca26\"], [1.0, \"#f0f921\"]], \"type\": \"histogram2dcontour\"}], \"mesh3d\": [{\"colorbar\": {\"outlinewidth\": 0, \"ticks\": \"\"}, \"type\": \"mesh3d\"}], \"parcoords\": [{\"line\": {\"colorbar\": {\"outlinewidth\": 0, \"ticks\": \"\"}}, \"type\": \"parcoords\"}], \"pie\": [{\"automargin\": true, \"type\": \"pie\"}], \"scatter\": [{\"marker\": {\"colorbar\": {\"outlinewidth\": 0, \"ticks\": \"\"}}, \"type\": \"scatter\"}], \"scatter3d\": [{\"line\": {\"colorbar\": {\"outlinewidth\": 0, \"ticks\": \"\"}}, \"marker\": {\"colorbar\": {\"outlinewidth\": 0, \"ticks\": \"\"}}, \"type\": \"scatter3d\"}], \"scattercarpet\": [{\"marker\": {\"colorbar\": {\"outlinewidth\": 0, \"ticks\": \"\"}}, \"type\": \"scattercarpet\"}], \"scattergeo\": [{\"marker\": {\"colorbar\": {\"outlinewidth\": 0, \"ticks\": \"\"}}, \"type\": \"scattergeo\"}], \"scattergl\": [{\"marker\": {\"colorbar\": {\"outlinewidth\": 0, \"ticks\": \"\"}}, \"type\": \"scattergl\"}], \"scattermapbox\": [{\"marker\": {\"colorbar\": {\"outlinewidth\": 0, \"ticks\": \"\"}}, \"type\": \"scattermapbox\"}], \"scatterpolar\": [{\"marker\": {\"colorbar\": {\"outlinewidth\": 0, \"ticks\": \"\"}}, \"type\": \"scatterpolar\"}], \"scatterpolargl\": [{\"marker\": {\"colorbar\": {\"outlinewidth\": 0, \"ticks\": \"\"}}, \"type\": \"scatterpolargl\"}], \"scatterternary\": [{\"marker\": {\"colorbar\": {\"outlinewidth\": 0, \"ticks\": \"\"}}, \"type\": \"scatterternary\"}], \"surface\": [{\"colorbar\": {\"outlinewidth\": 0, \"ticks\": \"\"}, \"colorscale\": [[0.0, \"#0d0887\"], [0.1111111111111111, \"#46039f\"], [0.2222222222222222, \"#7201a8\"], [0.3333333333333333, \"#9c179e\"], [0.4444444444444444, \"#bd3786\"], [0.5555555555555556, \"#d8576b\"], [0.6666666666666666, \"#ed7953\"], [0.7777777777777778, \"#fb9f3a\"], [0.8888888888888888, \"#fdca26\"], [1.0, \"#f0f921\"]], \"type\": \"surface\"}], \"table\": [{\"cells\": {\"fill\": {\"color\": \"#EBF0F8\"}, \"line\": {\"color\": \"white\"}}, \"header\": {\"fill\": {\"color\": \"#C8D4E3\"}, \"line\": {\"color\": \"white\"}}, \"type\": \"table\"}]}, \"layout\": {\"annotationdefaults\": {\"arrowcolor\": \"#2a3f5f\", \"arrowhead\": 0, \"arrowwidth\": 1}, \"coloraxis\": {\"colorbar\": {\"outlinewidth\": 0, \"ticks\": \"\"}}, \"colorscale\": {\"diverging\": [[0, \"#8e0152\"], [0.1, \"#c51b7d\"], [0.2, \"#de77ae\"], [0.3, \"#f1b6da\"], [0.4, \"#fde0ef\"], [0.5, \"#f7f7f7\"], [0.6, \"#e6f5d0\"], [0.7, \"#b8e186\"], [0.8, \"#7fbc41\"], [0.9, \"#4d9221\"], [1, \"#276419\"]], \"sequential\": [[0.0, \"#0d0887\"], [0.1111111111111111, \"#46039f\"], [0.2222222222222222, \"#7201a8\"], [0.3333333333333333, \"#9c179e\"], [0.4444444444444444, \"#bd3786\"], [0.5555555555555556, \"#d8576b\"], [0.6666666666666666, \"#ed7953\"], [0.7777777777777778, \"#fb9f3a\"], [0.8888888888888888, \"#fdca26\"], [1.0, \"#f0f921\"]], \"sequentialminus\": [[0.0, \"#0d0887\"], [0.1111111111111111, \"#46039f\"], [0.2222222222222222, \"#7201a8\"], [0.3333333333333333, \"#9c179e\"], [0.4444444444444444, \"#bd3786\"], [0.5555555555555556, \"#d8576b\"], [0.6666666666666666, \"#ed7953\"], [0.7777777777777778, \"#fb9f3a\"], [0.8888888888888888, \"#fdca26\"], [1.0, \"#f0f921\"]]}, \"colorway\": [\"#636efa\", \"#EF553B\", \"#00cc96\", \"#ab63fa\", \"#FFA15A\", \"#19d3f3\", \"#FF6692\", \"#B6E880\", \"#FF97FF\", \"#FECB52\"], \"font\": {\"color\": \"#2a3f5f\"}, \"geo\": {\"bgcolor\": \"white\", \"lakecolor\": \"white\", \"landcolor\": \"#E5ECF6\", \"showlakes\": true, \"showland\": true, \"subunitcolor\": \"white\"}, \"hoverlabel\": {\"align\": \"left\"}, \"hovermode\": \"closest\", \"mapbox\": {\"style\": \"light\"}, \"paper_bgcolor\": \"white\", \"plot_bgcolor\": \"#E5ECF6\", \"polar\": {\"angularaxis\": {\"gridcolor\": \"white\", \"linecolor\": \"white\", \"ticks\": \"\"}, \"bgcolor\": \"#E5ECF6\", \"radialaxis\": {\"gridcolor\": \"white\", \"linecolor\": \"white\", \"ticks\": \"\"}}, \"scene\": {\"xaxis\": {\"backgroundcolor\": \"#E5ECF6\", \"gridcolor\": \"white\", \"gridwidth\": 2, \"linecolor\": \"white\", \"showbackground\": true, \"ticks\": \"\", \"zerolinecolor\": \"white\"}, \"yaxis\": {\"backgroundcolor\": \"#E5ECF6\", \"gridcolor\": \"white\", \"gridwidth\": 2, \"linecolor\": \"white\", \"showbackground\": true, \"ticks\": \"\", \"zerolinecolor\": \"white\"}, \"zaxis\": {\"backgroundcolor\": \"#E5ECF6\", \"gridcolor\": \"white\", \"gridwidth\": 2, \"linecolor\": \"white\", \"showbackground\": true, \"ticks\": \"\", \"zerolinecolor\": \"white\"}}, \"shapedefaults\": {\"line\": {\"color\": \"#2a3f5f\"}}, \"ternary\": {\"aaxis\": {\"gridcolor\": \"white\", \"linecolor\": \"white\", \"ticks\": \"\"}, \"baxis\": {\"gridcolor\": \"white\", \"linecolor\": \"white\", \"ticks\": \"\"}, \"bgcolor\": \"#E5ECF6\", \"caxis\": {\"gridcolor\": \"white\", \"linecolor\": \"white\", \"ticks\": \"\"}}, \"title\": {\"x\": 0.05}, \"xaxis\": {\"automargin\": true, \"gridcolor\": \"white\", \"linecolor\": \"white\", \"ticks\": \"\", \"title\": {\"standoff\": 15}, \"zerolinecolor\": \"white\", \"zerolinewidth\": 2}, \"yaxis\": {\"automargin\": true, \"gridcolor\": \"white\", \"linecolor\": \"white\", \"ticks\": \"\", \"title\": {\"standoff\": 15}, \"zerolinecolor\": \"white\", \"zerolinewidth\": 2}}}, \"title\": {\"text\": \"Confirmed cases vs Predictions\"}},\n",
              "                        {\"responsive\": true}\n",
              "                    ).then(function(){\n",
              "                            \n",
              "var gd = document.getElementById('e79319c9-485e-480f-9453-6885ce634081');\n",
              "var x = new MutationObserver(function (mutations, observer) {{\n",
              "        var display = window.getComputedStyle(gd).display;\n",
              "        if (!display || display === 'none') {{\n",
              "            console.log([gd, 'removed!']);\n",
              "            Plotly.purge(gd);\n",
              "            observer.disconnect();\n",
              "        }}\n",
              "}});\n",
              "\n",
              "// Listen for the removal of the full notebook cells\n",
              "var notebookContainer = gd.closest('#notebook-container');\n",
              "if (notebookContainer) {{\n",
              "    x.observe(notebookContainer, {childList: true});\n",
              "}}\n",
              "\n",
              "// Listen for the clearing of the current output cell\n",
              "var outputEl = gd.closest('.output');\n",
              "if (outputEl) {{\n",
              "    x.observe(outputEl, {childList: true});\n",
              "}}\n",
              "\n",
              "                        })\n",
              "                };\n",
              "                \n",
              "            </script>\n",
              "        </div>\n",
              "</body>\n",
              "</html>"
            ]
          },
          "metadata": {
            "tags": []
          }
        }
      ]
    },
    {
      "cell_type": "markdown",
      "metadata": {
        "id": "hQGETm5r2u_h",
        "colab_type": "text"
      },
      "source": [
        "## Get the inflection point for the logistic function"
      ]
    },
    {
      "cell_type": "code",
      "metadata": {
        "id": "kxVrQrZB2v7M",
        "colab_type": "code",
        "colab": {
          "base_uri": "https://localhost:8080/",
          "height": 559
        },
        "outputId": "497be2db-1798-45f7-d200-a4a2dc4c2670"
      },
      "source": [
        "steps = predictions['y']\n",
        "growth_factor = np.array([x / steps[i - 1] for i, x in enumerate(steps) if i > 0])\n",
        "growth_factor = np.concatenate((np.array([0]), growth_factor))\n",
        "predictions['growth_factor'] = growth_factor\n",
        "peaks, _ = find_peaks(predictions['growth_factor'], height=0)\n",
        "fig = go.Figure()\n",
        "fig.add_trace(go.Scatter(x=predictions['x'], y=predictions['growth_factor'], mode='lines', name=''))\n",
        "\n",
        "fig.update_layout(\n",
        "    title_text=\"Growth factor\"\n",
        ")\n",
        "fig.show()\n",
        "print(peaks)"
      ],
      "execution_count": null,
      "outputs": [
        {
          "output_type": "display_data",
          "data": {
            "text/html": [
              "<html>\n",
              "<head><meta charset=\"utf-8\" /></head>\n",
              "<body>\n",
              "    <div>\n",
              "            <script src=\"https://cdnjs.cloudflare.com/ajax/libs/mathjax/2.7.5/MathJax.js?config=TeX-AMS-MML_SVG\"></script><script type=\"text/javascript\">if (window.MathJax) {MathJax.Hub.Config({SVG: {font: \"STIX-Web\"}});}</script>\n",
              "                <script type=\"text/javascript\">window.PlotlyConfig = {MathJaxConfig: 'local'};</script>\n",
              "        <script src=\"https://cdn.plot.ly/plotly-latest.min.js\"></script>    \n",
              "            <div id=\"31ebafd5-c0e9-43bf-94ee-6e4168ccde7c\" class=\"plotly-graph-div\" style=\"height:525px; width:100%;\"></div>\n",
              "            <script type=\"text/javascript\">\n",
              "                \n",
              "                    window.PLOTLYENV=window.PLOTLYENV || {};\n",
              "                    \n",
              "                if (document.getElementById(\"31ebafd5-c0e9-43bf-94ee-6e4168ccde7c\")) {\n",
              "                    Plotly.newPlot(\n",
              "                        '31ebafd5-c0e9-43bf-94ee-6e4168ccde7c',\n",
              "                        [{\"mode\": \"lines\", \"name\": \"\", \"type\": \"scatter\", \"x\": [0.0, 1.0, 2.0, 3.0, 4.0, 5.0, 6.0, 7.0, 8.0, 9.0, 10.0, 11.0, 12.0, 13.0, 14.0, 15.0, 16.0, 17.0, 18.0, 19.0, 20.0, 21.0, 22.0, 23.0, 24.0, 25.0, 26.0, 27.0, 28.0, 29.0, 30.0, 31.0, 32.0, 33.0, 34.0, 35.0, 36.0, 37.0, 38.0, 39.0, 40.0, 41.0, 42.0, 43.0, 44.0, 45.0, 46.0, 47.0, 48.0, 49.0, 50.0, 51.0, 52.0, 53.0, 54.0, 55.0, 56.0, 57.0, 58.0, 59.0, 60.0, 61.0, 62.0, 63.0, 64.0, 65.0, 66.0, 67.0, 68.0, 69.0, 70.0, 71.0, 72.0, 73.0, 74.0, 75.0, 76.0, 77.0, 78.0, 79.0, 80.0, 81.0, 82.0, 83.0, 84.0, 85.0, 86.0, 87.0, 88.0, 89.0, 90.0, 91.0, 92.0, 93.0, 94.0, 95.0, 96.0, 97.0, 98.0, 99.0, 100.0, 101.0, 102.0, 103.0, 104.0, 105.0, 106.0, 107.0, 108.0, 109.0, 110.0, 111.0, 112.0, 113.0, 114.0, 115.0, 116.0, 117.0, 118.0, 119.0, 120.0, 121.0, 122.0, 123.0, 124.0, 125.0, 126.0, 127.0, 128.0, 129.0, 130.0, 131.0, 132.0, 133.0, 134.0, 135.0, 136.0, 137.0, 138.0, 139.0, 140.0, 141.0, 142.0, 143.0, 144.0, 145.0, 146.0, 147.0, 148.0, 149.0, 150.0, 151.0, 152.0, 153.0, 154.0, 155.0, 156.0, 157.0, 158.0, 159.0, 160.0, 161.0, 162.0, 163.0, 164.0, 165.0, 166.0, 167.0, 168.0, 169.0, 170.0, 171.0, 172.0, 173.0, 174.0, 175.0, 176.0, 177.0, 178.0, 179.0, 180.0, 181.0, 182.0, 183.0, 184.0, 185.0, 186.0, 187.0, 188.0, 189.0, 190.0, 191.0, 192.0, 193.0, 194.0, 195.0, 196.0, 197.0, 198.0, 199.0, 200.0, 201.0, 202.0, 203.0, 204.0, 205.0, 206.0, 207.0, 208.0, 209.0, 210.0, 211.0, 212.0, 213.0, 214.0, 215.0, 216.0, 217.0, 218.0, 219.0, 220.0, 221.0, 222.0, 223.0, 224.0, 225.0, 226.0, 227.0, 228.0, 229.0, 230.0, 231.0, 232.0, 233.0, 234.0, 235.0, 236.0, 237.0, 238.0, 239.0, 240.0, 241.0, 242.0, 243.0, 244.0, 245.0, 246.0, 247.0, 248.0, 249.0, 250.0, 251.0, 252.0, 253.0, 254.0, 255.0, 256.0, 257.0, 258.0, 259.0, 260.0, 261.0, 262.0, 263.0, 264.0, 265.0, 266.0, 267.0, 268.0, 269.0, 270.0, 271.0, 272.0, 273.0, 274.0, 275.0, 276.0, 277.0, 278.0, 279.0, 280.0, 281.0, 282.0, 283.0, 284.0, 285.0, 286.0, 287.0, 288.0, 289.0, 290.0, 291.0, 292.0, 293.0, 294.0, 295.0, 296.0, 297.0, 298.0, 299.0], \"y\": [0.0, 0.7918868811228061, 0.7541330106892328, 0.6953175243991744, 0.5908951506841977, 0.3541545230994751, -0.7000108205686975, 3.2629431172942716, 1.646141012132616, 1.3657768304857245, 1.2497333901461591, 1.1865583280396599, 1.147051732655907, 1.1202097426650797, 1.1009632823886037, 1.0866535472980667, 1.0757521794083522, 1.0673182222752708, 1.0607402488623772, 1.055602944273532, 1.0516132386836656, 1.048557101433456, 1.046273103152655, 1.0446356292807704, 1.0435439028954965, 1.0429146475801137, 1.0426771160923403, 1.0427697080908465, 1.0431376853981544, 1.0437316609825344, 1.0445066386958397, 1.0454214430371536, 1.0464384181092754, 1.0475233021104462, 1.0486452038395462, 1.049776624033659, 1.050893478584094, 1.0519750934778207, 1.0530041527822775, 1.053966590940001, 1.0548514288035753, 1.0556505590331144, 1.0563584906585204, 1.0569720649016296, 1.0574901550215605, 1.0579133623410546, 1.0582437191164273, 1.0584844068968966, 1.0586394967972568, 1.058713715927079, 1.0587122422499466, 1.058640528487369, 1.0585041543755012, 1.058308705626504, 1.0580596773092863, 1.0577623989991607, 1.057421978898804, 1.0570432641507312, 1.0566308146959238, 1.0561888882434516, 1.0557214341688301, 1.055232094429377, 1.0547242098547271, 1.0542008304275765, 1.0536647284059815, 1.053118413349955, 1.0525641483002532, 1.0520039665162757, 1.0514396883144645, 1.0508729376605703, 1.0503051582610912, 1.0497376289737428, 1.0491714784163513, 1.0486076987005413, 1.0480471582530095, 1.0474906137149531, 1.0469387209309566, 1.0463920450537005, 1.0458510698013912, 1.045316205911813, 1.0447877988411178, 1.0442661357575995, 1.043751451881206, 1.0432439362188957, 1.04274373674445, 1.0422509650692702, 1.0417657006482173, 1.04128799456189, 1.0408178729139133, 1.0403553398790144, 1.039900380434892, 1.0394529628081952, 1.0390130406623754, 1.038580555052762, 1.0381554361719296, 1.0377376049063285, 1.03732697422319, 1.036923450404922, 1.0365269341465535, 1.036137321530279, 1.0357545048897856, 1.0353783735757711, 1.0350088146329497, 1.0346457133977869, 1.0342889540253013, 1.0339384199523904, 1.0335939943044188, 1.0332555602510878, 1.0329230013170103, 1.0325962016518457, 1.0322750462643546, 1.0319594212242862, 1.0316492138355984, 1.0313443127841613, 1.03104460826275, 1.0307499920758625, 1.030460357726611, 1.0301756004877238, 1.0298956174584633, 1.029620307609084, 1.0293495718142898, 1.0290833128769845, 1.0288214355434806, 1.02856384651121, 1.0283104544298596, 1.0280611698967708, 1.0278159054473397, 1.0275745755410817, 1.0273370965439539, 1.0271033867074582, 1.0268733661450022, 1.026646956805927, 1.0264240824475828, 1.026204668605775, 1.025988642563885, 1.0257759333209124, 1.0255664715586834, 1.0253601896084188, 1.0251570214168464, 1.0249569025120178, 1.0247597699689628, 1.0245655623753123, 1.0243742197969887, 1.0241856837440626, 1.0239998971368522, 1.0238168042723403, 1.0236363507909654, 1.023458483643837, 1.023283151060425, 1.0231103025167532, 1.0229398887041306, 1.0227718614984451, 1.0226061739300405, 1.0224427801541902, 1.022281635422182, 1.0221226960530225, 1.0219659194057655, 1.021811263852466, 1.0216586887517665, 1.0215081544231066, 1.0213596221215597, 1.0212130540132855, 1.0210684131515992, 1.0209256634536454, 1.0207847696776722, 1.020645697400891, 1.0205084129979227, 1.020372883619807, 1.0202390771735774, 1.0201069623023797, 1.0199765083661316, 1.0198476854227059, 1.0197204642096276, 1.019594816126276, 1.0194707132165746, 1.0193481281521615, 1.0192270342160263, 1.019107405286603, 1.0189892158223048, 1.018872440846494, 1.0187570559328702, 1.0186430371912696, 1.018530361253862, 1.0184190052617363, 1.0183089468518618, 1.0182001641444178, 1.018092635730478, 1.0179863406600418, 1.017881258430401, 1.0177773689748366, 1.0176746526516274, 1.0175730902333722, 1.0174726628966093, 1.0173733522117259, 1.0172751401331495, 1.0171780089898177, 1.0170819414759056, 1.0169869206418192, 1.0168929298854368, 1.0167999529435898, 1.0167079738837854, 1.016616977096154, 1.0165269472856207, 1.0164378694642915, 1.0163497289440504, 1.0162625113293564, 1.0161762025102419, 1.0160907886554966, 1.0160062562060437, 1.0159225918684902, 1.015839782608855, 1.0157578156464662, 1.0156766784480218, 1.0155963587218122, 1.0155168444120946, 1.0154381236936216, 1.0153601849663116, 1.015283016850065, 1.0152066081797146, 1.0151309480001116, 1.0150560255613403, 1.0149818303140594, 1.0149083519049638, 1.014835580172367, 1.0147635051418982, 1.0146921170223093, 1.0146214062013936, 1.0145513632420073, 1.0144819788781951, 1.0144132440114146, 1.0143451497068572, 1.0142776871898633, 1.0142108478424283, 1.0141446231997975, 1.0140790049471466, 1.014013984916347, 1.01394955508281, 1.0138857075624135, 1.0138224346085016, 1.0137597286089617, 1.013697582083373, 1.0136359876802248, 1.0135749381742047, 1.013514426463554, 1.0134544455674834, 1.0133949886236586, 1.0133360488857404, 1.01327761972099, 1.0132196946079286, 1.0131622671340539, 1.0131053309936124, 1.0130488799854258, 1.0129929080107662, 1.0129374090712855, 1.012882377266989, 1.0128278067942647, 1.0127736919439494, 1.0127200270994485, 1.0126668067348943, 1.0126140254133504, 1.0125616777850557, 1.0125097585857112, 1.0124582626348044, 1.0124071848339733, 1.012356520165408, 1.012306263690288, 1.0122564105472567, 1.0122069559509286, 1.0121578951904315, 1.0121092236279818, 1.0120609366974913, 1.012013029903205, 1.0119654988183702, 1.0119183390839344, 1.0118715464072727, 1.0118251165609435, 1.0117790453814712, 1.0117333287681551, 1.0116879626819066, 1.011642943144109, 1.0115982662355039, 1.0115539280951023, 1.0115099249191175, 1.0114662529599212, 1.0114229085250248, 1.011379887976079, 1.011337187727896, 1.0112948042474945, 1.0112527340531614, 1.0112109737135375, 1.011169519846717, 1.011128369119373, 1.0110875182458954, 1.0110469639875483, 1.0110067031516488, 1.0109667325907554, 1.0109270492018818, 1.0108876499257202, 1.0108485317458829, 1.0108096916881608]}],\n",
              "                        {\"template\": {\"data\": {\"bar\": [{\"error_x\": {\"color\": \"#2a3f5f\"}, \"error_y\": {\"color\": \"#2a3f5f\"}, \"marker\": {\"line\": {\"color\": \"#E5ECF6\", \"width\": 0.5}}, \"type\": \"bar\"}], \"barpolar\": [{\"marker\": {\"line\": {\"color\": \"#E5ECF6\", \"width\": 0.5}}, \"type\": \"barpolar\"}], \"carpet\": [{\"aaxis\": {\"endlinecolor\": \"#2a3f5f\", \"gridcolor\": \"white\", \"linecolor\": \"white\", \"minorgridcolor\": \"white\", \"startlinecolor\": \"#2a3f5f\"}, \"baxis\": {\"endlinecolor\": \"#2a3f5f\", \"gridcolor\": \"white\", \"linecolor\": \"white\", \"minorgridcolor\": \"white\", \"startlinecolor\": \"#2a3f5f\"}, \"type\": \"carpet\"}], \"choropleth\": [{\"colorbar\": {\"outlinewidth\": 0, \"ticks\": \"\"}, \"type\": \"choropleth\"}], \"contour\": [{\"colorbar\": {\"outlinewidth\": 0, \"ticks\": \"\"}, \"colorscale\": [[0.0, \"#0d0887\"], [0.1111111111111111, \"#46039f\"], [0.2222222222222222, \"#7201a8\"], [0.3333333333333333, \"#9c179e\"], [0.4444444444444444, \"#bd3786\"], [0.5555555555555556, \"#d8576b\"], [0.6666666666666666, \"#ed7953\"], [0.7777777777777778, \"#fb9f3a\"], [0.8888888888888888, \"#fdca26\"], [1.0, \"#f0f921\"]], \"type\": \"contour\"}], \"contourcarpet\": [{\"colorbar\": {\"outlinewidth\": 0, \"ticks\": \"\"}, \"type\": \"contourcarpet\"}], \"heatmap\": [{\"colorbar\": {\"outlinewidth\": 0, \"ticks\": \"\"}, \"colorscale\": [[0.0, \"#0d0887\"], [0.1111111111111111, \"#46039f\"], [0.2222222222222222, \"#7201a8\"], [0.3333333333333333, \"#9c179e\"], [0.4444444444444444, \"#bd3786\"], [0.5555555555555556, \"#d8576b\"], [0.6666666666666666, \"#ed7953\"], [0.7777777777777778, \"#fb9f3a\"], [0.8888888888888888, \"#fdca26\"], [1.0, \"#f0f921\"]], \"type\": \"heatmap\"}], \"heatmapgl\": [{\"colorbar\": {\"outlinewidth\": 0, \"ticks\": \"\"}, \"colorscale\": [[0.0, \"#0d0887\"], [0.1111111111111111, \"#46039f\"], [0.2222222222222222, \"#7201a8\"], [0.3333333333333333, \"#9c179e\"], [0.4444444444444444, \"#bd3786\"], [0.5555555555555556, \"#d8576b\"], [0.6666666666666666, \"#ed7953\"], [0.7777777777777778, \"#fb9f3a\"], [0.8888888888888888, \"#fdca26\"], [1.0, \"#f0f921\"]], \"type\": \"heatmapgl\"}], \"histogram\": [{\"marker\": {\"colorbar\": {\"outlinewidth\": 0, \"ticks\": \"\"}}, \"type\": \"histogram\"}], \"histogram2d\": [{\"colorbar\": {\"outlinewidth\": 0, \"ticks\": \"\"}, \"colorscale\": [[0.0, \"#0d0887\"], [0.1111111111111111, \"#46039f\"], [0.2222222222222222, \"#7201a8\"], [0.3333333333333333, \"#9c179e\"], [0.4444444444444444, \"#bd3786\"], [0.5555555555555556, \"#d8576b\"], [0.6666666666666666, \"#ed7953\"], [0.7777777777777778, \"#fb9f3a\"], [0.8888888888888888, \"#fdca26\"], [1.0, \"#f0f921\"]], \"type\": \"histogram2d\"}], \"histogram2dcontour\": [{\"colorbar\": {\"outlinewidth\": 0, \"ticks\": \"\"}, \"colorscale\": [[0.0, \"#0d0887\"], [0.1111111111111111, \"#46039f\"], [0.2222222222222222, \"#7201a8\"], [0.3333333333333333, \"#9c179e\"], [0.4444444444444444, \"#bd3786\"], [0.5555555555555556, \"#d8576b\"], [0.6666666666666666, \"#ed7953\"], [0.7777777777777778, \"#fb9f3a\"], [0.8888888888888888, \"#fdca26\"], [1.0, \"#f0f921\"]], \"type\": \"histogram2dcontour\"}], \"mesh3d\": [{\"colorbar\": {\"outlinewidth\": 0, \"ticks\": \"\"}, \"type\": \"mesh3d\"}], \"parcoords\": [{\"line\": {\"colorbar\": {\"outlinewidth\": 0, \"ticks\": \"\"}}, \"type\": \"parcoords\"}], \"pie\": [{\"automargin\": true, \"type\": \"pie\"}], \"scatter\": [{\"marker\": {\"colorbar\": {\"outlinewidth\": 0, \"ticks\": \"\"}}, \"type\": \"scatter\"}], \"scatter3d\": [{\"line\": {\"colorbar\": {\"outlinewidth\": 0, \"ticks\": \"\"}}, \"marker\": {\"colorbar\": {\"outlinewidth\": 0, \"ticks\": \"\"}}, \"type\": \"scatter3d\"}], \"scattercarpet\": [{\"marker\": {\"colorbar\": {\"outlinewidth\": 0, \"ticks\": \"\"}}, \"type\": \"scattercarpet\"}], \"scattergeo\": [{\"marker\": {\"colorbar\": {\"outlinewidth\": 0, \"ticks\": \"\"}}, \"type\": \"scattergeo\"}], \"scattergl\": [{\"marker\": {\"colorbar\": {\"outlinewidth\": 0, \"ticks\": \"\"}}, \"type\": \"scattergl\"}], \"scattermapbox\": [{\"marker\": {\"colorbar\": {\"outlinewidth\": 0, \"ticks\": \"\"}}, \"type\": \"scattermapbox\"}], \"scatterpolar\": [{\"marker\": {\"colorbar\": {\"outlinewidth\": 0, \"ticks\": \"\"}}, \"type\": \"scatterpolar\"}], \"scatterpolargl\": [{\"marker\": {\"colorbar\": {\"outlinewidth\": 0, \"ticks\": \"\"}}, \"type\": \"scatterpolargl\"}], \"scatterternary\": [{\"marker\": {\"colorbar\": {\"outlinewidth\": 0, \"ticks\": \"\"}}, \"type\": \"scatterternary\"}], \"surface\": [{\"colorbar\": {\"outlinewidth\": 0, \"ticks\": \"\"}, \"colorscale\": [[0.0, \"#0d0887\"], [0.1111111111111111, \"#46039f\"], [0.2222222222222222, \"#7201a8\"], [0.3333333333333333, \"#9c179e\"], [0.4444444444444444, \"#bd3786\"], [0.5555555555555556, \"#d8576b\"], [0.6666666666666666, \"#ed7953\"], [0.7777777777777778, \"#fb9f3a\"], [0.8888888888888888, \"#fdca26\"], [1.0, \"#f0f921\"]], \"type\": \"surface\"}], \"table\": [{\"cells\": {\"fill\": {\"color\": \"#EBF0F8\"}, \"line\": {\"color\": \"white\"}}, \"header\": {\"fill\": {\"color\": \"#C8D4E3\"}, \"line\": {\"color\": \"white\"}}, \"type\": \"table\"}]}, \"layout\": {\"annotationdefaults\": {\"arrowcolor\": \"#2a3f5f\", \"arrowhead\": 0, \"arrowwidth\": 1}, \"coloraxis\": {\"colorbar\": {\"outlinewidth\": 0, \"ticks\": \"\"}}, \"colorscale\": {\"diverging\": [[0, \"#8e0152\"], [0.1, \"#c51b7d\"], [0.2, \"#de77ae\"], [0.3, \"#f1b6da\"], [0.4, \"#fde0ef\"], [0.5, \"#f7f7f7\"], [0.6, \"#e6f5d0\"], [0.7, \"#b8e186\"], [0.8, \"#7fbc41\"], [0.9, \"#4d9221\"], [1, \"#276419\"]], \"sequential\": [[0.0, \"#0d0887\"], [0.1111111111111111, \"#46039f\"], [0.2222222222222222, \"#7201a8\"], [0.3333333333333333, \"#9c179e\"], [0.4444444444444444, \"#bd3786\"], [0.5555555555555556, \"#d8576b\"], [0.6666666666666666, \"#ed7953\"], [0.7777777777777778, \"#fb9f3a\"], [0.8888888888888888, \"#fdca26\"], [1.0, \"#f0f921\"]], \"sequentialminus\": [[0.0, \"#0d0887\"], [0.1111111111111111, \"#46039f\"], [0.2222222222222222, \"#7201a8\"], [0.3333333333333333, \"#9c179e\"], [0.4444444444444444, \"#bd3786\"], [0.5555555555555556, \"#d8576b\"], [0.6666666666666666, \"#ed7953\"], [0.7777777777777778, \"#fb9f3a\"], [0.8888888888888888, \"#fdca26\"], [1.0, \"#f0f921\"]]}, \"colorway\": [\"#636efa\", \"#EF553B\", \"#00cc96\", \"#ab63fa\", \"#FFA15A\", \"#19d3f3\", \"#FF6692\", \"#B6E880\", \"#FF97FF\", \"#FECB52\"], \"font\": {\"color\": \"#2a3f5f\"}, \"geo\": {\"bgcolor\": \"white\", \"lakecolor\": \"white\", \"landcolor\": \"#E5ECF6\", \"showlakes\": true, \"showland\": true, \"subunitcolor\": \"white\"}, \"hoverlabel\": {\"align\": \"left\"}, \"hovermode\": \"closest\", \"mapbox\": {\"style\": \"light\"}, \"paper_bgcolor\": \"white\", \"plot_bgcolor\": \"#E5ECF6\", \"polar\": {\"angularaxis\": {\"gridcolor\": \"white\", \"linecolor\": \"white\", \"ticks\": \"\"}, \"bgcolor\": \"#E5ECF6\", \"radialaxis\": {\"gridcolor\": \"white\", \"linecolor\": \"white\", \"ticks\": \"\"}}, \"scene\": {\"xaxis\": {\"backgroundcolor\": \"#E5ECF6\", \"gridcolor\": \"white\", \"gridwidth\": 2, \"linecolor\": \"white\", \"showbackground\": true, \"ticks\": \"\", \"zerolinecolor\": \"white\"}, \"yaxis\": {\"backgroundcolor\": \"#E5ECF6\", \"gridcolor\": \"white\", \"gridwidth\": 2, \"linecolor\": \"white\", \"showbackground\": true, \"ticks\": \"\", \"zerolinecolor\": \"white\"}, \"zaxis\": {\"backgroundcolor\": \"#E5ECF6\", \"gridcolor\": \"white\", \"gridwidth\": 2, \"linecolor\": \"white\", \"showbackground\": true, \"ticks\": \"\", \"zerolinecolor\": \"white\"}}, \"shapedefaults\": {\"line\": {\"color\": \"#2a3f5f\"}}, \"ternary\": {\"aaxis\": {\"gridcolor\": \"white\", \"linecolor\": \"white\", \"ticks\": \"\"}, \"baxis\": {\"gridcolor\": \"white\", \"linecolor\": \"white\", \"ticks\": \"\"}, \"bgcolor\": \"#E5ECF6\", \"caxis\": {\"gridcolor\": \"white\", \"linecolor\": \"white\", \"ticks\": \"\"}}, \"title\": {\"x\": 0.05}, \"xaxis\": {\"automargin\": true, \"gridcolor\": \"white\", \"linecolor\": \"white\", \"ticks\": \"\", \"title\": {\"standoff\": 15}, \"zerolinecolor\": \"white\", \"zerolinewidth\": 2}, \"yaxis\": {\"automargin\": true, \"gridcolor\": \"white\", \"linecolor\": \"white\", \"ticks\": \"\", \"title\": {\"standoff\": 15}, \"zerolinecolor\": \"white\", \"zerolinewidth\": 2}}}, \"title\": {\"text\": \"Growth factor\"}},\n",
              "                        {\"responsive\": true}\n",
              "                    ).then(function(){\n",
              "                            \n",
              "var gd = document.getElementById('31ebafd5-c0e9-43bf-94ee-6e4168ccde7c');\n",
              "var x = new MutationObserver(function (mutations, observer) {{\n",
              "        var display = window.getComputedStyle(gd).display;\n",
              "        if (!display || display === 'none') {{\n",
              "            console.log([gd, 'removed!']);\n",
              "            Plotly.purge(gd);\n",
              "            observer.disconnect();\n",
              "        }}\n",
              "}});\n",
              "\n",
              "// Listen for the removal of the full notebook cells\n",
              "var notebookContainer = gd.closest('#notebook-container');\n",
              "if (notebookContainer) {{\n",
              "    x.observe(notebookContainer, {childList: true});\n",
              "}}\n",
              "\n",
              "// Listen for the clearing of the current output cell\n",
              "var outputEl = gd.closest('.output');\n",
              "if (outputEl) {{\n",
              "    x.observe(outputEl, {childList: true});\n",
              "}}\n",
              "\n",
              "                        })\n",
              "                };\n",
              "                \n",
              "            </script>\n",
              "        </div>\n",
              "</body>\n",
              "</html>"
            ]
          },
          "metadata": {
            "tags": []
          }
        },
        {
          "output_type": "stream",
          "text": [
            "[ 1  7 49]\n"
          ],
          "name": "stdout"
        }
      ]
    },
    {
      "cell_type": "code",
      "metadata": {
        "id": "afQqRTv43BQ-",
        "colab_type": "code",
        "colab": {
          "base_uri": "https://localhost:8080/",
          "height": 101
        },
        "outputId": "ec213a0d-fcf7-4624-ee19-fb8a415719b6"
      },
      "source": [
        "inflection_row = predictions[predictions['growth_factor'] > 1.02].tail(1)\n",
        "inflection_idx = inflection_row.index[0]\n",
        "inflection_x = inflection_row['x'].max()\n",
        "inflection_y = inflection_row['y'].max()\n",
        "L = inflection_y*2\n",
        "\n",
        "print(f'inflection_idx: {inflection_idx}')\n",
        "print(f'inflection_x: {inflection_x}')\n",
        "print(f'inflection_y: {inflection_y}')\n",
        "print(f'Inflection date: {inflection_y}')\n",
        "print(f'L: {L}')"
      ],
      "execution_count": null,
      "outputs": [
        {
          "output_type": "stream",
          "text": [
            "inflection_idx: 169\n",
            "inflection_x: 169.0\n",
            "inflection_y: 388626.4008827899\n",
            "Inflection date: 388626.4008827899\n",
            "L: 777252.8017655798\n"
          ],
          "name": "stdout"
        }
      ]
    },
    {
      "cell_type": "code",
      "metadata": {
        "id": "8aOlfkhF4mHe",
        "colab_type": "code",
        "colab": {
          "base_uri": "https://localhost:8080/",
          "height": 34
        },
        "outputId": "91d09b16-e9b3-45da-902f-58159b42d632"
      },
      "source": [
        "pd.date_range(start=cases_by_day['date'].min(), periods=prediction_days)[inflection_idx]"
      ],
      "execution_count": null,
      "outputs": [
        {
          "output_type": "execute_result",
          "data": {
            "text/plain": [
              "Timestamp('2020-08-18 00:00:00', freq='D')"
            ]
          },
          "metadata": {
            "tags": []
          },
          "execution_count": 42
        }
      ]
    },
    {
      "cell_type": "markdown",
      "metadata": {
        "id": "2KEKsroh3Sbt",
        "colab_type": "text"
      },
      "source": [
        "# Exponential range for logistic function"
      ]
    },
    {
      "cell_type": "code",
      "metadata": {
        "id": "uZ21xBoy3PUv",
        "colab_type": "code",
        "colab": {
          "base_uri": "https://localhost:8080/",
          "height": 542
        },
        "outputId": "99bd330f-aeb9-4db7-c94c-431bd717680a"
      },
      "source": [
        "pred = predictions.iloc[:inflection_idx+1]\n",
        "fig = go.Figure()\n",
        "fig.add_trace(go.Scatter(x=pred['x'], y=pred['y'], line=dict(dash='dash'), name = 'Projection'))\n",
        "fig.add_trace(go.Scatter(x=cases_by_day['x'], y=cases_by_day['y'], mode='lines+markers', name='Confirmed cases'))\n",
        "\n",
        "\n",
        "fig.update_layout(\n",
        "  title_text=\"Exponential range for logistic function\"\n",
        ")\n",
        "\n",
        "fig.show()"
      ],
      "execution_count": null,
      "outputs": [
        {
          "output_type": "display_data",
          "data": {
            "text/html": [
              "<html>\n",
              "<head><meta charset=\"utf-8\" /></head>\n",
              "<body>\n",
              "    <div>\n",
              "            <script src=\"https://cdnjs.cloudflare.com/ajax/libs/mathjax/2.7.5/MathJax.js?config=TeX-AMS-MML_SVG\"></script><script type=\"text/javascript\">if (window.MathJax) {MathJax.Hub.Config({SVG: {font: \"STIX-Web\"}});}</script>\n",
              "                <script type=\"text/javascript\">window.PlotlyConfig = {MathJaxConfig: 'local'};</script>\n",
              "        <script src=\"https://cdn.plot.ly/plotly-latest.min.js\"></script>    \n",
              "            <div id=\"f368dbd0-1fca-4126-875d-b8ca1d2d4219\" class=\"plotly-graph-div\" style=\"height:525px; width:100%;\"></div>\n",
              "            <script type=\"text/javascript\">\n",
              "                \n",
              "                    window.PLOTLYENV=window.PLOTLYENV || {};\n",
              "                    \n",
              "                if (document.getElementById(\"f368dbd0-1fca-4126-875d-b8ca1d2d4219\")) {\n",
              "                    Plotly.newPlot(\n",
              "                        'f368dbd0-1fca-4126-875d-b8ca1d2d4219',\n",
              "                        [{\"line\": {\"dash\": \"dash\"}, \"name\": \"Projection\", \"type\": \"scatter\", \"x\": [0.0, 1.0, 2.0, 3.0, 4.0, 5.0, 6.0, 7.0, 8.0, 9.0, 10.0, 11.0, 12.0, 13.0, 14.0, 15.0, 16.0, 17.0, 18.0, 19.0, 20.0, 21.0, 22.0, 23.0, 24.0, 25.0, 26.0, 27.0, 28.0, 29.0, 30.0, 31.0, 32.0, 33.0, 34.0, 35.0, 36.0, 37.0, 38.0, 39.0, 40.0, 41.0, 42.0, 43.0, 44.0, 45.0, 46.0, 47.0, 48.0, 49.0, 50.0, 51.0, 52.0, 53.0, 54.0, 55.0, 56.0, 57.0, 58.0, 59.0, 60.0, 61.0, 62.0, 63.0, 64.0, 65.0, 66.0, 67.0, 68.0, 69.0, 70.0, 71.0, 72.0, 73.0, 74.0, 75.0, 76.0, 77.0, 78.0, 79.0, 80.0, 81.0, 82.0, 83.0, 84.0, 85.0, 86.0, 87.0, 88.0, 89.0, 90.0, 91.0, 92.0, 93.0, 94.0, 95.0, 96.0, 97.0, 98.0, 99.0, 100.0, 101.0, 102.0, 103.0, 104.0, 105.0, 106.0, 107.0, 108.0, 109.0, 110.0, 111.0, 112.0, 113.0, 114.0, 115.0, 116.0, 117.0, 118.0, 119.0, 120.0, 121.0, 122.0, 123.0, 124.0, 125.0, 126.0, 127.0, 128.0, 129.0, 130.0, 131.0, 132.0, 133.0, 134.0, 135.0, 136.0, 137.0, 138.0, 139.0, 140.0, 141.0, 142.0, 143.0, 144.0, 145.0, 146.0, 147.0, 148.0, 149.0, 150.0, 151.0, 152.0, 153.0, 154.0, 155.0, 156.0, 157.0, 158.0, 159.0, 160.0, 161.0, 162.0, 163.0, 164.0, 165.0, 166.0, 167.0, 168.0, 169.0], \"y\": [-1045.3886330487694, -827.8295441862236, -624.2935864946521, -434.08227105974333, -256.4971089671858, -90.83961130266778, 63.58871084812199, 207.48634639949523, 341.5517842657637, 466.4835133612387, 582.9800226002319, 691.7398008970542, 793.4613371660182, 888.8431203214352, 978.5836392776159, 1063.3813829488731, 1143.934840249518, 1220.9425000938613, 1295.1028513962156, 1367.1143830708916, 1437.6755840322016, 1507.4849431944563, 1577.2409494719677, 1647.6420917790488, 1719.3868590300085, 1793.1737401391597, 1869.7012240208146, 1949.6677995892833, 2033.771955758878, 2122.7121814439115, 2217.1869655586934, 2317.894797017537, 2425.5341647347514, 2540.80355762465, 2664.401464601545, 2797.026374579746, 2939.3767764735667, 3092.151159197316, 3256.048011665307, 3431.765822791852, 3620.0030814912625, 3821.4582766778485, 4036.829897265922, 4266.816432169795, 4512.116370303778, 4773.428200582185, 5051.450411919327, 5346.881493229513, 5660.419933427056, 5992.764221426268, 6344.61284614146, 6716.664296486945, 7109.617061377034, 7524.169629726037, 7961.020490448263, 8420.86813245803, 8904.411044669647, 9412.347715997426, 9945.376635355678, 10504.196291658713, 11089.505173820842, 11702.00177075638, 12342.38457137964, 13011.352064604926, 13709.602739346556, 14437.83508451884, 15196.747589036087, 15987.038741812612, 16809.407031762723, 17664.55094780074, 18553.168978840964, 19475.95961379771, 20433.621341585294, 21426.85265111802, 22456.352031310205, 23522.81797107616, 24626.948959330195, 25769.443484986623, 26951.00003695975, 28172.3171041639, 29434.093175513375, 30737.026739922487, 32081.81628630555, 33469.16030357688, 34899.75728065077, 36374.30570644155, 37893.50406986353, 39458.05085983101, 41068.64456525832, 42725.98367505976, 44430.76667814964, 46183.69206344227, 47985.45831985197, 49836.763936293035, 51738.30740167979, 53690.78720492656, 55694.90183494764, 57751.34978065733, 59860.829530969975, 62024.039574799855, 64241.67840106129, 66514.44449866858, 68843.03635653609, 71228.15246357807, 73670.49130870885, 76170.75138084275, 78729.63116889408, 81347.82916177715, 84026.04384840626, 86764.97371769574, 89565.3172585599, 92427.77295991304, 95353.03931066947, 98341.81479974352, 101394.79791604947, 104512.68714850167, 107696.18098601441, 110945.977917502, 114262.77643187875, 117647.27501805898, 121100.17216495701, 124622.16636148714, 128213.95609656366, 131876.23985910093, 135609.71613801323, 139415.08342221487, 143293.04020062016, 147244.28496214343, 151269.516195699, 155369.43239020114, 159544.7320345642, 163796.11361770245, 168124.27562853025, 172529.91655596189, 177013.73488891165, 181576.4291162939, 186218.69772702293, 190941.23921001304, 195744.75205417853, 200629.93474843376, 205597.485781693, 210648.10364287053, 215782.48682088073, 221001.3338046379, 226305.34308305633, 231695.21314505034, 237171.64247953423, 242735.32957542234, 248386.97292162894, 254127.27100706837, 259956.92232065494, 265876.62535130297, 271887.07858792675, 277988.9805194406, 284183.02963475883, 290469.9244227957, 296850.36337246565, 303325.0449726829, 309894.6677123618, 316559.93008041655, 323321.5305657616, 330180.16765731125, 337136.53984397976, 344191.3456146814, 351345.2834583306, 358599.0518638416, 365953.34932012873, 373408.87431610626, 380966.3253406886, 388626.4008827899]}, {\"mode\": \"lines+markers\", \"name\": \"Confirmed cases\", \"type\": \"scatter\", \"x\": [0, 1, 2, 3, 4, 5, 6, 7, 8, 9, 10, 11, 12, 13, 14, 15, 16, 17, 18, 19, 20, 21, 22, 23, 24, 25, 26, 27, 28, 29, 30, 31, 32, 33, 34, 35, 36, 37, 38, 39, 40, 41, 42, 43, 44, 45, 46, 47, 48, 49, 50, 51, 52, 53, 54, 55, 56, 57, 58, 59, 60, 61, 62, 63, 64, 65, 66, 67, 68, 69, 70, 71, 72, 73, 74, 75, 76, 77, 78, 79, 80, 81, 82, 83, 84, 85, 86, 87, 88, 89, 90, 91, 92, 93, 94, 95, 96, 97, 98, 99, 100, 101, 102, 103, 104, 105, 106, 107, 108, 109, 110, 111, 112, 113, 114, 115, 116, 117], \"y\": [1, 2, 3, 5, 8, 12, 20, 31, 44, 64, 83, 112, 154, 198, 267, 345, 424, 505, 599, 740, 903, 1062, 1221, 1387, 1525, 1719, 1910, 2105, 2271, 2456, 2615, 2715, 2864, 3017, 3142, 3282, 3403, 3652, 3808, 3991, 4226, 4390, 4643, 4819, 5021, 5240, 5452, 5670, 5913, 6210, 6513, 6818, 7069, 7473, 7982, 8350, 8821, 9279, 9740, 10130, 10631, 11409, 12142, 12887, 13827, 14560, 15013, 15726, 16538, 17368, 18419, 19380, 20275, 21105, 22284, 23426, 24757, 26070, 27459, 28867, 29760, 30911, 32372, 33715, 35086, 36465, 37750, 38773, 40477, 42080, 43925, 45660, 47616, 49368, 50778, 53226, 55510, 58158, 60908, 63572, 65774, 67257, 68943, 72198, 75510, 78867, 82113, 84711, 86617, 88458, 91474, 93735, 95455, 96831, 97500, 97677, 97840, 97846]}],\n",
              "                        {\"template\": {\"data\": {\"bar\": [{\"error_x\": {\"color\": \"#2a3f5f\"}, \"error_y\": {\"color\": \"#2a3f5f\"}, \"marker\": {\"line\": {\"color\": \"#E5ECF6\", \"width\": 0.5}}, \"type\": \"bar\"}], \"barpolar\": [{\"marker\": {\"line\": {\"color\": \"#E5ECF6\", \"width\": 0.5}}, \"type\": \"barpolar\"}], \"carpet\": [{\"aaxis\": {\"endlinecolor\": \"#2a3f5f\", \"gridcolor\": \"white\", \"linecolor\": \"white\", \"minorgridcolor\": \"white\", \"startlinecolor\": \"#2a3f5f\"}, \"baxis\": {\"endlinecolor\": \"#2a3f5f\", \"gridcolor\": \"white\", \"linecolor\": \"white\", \"minorgridcolor\": \"white\", \"startlinecolor\": \"#2a3f5f\"}, \"type\": \"carpet\"}], \"choropleth\": [{\"colorbar\": {\"outlinewidth\": 0, \"ticks\": \"\"}, \"type\": \"choropleth\"}], \"contour\": [{\"colorbar\": {\"outlinewidth\": 0, \"ticks\": \"\"}, \"colorscale\": [[0.0, \"#0d0887\"], [0.1111111111111111, \"#46039f\"], [0.2222222222222222, \"#7201a8\"], [0.3333333333333333, \"#9c179e\"], [0.4444444444444444, \"#bd3786\"], [0.5555555555555556, \"#d8576b\"], [0.6666666666666666, \"#ed7953\"], [0.7777777777777778, \"#fb9f3a\"], [0.8888888888888888, \"#fdca26\"], [1.0, \"#f0f921\"]], \"type\": \"contour\"}], \"contourcarpet\": [{\"colorbar\": {\"outlinewidth\": 0, \"ticks\": \"\"}, \"type\": \"contourcarpet\"}], \"heatmap\": [{\"colorbar\": {\"outlinewidth\": 0, \"ticks\": \"\"}, \"colorscale\": [[0.0, \"#0d0887\"], [0.1111111111111111, \"#46039f\"], [0.2222222222222222, \"#7201a8\"], [0.3333333333333333, \"#9c179e\"], [0.4444444444444444, \"#bd3786\"], [0.5555555555555556, \"#d8576b\"], [0.6666666666666666, \"#ed7953\"], [0.7777777777777778, \"#fb9f3a\"], [0.8888888888888888, \"#fdca26\"], [1.0, \"#f0f921\"]], \"type\": \"heatmap\"}], \"heatmapgl\": [{\"colorbar\": {\"outlinewidth\": 0, \"ticks\": \"\"}, \"colorscale\": [[0.0, \"#0d0887\"], [0.1111111111111111, \"#46039f\"], [0.2222222222222222, \"#7201a8\"], [0.3333333333333333, \"#9c179e\"], [0.4444444444444444, \"#bd3786\"], [0.5555555555555556, \"#d8576b\"], [0.6666666666666666, \"#ed7953\"], [0.7777777777777778, \"#fb9f3a\"], [0.8888888888888888, \"#fdca26\"], [1.0, \"#f0f921\"]], \"type\": \"heatmapgl\"}], \"histogram\": [{\"marker\": {\"colorbar\": {\"outlinewidth\": 0, \"ticks\": \"\"}}, \"type\": \"histogram\"}], \"histogram2d\": [{\"colorbar\": {\"outlinewidth\": 0, \"ticks\": \"\"}, \"colorscale\": [[0.0, \"#0d0887\"], [0.1111111111111111, \"#46039f\"], [0.2222222222222222, \"#7201a8\"], [0.3333333333333333, \"#9c179e\"], [0.4444444444444444, \"#bd3786\"], [0.5555555555555556, \"#d8576b\"], [0.6666666666666666, \"#ed7953\"], [0.7777777777777778, \"#fb9f3a\"], [0.8888888888888888, \"#fdca26\"], [1.0, \"#f0f921\"]], \"type\": \"histogram2d\"}], \"histogram2dcontour\": [{\"colorbar\": {\"outlinewidth\": 0, \"ticks\": \"\"}, \"colorscale\": [[0.0, \"#0d0887\"], [0.1111111111111111, \"#46039f\"], [0.2222222222222222, \"#7201a8\"], [0.3333333333333333, \"#9c179e\"], [0.4444444444444444, \"#bd3786\"], [0.5555555555555556, \"#d8576b\"], [0.6666666666666666, \"#ed7953\"], [0.7777777777777778, \"#fb9f3a\"], [0.8888888888888888, \"#fdca26\"], [1.0, \"#f0f921\"]], \"type\": \"histogram2dcontour\"}], \"mesh3d\": [{\"colorbar\": {\"outlinewidth\": 0, \"ticks\": \"\"}, \"type\": \"mesh3d\"}], \"parcoords\": [{\"line\": {\"colorbar\": {\"outlinewidth\": 0, \"ticks\": \"\"}}, \"type\": \"parcoords\"}], \"pie\": [{\"automargin\": true, \"type\": \"pie\"}], \"scatter\": [{\"marker\": {\"colorbar\": {\"outlinewidth\": 0, \"ticks\": \"\"}}, \"type\": \"scatter\"}], \"scatter3d\": [{\"line\": {\"colorbar\": {\"outlinewidth\": 0, \"ticks\": \"\"}}, \"marker\": {\"colorbar\": {\"outlinewidth\": 0, \"ticks\": \"\"}}, \"type\": \"scatter3d\"}], \"scattercarpet\": [{\"marker\": {\"colorbar\": {\"outlinewidth\": 0, \"ticks\": \"\"}}, \"type\": \"scattercarpet\"}], \"scattergeo\": [{\"marker\": {\"colorbar\": {\"outlinewidth\": 0, \"ticks\": \"\"}}, \"type\": \"scattergeo\"}], \"scattergl\": [{\"marker\": {\"colorbar\": {\"outlinewidth\": 0, \"ticks\": \"\"}}, \"type\": \"scattergl\"}], \"scattermapbox\": [{\"marker\": {\"colorbar\": {\"outlinewidth\": 0, \"ticks\": \"\"}}, \"type\": \"scattermapbox\"}], \"scatterpolar\": [{\"marker\": {\"colorbar\": {\"outlinewidth\": 0, \"ticks\": \"\"}}, \"type\": \"scatterpolar\"}], \"scatterpolargl\": [{\"marker\": {\"colorbar\": {\"outlinewidth\": 0, \"ticks\": \"\"}}, \"type\": \"scatterpolargl\"}], \"scatterternary\": [{\"marker\": {\"colorbar\": {\"outlinewidth\": 0, \"ticks\": \"\"}}, \"type\": \"scatterternary\"}], \"surface\": [{\"colorbar\": {\"outlinewidth\": 0, \"ticks\": \"\"}, \"colorscale\": [[0.0, \"#0d0887\"], [0.1111111111111111, \"#46039f\"], [0.2222222222222222, \"#7201a8\"], [0.3333333333333333, \"#9c179e\"], [0.4444444444444444, \"#bd3786\"], [0.5555555555555556, \"#d8576b\"], [0.6666666666666666, \"#ed7953\"], [0.7777777777777778, \"#fb9f3a\"], [0.8888888888888888, \"#fdca26\"], [1.0, \"#f0f921\"]], \"type\": \"surface\"}], \"table\": [{\"cells\": {\"fill\": {\"color\": \"#EBF0F8\"}, \"line\": {\"color\": \"white\"}}, \"header\": {\"fill\": {\"color\": \"#C8D4E3\"}, \"line\": {\"color\": \"white\"}}, \"type\": \"table\"}]}, \"layout\": {\"annotationdefaults\": {\"arrowcolor\": \"#2a3f5f\", \"arrowhead\": 0, \"arrowwidth\": 1}, \"coloraxis\": {\"colorbar\": {\"outlinewidth\": 0, \"ticks\": \"\"}}, \"colorscale\": {\"diverging\": [[0, \"#8e0152\"], [0.1, \"#c51b7d\"], [0.2, \"#de77ae\"], [0.3, \"#f1b6da\"], [0.4, \"#fde0ef\"], [0.5, \"#f7f7f7\"], [0.6, \"#e6f5d0\"], [0.7, \"#b8e186\"], [0.8, \"#7fbc41\"], [0.9, \"#4d9221\"], [1, \"#276419\"]], \"sequential\": [[0.0, \"#0d0887\"], [0.1111111111111111, \"#46039f\"], [0.2222222222222222, \"#7201a8\"], [0.3333333333333333, \"#9c179e\"], [0.4444444444444444, \"#bd3786\"], [0.5555555555555556, \"#d8576b\"], [0.6666666666666666, \"#ed7953\"], [0.7777777777777778, \"#fb9f3a\"], [0.8888888888888888, \"#fdca26\"], [1.0, \"#f0f921\"]], \"sequentialminus\": [[0.0, \"#0d0887\"], [0.1111111111111111, \"#46039f\"], [0.2222222222222222, \"#7201a8\"], [0.3333333333333333, \"#9c179e\"], [0.4444444444444444, \"#bd3786\"], [0.5555555555555556, \"#d8576b\"], [0.6666666666666666, \"#ed7953\"], [0.7777777777777778, \"#fb9f3a\"], [0.8888888888888888, \"#fdca26\"], [1.0, \"#f0f921\"]]}, \"colorway\": [\"#636efa\", \"#EF553B\", \"#00cc96\", \"#ab63fa\", \"#FFA15A\", \"#19d3f3\", \"#FF6692\", \"#B6E880\", \"#FF97FF\", \"#FECB52\"], \"font\": {\"color\": \"#2a3f5f\"}, \"geo\": {\"bgcolor\": \"white\", \"lakecolor\": \"white\", \"landcolor\": \"#E5ECF6\", \"showlakes\": true, \"showland\": true, \"subunitcolor\": \"white\"}, \"hoverlabel\": {\"align\": \"left\"}, \"hovermode\": \"closest\", \"mapbox\": {\"style\": \"light\"}, \"paper_bgcolor\": \"white\", \"plot_bgcolor\": \"#E5ECF6\", \"polar\": {\"angularaxis\": {\"gridcolor\": \"white\", \"linecolor\": \"white\", \"ticks\": \"\"}, \"bgcolor\": \"#E5ECF6\", \"radialaxis\": {\"gridcolor\": \"white\", \"linecolor\": \"white\", \"ticks\": \"\"}}, \"scene\": {\"xaxis\": {\"backgroundcolor\": \"#E5ECF6\", \"gridcolor\": \"white\", \"gridwidth\": 2, \"linecolor\": \"white\", \"showbackground\": true, \"ticks\": \"\", \"zerolinecolor\": \"white\"}, \"yaxis\": {\"backgroundcolor\": \"#E5ECF6\", \"gridcolor\": \"white\", \"gridwidth\": 2, \"linecolor\": \"white\", \"showbackground\": true, \"ticks\": \"\", \"zerolinecolor\": \"white\"}, \"zaxis\": {\"backgroundcolor\": \"#E5ECF6\", \"gridcolor\": \"white\", \"gridwidth\": 2, \"linecolor\": \"white\", \"showbackground\": true, \"ticks\": \"\", \"zerolinecolor\": \"white\"}}, \"shapedefaults\": {\"line\": {\"color\": \"#2a3f5f\"}}, \"ternary\": {\"aaxis\": {\"gridcolor\": \"white\", \"linecolor\": \"white\", \"ticks\": \"\"}, \"baxis\": {\"gridcolor\": \"white\", \"linecolor\": \"white\", \"ticks\": \"\"}, \"bgcolor\": \"#E5ECF6\", \"caxis\": {\"gridcolor\": \"white\", \"linecolor\": \"white\", \"ticks\": \"\"}}, \"title\": {\"x\": 0.05}, \"xaxis\": {\"automargin\": true, \"gridcolor\": \"white\", \"linecolor\": \"white\", \"ticks\": \"\", \"title\": {\"standoff\": 15}, \"zerolinecolor\": \"white\", \"zerolinewidth\": 2}, \"yaxis\": {\"automargin\": true, \"gridcolor\": \"white\", \"linecolor\": \"white\", \"ticks\": \"\", \"title\": {\"standoff\": 15}, \"zerolinecolor\": \"white\", \"zerolinewidth\": 2}}}, \"title\": {\"text\": \"Exponential range for logistic function\"}},\n",
              "                        {\"responsive\": true}\n",
              "                    ).then(function(){\n",
              "                            \n",
              "var gd = document.getElementById('f368dbd0-1fca-4126-875d-b8ca1d2d4219');\n",
              "var x = new MutationObserver(function (mutations, observer) {{\n",
              "        var display = window.getComputedStyle(gd).display;\n",
              "        if (!display || display === 'none') {{\n",
              "            console.log([gd, 'removed!']);\n",
              "            Plotly.purge(gd);\n",
              "            observer.disconnect();\n",
              "        }}\n",
              "}});\n",
              "\n",
              "// Listen for the removal of the full notebook cells\n",
              "var notebookContainer = gd.closest('#notebook-container');\n",
              "if (notebookContainer) {{\n",
              "    x.observe(notebookContainer, {childList: true});\n",
              "}}\n",
              "\n",
              "// Listen for the clearing of the current output cell\n",
              "var outputEl = gd.closest('.output');\n",
              "if (outputEl) {{\n",
              "    x.observe(outputEl, {childList: true});\n",
              "}}\n",
              "\n",
              "                        })\n",
              "                };\n",
              "                \n",
              "            </script>\n",
              "        </div>\n",
              "</body>\n",
              "</html>"
            ]
          },
          "metadata": {
            "tags": []
          }
        }
      ]
    },
    {
      "cell_type": "markdown",
      "metadata": {
        "id": "SJvRRCjf3xIp",
        "colab_type": "text"
      },
      "source": [
        "## Build logistic function"
      ]
    },
    {
      "cell_type": "code",
      "metadata": {
        "id": "HQKCtiX_3_Z5",
        "colab_type": "code",
        "colab": {
          "base_uri": "https://localhost:8080/",
          "height": 34
        },
        "outputId": "38f17900-477e-4060-ddb2-0273545210b9"
      },
      "source": [
        "cases_by_day['date'].min()"
      ],
      "execution_count": null,
      "outputs": [
        {
          "output_type": "execute_result",
          "data": {
            "text/plain": [
              "Timestamp('2020-03-02 00:00:00')"
            ]
          },
          "metadata": {
            "tags": []
          },
          "execution_count": 44
        }
      ]
    },
    {
      "cell_type": "code",
      "metadata": {
        "id": "Sn29dCOX3pcw",
        "colab_type": "code",
        "colab": {
          "base_uri": "https://localhost:8080/",
          "height": 542
        },
        "outputId": "73d2c62c-845a-479f-db4c-cf7d17d9fc2a"
      },
      "source": [
        "predictions_inv = predictions[:inflection_idx + 1][::-1].copy()\n",
        "predictions_b = predictions_inv.copy()\n",
        "\n",
        "predictions_b['x'] = np.arange(inflection_idx, inflection_idx*2+1)\n",
        "predictions_b['y'] = predictions_b['y'].apply(lambda y: L - y)\n",
        "\n",
        "full_predictions = predictions[:inflection_idx]\n",
        "full_predictions = full_predictions.append(predictions_b)\n",
        "\n",
        "full_predictions.loc[:,'date'] = pd.date_range(start=cases_by_day['date'].min(), periods=full_predictions.shape[0])\n",
        "\n",
        "fig = go.Figure()\n",
        "fig.add_trace(go.Scatter(x=cases_by_day['date'], y=cases_by_day['y'], mode='lines+markers', line=dict(width=1), name='Confirmed cases'))\n",
        "fig.add_trace(go.Scatter(x=full_predictions['date'], y=full_predictions['y'], line=dict(dash='dash'), name = 'Projection'))\n",
        "\n",
        "fig.update_layout(\n",
        "    title_text=\"Confirmed cases vs Predictions\"\n",
        ")\n",
        "\n",
        "fig.show()"
      ],
      "execution_count": null,
      "outputs": [
        {
          "output_type": "display_data",
          "data": {
            "text/html": [
              "<html>\n",
              "<head><meta charset=\"utf-8\" /></head>\n",
              "<body>\n",
              "    <div>\n",
              "            <script src=\"https://cdnjs.cloudflare.com/ajax/libs/mathjax/2.7.5/MathJax.js?config=TeX-AMS-MML_SVG\"></script><script type=\"text/javascript\">if (window.MathJax) {MathJax.Hub.Config({SVG: {font: \"STIX-Web\"}});}</script>\n",
              "                <script type=\"text/javascript\">window.PlotlyConfig = {MathJaxConfig: 'local'};</script>\n",
              "        <script src=\"https://cdn.plot.ly/plotly-latest.min.js\"></script>    \n",
              "            <div id=\"8ad50b07-f7fe-40c3-a106-39b63aa39bb1\" class=\"plotly-graph-div\" style=\"height:525px; width:100%;\"></div>\n",
              "            <script type=\"text/javascript\">\n",
              "                \n",
              "                    window.PLOTLYENV=window.PLOTLYENV || {};\n",
              "                    \n",
              "                if (document.getElementById(\"8ad50b07-f7fe-40c3-a106-39b63aa39bb1\")) {\n",
              "                    Plotly.newPlot(\n",
              "                        '8ad50b07-f7fe-40c3-a106-39b63aa39bb1',\n",
              "                        [{\"line\": {\"width\": 1}, \"mode\": \"lines+markers\", \"name\": \"Confirmed cases\", \"type\": \"scatter\", \"x\": [\"2020-03-02T00:00:00\", \"2020-03-06T00:00:00\", \"2020-03-07T00:00:00\", \"2020-03-08T00:00:00\", \"2020-03-09T00:00:00\", \"2020-03-10T00:00:00\", \"2020-03-11T00:00:00\", \"2020-03-12T00:00:00\", \"2020-03-13T00:00:00\", \"2020-03-14T00:00:00\", \"2020-03-15T00:00:00\", \"2020-03-16T00:00:00\", \"2020-03-17T00:00:00\", \"2020-03-18T00:00:00\", \"2020-03-19T00:00:00\", \"2020-03-20T00:00:00\", \"2020-03-21T00:00:00\", \"2020-03-22T00:00:00\", \"2020-03-23T00:00:00\", \"2020-03-24T00:00:00\", \"2020-03-25T00:00:00\", \"2020-03-26T00:00:00\", \"2020-03-27T00:00:00\", \"2020-03-28T00:00:00\", \"2020-03-29T00:00:00\", \"2020-03-30T00:00:00\", \"2020-03-31T00:00:00\", \"2020-04-01T00:00:00\", \"2020-04-02T00:00:00\", \"2020-04-03T00:00:00\", \"2020-04-04T00:00:00\", \"2020-04-05T00:00:00\", \"2020-04-06T00:00:00\", \"2020-04-07T00:00:00\", \"2020-04-08T00:00:00\", \"2020-04-09T00:00:00\", \"2020-04-10T00:00:00\", \"2020-04-11T00:00:00\", \"2020-04-12T00:00:00\", \"2020-04-13T00:00:00\", \"2020-04-14T00:00:00\", \"2020-04-15T00:00:00\", \"2020-04-16T00:00:00\", \"2020-04-17T00:00:00\", \"2020-04-18T00:00:00\", \"2020-04-19T00:00:00\", \"2020-04-20T00:00:00\", \"2020-04-21T00:00:00\", \"2020-04-22T00:00:00\", \"2020-04-23T00:00:00\", \"2020-04-24T00:00:00\", \"2020-04-25T00:00:00\", \"2020-04-26T00:00:00\", \"2020-04-27T00:00:00\", \"2020-04-28T00:00:00\", \"2020-04-29T00:00:00\", \"2020-04-30T00:00:00\", \"2020-05-01T00:00:00\", \"2020-05-02T00:00:00\", \"2020-05-03T00:00:00\", \"2020-05-04T00:00:00\", \"2020-05-05T00:00:00\", \"2020-05-06T00:00:00\", \"2020-05-07T00:00:00\", \"2020-05-08T00:00:00\", \"2020-05-09T00:00:00\", \"2020-05-10T00:00:00\", \"2020-05-11T00:00:00\", \"2020-05-12T00:00:00\", \"2020-05-13T00:00:00\", \"2020-05-14T00:00:00\", \"2020-05-15T00:00:00\", \"2020-05-16T00:00:00\", \"2020-05-17T00:00:00\", \"2020-05-18T00:00:00\", \"2020-05-19T00:00:00\", \"2020-05-20T00:00:00\", \"2020-05-21T00:00:00\", \"2020-05-22T00:00:00\", \"2020-05-23T00:00:00\", \"2020-05-24T00:00:00\", \"2020-05-25T00:00:00\", \"2020-05-26T00:00:00\", \"2020-05-27T00:00:00\", \"2020-05-28T00:00:00\", \"2020-05-29T00:00:00\", \"2020-05-30T00:00:00\", \"2020-05-31T00:00:00\", \"2020-06-01T00:00:00\", \"2020-06-02T00:00:00\", \"2020-06-03T00:00:00\", \"2020-06-04T00:00:00\", \"2020-06-05T00:00:00\", \"2020-06-06T00:00:00\", \"2020-06-07T00:00:00\", \"2020-06-08T00:00:00\", \"2020-06-09T00:00:00\", \"2020-06-10T00:00:00\", \"2020-06-11T00:00:00\", \"2020-06-12T00:00:00\", \"2020-06-13T00:00:00\", \"2020-06-14T00:00:00\", \"2020-06-15T00:00:00\", \"2020-06-16T00:00:00\", \"2020-06-17T00:00:00\", \"2020-06-18T00:00:00\", \"2020-06-19T00:00:00\", \"2020-06-20T00:00:00\", \"2020-06-21T00:00:00\", \"2020-06-22T00:00:00\", \"2020-06-23T00:00:00\", \"2020-06-24T00:00:00\", \"2020-06-25T00:00:00\", \"2020-06-26T00:00:00\", \"2020-06-27T00:00:00\", \"2020-06-28T00:00:00\", \"2020-06-29T00:00:00\", \"2020-06-30T00:00:00\"], \"y\": [1, 2, 3, 5, 8, 12, 20, 31, 44, 64, 83, 112, 154, 198, 267, 345, 424, 505, 599, 740, 903, 1062, 1221, 1387, 1525, 1719, 1910, 2105, 2271, 2456, 2615, 2715, 2864, 3017, 3142, 3282, 3403, 3652, 3808, 3991, 4226, 4390, 4643, 4819, 5021, 5240, 5452, 5670, 5913, 6210, 6513, 6818, 7069, 7473, 7982, 8350, 8821, 9279, 9740, 10130, 10631, 11409, 12142, 12887, 13827, 14560, 15013, 15726, 16538, 17368, 18419, 19380, 20275, 21105, 22284, 23426, 24757, 26070, 27459, 28867, 29760, 30911, 32372, 33715, 35086, 36465, 37750, 38773, 40477, 42080, 43925, 45660, 47616, 49368, 50778, 53226, 55510, 58158, 60908, 63572, 65774, 67257, 68943, 72198, 75510, 78867, 82113, 84711, 86617, 88458, 91474, 93735, 95455, 96831, 97500, 97677, 97840, 97846]}, {\"line\": {\"dash\": \"dash\"}, \"name\": \"Projection\", \"type\": \"scatter\", \"x\": [\"2020-03-02T00:00:00\", \"2020-03-03T00:00:00\", \"2020-03-04T00:00:00\", \"2020-03-05T00:00:00\", \"2020-03-06T00:00:00\", \"2020-03-07T00:00:00\", \"2020-03-08T00:00:00\", \"2020-03-09T00:00:00\", \"2020-03-10T00:00:00\", \"2020-03-11T00:00:00\", \"2020-03-12T00:00:00\", \"2020-03-13T00:00:00\", \"2020-03-14T00:00:00\", \"2020-03-15T00:00:00\", \"2020-03-16T00:00:00\", \"2020-03-17T00:00:00\", \"2020-03-18T00:00:00\", \"2020-03-19T00:00:00\", \"2020-03-20T00:00:00\", \"2020-03-21T00:00:00\", \"2020-03-22T00:00:00\", \"2020-03-23T00:00:00\", \"2020-03-24T00:00:00\", \"2020-03-25T00:00:00\", \"2020-03-26T00:00:00\", \"2020-03-27T00:00:00\", \"2020-03-28T00:00:00\", \"2020-03-29T00:00:00\", \"2020-03-30T00:00:00\", \"2020-03-31T00:00:00\", \"2020-04-01T00:00:00\", \"2020-04-02T00:00:00\", \"2020-04-03T00:00:00\", \"2020-04-04T00:00:00\", \"2020-04-05T00:00:00\", \"2020-04-06T00:00:00\", \"2020-04-07T00:00:00\", \"2020-04-08T00:00:00\", \"2020-04-09T00:00:00\", \"2020-04-10T00:00:00\", \"2020-04-11T00:00:00\", \"2020-04-12T00:00:00\", \"2020-04-13T00:00:00\", \"2020-04-14T00:00:00\", \"2020-04-15T00:00:00\", \"2020-04-16T00:00:00\", \"2020-04-17T00:00:00\", \"2020-04-18T00:00:00\", \"2020-04-19T00:00:00\", \"2020-04-20T00:00:00\", \"2020-04-21T00:00:00\", \"2020-04-22T00:00:00\", \"2020-04-23T00:00:00\", \"2020-04-24T00:00:00\", \"2020-04-25T00:00:00\", \"2020-04-26T00:00:00\", \"2020-04-27T00:00:00\", \"2020-04-28T00:00:00\", \"2020-04-29T00:00:00\", \"2020-04-30T00:00:00\", \"2020-05-01T00:00:00\", \"2020-05-02T00:00:00\", \"2020-05-03T00:00:00\", \"2020-05-04T00:00:00\", \"2020-05-05T00:00:00\", \"2020-05-06T00:00:00\", \"2020-05-07T00:00:00\", \"2020-05-08T00:00:00\", \"2020-05-09T00:00:00\", \"2020-05-10T00:00:00\", \"2020-05-11T00:00:00\", \"2020-05-12T00:00:00\", \"2020-05-13T00:00:00\", \"2020-05-14T00:00:00\", \"2020-05-15T00:00:00\", \"2020-05-16T00:00:00\", \"2020-05-17T00:00:00\", \"2020-05-18T00:00:00\", \"2020-05-19T00:00:00\", \"2020-05-20T00:00:00\", \"2020-05-21T00:00:00\", \"2020-05-22T00:00:00\", \"2020-05-23T00:00:00\", \"2020-05-24T00:00:00\", \"2020-05-25T00:00:00\", \"2020-05-26T00:00:00\", \"2020-05-27T00:00:00\", \"2020-05-28T00:00:00\", \"2020-05-29T00:00:00\", \"2020-05-30T00:00:00\", \"2020-05-31T00:00:00\", \"2020-06-01T00:00:00\", \"2020-06-02T00:00:00\", \"2020-06-03T00:00:00\", \"2020-06-04T00:00:00\", \"2020-06-05T00:00:00\", \"2020-06-06T00:00:00\", \"2020-06-07T00:00:00\", \"2020-06-08T00:00:00\", \"2020-06-09T00:00:00\", \"2020-06-10T00:00:00\", \"2020-06-11T00:00:00\", \"2020-06-12T00:00:00\", \"2020-06-13T00:00:00\", \"2020-06-14T00:00:00\", \"2020-06-15T00:00:00\", \"2020-06-16T00:00:00\", \"2020-06-17T00:00:00\", \"2020-06-18T00:00:00\", \"2020-06-19T00:00:00\", \"2020-06-20T00:00:00\", \"2020-06-21T00:00:00\", \"2020-06-22T00:00:00\", \"2020-06-23T00:00:00\", \"2020-06-24T00:00:00\", \"2020-06-25T00:00:00\", \"2020-06-26T00:00:00\", \"2020-06-27T00:00:00\", \"2020-06-28T00:00:00\", \"2020-06-29T00:00:00\", \"2020-06-30T00:00:00\", \"2020-07-01T00:00:00\", \"2020-07-02T00:00:00\", \"2020-07-03T00:00:00\", \"2020-07-04T00:00:00\", \"2020-07-05T00:00:00\", \"2020-07-06T00:00:00\", \"2020-07-07T00:00:00\", \"2020-07-08T00:00:00\", \"2020-07-09T00:00:00\", \"2020-07-10T00:00:00\", \"2020-07-11T00:00:00\", \"2020-07-12T00:00:00\", \"2020-07-13T00:00:00\", \"2020-07-14T00:00:00\", \"2020-07-15T00:00:00\", \"2020-07-16T00:00:00\", \"2020-07-17T00:00:00\", \"2020-07-18T00:00:00\", \"2020-07-19T00:00:00\", \"2020-07-20T00:00:00\", \"2020-07-21T00:00:00\", \"2020-07-22T00:00:00\", \"2020-07-23T00:00:00\", \"2020-07-24T00:00:00\", \"2020-07-25T00:00:00\", \"2020-07-26T00:00:00\", \"2020-07-27T00:00:00\", \"2020-07-28T00:00:00\", \"2020-07-29T00:00:00\", \"2020-07-30T00:00:00\", \"2020-07-31T00:00:00\", \"2020-08-01T00:00:00\", \"2020-08-02T00:00:00\", \"2020-08-03T00:00:00\", \"2020-08-04T00:00:00\", \"2020-08-05T00:00:00\", \"2020-08-06T00:00:00\", \"2020-08-07T00:00:00\", \"2020-08-08T00:00:00\", \"2020-08-09T00:00:00\", \"2020-08-10T00:00:00\", \"2020-08-11T00:00:00\", \"2020-08-12T00:00:00\", \"2020-08-13T00:00:00\", \"2020-08-14T00:00:00\", \"2020-08-15T00:00:00\", \"2020-08-16T00:00:00\", \"2020-08-17T00:00:00\", \"2020-08-18T00:00:00\", \"2020-08-19T00:00:00\", \"2020-08-20T00:00:00\", \"2020-08-21T00:00:00\", \"2020-08-22T00:00:00\", \"2020-08-23T00:00:00\", \"2020-08-24T00:00:00\", \"2020-08-25T00:00:00\", \"2020-08-26T00:00:00\", \"2020-08-27T00:00:00\", \"2020-08-28T00:00:00\", \"2020-08-29T00:00:00\", \"2020-08-30T00:00:00\", \"2020-08-31T00:00:00\", \"2020-09-01T00:00:00\", \"2020-09-02T00:00:00\", \"2020-09-03T00:00:00\", \"2020-09-04T00:00:00\", \"2020-09-05T00:00:00\", \"2020-09-06T00:00:00\", \"2020-09-07T00:00:00\", \"2020-09-08T00:00:00\", \"2020-09-09T00:00:00\", \"2020-09-10T00:00:00\", \"2020-09-11T00:00:00\", \"2020-09-12T00:00:00\", \"2020-09-13T00:00:00\", \"2020-09-14T00:00:00\", \"2020-09-15T00:00:00\", \"2020-09-16T00:00:00\", \"2020-09-17T00:00:00\", \"2020-09-18T00:00:00\", \"2020-09-19T00:00:00\", \"2020-09-20T00:00:00\", \"2020-09-21T00:00:00\", \"2020-09-22T00:00:00\", \"2020-09-23T00:00:00\", \"2020-09-24T00:00:00\", \"2020-09-25T00:00:00\", \"2020-09-26T00:00:00\", \"2020-09-27T00:00:00\", \"2020-09-28T00:00:00\", \"2020-09-29T00:00:00\", \"2020-09-30T00:00:00\", \"2020-10-01T00:00:00\", \"2020-10-02T00:00:00\", \"2020-10-03T00:00:00\", \"2020-10-04T00:00:00\", \"2020-10-05T00:00:00\", \"2020-10-06T00:00:00\", \"2020-10-07T00:00:00\", \"2020-10-08T00:00:00\", \"2020-10-09T00:00:00\", \"2020-10-10T00:00:00\", \"2020-10-11T00:00:00\", \"2020-10-12T00:00:00\", \"2020-10-13T00:00:00\", \"2020-10-14T00:00:00\", \"2020-10-15T00:00:00\", \"2020-10-16T00:00:00\", \"2020-10-17T00:00:00\", \"2020-10-18T00:00:00\", \"2020-10-19T00:00:00\", \"2020-10-20T00:00:00\", \"2020-10-21T00:00:00\", \"2020-10-22T00:00:00\", \"2020-10-23T00:00:00\", \"2020-10-24T00:00:00\", \"2020-10-25T00:00:00\", \"2020-10-26T00:00:00\", \"2020-10-27T00:00:00\", \"2020-10-28T00:00:00\", \"2020-10-29T00:00:00\", \"2020-10-30T00:00:00\", \"2020-10-31T00:00:00\", \"2020-11-01T00:00:00\", \"2020-11-02T00:00:00\", \"2020-11-03T00:00:00\", \"2020-11-04T00:00:00\", \"2020-11-05T00:00:00\", \"2020-11-06T00:00:00\", \"2020-11-07T00:00:00\", \"2020-11-08T00:00:00\", \"2020-11-09T00:00:00\", \"2020-11-10T00:00:00\", \"2020-11-11T00:00:00\", \"2020-11-12T00:00:00\", \"2020-11-13T00:00:00\", \"2020-11-14T00:00:00\", \"2020-11-15T00:00:00\", \"2020-11-16T00:00:00\", \"2020-11-17T00:00:00\", \"2020-11-18T00:00:00\", \"2020-11-19T00:00:00\", \"2020-11-20T00:00:00\", \"2020-11-21T00:00:00\", \"2020-11-22T00:00:00\", \"2020-11-23T00:00:00\", \"2020-11-24T00:00:00\", \"2020-11-25T00:00:00\", \"2020-11-26T00:00:00\", \"2020-11-27T00:00:00\", \"2020-11-28T00:00:00\", \"2020-11-29T00:00:00\", \"2020-11-30T00:00:00\", \"2020-12-01T00:00:00\", \"2020-12-02T00:00:00\", \"2020-12-03T00:00:00\", \"2020-12-04T00:00:00\", \"2020-12-05T00:00:00\", \"2020-12-06T00:00:00\", \"2020-12-07T00:00:00\", \"2020-12-08T00:00:00\", \"2020-12-09T00:00:00\", \"2020-12-10T00:00:00\", \"2020-12-11T00:00:00\", \"2020-12-12T00:00:00\", \"2020-12-13T00:00:00\", \"2020-12-14T00:00:00\", \"2020-12-15T00:00:00\", \"2020-12-16T00:00:00\", \"2020-12-17T00:00:00\", \"2020-12-18T00:00:00\", \"2020-12-19T00:00:00\", \"2020-12-20T00:00:00\", \"2020-12-21T00:00:00\", \"2020-12-22T00:00:00\", \"2020-12-23T00:00:00\", \"2020-12-24T00:00:00\", \"2020-12-25T00:00:00\", \"2020-12-26T00:00:00\", \"2020-12-27T00:00:00\", \"2020-12-28T00:00:00\", \"2020-12-29T00:00:00\", \"2020-12-30T00:00:00\", \"2020-12-31T00:00:00\", \"2021-01-01T00:00:00\", \"2021-01-02T00:00:00\", \"2021-01-03T00:00:00\", \"2021-01-04T00:00:00\", \"2021-01-05T00:00:00\", \"2021-01-06T00:00:00\", \"2021-01-07T00:00:00\", \"2021-01-08T00:00:00\", \"2021-01-09T00:00:00\", \"2021-01-10T00:00:00\", \"2021-01-11T00:00:00\", \"2021-01-12T00:00:00\", \"2021-01-13T00:00:00\", \"2021-01-14T00:00:00\", \"2021-01-15T00:00:00\", \"2021-01-16T00:00:00\", \"2021-01-17T00:00:00\", \"2021-01-18T00:00:00\", \"2021-01-19T00:00:00\", \"2021-01-20T00:00:00\", \"2021-01-21T00:00:00\", \"2021-01-22T00:00:00\", \"2021-01-23T00:00:00\", \"2021-01-24T00:00:00\", \"2021-01-25T00:00:00\", \"2021-01-26T00:00:00\", \"2021-01-27T00:00:00\", \"2021-01-28T00:00:00\", \"2021-01-29T00:00:00\", \"2021-01-30T00:00:00\", \"2021-01-31T00:00:00\", \"2021-02-01T00:00:00\", \"2021-02-02T00:00:00\", \"2021-02-03T00:00:00\"], \"y\": [-1045.3886330487694, -827.8295441862236, -624.2935864946521, -434.08227105974333, -256.4971089671858, -90.83961130266778, 63.58871084812199, 207.48634639949523, 341.5517842657637, 466.4835133612387, 582.9800226002319, 691.7398008970542, 793.4613371660182, 888.8431203214352, 978.5836392776159, 1063.3813829488731, 1143.934840249518, 1220.9425000938613, 1295.1028513962156, 1367.1143830708916, 1437.6755840322016, 1507.4849431944563, 1577.2409494719677, 1647.6420917790488, 1719.3868590300085, 1793.1737401391597, 1869.7012240208146, 1949.6677995892833, 2033.771955758878, 2122.7121814439115, 2217.1869655586934, 2317.894797017537, 2425.5341647347514, 2540.80355762465, 2664.401464601545, 2797.026374579746, 2939.3767764735667, 3092.151159197316, 3256.048011665307, 3431.765822791852, 3620.0030814912625, 3821.4582766778485, 4036.829897265922, 4266.816432169795, 4512.116370303778, 4773.428200582185, 5051.450411919327, 5346.881493229513, 5660.419933427056, 5992.764221426268, 6344.61284614146, 6716.664296486945, 7109.617061377034, 7524.169629726037, 7961.020490448263, 8420.86813245803, 8904.411044669647, 9412.347715997426, 9945.376635355678, 10504.196291658713, 11089.505173820842, 11702.00177075638, 12342.38457137964, 13011.352064604926, 13709.602739346556, 14437.83508451884, 15196.747589036087, 15987.038741812612, 16809.407031762723, 17664.55094780074, 18553.168978840964, 19475.95961379771, 20433.621341585294, 21426.85265111802, 22456.352031310205, 23522.81797107616, 24626.948959330195, 25769.443484986623, 26951.00003695975, 28172.3171041639, 29434.093175513375, 30737.026739922487, 32081.81628630555, 33469.16030357688, 34899.75728065077, 36374.30570644155, 37893.50406986353, 39458.05085983101, 41068.64456525832, 42725.98367505976, 44430.76667814964, 46183.69206344227, 47985.45831985197, 49836.763936293035, 51738.30740167979, 53690.78720492656, 55694.90183494764, 57751.34978065733, 59860.829530969975, 62024.039574799855, 64241.67840106129, 66514.44449866858, 68843.03635653609, 71228.15246357807, 73670.49130870885, 76170.75138084275, 78729.63116889408, 81347.82916177715, 84026.04384840626, 86764.97371769574, 89565.3172585599, 92427.77295991304, 95353.03931066947, 98341.81479974352, 101394.79791604947, 104512.68714850167, 107696.18098601441, 110945.977917502, 114262.77643187875, 117647.27501805898, 121100.17216495701, 124622.16636148714, 128213.95609656366, 131876.23985910093, 135609.71613801323, 139415.08342221487, 143293.04020062016, 147244.28496214343, 151269.516195699, 155369.43239020114, 159544.7320345642, 163796.11361770245, 168124.27562853025, 172529.91655596189, 177013.73488891165, 181576.4291162939, 186218.69772702293, 190941.23921001304, 195744.75205417853, 200629.93474843376, 205597.485781693, 210648.10364287053, 215782.48682088073, 221001.3338046379, 226305.34308305633, 231695.21314505034, 237171.64247953423, 242735.32957542234, 248386.97292162894, 254127.27100706837, 259956.92232065494, 265876.62535130297, 271887.07858792675, 277988.9805194406, 284183.02963475883, 290469.9244227957, 296850.36337246565, 303325.0449726829, 309894.6677123618, 316559.93008041655, 323321.5305657616, 330180.16765731125, 337136.53984397976, 344191.3456146814, 351345.2834583306, 358599.0518638416, 365953.34932012873, 373408.87431610626, 380966.3253406886, 388626.4008827899, 396286.47642489127, 403843.9274494736, 411299.4524454511, 418653.74990173825, 425907.51830724924, 433061.4561508984, 440116.2619216001, 447072.6341082686, 453931.27119981823, 460692.8716851633, 467358.13405321806, 473927.75679289695, 480402.4383931142, 486782.87734278414, 493069.772130821, 499263.82124613924, 505365.7231776531, 511376.1764142769, 517295.8794449249, 523125.5307585115, 528865.8288439509, 534517.4721901575, 540081.1592860456, 545557.5886205295, 550947.4586825236, 556251.467960942, 561470.3149446992, 566604.6981227093, 571655.3159838868, 576622.8670171461, 581508.0497114013, 586311.5625555668, 591034.1040385569, 595676.372649286, 600239.0668766683, 604722.8852096179, 609128.5261370495, 613456.6881478773, 617708.0697310157, 621883.3693753787, 625983.2855698809, 630008.5168034364, 633959.7615649597, 637837.718343365, 641643.0856275666, 645376.561906479, 649038.8456690162, 652630.6354040927, 656152.6296006228, 659605.5267475209, 662990.025333701, 666306.8238480778, 669556.6207795654, 672740.1146170782, 675858.0038495304, 678910.9869658364, 681899.7624549104, 684825.0288056668, 687687.48450702, 690487.8280478842, 693226.7579171736, 695904.9726038027, 698523.1705966857, 701082.0503847371, 703582.310456871, 706024.6493020018, 708409.7654090438, 710738.3572669113, 713011.1233645185, 715228.76219078, 717391.9722346099, 719501.4519849225, 721557.8999306322, 723562.0145606532, 725514.4943639, 727416.0378292868, 729267.3434457278, 731069.1097021375, 732822.0350874302, 734526.8180905201, 736184.1572003216, 737794.7509057488, 739359.2976957164, 740878.4960591383, 742353.0444849291, 743783.641462003, 745170.9854792743, 746515.7750256574, 747818.7085900665, 749080.4846614159, 750301.8017286201, 751483.3582805932, 752625.8528062496, 753729.9837945037, 754796.4497342696, 755825.9491144618, 756819.1804239945, 757776.8421517821, 758699.6327867389, 759588.2508177791, 760443.3947338171, 761265.7630237673, 762056.0541765437, 762814.966681061, 763543.1990262333, 764241.449700975, 764910.4171942002, 765550.7999948235, 766163.296591759, 766748.6054739212, 767307.4251302242, 767840.4540495825, 768348.3907209102, 768831.9336331218, 769291.7812751316, 769728.6321358538, 770143.1847042028, 770536.1374690928, 770908.1889194384, 771260.0375441536, 771592.3818321528, 771905.9202723503, 772201.3513536606, 772479.3735649977, 772740.685395276, 772985.9853334101, 773215.971868314, 773431.343488902, 773632.7986840886, 773821.035942788, 773996.7537539145, 774160.6506063825, 774313.4249891062, 774455.7753910001, 774588.4003009783, 774711.9982079552, 774827.2676008451, 774934.9069685623, 775035.6148000212, 775130.0895841359, 775219.0298098209, 775303.1339659905, 775383.100541559, 775459.6280254407, 775533.4149065498, 775605.1596738008, 775675.5608161079, 775745.3168223854, 775815.1261815476, 775885.687382509, 775957.6989141837, 776031.859265486, 776108.8669253304, 776189.420382631, 776274.2181263022, 776363.9586452584, 776459.3404284138, 776561.0619646828, 776669.8217429796, 776786.3182522187, 776911.2499813141, 777045.3154191803, 777189.2130547317, 777343.6413768826, 777509.298874547, 777686.8840366396, 777877.0953520745, 778080.6313097661, 778298.1903986286]}],\n",
              "                        {\"template\": {\"data\": {\"bar\": [{\"error_x\": {\"color\": \"#2a3f5f\"}, \"error_y\": {\"color\": \"#2a3f5f\"}, \"marker\": {\"line\": {\"color\": \"#E5ECF6\", \"width\": 0.5}}, \"type\": \"bar\"}], \"barpolar\": [{\"marker\": {\"line\": {\"color\": \"#E5ECF6\", \"width\": 0.5}}, \"type\": \"barpolar\"}], \"carpet\": [{\"aaxis\": {\"endlinecolor\": \"#2a3f5f\", \"gridcolor\": \"white\", \"linecolor\": \"white\", \"minorgridcolor\": \"white\", \"startlinecolor\": \"#2a3f5f\"}, \"baxis\": {\"endlinecolor\": \"#2a3f5f\", \"gridcolor\": \"white\", \"linecolor\": \"white\", \"minorgridcolor\": \"white\", \"startlinecolor\": \"#2a3f5f\"}, \"type\": \"carpet\"}], \"choropleth\": [{\"colorbar\": {\"outlinewidth\": 0, \"ticks\": \"\"}, \"type\": \"choropleth\"}], \"contour\": [{\"colorbar\": {\"outlinewidth\": 0, \"ticks\": \"\"}, \"colorscale\": [[0.0, \"#0d0887\"], [0.1111111111111111, \"#46039f\"], [0.2222222222222222, \"#7201a8\"], [0.3333333333333333, \"#9c179e\"], [0.4444444444444444, \"#bd3786\"], [0.5555555555555556, \"#d8576b\"], [0.6666666666666666, \"#ed7953\"], [0.7777777777777778, \"#fb9f3a\"], [0.8888888888888888, \"#fdca26\"], [1.0, \"#f0f921\"]], \"type\": \"contour\"}], \"contourcarpet\": [{\"colorbar\": {\"outlinewidth\": 0, \"ticks\": \"\"}, \"type\": \"contourcarpet\"}], \"heatmap\": [{\"colorbar\": {\"outlinewidth\": 0, \"ticks\": \"\"}, \"colorscale\": [[0.0, \"#0d0887\"], [0.1111111111111111, \"#46039f\"], [0.2222222222222222, \"#7201a8\"], [0.3333333333333333, \"#9c179e\"], [0.4444444444444444, \"#bd3786\"], [0.5555555555555556, \"#d8576b\"], [0.6666666666666666, \"#ed7953\"], [0.7777777777777778, \"#fb9f3a\"], [0.8888888888888888, \"#fdca26\"], [1.0, \"#f0f921\"]], \"type\": \"heatmap\"}], \"heatmapgl\": [{\"colorbar\": {\"outlinewidth\": 0, \"ticks\": \"\"}, \"colorscale\": [[0.0, \"#0d0887\"], [0.1111111111111111, \"#46039f\"], [0.2222222222222222, \"#7201a8\"], [0.3333333333333333, \"#9c179e\"], [0.4444444444444444, \"#bd3786\"], [0.5555555555555556, \"#d8576b\"], [0.6666666666666666, \"#ed7953\"], [0.7777777777777778, \"#fb9f3a\"], [0.8888888888888888, \"#fdca26\"], [1.0, \"#f0f921\"]], \"type\": \"heatmapgl\"}], \"histogram\": [{\"marker\": {\"colorbar\": {\"outlinewidth\": 0, \"ticks\": \"\"}}, \"type\": \"histogram\"}], \"histogram2d\": [{\"colorbar\": {\"outlinewidth\": 0, \"ticks\": \"\"}, \"colorscale\": [[0.0, \"#0d0887\"], [0.1111111111111111, \"#46039f\"], [0.2222222222222222, \"#7201a8\"], [0.3333333333333333, \"#9c179e\"], [0.4444444444444444, \"#bd3786\"], [0.5555555555555556, \"#d8576b\"], [0.6666666666666666, \"#ed7953\"], [0.7777777777777778, \"#fb9f3a\"], [0.8888888888888888, \"#fdca26\"], [1.0, \"#f0f921\"]], \"type\": \"histogram2d\"}], \"histogram2dcontour\": [{\"colorbar\": {\"outlinewidth\": 0, \"ticks\": \"\"}, \"colorscale\": [[0.0, \"#0d0887\"], [0.1111111111111111, \"#46039f\"], [0.2222222222222222, \"#7201a8\"], [0.3333333333333333, \"#9c179e\"], [0.4444444444444444, \"#bd3786\"], [0.5555555555555556, \"#d8576b\"], [0.6666666666666666, \"#ed7953\"], [0.7777777777777778, \"#fb9f3a\"], [0.8888888888888888, \"#fdca26\"], [1.0, \"#f0f921\"]], \"type\": \"histogram2dcontour\"}], \"mesh3d\": [{\"colorbar\": {\"outlinewidth\": 0, \"ticks\": \"\"}, \"type\": \"mesh3d\"}], \"parcoords\": [{\"line\": {\"colorbar\": {\"outlinewidth\": 0, \"ticks\": \"\"}}, \"type\": \"parcoords\"}], \"pie\": [{\"automargin\": true, \"type\": \"pie\"}], \"scatter\": [{\"marker\": {\"colorbar\": {\"outlinewidth\": 0, \"ticks\": \"\"}}, \"type\": \"scatter\"}], \"scatter3d\": [{\"line\": {\"colorbar\": {\"outlinewidth\": 0, \"ticks\": \"\"}}, \"marker\": {\"colorbar\": {\"outlinewidth\": 0, \"ticks\": \"\"}}, \"type\": \"scatter3d\"}], \"scattercarpet\": [{\"marker\": {\"colorbar\": {\"outlinewidth\": 0, \"ticks\": \"\"}}, \"type\": \"scattercarpet\"}], \"scattergeo\": [{\"marker\": {\"colorbar\": {\"outlinewidth\": 0, \"ticks\": \"\"}}, \"type\": \"scattergeo\"}], \"scattergl\": [{\"marker\": {\"colorbar\": {\"outlinewidth\": 0, \"ticks\": \"\"}}, \"type\": \"scattergl\"}], \"scattermapbox\": [{\"marker\": {\"colorbar\": {\"outlinewidth\": 0, \"ticks\": \"\"}}, \"type\": \"scattermapbox\"}], \"scatterpolar\": [{\"marker\": {\"colorbar\": {\"outlinewidth\": 0, \"ticks\": \"\"}}, \"type\": \"scatterpolar\"}], \"scatterpolargl\": [{\"marker\": {\"colorbar\": {\"outlinewidth\": 0, \"ticks\": \"\"}}, \"type\": \"scatterpolargl\"}], \"scatterternary\": [{\"marker\": {\"colorbar\": {\"outlinewidth\": 0, \"ticks\": \"\"}}, \"type\": \"scatterternary\"}], \"surface\": [{\"colorbar\": {\"outlinewidth\": 0, \"ticks\": \"\"}, \"colorscale\": [[0.0, \"#0d0887\"], [0.1111111111111111, \"#46039f\"], [0.2222222222222222, \"#7201a8\"], [0.3333333333333333, \"#9c179e\"], [0.4444444444444444, \"#bd3786\"], [0.5555555555555556, \"#d8576b\"], [0.6666666666666666, \"#ed7953\"], [0.7777777777777778, \"#fb9f3a\"], [0.8888888888888888, \"#fdca26\"], [1.0, \"#f0f921\"]], \"type\": \"surface\"}], \"table\": [{\"cells\": {\"fill\": {\"color\": \"#EBF0F8\"}, \"line\": {\"color\": \"white\"}}, \"header\": {\"fill\": {\"color\": \"#C8D4E3\"}, \"line\": {\"color\": \"white\"}}, \"type\": \"table\"}]}, \"layout\": {\"annotationdefaults\": {\"arrowcolor\": \"#2a3f5f\", \"arrowhead\": 0, \"arrowwidth\": 1}, \"coloraxis\": {\"colorbar\": {\"outlinewidth\": 0, \"ticks\": \"\"}}, \"colorscale\": {\"diverging\": [[0, \"#8e0152\"], [0.1, \"#c51b7d\"], [0.2, \"#de77ae\"], [0.3, \"#f1b6da\"], [0.4, \"#fde0ef\"], [0.5, \"#f7f7f7\"], [0.6, \"#e6f5d0\"], [0.7, \"#b8e186\"], [0.8, \"#7fbc41\"], [0.9, \"#4d9221\"], [1, \"#276419\"]], \"sequential\": [[0.0, \"#0d0887\"], [0.1111111111111111, \"#46039f\"], [0.2222222222222222, \"#7201a8\"], [0.3333333333333333, \"#9c179e\"], [0.4444444444444444, \"#bd3786\"], [0.5555555555555556, \"#d8576b\"], [0.6666666666666666, \"#ed7953\"], [0.7777777777777778, \"#fb9f3a\"], [0.8888888888888888, \"#fdca26\"], [1.0, \"#f0f921\"]], \"sequentialminus\": [[0.0, \"#0d0887\"], [0.1111111111111111, \"#46039f\"], [0.2222222222222222, \"#7201a8\"], [0.3333333333333333, \"#9c179e\"], [0.4444444444444444, \"#bd3786\"], [0.5555555555555556, \"#d8576b\"], [0.6666666666666666, \"#ed7953\"], [0.7777777777777778, \"#fb9f3a\"], [0.8888888888888888, \"#fdca26\"], [1.0, \"#f0f921\"]]}, \"colorway\": [\"#636efa\", \"#EF553B\", \"#00cc96\", \"#ab63fa\", \"#FFA15A\", \"#19d3f3\", \"#FF6692\", \"#B6E880\", \"#FF97FF\", \"#FECB52\"], \"font\": {\"color\": \"#2a3f5f\"}, \"geo\": {\"bgcolor\": \"white\", \"lakecolor\": \"white\", \"landcolor\": \"#E5ECF6\", \"showlakes\": true, \"showland\": true, \"subunitcolor\": \"white\"}, \"hoverlabel\": {\"align\": \"left\"}, \"hovermode\": \"closest\", \"mapbox\": {\"style\": \"light\"}, \"paper_bgcolor\": \"white\", \"plot_bgcolor\": \"#E5ECF6\", \"polar\": {\"angularaxis\": {\"gridcolor\": \"white\", \"linecolor\": \"white\", \"ticks\": \"\"}, \"bgcolor\": \"#E5ECF6\", \"radialaxis\": {\"gridcolor\": \"white\", \"linecolor\": \"white\", \"ticks\": \"\"}}, \"scene\": {\"xaxis\": {\"backgroundcolor\": \"#E5ECF6\", \"gridcolor\": \"white\", \"gridwidth\": 2, \"linecolor\": \"white\", \"showbackground\": true, \"ticks\": \"\", \"zerolinecolor\": \"white\"}, \"yaxis\": {\"backgroundcolor\": \"#E5ECF6\", \"gridcolor\": \"white\", \"gridwidth\": 2, \"linecolor\": \"white\", \"showbackground\": true, \"ticks\": \"\", \"zerolinecolor\": \"white\"}, \"zaxis\": {\"backgroundcolor\": \"#E5ECF6\", \"gridcolor\": \"white\", \"gridwidth\": 2, \"linecolor\": \"white\", \"showbackground\": true, \"ticks\": \"\", \"zerolinecolor\": \"white\"}}, \"shapedefaults\": {\"line\": {\"color\": \"#2a3f5f\"}}, \"ternary\": {\"aaxis\": {\"gridcolor\": \"white\", \"linecolor\": \"white\", \"ticks\": \"\"}, \"baxis\": {\"gridcolor\": \"white\", \"linecolor\": \"white\", \"ticks\": \"\"}, \"bgcolor\": \"#E5ECF6\", \"caxis\": {\"gridcolor\": \"white\", \"linecolor\": \"white\", \"ticks\": \"\"}}, \"title\": {\"x\": 0.05}, \"xaxis\": {\"automargin\": true, \"gridcolor\": \"white\", \"linecolor\": \"white\", \"ticks\": \"\", \"title\": {\"standoff\": 15}, \"zerolinecolor\": \"white\", \"zerolinewidth\": 2}, \"yaxis\": {\"automargin\": true, \"gridcolor\": \"white\", \"linecolor\": \"white\", \"ticks\": \"\", \"title\": {\"standoff\": 15}, \"zerolinecolor\": \"white\", \"zerolinewidth\": 2}}}, \"title\": {\"text\": \"Confirmed cases vs Predictions\"}},\n",
              "                        {\"responsive\": true}\n",
              "                    ).then(function(){\n",
              "                            \n",
              "var gd = document.getElementById('8ad50b07-f7fe-40c3-a106-39b63aa39bb1');\n",
              "var x = new MutationObserver(function (mutations, observer) {{\n",
              "        var display = window.getComputedStyle(gd).display;\n",
              "        if (!display || display === 'none') {{\n",
              "            console.log([gd, 'removed!']);\n",
              "            Plotly.purge(gd);\n",
              "            observer.disconnect();\n",
              "        }}\n",
              "}});\n",
              "\n",
              "// Listen for the removal of the full notebook cells\n",
              "var notebookContainer = gd.closest('#notebook-container');\n",
              "if (notebookContainer) {{\n",
              "    x.observe(notebookContainer, {childList: true});\n",
              "}}\n",
              "\n",
              "// Listen for the clearing of the current output cell\n",
              "var outputEl = gd.closest('.output');\n",
              "if (outputEl) {{\n",
              "    x.observe(outputEl, {childList: true});\n",
              "}}\n",
              "\n",
              "                        })\n",
              "                };\n",
              "                \n",
              "            </script>\n",
              "        </div>\n",
              "</body>\n",
              "</html>"
            ]
          },
          "metadata": {
            "tags": []
          }
        }
      ]
    },
    {
      "cell_type": "code",
      "metadata": {
        "id": "TqOFX3_cKdRL",
        "colab_type": "code",
        "colab": {
          "base_uri": "https://localhost:8080/",
          "height": 542
        },
        "outputId": "15b68df4-05fc-410c-80ca-700f2654de1e"
      },
      "source": [
        "fig = go.Figure()\n",
        "fig.add_trace(go.Scatter(x=cases_by_day['date'], y=cases_by_day['y'], mode='lines+markers', line=dict(width=1), name='Confirmed cases'))\n",
        "\n",
        "fig.update_layout(\n",
        "    title_text=\"Acumulado casos confirmados\"\n",
        ")\n",
        "\n",
        "fig.show()"
      ],
      "execution_count": null,
      "outputs": [
        {
          "output_type": "display_data",
          "data": {
            "text/html": [
              "<html>\n",
              "<head><meta charset=\"utf-8\" /></head>\n",
              "<body>\n",
              "    <div>\n",
              "            <script src=\"https://cdnjs.cloudflare.com/ajax/libs/mathjax/2.7.5/MathJax.js?config=TeX-AMS-MML_SVG\"></script><script type=\"text/javascript\">if (window.MathJax) {MathJax.Hub.Config({SVG: {font: \"STIX-Web\"}});}</script>\n",
              "                <script type=\"text/javascript\">window.PlotlyConfig = {MathJaxConfig: 'local'};</script>\n",
              "        <script src=\"https://cdn.plot.ly/plotly-latest.min.js\"></script>    \n",
              "            <div id=\"8f3e829b-6415-4b23-a319-fd13d787110b\" class=\"plotly-graph-div\" style=\"height:525px; width:100%;\"></div>\n",
              "            <script type=\"text/javascript\">\n",
              "                \n",
              "                    window.PLOTLYENV=window.PLOTLYENV || {};\n",
              "                    \n",
              "                if (document.getElementById(\"8f3e829b-6415-4b23-a319-fd13d787110b\")) {\n",
              "                    Plotly.newPlot(\n",
              "                        '8f3e829b-6415-4b23-a319-fd13d787110b',\n",
              "                        [{\"line\": {\"width\": 1}, \"mode\": \"lines+markers\", \"name\": \"Confirmed cases\", \"type\": \"scatter\", \"x\": [\"2020-03-02T00:00:00\", \"2020-03-06T00:00:00\", \"2020-03-07T00:00:00\", \"2020-03-08T00:00:00\", \"2020-03-09T00:00:00\", \"2020-03-10T00:00:00\", \"2020-03-11T00:00:00\", \"2020-03-12T00:00:00\", \"2020-03-13T00:00:00\", \"2020-03-14T00:00:00\", \"2020-03-15T00:00:00\", \"2020-03-16T00:00:00\", \"2020-03-17T00:00:00\", \"2020-03-18T00:00:00\", \"2020-03-19T00:00:00\", \"2020-03-20T00:00:00\", \"2020-03-21T00:00:00\", \"2020-03-22T00:00:00\", \"2020-03-23T00:00:00\", \"2020-03-24T00:00:00\", \"2020-03-25T00:00:00\", \"2020-03-26T00:00:00\", \"2020-03-27T00:00:00\", \"2020-03-28T00:00:00\", \"2020-03-29T00:00:00\", \"2020-03-30T00:00:00\", \"2020-03-31T00:00:00\", \"2020-04-01T00:00:00\", \"2020-04-02T00:00:00\", \"2020-04-03T00:00:00\", \"2020-04-04T00:00:00\", \"2020-04-05T00:00:00\", \"2020-04-06T00:00:00\", \"2020-04-07T00:00:00\", \"2020-04-08T00:00:00\", \"2020-04-09T00:00:00\", \"2020-04-10T00:00:00\", \"2020-04-11T00:00:00\", \"2020-04-12T00:00:00\", \"2020-04-13T00:00:00\", \"2020-04-14T00:00:00\", \"2020-04-15T00:00:00\", \"2020-04-16T00:00:00\", \"2020-04-17T00:00:00\", \"2020-04-18T00:00:00\", \"2020-04-19T00:00:00\", \"2020-04-20T00:00:00\", \"2020-04-21T00:00:00\", \"2020-04-22T00:00:00\", \"2020-04-23T00:00:00\", \"2020-04-24T00:00:00\", \"2020-04-25T00:00:00\", \"2020-04-26T00:00:00\", \"2020-04-27T00:00:00\", \"2020-04-28T00:00:00\", \"2020-04-29T00:00:00\", \"2020-04-30T00:00:00\", \"2020-05-01T00:00:00\", \"2020-05-02T00:00:00\", \"2020-05-03T00:00:00\", \"2020-05-04T00:00:00\", \"2020-05-05T00:00:00\", \"2020-05-06T00:00:00\", \"2020-05-07T00:00:00\", \"2020-05-08T00:00:00\", \"2020-05-09T00:00:00\", \"2020-05-10T00:00:00\", \"2020-05-11T00:00:00\", \"2020-05-12T00:00:00\", \"2020-05-13T00:00:00\", \"2020-05-14T00:00:00\", \"2020-05-15T00:00:00\", \"2020-05-16T00:00:00\", \"2020-05-17T00:00:00\", \"2020-05-18T00:00:00\", \"2020-05-19T00:00:00\", \"2020-05-20T00:00:00\", \"2020-05-21T00:00:00\", \"2020-05-22T00:00:00\", \"2020-05-23T00:00:00\", \"2020-05-24T00:00:00\", \"2020-05-25T00:00:00\", \"2020-05-26T00:00:00\", \"2020-05-27T00:00:00\", \"2020-05-28T00:00:00\", \"2020-05-29T00:00:00\", \"2020-05-30T00:00:00\", \"2020-05-31T00:00:00\", \"2020-06-01T00:00:00\", \"2020-06-02T00:00:00\", \"2020-06-03T00:00:00\", \"2020-06-04T00:00:00\", \"2020-06-05T00:00:00\", \"2020-06-06T00:00:00\", \"2020-06-07T00:00:00\", \"2020-06-08T00:00:00\", \"2020-06-09T00:00:00\", \"2020-06-10T00:00:00\", \"2020-06-11T00:00:00\", \"2020-06-12T00:00:00\", \"2020-06-13T00:00:00\", \"2020-06-14T00:00:00\", \"2020-06-15T00:00:00\", \"2020-06-16T00:00:00\", \"2020-06-17T00:00:00\", \"2020-06-18T00:00:00\", \"2020-06-19T00:00:00\", \"2020-06-20T00:00:00\", \"2020-06-21T00:00:00\", \"2020-06-22T00:00:00\", \"2020-06-23T00:00:00\", \"2020-06-24T00:00:00\", \"2020-06-25T00:00:00\", \"2020-06-26T00:00:00\", \"2020-06-27T00:00:00\", \"2020-06-28T00:00:00\", \"2020-06-29T00:00:00\", \"2020-06-30T00:00:00\"], \"y\": [1, 2, 3, 5, 8, 12, 20, 31, 44, 64, 83, 112, 154, 198, 267, 345, 424, 505, 599, 740, 903, 1062, 1221, 1387, 1525, 1719, 1910, 2105, 2271, 2456, 2615, 2715, 2864, 3017, 3142, 3282, 3403, 3652, 3808, 3991, 4226, 4390, 4643, 4819, 5021, 5240, 5452, 5670, 5913, 6210, 6513, 6818, 7069, 7473, 7982, 8350, 8821, 9279, 9740, 10130, 10631, 11409, 12142, 12887, 13827, 14560, 15013, 15726, 16538, 17368, 18419, 19380, 20275, 21105, 22284, 23426, 24757, 26070, 27459, 28867, 29760, 30911, 32372, 33715, 35086, 36465, 37750, 38773, 40477, 42080, 43925, 45660, 47616, 49368, 50778, 53226, 55510, 58158, 60908, 63572, 65774, 67257, 68943, 72198, 75510, 78867, 82113, 84711, 86617, 88458, 91474, 93735, 95455, 96831, 97500, 97677, 97840, 97846]}],\n",
              "                        {\"template\": {\"data\": {\"bar\": [{\"error_x\": {\"color\": \"#2a3f5f\"}, \"error_y\": {\"color\": \"#2a3f5f\"}, \"marker\": {\"line\": {\"color\": \"#E5ECF6\", \"width\": 0.5}}, \"type\": \"bar\"}], \"barpolar\": [{\"marker\": {\"line\": {\"color\": \"#E5ECF6\", \"width\": 0.5}}, \"type\": \"barpolar\"}], \"carpet\": [{\"aaxis\": {\"endlinecolor\": \"#2a3f5f\", \"gridcolor\": \"white\", \"linecolor\": \"white\", \"minorgridcolor\": \"white\", \"startlinecolor\": \"#2a3f5f\"}, \"baxis\": {\"endlinecolor\": \"#2a3f5f\", \"gridcolor\": \"white\", \"linecolor\": \"white\", \"minorgridcolor\": \"white\", \"startlinecolor\": \"#2a3f5f\"}, \"type\": \"carpet\"}], \"choropleth\": [{\"colorbar\": {\"outlinewidth\": 0, \"ticks\": \"\"}, \"type\": \"choropleth\"}], \"contour\": [{\"colorbar\": {\"outlinewidth\": 0, \"ticks\": \"\"}, \"colorscale\": [[0.0, \"#0d0887\"], [0.1111111111111111, \"#46039f\"], [0.2222222222222222, \"#7201a8\"], [0.3333333333333333, \"#9c179e\"], [0.4444444444444444, \"#bd3786\"], [0.5555555555555556, \"#d8576b\"], [0.6666666666666666, \"#ed7953\"], [0.7777777777777778, \"#fb9f3a\"], [0.8888888888888888, \"#fdca26\"], [1.0, \"#f0f921\"]], \"type\": \"contour\"}], \"contourcarpet\": [{\"colorbar\": {\"outlinewidth\": 0, \"ticks\": \"\"}, \"type\": \"contourcarpet\"}], \"heatmap\": [{\"colorbar\": {\"outlinewidth\": 0, \"ticks\": \"\"}, \"colorscale\": [[0.0, \"#0d0887\"], [0.1111111111111111, \"#46039f\"], [0.2222222222222222, \"#7201a8\"], [0.3333333333333333, \"#9c179e\"], [0.4444444444444444, \"#bd3786\"], [0.5555555555555556, \"#d8576b\"], [0.6666666666666666, \"#ed7953\"], [0.7777777777777778, \"#fb9f3a\"], [0.8888888888888888, \"#fdca26\"], [1.0, \"#f0f921\"]], \"type\": \"heatmap\"}], \"heatmapgl\": [{\"colorbar\": {\"outlinewidth\": 0, \"ticks\": \"\"}, \"colorscale\": [[0.0, \"#0d0887\"], [0.1111111111111111, \"#46039f\"], [0.2222222222222222, \"#7201a8\"], [0.3333333333333333, \"#9c179e\"], [0.4444444444444444, \"#bd3786\"], [0.5555555555555556, \"#d8576b\"], [0.6666666666666666, \"#ed7953\"], [0.7777777777777778, \"#fb9f3a\"], [0.8888888888888888, \"#fdca26\"], [1.0, \"#f0f921\"]], \"type\": \"heatmapgl\"}], \"histogram\": [{\"marker\": {\"colorbar\": {\"outlinewidth\": 0, \"ticks\": \"\"}}, \"type\": \"histogram\"}], \"histogram2d\": [{\"colorbar\": {\"outlinewidth\": 0, \"ticks\": \"\"}, \"colorscale\": [[0.0, \"#0d0887\"], [0.1111111111111111, \"#46039f\"], [0.2222222222222222, \"#7201a8\"], [0.3333333333333333, \"#9c179e\"], [0.4444444444444444, \"#bd3786\"], [0.5555555555555556, \"#d8576b\"], [0.6666666666666666, \"#ed7953\"], [0.7777777777777778, \"#fb9f3a\"], [0.8888888888888888, \"#fdca26\"], [1.0, \"#f0f921\"]], \"type\": \"histogram2d\"}], \"histogram2dcontour\": [{\"colorbar\": {\"outlinewidth\": 0, \"ticks\": \"\"}, \"colorscale\": [[0.0, \"#0d0887\"], [0.1111111111111111, \"#46039f\"], [0.2222222222222222, \"#7201a8\"], [0.3333333333333333, \"#9c179e\"], [0.4444444444444444, \"#bd3786\"], [0.5555555555555556, \"#d8576b\"], [0.6666666666666666, \"#ed7953\"], [0.7777777777777778, \"#fb9f3a\"], [0.8888888888888888, \"#fdca26\"], [1.0, \"#f0f921\"]], \"type\": \"histogram2dcontour\"}], \"mesh3d\": [{\"colorbar\": {\"outlinewidth\": 0, \"ticks\": \"\"}, \"type\": \"mesh3d\"}], \"parcoords\": [{\"line\": {\"colorbar\": {\"outlinewidth\": 0, \"ticks\": \"\"}}, \"type\": \"parcoords\"}], \"pie\": [{\"automargin\": true, \"type\": \"pie\"}], \"scatter\": [{\"marker\": {\"colorbar\": {\"outlinewidth\": 0, \"ticks\": \"\"}}, \"type\": \"scatter\"}], \"scatter3d\": [{\"line\": {\"colorbar\": {\"outlinewidth\": 0, \"ticks\": \"\"}}, \"marker\": {\"colorbar\": {\"outlinewidth\": 0, \"ticks\": \"\"}}, \"type\": \"scatter3d\"}], \"scattercarpet\": [{\"marker\": {\"colorbar\": {\"outlinewidth\": 0, \"ticks\": \"\"}}, \"type\": \"scattercarpet\"}], \"scattergeo\": [{\"marker\": {\"colorbar\": {\"outlinewidth\": 0, \"ticks\": \"\"}}, \"type\": \"scattergeo\"}], \"scattergl\": [{\"marker\": {\"colorbar\": {\"outlinewidth\": 0, \"ticks\": \"\"}}, \"type\": \"scattergl\"}], \"scattermapbox\": [{\"marker\": {\"colorbar\": {\"outlinewidth\": 0, \"ticks\": \"\"}}, \"type\": \"scattermapbox\"}], \"scatterpolar\": [{\"marker\": {\"colorbar\": {\"outlinewidth\": 0, \"ticks\": \"\"}}, \"type\": \"scatterpolar\"}], \"scatterpolargl\": [{\"marker\": {\"colorbar\": {\"outlinewidth\": 0, \"ticks\": \"\"}}, \"type\": \"scatterpolargl\"}], \"scatterternary\": [{\"marker\": {\"colorbar\": {\"outlinewidth\": 0, \"ticks\": \"\"}}, \"type\": \"scatterternary\"}], \"surface\": [{\"colorbar\": {\"outlinewidth\": 0, \"ticks\": \"\"}, \"colorscale\": [[0.0, \"#0d0887\"], [0.1111111111111111, \"#46039f\"], [0.2222222222222222, \"#7201a8\"], [0.3333333333333333, \"#9c179e\"], [0.4444444444444444, \"#bd3786\"], [0.5555555555555556, \"#d8576b\"], [0.6666666666666666, \"#ed7953\"], [0.7777777777777778, \"#fb9f3a\"], [0.8888888888888888, \"#fdca26\"], [1.0, \"#f0f921\"]], \"type\": \"surface\"}], \"table\": [{\"cells\": {\"fill\": {\"color\": \"#EBF0F8\"}, \"line\": {\"color\": \"white\"}}, \"header\": {\"fill\": {\"color\": \"#C8D4E3\"}, \"line\": {\"color\": \"white\"}}, \"type\": \"table\"}]}, \"layout\": {\"annotationdefaults\": {\"arrowcolor\": \"#2a3f5f\", \"arrowhead\": 0, \"arrowwidth\": 1}, \"coloraxis\": {\"colorbar\": {\"outlinewidth\": 0, \"ticks\": \"\"}}, \"colorscale\": {\"diverging\": [[0, \"#8e0152\"], [0.1, \"#c51b7d\"], [0.2, \"#de77ae\"], [0.3, \"#f1b6da\"], [0.4, \"#fde0ef\"], [0.5, \"#f7f7f7\"], [0.6, \"#e6f5d0\"], [0.7, \"#b8e186\"], [0.8, \"#7fbc41\"], [0.9, \"#4d9221\"], [1, \"#276419\"]], \"sequential\": [[0.0, \"#0d0887\"], [0.1111111111111111, \"#46039f\"], [0.2222222222222222, \"#7201a8\"], [0.3333333333333333, \"#9c179e\"], [0.4444444444444444, \"#bd3786\"], [0.5555555555555556, \"#d8576b\"], [0.6666666666666666, \"#ed7953\"], [0.7777777777777778, \"#fb9f3a\"], [0.8888888888888888, \"#fdca26\"], [1.0, \"#f0f921\"]], \"sequentialminus\": [[0.0, \"#0d0887\"], [0.1111111111111111, \"#46039f\"], [0.2222222222222222, \"#7201a8\"], [0.3333333333333333, \"#9c179e\"], [0.4444444444444444, \"#bd3786\"], [0.5555555555555556, \"#d8576b\"], [0.6666666666666666, \"#ed7953\"], [0.7777777777777778, \"#fb9f3a\"], [0.8888888888888888, \"#fdca26\"], [1.0, \"#f0f921\"]]}, \"colorway\": [\"#636efa\", \"#EF553B\", \"#00cc96\", \"#ab63fa\", \"#FFA15A\", \"#19d3f3\", \"#FF6692\", \"#B6E880\", \"#FF97FF\", \"#FECB52\"], \"font\": {\"color\": \"#2a3f5f\"}, \"geo\": {\"bgcolor\": \"white\", \"lakecolor\": \"white\", \"landcolor\": \"#E5ECF6\", \"showlakes\": true, \"showland\": true, \"subunitcolor\": \"white\"}, \"hoverlabel\": {\"align\": \"left\"}, \"hovermode\": \"closest\", \"mapbox\": {\"style\": \"light\"}, \"paper_bgcolor\": \"white\", \"plot_bgcolor\": \"#E5ECF6\", \"polar\": {\"angularaxis\": {\"gridcolor\": \"white\", \"linecolor\": \"white\", \"ticks\": \"\"}, \"bgcolor\": \"#E5ECF6\", \"radialaxis\": {\"gridcolor\": \"white\", \"linecolor\": \"white\", \"ticks\": \"\"}}, \"scene\": {\"xaxis\": {\"backgroundcolor\": \"#E5ECF6\", \"gridcolor\": \"white\", \"gridwidth\": 2, \"linecolor\": \"white\", \"showbackground\": true, \"ticks\": \"\", \"zerolinecolor\": \"white\"}, \"yaxis\": {\"backgroundcolor\": \"#E5ECF6\", \"gridcolor\": \"white\", \"gridwidth\": 2, \"linecolor\": \"white\", \"showbackground\": true, \"ticks\": \"\", \"zerolinecolor\": \"white\"}, \"zaxis\": {\"backgroundcolor\": \"#E5ECF6\", \"gridcolor\": \"white\", \"gridwidth\": 2, \"linecolor\": \"white\", \"showbackground\": true, \"ticks\": \"\", \"zerolinecolor\": \"white\"}}, \"shapedefaults\": {\"line\": {\"color\": \"#2a3f5f\"}}, \"ternary\": {\"aaxis\": {\"gridcolor\": \"white\", \"linecolor\": \"white\", \"ticks\": \"\"}, \"baxis\": {\"gridcolor\": \"white\", \"linecolor\": \"white\", \"ticks\": \"\"}, \"bgcolor\": \"#E5ECF6\", \"caxis\": {\"gridcolor\": \"white\", \"linecolor\": \"white\", \"ticks\": \"\"}}, \"title\": {\"x\": 0.05}, \"xaxis\": {\"automargin\": true, \"gridcolor\": \"white\", \"linecolor\": \"white\", \"ticks\": \"\", \"title\": {\"standoff\": 15}, \"zerolinecolor\": \"white\", \"zerolinewidth\": 2}, \"yaxis\": {\"automargin\": true, \"gridcolor\": \"white\", \"linecolor\": \"white\", \"ticks\": \"\", \"title\": {\"standoff\": 15}, \"zerolinecolor\": \"white\", \"zerolinewidth\": 2}}}, \"title\": {\"text\": \"Acumulado casos confirmados\"}},\n",
              "                        {\"responsive\": true}\n",
              "                    ).then(function(){\n",
              "                            \n",
              "var gd = document.getElementById('8f3e829b-6415-4b23-a319-fd13d787110b');\n",
              "var x = new MutationObserver(function (mutations, observer) {{\n",
              "        var display = window.getComputedStyle(gd).display;\n",
              "        if (!display || display === 'none') {{\n",
              "            console.log([gd, 'removed!']);\n",
              "            Plotly.purge(gd);\n",
              "            observer.disconnect();\n",
              "        }}\n",
              "}});\n",
              "\n",
              "// Listen for the removal of the full notebook cells\n",
              "var notebookContainer = gd.closest('#notebook-container');\n",
              "if (notebookContainer) {{\n",
              "    x.observe(notebookContainer, {childList: true});\n",
              "}}\n",
              "\n",
              "// Listen for the clearing of the current output cell\n",
              "var outputEl = gd.closest('.output');\n",
              "if (outputEl) {{\n",
              "    x.observe(outputEl, {childList: true});\n",
              "}}\n",
              "\n",
              "                        })\n",
              "                };\n",
              "                \n",
              "            </script>\n",
              "        </div>\n",
              "</body>\n",
              "</html>"
            ]
          },
          "metadata": {
            "tags": []
          }
        }
      ]
    },
    {
      "cell_type": "code",
      "metadata": {
        "id": "GiUBaeG77Vhg",
        "colab_type": "code",
        "colab": {
          "base_uri": "https://localhost:8080/",
          "height": 195
        },
        "outputId": "c80f12c0-4cff-4920-bc7d-92d1ae73ffa9"
      },
      "source": [
        "cases_by_day.head()"
      ],
      "execution_count": null,
      "outputs": [
        {
          "output_type": "execute_result",
          "data": {
            "text/html": [
              "<div>\n",
              "<style scoped>\n",
              "    .dataframe tbody tr th:only-of-type {\n",
              "        vertical-align: middle;\n",
              "    }\n",
              "\n",
              "    .dataframe tbody tr th {\n",
              "        vertical-align: top;\n",
              "    }\n",
              "\n",
              "    .dataframe thead th {\n",
              "        text-align: right;\n",
              "    }\n",
              "</style>\n",
              "<table border=\"1\" class=\"dataframe\">\n",
              "  <thead>\n",
              "    <tr style=\"text-align: right;\">\n",
              "      <th></th>\n",
              "      <th>date</th>\n",
              "      <th>cases</th>\n",
              "      <th>x</th>\n",
              "      <th>y</th>\n",
              "    </tr>\n",
              "  </thead>\n",
              "  <tbody>\n",
              "    <tr>\n",
              "      <th>0</th>\n",
              "      <td>2020-03-02</td>\n",
              "      <td>1</td>\n",
              "      <td>0</td>\n",
              "      <td>1</td>\n",
              "    </tr>\n",
              "    <tr>\n",
              "      <th>1</th>\n",
              "      <td>2020-03-06</td>\n",
              "      <td>1</td>\n",
              "      <td>1</td>\n",
              "      <td>2</td>\n",
              "    </tr>\n",
              "    <tr>\n",
              "      <th>2</th>\n",
              "      <td>2020-03-07</td>\n",
              "      <td>1</td>\n",
              "      <td>2</td>\n",
              "      <td>3</td>\n",
              "    </tr>\n",
              "    <tr>\n",
              "      <th>3</th>\n",
              "      <td>2020-03-08</td>\n",
              "      <td>2</td>\n",
              "      <td>3</td>\n",
              "      <td>5</td>\n",
              "    </tr>\n",
              "    <tr>\n",
              "      <th>4</th>\n",
              "      <td>2020-03-09</td>\n",
              "      <td>3</td>\n",
              "      <td>4</td>\n",
              "      <td>8</td>\n",
              "    </tr>\n",
              "  </tbody>\n",
              "</table>\n",
              "</div>"
            ],
            "text/plain": [
              "        date  cases  x  y\n",
              "0 2020-03-02      1  0  1\n",
              "1 2020-03-06      1  1  2\n",
              "2 2020-03-07      1  2  3\n",
              "3 2020-03-08      2  3  5\n",
              "4 2020-03-09      3  4  8"
            ]
          },
          "metadata": {
            "tags": []
          },
          "execution_count": 47
        }
      ]
    },
    {
      "cell_type": "code",
      "metadata": {
        "id": "eAqsuu2Q9VOB",
        "colab_type": "code",
        "colab": {
          "base_uri": "https://localhost:8080/",
          "height": 168
        },
        "outputId": "833ba041-ce06-41aa-e8c8-288a809f3148"
      },
      "source": [
        "from scipy.optimize import curve_fit\n",
        "\n",
        "def logifunc(x,A,x0,k,off):\n",
        "    return A / (1 + np.exp(-k*(x-x0)))+off\n",
        "\n",
        "popt, pcov = curve_fit(logifunc, full_predictions['x'], full_predictions['y'], p0=[0,10000,0.1,-222])\n",
        "popt"
      ],
      "execution_count": null,
      "outputs": [
        {
          "output_type": "stream",
          "text": [
            "/usr/local/lib/python3.6/dist-packages/pandas/core/series.py:679: RuntimeWarning:\n",
            "\n",
            "overflow encountered in exp\n",
            "\n",
            "/usr/local/lib/python3.6/dist-packages/scipy/optimize/minpack.py:808: OptimizeWarning:\n",
            "\n",
            "Covariance of the parameters could not be estimated\n",
            "\n"
          ],
          "name": "stderr"
        },
        {
          "output_type": "execute_result",
          "data": {
            "text/plain": [
              "array([0.00000000e+00, 1.00000000e+04, 1.00000000e-01, 3.88626401e+05])"
            ]
          },
          "metadata": {
            "tags": []
          },
          "execution_count": 48
        }
      ]
    },
    {
      "cell_type": "code",
      "metadata": {
        "id": "cqL3JFEA01Nz",
        "colab_type": "code",
        "colab": {
          "base_uri": "https://localhost:8080/",
          "height": 626
        },
        "outputId": "4a0a7292-0b5b-4c60-d8fd-caae2c220bb0"
      },
      "source": [
        "\n",
        "a = inflection_idx\n",
        "b = 300\n",
        "c = L\n",
        "print(a, b, c)\n",
        "fig = go.Figure()\n",
        "#fig.add_trace(go.Scatter(x=cases_by_day['x'], y=cases_by_day['y'], mode='lines+markers', line=dict(width=1), name='Confirmed cases'))\n",
        "#fig.add_trace(go.Scatter(x=full_predictions['x'], y=full_predictions['y'], line=dict(dash='dash'), name = 'Projection'))\n",
        "fig.add_trace(go.Scatter(x=full_predictions['x'], y=logifunc(full_predictions['x'], *popt), line=dict(dash='dash'), name = 'Projection'))\n",
        "\n",
        "fig.update_layout(\n",
        "    title_text=\"Confirmed cases vs Predictions\"\n",
        ")\n",
        "\n",
        "fig.show()"
      ],
      "execution_count": null,
      "outputs": [
        {
          "output_type": "stream",
          "text": [
            "169 300 777252.8017655798\n"
          ],
          "name": "stdout"
        },
        {
          "output_type": "stream",
          "text": [
            "/usr/local/lib/python3.6/dist-packages/pandas/core/series.py:679: RuntimeWarning:\n",
            "\n",
            "overflow encountered in exp\n",
            "\n"
          ],
          "name": "stderr"
        },
        {
          "output_type": "display_data",
          "data": {
            "text/html": [
              "<html>\n",
              "<head><meta charset=\"utf-8\" /></head>\n",
              "<body>\n",
              "    <div>\n",
              "            <script src=\"https://cdnjs.cloudflare.com/ajax/libs/mathjax/2.7.5/MathJax.js?config=TeX-AMS-MML_SVG\"></script><script type=\"text/javascript\">if (window.MathJax) {MathJax.Hub.Config({SVG: {font: \"STIX-Web\"}});}</script>\n",
              "                <script type=\"text/javascript\">window.PlotlyConfig = {MathJaxConfig: 'local'};</script>\n",
              "        <script src=\"https://cdn.plot.ly/plotly-latest.min.js\"></script>    \n",
              "            <div id=\"86f37387-17e3-4a1c-97e3-6196f3a763d5\" class=\"plotly-graph-div\" style=\"height:525px; width:100%;\"></div>\n",
              "            <script type=\"text/javascript\">\n",
              "                \n",
              "                    window.PLOTLYENV=window.PLOTLYENV || {};\n",
              "                    \n",
              "                if (document.getElementById(\"86f37387-17e3-4a1c-97e3-6196f3a763d5\")) {\n",
              "                    Plotly.newPlot(\n",
              "                        '86f37387-17e3-4a1c-97e3-6196f3a763d5',\n",
              "                        [{\"line\": {\"dash\": \"dash\"}, \"name\": \"Projection\", \"type\": \"scatter\", \"x\": [0.0, 1.0, 2.0, 3.0, 4.0, 5.0, 6.0, 7.0, 8.0, 9.0, 10.0, 11.0, 12.0, 13.0, 14.0, 15.0, 16.0, 17.0, 18.0, 19.0, 20.0, 21.0, 22.0, 23.0, 24.0, 25.0, 26.0, 27.0, 28.0, 29.0, 30.0, 31.0, 32.0, 33.0, 34.0, 35.0, 36.0, 37.0, 38.0, 39.0, 40.0, 41.0, 42.0, 43.0, 44.0, 45.0, 46.0, 47.0, 48.0, 49.0, 50.0, 51.0, 52.0, 53.0, 54.0, 55.0, 56.0, 57.0, 58.0, 59.0, 60.0, 61.0, 62.0, 63.0, 64.0, 65.0, 66.0, 67.0, 68.0, 69.0, 70.0, 71.0, 72.0, 73.0, 74.0, 75.0, 76.0, 77.0, 78.0, 79.0, 80.0, 81.0, 82.0, 83.0, 84.0, 85.0, 86.0, 87.0, 88.0, 89.0, 90.0, 91.0, 92.0, 93.0, 94.0, 95.0, 96.0, 97.0, 98.0, 99.0, 100.0, 101.0, 102.0, 103.0, 104.0, 105.0, 106.0, 107.0, 108.0, 109.0, 110.0, 111.0, 112.0, 113.0, 114.0, 115.0, 116.0, 117.0, 118.0, 119.0, 120.0, 121.0, 122.0, 123.0, 124.0, 125.0, 126.0, 127.0, 128.0, 129.0, 130.0, 131.0, 132.0, 133.0, 134.0, 135.0, 136.0, 137.0, 138.0, 139.0, 140.0, 141.0, 142.0, 143.0, 144.0, 145.0, 146.0, 147.0, 148.0, 149.0, 150.0, 151.0, 152.0, 153.0, 154.0, 155.0, 156.0, 157.0, 158.0, 159.0, 160.0, 161.0, 162.0, 163.0, 164.0, 165.0, 166.0, 167.0, 168.0, 169.0, 170.0, 171.0, 172.0, 173.0, 174.0, 175.0, 176.0, 177.0, 178.0, 179.0, 180.0, 181.0, 182.0, 183.0, 184.0, 185.0, 186.0, 187.0, 188.0, 189.0, 190.0, 191.0, 192.0, 193.0, 194.0, 195.0, 196.0, 197.0, 198.0, 199.0, 200.0, 201.0, 202.0, 203.0, 204.0, 205.0, 206.0, 207.0, 208.0, 209.0, 210.0, 211.0, 212.0, 213.0, 214.0, 215.0, 216.0, 217.0, 218.0, 219.0, 220.0, 221.0, 222.0, 223.0, 224.0, 225.0, 226.0, 227.0, 228.0, 229.0, 230.0, 231.0, 232.0, 233.0, 234.0, 235.0, 236.0, 237.0, 238.0, 239.0, 240.0, 241.0, 242.0, 243.0, 244.0, 245.0, 246.0, 247.0, 248.0, 249.0, 250.0, 251.0, 252.0, 253.0, 254.0, 255.0, 256.0, 257.0, 258.0, 259.0, 260.0, 261.0, 262.0, 263.0, 264.0, 265.0, 266.0, 267.0, 268.0, 269.0, 270.0, 271.0, 272.0, 273.0, 274.0, 275.0, 276.0, 277.0, 278.0, 279.0, 280.0, 281.0, 282.0, 283.0, 284.0, 285.0, 286.0, 287.0, 288.0, 289.0, 290.0, 291.0, 292.0, 293.0, 294.0, 295.0, 296.0, 297.0, 298.0, 299.0, 300.0, 301.0, 302.0, 303.0, 304.0, 305.0, 306.0, 307.0, 308.0, 309.0, 310.0, 311.0, 312.0, 313.0, 314.0, 315.0, 316.0, 317.0, 318.0, 319.0, 320.0, 321.0, 322.0, 323.0, 324.0, 325.0, 326.0, 327.0, 328.0, 329.0, 330.0, 331.0, 332.0, 333.0, 334.0, 335.0, 336.0, 337.0, 338.0], \"y\": [388626.40088279, 388626.40088279, 388626.40088279, 388626.40088279, 388626.40088279, 388626.40088279, 388626.40088279, 388626.40088279, 388626.40088279, 388626.40088279, 388626.40088279, 388626.40088279, 388626.40088279, 388626.40088279, 388626.40088279, 388626.40088279, 388626.40088279, 388626.40088279, 388626.40088279, 388626.40088279, 388626.40088279, 388626.40088279, 388626.40088279, 388626.40088279, 388626.40088279, 388626.40088279, 388626.40088279, 388626.40088279, 388626.40088279, 388626.40088279, 388626.40088279, 388626.40088279, 388626.40088279, 388626.40088279, 388626.40088279, 388626.40088279, 388626.40088279, 388626.40088279, 388626.40088279, 388626.40088279, 388626.40088279, 388626.40088279, 388626.40088279, 388626.40088279, 388626.40088279, 388626.40088279, 388626.40088279, 388626.40088279, 388626.40088279, 388626.40088279, 388626.40088279, 388626.40088279, 388626.40088279, 388626.40088279, 388626.40088279, 388626.40088279, 388626.40088279, 388626.40088279, 388626.40088279, 388626.40088279, 388626.40088279, 388626.40088279, 388626.40088279, 388626.40088279, 388626.40088279, 388626.40088279, 388626.40088279, 388626.40088279, 388626.40088279, 388626.40088279, 388626.40088279, 388626.40088279, 388626.40088279, 388626.40088279, 388626.40088279, 388626.40088279, 388626.40088279, 388626.40088279, 388626.40088279, 388626.40088279, 388626.40088279, 388626.40088279, 388626.40088279, 388626.40088279, 388626.40088279, 388626.40088279, 388626.40088279, 388626.40088279, 388626.40088279, 388626.40088279, 388626.40088279, 388626.40088279, 388626.40088279, 388626.40088279, 388626.40088279, 388626.40088279, 388626.40088279, 388626.40088279, 388626.40088279, 388626.40088279, 388626.40088279, 388626.40088279, 388626.40088279, 388626.40088279, 388626.40088279, 388626.40088279, 388626.40088279, 388626.40088279, 388626.40088279, 388626.40088279, 388626.40088279, 388626.40088279, 388626.40088279, 388626.40088279, 388626.40088279, 388626.40088279, 388626.40088279, 388626.40088279, 388626.40088279, 388626.40088279, 388626.40088279, 388626.40088279, 388626.40088279, 388626.40088279, 388626.40088279, 388626.40088279, 388626.40088279, 388626.40088279, 388626.40088279, 388626.40088279, 388626.40088279, 388626.40088279, 388626.40088279, 388626.40088279, 388626.40088279, 388626.40088279, 388626.40088279, 388626.40088279, 388626.40088279, 388626.40088279, 388626.40088279, 388626.40088279, 388626.40088279, 388626.40088279, 388626.40088279, 388626.40088279, 388626.40088279, 388626.40088279, 388626.40088279, 388626.40088279, 388626.40088279, 388626.40088279, 388626.40088279, 388626.40088279, 388626.40088279, 388626.40088279, 388626.40088279, 388626.40088279, 388626.40088279, 388626.40088279, 388626.40088279, 388626.40088279, 388626.40088279, 388626.40088279, 388626.40088279, 388626.40088279, 388626.40088279, 388626.40088279, 388626.40088279, 388626.40088279, 388626.40088279, 388626.40088279, 388626.40088279, 388626.40088279, 388626.40088279, 388626.40088279, 388626.40088279, 388626.40088279, 388626.40088279, 388626.40088279, 388626.40088279, 388626.40088279, 388626.40088279, 388626.40088279, 388626.40088279, 388626.40088279, 388626.40088279, 388626.40088279, 388626.40088279, 388626.40088279, 388626.40088279, 388626.40088279, 388626.40088279, 388626.40088279, 388626.40088279, 388626.40088279, 388626.40088279, 388626.40088279, 388626.40088279, 388626.40088279, 388626.40088279, 388626.40088279, 388626.40088279, 388626.40088279, 388626.40088279, 388626.40088279, 388626.40088279, 388626.40088279, 388626.40088279, 388626.40088279, 388626.40088279, 388626.40088279, 388626.40088279, 388626.40088279, 388626.40088279, 388626.40088279, 388626.40088279, 388626.40088279, 388626.40088279, 388626.40088279, 388626.40088279, 388626.40088279, 388626.40088279, 388626.40088279, 388626.40088279, 388626.40088279, 388626.40088279, 388626.40088279, 388626.40088279, 388626.40088279, 388626.40088279, 388626.40088279, 388626.40088279, 388626.40088279, 388626.40088279, 388626.40088279, 388626.40088279, 388626.40088279, 388626.40088279, 388626.40088279, 388626.40088279, 388626.40088279, 388626.40088279, 388626.40088279, 388626.40088279, 388626.40088279, 388626.40088279, 388626.40088279, 388626.40088279, 388626.40088279, 388626.40088279, 388626.40088279, 388626.40088279, 388626.40088279, 388626.40088279, 388626.40088279, 388626.40088279, 388626.40088279, 388626.40088279, 388626.40088279, 388626.40088279, 388626.40088279, 388626.40088279, 388626.40088279, 388626.40088279, 388626.40088279, 388626.40088279, 388626.40088279, 388626.40088279, 388626.40088279, 388626.40088279, 388626.40088279, 388626.40088279, 388626.40088279, 388626.40088279, 388626.40088279, 388626.40088279, 388626.40088279, 388626.40088279, 388626.40088279, 388626.40088279, 388626.40088279, 388626.40088279, 388626.40088279, 388626.40088279, 388626.40088279, 388626.40088279, 388626.40088279, 388626.40088279, 388626.40088279, 388626.40088279, 388626.40088279, 388626.40088279, 388626.40088279, 388626.40088279, 388626.40088279, 388626.40088279, 388626.40088279, 388626.40088279, 388626.40088279, 388626.40088279, 388626.40088279, 388626.40088279, 388626.40088279, 388626.40088279, 388626.40088279, 388626.40088279, 388626.40088279, 388626.40088279, 388626.40088279, 388626.40088279, 388626.40088279, 388626.40088279, 388626.40088279, 388626.40088279, 388626.40088279, 388626.40088279, 388626.40088279, 388626.40088279, 388626.40088279, 388626.40088279, 388626.40088279, 388626.40088279, 388626.40088279, 388626.40088279, 388626.40088279, 388626.40088279, 388626.40088279, 388626.40088279, 388626.40088279, 388626.40088279, 388626.40088279, 388626.40088279, 388626.40088279, 388626.40088279, 388626.40088279, 388626.40088279, 388626.40088279, 388626.40088279]}],\n",
              "                        {\"template\": {\"data\": {\"bar\": [{\"error_x\": {\"color\": \"#2a3f5f\"}, \"error_y\": {\"color\": \"#2a3f5f\"}, \"marker\": {\"line\": {\"color\": \"#E5ECF6\", \"width\": 0.5}}, \"type\": \"bar\"}], \"barpolar\": [{\"marker\": {\"line\": {\"color\": \"#E5ECF6\", \"width\": 0.5}}, \"type\": \"barpolar\"}], \"carpet\": [{\"aaxis\": {\"endlinecolor\": \"#2a3f5f\", \"gridcolor\": \"white\", \"linecolor\": \"white\", \"minorgridcolor\": \"white\", \"startlinecolor\": \"#2a3f5f\"}, \"baxis\": {\"endlinecolor\": \"#2a3f5f\", \"gridcolor\": \"white\", \"linecolor\": \"white\", \"minorgridcolor\": \"white\", \"startlinecolor\": \"#2a3f5f\"}, \"type\": \"carpet\"}], \"choropleth\": [{\"colorbar\": {\"outlinewidth\": 0, \"ticks\": \"\"}, \"type\": \"choropleth\"}], \"contour\": [{\"colorbar\": {\"outlinewidth\": 0, \"ticks\": \"\"}, \"colorscale\": [[0.0, \"#0d0887\"], [0.1111111111111111, \"#46039f\"], [0.2222222222222222, \"#7201a8\"], [0.3333333333333333, \"#9c179e\"], [0.4444444444444444, \"#bd3786\"], [0.5555555555555556, \"#d8576b\"], [0.6666666666666666, \"#ed7953\"], [0.7777777777777778, \"#fb9f3a\"], [0.8888888888888888, \"#fdca26\"], [1.0, \"#f0f921\"]], \"type\": \"contour\"}], \"contourcarpet\": [{\"colorbar\": {\"outlinewidth\": 0, \"ticks\": \"\"}, \"type\": \"contourcarpet\"}], \"heatmap\": [{\"colorbar\": {\"outlinewidth\": 0, \"ticks\": \"\"}, \"colorscale\": [[0.0, \"#0d0887\"], [0.1111111111111111, \"#46039f\"], [0.2222222222222222, \"#7201a8\"], [0.3333333333333333, \"#9c179e\"], [0.4444444444444444, \"#bd3786\"], [0.5555555555555556, \"#d8576b\"], [0.6666666666666666, \"#ed7953\"], [0.7777777777777778, \"#fb9f3a\"], [0.8888888888888888, \"#fdca26\"], [1.0, \"#f0f921\"]], \"type\": \"heatmap\"}], \"heatmapgl\": [{\"colorbar\": {\"outlinewidth\": 0, \"ticks\": \"\"}, \"colorscale\": [[0.0, \"#0d0887\"], [0.1111111111111111, \"#46039f\"], [0.2222222222222222, \"#7201a8\"], [0.3333333333333333, \"#9c179e\"], [0.4444444444444444, \"#bd3786\"], [0.5555555555555556, \"#d8576b\"], [0.6666666666666666, \"#ed7953\"], [0.7777777777777778, \"#fb9f3a\"], [0.8888888888888888, \"#fdca26\"], [1.0, \"#f0f921\"]], \"type\": \"heatmapgl\"}], \"histogram\": [{\"marker\": {\"colorbar\": {\"outlinewidth\": 0, \"ticks\": \"\"}}, \"type\": \"histogram\"}], \"histogram2d\": [{\"colorbar\": {\"outlinewidth\": 0, \"ticks\": \"\"}, \"colorscale\": [[0.0, \"#0d0887\"], [0.1111111111111111, \"#46039f\"], [0.2222222222222222, \"#7201a8\"], [0.3333333333333333, \"#9c179e\"], [0.4444444444444444, \"#bd3786\"], [0.5555555555555556, \"#d8576b\"], [0.6666666666666666, \"#ed7953\"], [0.7777777777777778, \"#fb9f3a\"], [0.8888888888888888, \"#fdca26\"], [1.0, \"#f0f921\"]], \"type\": \"histogram2d\"}], \"histogram2dcontour\": [{\"colorbar\": {\"outlinewidth\": 0, \"ticks\": \"\"}, \"colorscale\": [[0.0, \"#0d0887\"], [0.1111111111111111, \"#46039f\"], [0.2222222222222222, \"#7201a8\"], [0.3333333333333333, \"#9c179e\"], [0.4444444444444444, \"#bd3786\"], [0.5555555555555556, \"#d8576b\"], [0.6666666666666666, \"#ed7953\"], [0.7777777777777778, \"#fb9f3a\"], [0.8888888888888888, \"#fdca26\"], [1.0, \"#f0f921\"]], \"type\": \"histogram2dcontour\"}], \"mesh3d\": [{\"colorbar\": {\"outlinewidth\": 0, \"ticks\": \"\"}, \"type\": \"mesh3d\"}], \"parcoords\": [{\"line\": {\"colorbar\": {\"outlinewidth\": 0, \"ticks\": \"\"}}, \"type\": \"parcoords\"}], \"pie\": [{\"automargin\": true, \"type\": \"pie\"}], \"scatter\": [{\"marker\": {\"colorbar\": {\"outlinewidth\": 0, \"ticks\": \"\"}}, \"type\": \"scatter\"}], \"scatter3d\": [{\"line\": {\"colorbar\": {\"outlinewidth\": 0, \"ticks\": \"\"}}, \"marker\": {\"colorbar\": {\"outlinewidth\": 0, \"ticks\": \"\"}}, \"type\": \"scatter3d\"}], \"scattercarpet\": [{\"marker\": {\"colorbar\": {\"outlinewidth\": 0, \"ticks\": \"\"}}, \"type\": \"scattercarpet\"}], \"scattergeo\": [{\"marker\": {\"colorbar\": {\"outlinewidth\": 0, \"ticks\": \"\"}}, \"type\": \"scattergeo\"}], \"scattergl\": [{\"marker\": {\"colorbar\": {\"outlinewidth\": 0, \"ticks\": \"\"}}, \"type\": \"scattergl\"}], \"scattermapbox\": [{\"marker\": {\"colorbar\": {\"outlinewidth\": 0, \"ticks\": \"\"}}, \"type\": \"scattermapbox\"}], \"scatterpolar\": [{\"marker\": {\"colorbar\": {\"outlinewidth\": 0, \"ticks\": \"\"}}, \"type\": \"scatterpolar\"}], \"scatterpolargl\": [{\"marker\": {\"colorbar\": {\"outlinewidth\": 0, \"ticks\": \"\"}}, \"type\": \"scatterpolargl\"}], \"scatterternary\": [{\"marker\": {\"colorbar\": {\"outlinewidth\": 0, \"ticks\": \"\"}}, \"type\": \"scatterternary\"}], \"surface\": [{\"colorbar\": {\"outlinewidth\": 0, \"ticks\": \"\"}, \"colorscale\": [[0.0, \"#0d0887\"], [0.1111111111111111, \"#46039f\"], [0.2222222222222222, \"#7201a8\"], [0.3333333333333333, \"#9c179e\"], [0.4444444444444444, \"#bd3786\"], [0.5555555555555556, \"#d8576b\"], [0.6666666666666666, \"#ed7953\"], [0.7777777777777778, \"#fb9f3a\"], [0.8888888888888888, \"#fdca26\"], [1.0, \"#f0f921\"]], \"type\": \"surface\"}], \"table\": [{\"cells\": {\"fill\": {\"color\": \"#EBF0F8\"}, \"line\": {\"color\": \"white\"}}, \"header\": {\"fill\": {\"color\": \"#C8D4E3\"}, \"line\": {\"color\": \"white\"}}, \"type\": \"table\"}]}, \"layout\": {\"annotationdefaults\": {\"arrowcolor\": \"#2a3f5f\", \"arrowhead\": 0, \"arrowwidth\": 1}, \"coloraxis\": {\"colorbar\": {\"outlinewidth\": 0, \"ticks\": \"\"}}, \"colorscale\": {\"diverging\": [[0, \"#8e0152\"], [0.1, \"#c51b7d\"], [0.2, \"#de77ae\"], [0.3, \"#f1b6da\"], [0.4, \"#fde0ef\"], [0.5, \"#f7f7f7\"], [0.6, \"#e6f5d0\"], [0.7, \"#b8e186\"], [0.8, \"#7fbc41\"], [0.9, \"#4d9221\"], [1, \"#276419\"]], \"sequential\": [[0.0, \"#0d0887\"], [0.1111111111111111, \"#46039f\"], [0.2222222222222222, \"#7201a8\"], [0.3333333333333333, \"#9c179e\"], [0.4444444444444444, \"#bd3786\"], [0.5555555555555556, \"#d8576b\"], [0.6666666666666666, \"#ed7953\"], [0.7777777777777778, \"#fb9f3a\"], [0.8888888888888888, \"#fdca26\"], [1.0, \"#f0f921\"]], \"sequentialminus\": [[0.0, \"#0d0887\"], [0.1111111111111111, \"#46039f\"], [0.2222222222222222, \"#7201a8\"], [0.3333333333333333, \"#9c179e\"], [0.4444444444444444, \"#bd3786\"], [0.5555555555555556, \"#d8576b\"], [0.6666666666666666, \"#ed7953\"], [0.7777777777777778, \"#fb9f3a\"], [0.8888888888888888, \"#fdca26\"], [1.0, \"#f0f921\"]]}, \"colorway\": [\"#636efa\", \"#EF553B\", \"#00cc96\", \"#ab63fa\", \"#FFA15A\", \"#19d3f3\", \"#FF6692\", \"#B6E880\", \"#FF97FF\", \"#FECB52\"], \"font\": {\"color\": \"#2a3f5f\"}, \"geo\": {\"bgcolor\": \"white\", \"lakecolor\": \"white\", \"landcolor\": \"#E5ECF6\", \"showlakes\": true, \"showland\": true, \"subunitcolor\": \"white\"}, \"hoverlabel\": {\"align\": \"left\"}, \"hovermode\": \"closest\", \"mapbox\": {\"style\": \"light\"}, \"paper_bgcolor\": \"white\", \"plot_bgcolor\": \"#E5ECF6\", \"polar\": {\"angularaxis\": {\"gridcolor\": \"white\", \"linecolor\": \"white\", \"ticks\": \"\"}, \"bgcolor\": \"#E5ECF6\", \"radialaxis\": {\"gridcolor\": \"white\", \"linecolor\": \"white\", \"ticks\": \"\"}}, \"scene\": {\"xaxis\": {\"backgroundcolor\": \"#E5ECF6\", \"gridcolor\": \"white\", \"gridwidth\": 2, \"linecolor\": \"white\", \"showbackground\": true, \"ticks\": \"\", \"zerolinecolor\": \"white\"}, \"yaxis\": {\"backgroundcolor\": \"#E5ECF6\", \"gridcolor\": \"white\", \"gridwidth\": 2, \"linecolor\": \"white\", \"showbackground\": true, \"ticks\": \"\", \"zerolinecolor\": \"white\"}, \"zaxis\": {\"backgroundcolor\": \"#E5ECF6\", \"gridcolor\": \"white\", \"gridwidth\": 2, \"linecolor\": \"white\", \"showbackground\": true, \"ticks\": \"\", \"zerolinecolor\": \"white\"}}, \"shapedefaults\": {\"line\": {\"color\": \"#2a3f5f\"}}, \"ternary\": {\"aaxis\": {\"gridcolor\": \"white\", \"linecolor\": \"white\", \"ticks\": \"\"}, \"baxis\": {\"gridcolor\": \"white\", \"linecolor\": \"white\", \"ticks\": \"\"}, \"bgcolor\": \"#E5ECF6\", \"caxis\": {\"gridcolor\": \"white\", \"linecolor\": \"white\", \"ticks\": \"\"}}, \"title\": {\"x\": 0.05}, \"xaxis\": {\"automargin\": true, \"gridcolor\": \"white\", \"linecolor\": \"white\", \"ticks\": \"\", \"title\": {\"standoff\": 15}, \"zerolinecolor\": \"white\", \"zerolinewidth\": 2}, \"yaxis\": {\"automargin\": true, \"gridcolor\": \"white\", \"linecolor\": \"white\", \"ticks\": \"\", \"title\": {\"standoff\": 15}, \"zerolinecolor\": \"white\", \"zerolinewidth\": 2}}}, \"title\": {\"text\": \"Confirmed cases vs Predictions\"}},\n",
              "                        {\"responsive\": true}\n",
              "                    ).then(function(){\n",
              "                            \n",
              "var gd = document.getElementById('86f37387-17e3-4a1c-97e3-6196f3a763d5');\n",
              "var x = new MutationObserver(function (mutations, observer) {{\n",
              "        var display = window.getComputedStyle(gd).display;\n",
              "        if (!display || display === 'none') {{\n",
              "            console.log([gd, 'removed!']);\n",
              "            Plotly.purge(gd);\n",
              "            observer.disconnect();\n",
              "        }}\n",
              "}});\n",
              "\n",
              "// Listen for the removal of the full notebook cells\n",
              "var notebookContainer = gd.closest('#notebook-container');\n",
              "if (notebookContainer) {{\n",
              "    x.observe(notebookContainer, {childList: true});\n",
              "}}\n",
              "\n",
              "// Listen for the clearing of the current output cell\n",
              "var outputEl = gd.closest('.output');\n",
              "if (outputEl) {{\n",
              "    x.observe(outputEl, {childList: true});\n",
              "}}\n",
              "\n",
              "                        })\n",
              "                };\n",
              "                \n",
              "            </script>\n",
              "        </div>\n",
              "</body>\n",
              "</html>"
            ]
          },
          "metadata": {
            "tags": []
          }
        }
      ]
    },
    {
      "cell_type": "code",
      "metadata": {
        "id": "-3iX_rZzf5zY",
        "colab_type": "code",
        "colab": {}
      },
      "source": [
        "def get_proyections(days, prediction_days_range):\n",
        "  train_df = cases_by_day[:days]\n",
        "  model = build_model(train_df['x'], train_df['y'])\n",
        "  return get_predictions(model, prediction_days_range)\n"
      ],
      "execution_count": null,
      "outputs": []
    },
    {
      "cell_type": "code",
      "metadata": {
        "id": "2Q54Yb6phYzu",
        "colab_type": "code",
        "colab": {
          "base_uri": "https://localhost:8080/",
          "height": 195
        },
        "outputId": "10c22289-f659-4434-c162-df6169d006ae"
      },
      "source": [
        "models_predictions = pd.DataFrame(columns=['model', 'x', 'y'])\n",
        "for n in range(5, cases_by_day.shape[0] + 1, 5):\n",
        "  df = get_proyections(n, np.arange(0, prediction_days))\n",
        "  df['model'] = n\n",
        "  models_predictions = pd.concat([models_predictions, df], ignore_index=True)\n",
        "\n",
        "models_predictions.head()"
      ],
      "execution_count": null,
      "outputs": [
        {
          "output_type": "execute_result",
          "data": {
            "text/html": [
              "<div>\n",
              "<style scoped>\n",
              "    .dataframe tbody tr th:only-of-type {\n",
              "        vertical-align: middle;\n",
              "    }\n",
              "\n",
              "    .dataframe tbody tr th {\n",
              "        vertical-align: top;\n",
              "    }\n",
              "\n",
              "    .dataframe thead th {\n",
              "        text-align: right;\n",
              "    }\n",
              "</style>\n",
              "<table border=\"1\" class=\"dataframe\">\n",
              "  <thead>\n",
              "    <tr style=\"text-align: right;\">\n",
              "      <th></th>\n",
              "      <th>model</th>\n",
              "      <th>x</th>\n",
              "      <th>y</th>\n",
              "    </tr>\n",
              "  </thead>\n",
              "  <tbody>\n",
              "    <tr>\n",
              "      <th>0</th>\n",
              "      <td>5</td>\n",
              "      <td>0.0</td>\n",
              "      <td>1.000000</td>\n",
              "    </tr>\n",
              "    <tr>\n",
              "      <th>1</th>\n",
              "      <td>5</td>\n",
              "      <td>1.0</td>\n",
              "      <td>2.000000</td>\n",
              "    </tr>\n",
              "    <tr>\n",
              "      <th>2</th>\n",
              "      <td>5</td>\n",
              "      <td>2.0</td>\n",
              "      <td>3.166667</td>\n",
              "    </tr>\n",
              "    <tr>\n",
              "      <th>3</th>\n",
              "      <td>5</td>\n",
              "      <td>3.0</td>\n",
              "      <td>5.000000</td>\n",
              "    </tr>\n",
              "    <tr>\n",
              "      <th>4</th>\n",
              "      <td>5</td>\n",
              "      <td>4.0</td>\n",
              "      <td>8.000000</td>\n",
              "    </tr>\n",
              "  </tbody>\n",
              "</table>\n",
              "</div>"
            ],
            "text/plain": [
              "  model    x         y\n",
              "0     5  0.0  1.000000\n",
              "1     5  1.0  2.000000\n",
              "2     5  2.0  3.166667\n",
              "3     5  3.0  5.000000\n",
              "4     5  4.0  8.000000"
            ]
          },
          "metadata": {
            "tags": []
          },
          "execution_count": 51
        }
      ]
    },
    {
      "cell_type": "code",
      "metadata": {
        "id": "biWrCxEthGv6",
        "colab_type": "code",
        "colab": {
          "base_uri": "https://localhost:8080/",
          "height": 542
        },
        "outputId": "c9daed0b-5071-4829-aa63-1caac8399d90"
      },
      "source": [
        "import plotly.express as px\n",
        "\n",
        "fig = go.Figure()\n",
        "for predictions in models_predictions.groupby('model'):\n",
        "  fig.add_trace(go.Scatter(x=predictions[1]['x'], y=predictions[1]['y'], mode='lines+markers', name=f'Model {predictions[0]}'))\n",
        "  \n",
        "fig.show()"
      ],
      "execution_count": null,
      "outputs": [
        {
          "output_type": "display_data",
          "data": {
            "text/html": [
              "<html>\n",
              "<head><meta charset=\"utf-8\" /></head>\n",
              "<body>\n",
              "    <div>\n",
              "            <script src=\"https://cdnjs.cloudflare.com/ajax/libs/mathjax/2.7.5/MathJax.js?config=TeX-AMS-MML_SVG\"></script><script type=\"text/javascript\">if (window.MathJax) {MathJax.Hub.Config({SVG: {font: \"STIX-Web\"}});}</script>\n",
              "                <script type=\"text/javascript\">window.PlotlyConfig = {MathJaxConfig: 'local'};</script>\n",
              "        <script src=\"https://cdn.plot.ly/plotly-latest.min.js\"></script>    \n",
              "            <div id=\"a53f6560-f79b-4380-899d-69537069095f\" class=\"plotly-graph-div\" style=\"height:525px; width:100%;\"></div>\n",
              "            <script type=\"text/javascript\">\n",
              "                \n",
              "                    window.PLOTLYENV=window.PLOTLYENV || {};\n",
              "                    \n",
              "                if (document.getElementById(\"a53f6560-f79b-4380-899d-69537069095f\")) {\n",
              "                    Plotly.newPlot(\n",
              "                        'a53f6560-f79b-4380-899d-69537069095f',\n",
              "                        [{\"mode\": \"lines+markers\", \"name\": \"Model 5\", \"type\": \"scatter\", \"x\": [0.0, 1.0, 2.0, 3.0, 4.0, 5.0, 6.0, 7.0, 8.0, 9.0, 10.0, 11.0, 12.0, 13.0, 14.0, 15.0, 16.0, 17.0, 18.0, 19.0, 20.0, 21.0, 22.0, 23.0, 24.0, 25.0, 26.0, 27.0, 28.0, 29.0, 30.0, 31.0, 32.0, 33.0, 34.0, 35.0, 36.0, 37.0, 38.0, 39.0, 40.0, 41.0, 42.0, 43.0, 44.0, 45.0, 46.0, 47.0, 48.0, 49.0, 50.0, 51.0, 52.0, 53.0, 54.0, 55.0, 56.0, 57.0, 58.0, 59.0, 60.0, 61.0, 62.0, 63.0, 64.0, 65.0, 66.0, 67.0, 68.0, 69.0, 70.0, 71.0, 72.0, 73.0, 74.0, 75.0, 76.0, 77.0, 78.0, 79.0, 80.0, 81.0, 82.0, 83.0, 84.0, 85.0, 86.0, 87.0, 88.0, 89.0, 90.0, 91.0, 92.0, 93.0, 94.0, 95.0, 96.0, 97.0, 98.0, 99.0, 100.0, 101.0, 102.0, 103.0, 104.0, 105.0, 106.0, 107.0, 108.0, 109.0, 110.0, 111.0, 112.0, 113.0, 114.0, 115.0, 116.0, 117.0, 118.0, 119.0, 120.0, 121.0, 122.0, 123.0, 124.0, 125.0, 126.0, 127.0, 128.0, 129.0, 130.0, 131.0, 132.0, 133.0, 134.0, 135.0, 136.0, 137.0, 138.0, 139.0, 140.0, 141.0, 142.0, 143.0, 144.0, 145.0, 146.0, 147.0, 148.0, 149.0, 150.0, 151.0, 152.0, 153.0, 154.0, 155.0, 156.0, 157.0, 158.0, 159.0, 160.0, 161.0, 162.0, 163.0, 164.0, 165.0, 166.0, 167.0, 168.0, 169.0, 170.0, 171.0, 172.0, 173.0, 174.0, 175.0, 176.0, 177.0, 178.0, 179.0, 180.0, 181.0, 182.0, 183.0, 184.0, 185.0, 186.0, 187.0, 188.0, 189.0, 190.0, 191.0, 192.0, 193.0, 194.0, 195.0, 196.0, 197.0, 198.0, 199.0, 200.0, 201.0, 202.0, 203.0, 204.0, 205.0, 206.0, 207.0, 208.0, 209.0, 210.0, 211.0, 212.0, 213.0, 214.0, 215.0, 216.0, 217.0, 218.0, 219.0, 220.0, 221.0, 222.0, 223.0, 224.0, 225.0, 226.0, 227.0, 228.0, 229.0, 230.0, 231.0, 232.0, 233.0, 234.0, 235.0, 236.0, 237.0, 238.0, 239.0, 240.0, 241.0, 242.0, 243.0, 244.0, 245.0, 246.0, 247.0, 248.0, 249.0, 250.0, 251.0, 252.0, 253.0, 254.0, 255.0, 256.0, 257.0, 258.0, 259.0, 260.0, 261.0, 262.0, 263.0, 264.0, 265.0, 266.0, 267.0, 268.0, 269.0, 270.0, 271.0, 272.0, 273.0, 274.0, 275.0, 276.0, 277.0, 278.0, 279.0, 280.0, 281.0, 282.0, 283.0, 284.0, 285.0, 286.0, 287.0, 288.0, 289.0, 290.0, 291.0, 292.0, 293.0, 294.0, 295.0, 296.0, 297.0, 298.0, 299.0], \"y\": [0.9999999999999991, 2.000000000000006, 3.166666666666673, 5.000000000000002, 7.999999999999994, 12.66666666666665, 19.49999999999998, 28.99999999999998, 41.66666666666664, 57.99999999999999, 78.50000000000001, 103.66666666666671, 134.00000000000009, 170.00000000000017, 212.1666666666669, 261.00000000000034, 317.0000000000005, 380.6666666666673, 452.50000000000085, 533.000000000001, 622.666666666668, 722.0000000000016, 831.5000000000019, 951.6666666666689, 1083.0000000000027, 1226.0000000000032, 1381.1666666666704, 1549.000000000004, 1730.0000000000048, 1924.666666666672, 2133.500000000006, 2357.000000000007, 2595.6666666666742, 2850.0000000000086, 3120.5000000000095, 3407.666666666677, 3712.0000000000114, 4034.0000000000127, 4374.166666666681, 4733.0000000000155, 5111.000000000016, 5508.666666666684, 5926.500000000019, 6365.000000000021, 6824.66666666669, 7306.000000000025, 7809.500000000026, 8335.666666666695, 8885.000000000031, 9458.000000000033, 10055.166666666702, 10677.000000000038, 11324.00000000004, 11996.66666666671, 12695.500000000045, 13421.000000000047, 14173.666666666717, 14954.000000000055, 15762.500000000056, 16599.666666666726, 17466.000000000062, 18362.000000000065, 19288.166666666737, 20245.000000000073, 21233.00000000008, 22252.666666666748, 23304.500000000087, 24389.00000000009, 25506.666666666762, 26658.0000000001, 27843.500000000106, 29063.666666666777, 30319.000000000113, 31610.00000000012, 32937.166666666795, 34301.00000000013, 35702.00000000014, 37140.66666666681, 38617.500000000146, 40133.00000000015, 41687.666666666824, 43282.00000000017, 44916.500000000175, 46591.666666666846, 48308.00000000019, 50066.0000000002, 51866.16666666687, 53709.00000000021, 55595.00000000022, 57524.66666666689, 59498.50000000023, 61517.00000000024, 63580.66666666692, 65690.00000000026, 67845.50000000026, 70047.66666666695, 72297.00000000029, 74594.00000000029, 76939.16666666698, 79333.00000000032, 81776.00000000032, 84268.666666667, 86811.50000000035, 89405.00000000035, 92049.66666666704, 94746.00000000038, 97494.5000000004, 100295.66666666706, 103150.00000000041, 106058.00000000042, 109020.16666666711, 112037.00000000045, 115109.00000000047, 118236.66666666714, 121420.5000000005, 124661.0000000005, 127958.66666666718, 131314.00000000052, 134727.50000000055, 138199.66666666724, 141731.00000000058, 145322.00000000058, 148973.16666666727, 152685.0000000006, 156458.00000000064, 160292.66666666733, 164189.50000000067, 168149.00000000067, 172171.66666666736, 176258.00000000073, 180408.50000000073, 184623.6666666674, 188904.00000000076, 193250.0000000008, 197662.16666666747, 202141.00000000081, 206687.00000000084, 211300.66666666753, 215982.50000000087, 220733.0000000009, 225552.6666666676, 230442.00000000093, 235401.50000000096, 240431.66666666765, 245533.00000000102, 250706.00000000102, 255951.1666666677, 261269.00000000108, 266660.0000000011, 272124.6666666678, 277663.50000000116, 283277.00000000116, 288965.66666666785, 294730.0000000012, 300570.5000000012, 306487.6666666679, 312482.0000000013, 318554.00000000134, 324704.166666668, 330933.0000000014, 337241.0000000014, 343628.6666666681, 350096.50000000146, 356645.00000000146, 363274.6666666682, 369986.0000000015, 376779.5000000016, 383655.66666666826, 390615.00000000163, 397658.00000000163, 404785.1666666684, 411997.0000000017, 419294.00000000175, 426676.66666666843, 434145.5000000018, 441701.00000000186, 449343.66666666855, 457074.0000000019, 464892.5000000019, 472799.66666666867, 480796.000000002, 488882.00000000204, 497058.1666666687, 505325.0000000021, 513683.00000000215, 522132.66666666884, 530674.5000000022, 539309.0000000022, 548036.666666669, 556858.0000000023, 565773.5000000023, 574783.6666666691, 583889.0000000024, 593090.0000000024, 602387.1666666692, 611781.0000000026, 621272.0000000026, 630860.6666666693, 640547.5000000027, 650333.0000000027, 660217.6666666694, 670202.0000000028, 680286.5000000029, 690471.6666666695, 700758.0000000029, 711146.000000003, 721636.1666666697, 732229.000000003, 742925.0000000031, 753724.6666666699, 764628.5000000033, 775637.0000000033, 786750.66666667, 797970.0000000034, 809295.5000000034, 820727.6666666701, 832267.0000000035, 843914.0000000036, 855669.1666666702, 867533.0000000036, 879506.0000000037, 891588.6666666705, 903781.5000000038, 916085.0000000038, 928499.6666666706, 941026.000000004, 953664.5000000041, 966415.6666666707, 979280.0000000042, 992258.0000000042, 1005350.1666666709, 1018557.0000000043, 1031879.0000000044, 1045316.666666671, 1058870.5000000044, 1072541.0000000047, 1086328.6666666712, 1100234.0000000047, 1114257.5000000047, 1128399.6666666714, 1142661.000000005, 1157042.000000005, 1171543.1666666716, 1186165.0000000051, 1200908.0000000051, 1215772.6666666719, 1230759.5000000051, 1245869.0000000054, 1261101.666666672, 1276458.0000000054, 1291938.5000000056, 1307543.6666666723, 1323274.0000000056, 1339130.0000000056, 1355112.1666666723, 1371221.0000000058, 1387457.0000000058, 1403820.6666666726, 1420312.500000006, 1436933.000000006, 1453682.6666666728, 1470562.0000000063, 1487571.5000000063, 1504711.666666673, 1521983.0000000065, 1539386.0000000065, 1556921.1666666733, 1574589.0000000068, 1592390.0000000068, 1610324.6666666735, 1628393.500000007, 1646597.000000007, 1664935.6666666737, 1683410.0000000072, 1702020.5000000072, 1720767.666666674, 1739652.0000000075, 1758674.0000000075, 1777834.1666666742, 1797133.0000000077, 1816571.0000000077, 1836148.6666666744, 1855866.500000008, 1875725.000000008, 1895724.6666666747, 1915866.0000000081, 1936149.5000000084, 1956575.6666666751, 1977145.0000000084, 1997858.0000000086, 2018715.1666666754, 2039717.0000000086, 2060864.0000000088, 2082156.6666666756, 2103595.500000009, 2125181.0000000093, 2146913.666666676, 2168794.0000000093, 2190822.5000000093, 2212999.6666666763]}, {\"mode\": \"lines+markers\", \"name\": \"Model 10\", \"type\": \"scatter\", \"x\": [0.0, 1.0, 2.0, 3.0, 4.0, 5.0, 6.0, 7.0, 8.0, 9.0, 10.0, 11.0, 12.0, 13.0, 14.0, 15.0, 16.0, 17.0, 18.0, 19.0, 20.0, 21.0, 22.0, 23.0, 24.0, 25.0, 26.0, 27.0, 28.0, 29.0, 30.0, 31.0, 32.0, 33.0, 34.0, 35.0, 36.0, 37.0, 38.0, 39.0, 40.0, 41.0, 42.0, 43.0, 44.0, 45.0, 46.0, 47.0, 48.0, 49.0, 50.0, 51.0, 52.0, 53.0, 54.0, 55.0, 56.0, 57.0, 58.0, 59.0, 60.0, 61.0, 62.0, 63.0, 64.0, 65.0, 66.0, 67.0, 68.0, 69.0, 70.0, 71.0, 72.0, 73.0, 74.0, 75.0, 76.0, 77.0, 78.0, 79.0, 80.0, 81.0, 82.0, 83.0, 84.0, 85.0, 86.0, 87.0, 88.0, 89.0, 90.0, 91.0, 92.0, 93.0, 94.0, 95.0, 96.0, 97.0, 98.0, 99.0, 100.0, 101.0, 102.0, 103.0, 104.0, 105.0, 106.0, 107.0, 108.0, 109.0, 110.0, 111.0, 112.0, 113.0, 114.0, 115.0, 116.0, 117.0, 118.0, 119.0, 120.0, 121.0, 122.0, 123.0, 124.0, 125.0, 126.0, 127.0, 128.0, 129.0, 130.0, 131.0, 132.0, 133.0, 134.0, 135.0, 136.0, 137.0, 138.0, 139.0, 140.0, 141.0, 142.0, 143.0, 144.0, 145.0, 146.0, 147.0, 148.0, 149.0, 150.0, 151.0, 152.0, 153.0, 154.0, 155.0, 156.0, 157.0, 158.0, 159.0, 160.0, 161.0, 162.0, 163.0, 164.0, 165.0, 166.0, 167.0, 168.0, 169.0, 170.0, 171.0, 172.0, 173.0, 174.0, 175.0, 176.0, 177.0, 178.0, 179.0, 180.0, 181.0, 182.0, 183.0, 184.0, 185.0, 186.0, 187.0, 188.0, 189.0, 190.0, 191.0, 192.0, 193.0, 194.0, 195.0, 196.0, 197.0, 198.0, 199.0, 200.0, 201.0, 202.0, 203.0, 204.0, 205.0, 206.0, 207.0, 208.0, 209.0, 210.0, 211.0, 212.0, 213.0, 214.0, 215.0, 216.0, 217.0, 218.0, 219.0, 220.0, 221.0, 222.0, 223.0, 224.0, 225.0, 226.0, 227.0, 228.0, 229.0, 230.0, 231.0, 232.0, 233.0, 234.0, 235.0, 236.0, 237.0, 238.0, 239.0, 240.0, 241.0, 242.0, 243.0, 244.0, 245.0, 246.0, 247.0, 248.0, 249.0, 250.0, 251.0, 252.0, 253.0, 254.0, 255.0, 256.0, 257.0, 258.0, 259.0, 260.0, 261.0, 262.0, 263.0, 264.0, 265.0, 266.0, 267.0, 268.0, 269.0, 270.0, 271.0, 272.0, 273.0, 274.0, 275.0, 276.0, 277.0, 278.0, 279.0, 280.0, 281.0, 282.0, 283.0, 284.0, 285.0, 286.0, 287.0, 288.0, 289.0, 290.0, 291.0, 292.0, 293.0, 294.0, 295.0, 296.0, 297.0, 298.0, 299.0], \"y\": [0.6318407960197021, 1.9430122116686959, 3.1160108548166177, 4.820895522387918, 7.727725011307045, 12.50655811849845, 19.827453640886585, 30.360470375395895, 44.775667118950835, 63.74310266847585, 87.9328358208954, 118.01492537313392, 154.65943012211588, 198.53640886476572, 250.31592039800788, 310.66802351876674, 380.2627770239669, 459.7702397105328, 549.8604703753888, 651.2035278154593, 764.4694708276689, 890.328358208942, 1029.450248756203, 1182.5052012663764, 1350.1632745363866, 1533.094527363158, 1731.9690185436152, 1947.4568068746826, 2180.2279511532847, 2430.9525101763456, 2700.30054274079, 2988.942107643543, 3297.547263681528, 3626.78606965167, 3977.328584350893, 4349.8448665761225, 4745.004975124281, 5163.478968792295, 5605.936906377088, 6073.048846675585, 6565.48484848471, 7083.914970601387, 7629.0092718225405, 8201.437810945095, 8801.870646765976, 9430.977838082108, 10089.429443690415, 10777.89552238782, 11497.046132971249, 12247.551334237625, 13030.081184983876, 13845.305744006922, 14693.89507010369, 15576.519222071105, 16493.84825870609, 17446.55223880557, 18435.301221166468, 19460.76526458571, 20523.61442786022, 21624.518769786922, 22764.148349162744, 23943.173224784605, 25162.263455449433, 26422.089099954148, 27723.32021709568, 29066.626865670954, 30452.679104476887, 31882.146992310412, 33355.70058796845, 34874.00995024792, 36437.745137945756, 38047.576209858875, 39704.17322478421, 41408.206241518674, 43160.345318859196, 44961.260515602706, 46811.62189054613, 48712.09950248637, 50663.36341022038, 52666.08367254507, 54720.93034825737, 56828.57349615419, 58989.68317503247, 61204.92944368913, 63474.982360921094, 65800.51198552529, 68182.18837629863, 70620.68159203805, 73116.66169154047, 75670.79873360283, 78283.76277702203, 80956.223880595, 83688.85210311867, 86482.31750338998, 89337.29014020582, 92254.44007236314, 95234.43735865886, 98277.9520578899, 101385.65422885318, 104558.21393034564, 107796.30122116418, 111100.58616010575, 114471.73880596727, 117910.42921754565, 121417.32745363782, 124993.10357304072, 128638.42763455125, 132353.96969696632, 136140.39981908293, 139998.38805969793, 143928.60447760829, 147931.71913161088, 152008.40208050268, 156159.3233830806, 160385.15309814154, 164686.56128448245, 169064.21800090023, 173518.79330619186, 178050.95725915418, 182661.3799185842, 187350.73134327878, 192119.68159203487, 196968.9007236494, 201899.05879691927, 206910.82587064145, 212004.8720036128, 217181.8672546303, 222442.48168249088, 227787.3853459914, 233217.24830392885, 238732.74061510013, 244334.53233830215, 250023.29353233185, 255799.69425598616, 261664.404568062, 267618.09452735627, 273661.43419266597, 279795.0936227879, 286019.7428765191, 292336.0520126564, 298744.69108999684, 305246.3301673372, 311841.6393034745, 318531.2885572057, 325315.94798732764, 332196.2876526373, 339172.9776119315, 346246.6879240073, 353418.08864766156, 360687.8498416912, 368056.6415648932, 375525.13387606444, 383093.9968340018, 390763.9004975023, 398535.5149253628, 406409.5101763802, 414386.55630935146, 422467.32338307356, 430652.4814563434, 438942.7005879578, 447338.6508367138, 455841.00226140826, 464450.42492083815, 473167.5888738004, 481993.16417909187, 490927.82089550956, 499972.2290818503, 509127.05879691115, 518392.9800994889, 527770.6630483805, 537260.777702383, 546863.9941202932, 556580.9823609081, 566412.4124830244, 576358.9545454393, 586421.2786069497, 596600.0547263524, 606895.9529624444, 617309.6433740227, 627841.796019884, 638493.0809588253, 649264.1682496436, 660155.727951136, 671168.430122099, 682302.9448213298, 693559.9421076253, 704940.0920397824, 716444.064676598, 728072.5300768691, 739826.1582993924, 751705.6194029652, 763711.5834463842, 775844.7204884463, 788105.7005879484, 800495.1938036876, 813013.8701944606, 825662.3998190645, 838441.4527362962, 851351.6990049526, 864393.8086838305, 877568.451831727, 890876.2985074391, 904318.0187697635, 917894.2826774971, 931605.7602894371, 945453.1216643802, 959437.0368611234, 973558.1759384635, 987817.2089551977, 1002214.8059701227, 1016751.6370420355, 1031428.3722297329, 1046245.681592012, 1061204.2351876698, 1076304.7030755028, 1091547.7553143085, 1106934.0619628832, 1122464.2930800244, 1138139.1187245287, 1153959.2089551932, 1169925.2338308147, 1186037.86341019, 1202297.7677521163, 1218705.6169153906, 1235262.0809588092, 1251967.8299411698, 1268823.5339212688, 1285829.8629579034, 1302987.4871098704, 1320297.0764359667, 1337759.3009949892, 1355374.830845735, 1373144.336047001, 1391068.4866575839, 1409147.9527362809, 1427383.4043418886, 1445775.5115332045, 1464324.9443690248, 1483032.3729081468, 1501898.4672093675, 1520923.8973314837, 1540109.3333332923, 1559455.4452735903, 1578962.9032111745, 1598632.377204842, 1618464.5373133896, 1638460.0535956144, 1658619.596110313, 1678943.8349162827, 1699433.4400723202, 1720089.0816372223, 1740911.4296697862, 1761901.1542288086, 1783058.9253730867, 1804385.4131614172, 1825881.287652597, 1847547.2189054233, 1869383.8769786926, 1891391.9319312023, 1913572.053821749, 1935924.9127091295, 1958451.1786521412, 1981151.5217095807, 2004026.611940245, 2027077.1194029308, 2050303.7141564353, 2073707.0662595555, 2097287.8457710883, 2121046.72274983, 2144984.3672545785, 2169101.4493441302, 2193398.639077282, 2217876.606512831, 2242536.021709574, 2267377.5547263077, 2292401.875621829, 2317609.654454936, 2343001.5612844243, 2368578.266169091, 2394340.4391677333, 2420288.7503391486, 2446423.8697421327, 2472746.4674354834, 2499257.2134779976, 2525956.7779284716, 2552845.830845703, 2579925.0422884882, 2607195.0823156247, 2634656.620985909, 2662310.328358138, 2690156.8744911086, 2718196.929443618, 2746431.163274463, 2774860.2460424406, 2803484.8478063475, 2832305.6386249806, 2861323.2885571374, 2890538.467661614, 2919951.8459972083, 2949564.093622716]}, {\"mode\": \"lines+markers\", \"name\": \"Model 15\", \"type\": \"scatter\", \"x\": [0.0, 1.0, 2.0, 3.0, 4.0, 5.0, 6.0, 7.0, 8.0, 9.0, 10.0, 11.0, 12.0, 13.0, 14.0, 15.0, 16.0, 17.0, 18.0, 19.0, 20.0, 21.0, 22.0, 23.0, 24.0, 25.0, 26.0, 27.0, 28.0, 29.0, 30.0, 31.0, 32.0, 33.0, 34.0, 35.0, 36.0, 37.0, 38.0, 39.0, 40.0, 41.0, 42.0, 43.0, 44.0, 45.0, 46.0, 47.0, 48.0, 49.0, 50.0, 51.0, 52.0, 53.0, 54.0, 55.0, 56.0, 57.0, 58.0, 59.0, 60.0, 61.0, 62.0, 63.0, 64.0, 65.0, 66.0, 67.0, 68.0, 69.0, 70.0, 71.0, 72.0, 73.0, 74.0, 75.0, 76.0, 77.0, 78.0, 79.0, 80.0, 81.0, 82.0, 83.0, 84.0, 85.0, 86.0, 87.0, 88.0, 89.0, 90.0, 91.0, 92.0, 93.0, 94.0, 95.0, 96.0, 97.0, 98.0, 99.0, 100.0, 101.0, 102.0, 103.0, 104.0, 105.0, 106.0, 107.0, 108.0, 109.0, 110.0, 111.0, 112.0, 113.0, 114.0, 115.0, 116.0, 117.0, 118.0, 119.0, 120.0, 121.0, 122.0, 123.0, 124.0, 125.0, 126.0, 127.0, 128.0, 129.0, 130.0, 131.0, 132.0, 133.0, 134.0, 135.0, 136.0, 137.0, 138.0, 139.0, 140.0, 141.0, 142.0, 143.0, 144.0, 145.0, 146.0, 147.0, 148.0, 149.0, 150.0, 151.0, 152.0, 153.0, 154.0, 155.0, 156.0, 157.0, 158.0, 159.0, 160.0, 161.0, 162.0, 163.0, 164.0, 165.0, 166.0, 167.0, 168.0, 169.0, 170.0, 171.0, 172.0, 173.0, 174.0, 175.0, 176.0, 177.0, 178.0, 179.0, 180.0, 181.0, 182.0, 183.0, 184.0, 185.0, 186.0, 187.0, 188.0, 189.0, 190.0, 191.0, 192.0, 193.0, 194.0, 195.0, 196.0, 197.0, 198.0, 199.0, 200.0, 201.0, 202.0, 203.0, 204.0, 205.0, 206.0, 207.0, 208.0, 209.0, 210.0, 211.0, 212.0, 213.0, 214.0, 215.0, 216.0, 217.0, 218.0, 219.0, 220.0, 221.0, 222.0, 223.0, 224.0, 225.0, 226.0, 227.0, 228.0, 229.0, 230.0, 231.0, 232.0, 233.0, 234.0, 235.0, 236.0, 237.0, 238.0, 239.0, 240.0, 241.0, 242.0, 243.0, 244.0, 245.0, 246.0, 247.0, 248.0, 249.0, 250.0, 251.0, 252.0, 253.0, 254.0, 255.0, 256.0, 257.0, 258.0, 259.0, 260.0, 261.0, 262.0, 263.0, 264.0, 265.0, 266.0, 267.0, 268.0, 269.0, 270.0, 271.0, 272.0, 273.0, 274.0, 275.0, 276.0, 277.0, 278.0, 279.0, 280.0, 281.0, 282.0, 283.0, 284.0, 285.0, 286.0, 287.0, 288.0, 289.0, 290.0, 291.0, 292.0, 293.0, 294.0, 295.0, 296.0, 297.0, 298.0, 299.0], \"y\": [-0.9880510936056766, 3.1752709945887654, 5.717763496438172, 7.60694165657204, 9.81032071961986, 13.295415930211128, 19.02974253297534, 27.980815772541987, 41.11615089354056, 59.403263140600565, 83.8096677583515, 115.30287999142281, 154.85041508444408, 203.4197882820447, 261.9785148288542, 331.4941099695021, 412.93408894861795, 507.26596701083116, 615.4572594007711, 738.4754813630676, 877.2881481423499, 1032.8627749832476, 1206.16687713039, 1398.1679698284067, 1609.8335683219275, 1842.1311878555816, 2096.0283436739987, 2372.4925510218077, 2672.4913251436387, 2996.9921812841208, 3346.962634687884, 3723.3702005995574, 4127.18239426377, 4559.366730925153, 5020.890725828334, 5512.721894217943, 6035.827751338611, 6591.175812434965, 7179.733592751636, 7802.468607533254, 8460.348372024448, 9154.340401469846, 9885.412211114079, 10654.531316201776, 11462.665231977568, 12310.781473686082, 13199.84755657195, 14130.830995879798, 15104.69930685426, 16122.42000473996, 17184.960604781536, 18293.28862222361, 19448.37157231081, 20651.176970287772, 21902.67233139912, 23203.82517088949, 24555.603004003508, 25958.9733459858, 27414.903712081003, 28924.361617533737, 30488.31457758864, 32107.730107490337, 33783.57572248346, 35516.81893781263, 37308.427268722495, 39159.368230457665, 41070.60933826278, 43043.11810738247, 45077.862053061355, 47175.80869054407, 49337.92553507526, 51565.180101899525, 53858.53990626152, 56218.97246340585, 58647.445288577175, 61144.9258970201, 63712.38180397926, 66350.7805246993, 69061.08957442481, 71844.27646840047, 74701.30872187088, 77633.15385008068, 80640.77936827448, 83725.15279169694, 86887.24163559265, 90128.01341520628, 93448.43564578245, 96849.47584256576, 100332.10152080088, 103897.28019573241, 107545.979382605, 111279.16659666327, 115097.80935315184, 119002.87516731536, 122995.33155439844, 127076.14602964572, 131246.2861083018, 135506.71930561136, 139858.41313681903, 144302.3351171694, 148839.4527619071, 153470.7335862768, 158197.1451055231, 163019.6548348906, 167939.23028962399, 172956.83898496788, 178073.4484361669, 183290.02615846563, 188607.53966710877, 194026.95647734092, 199549.2441044067, 205175.37006355077, 210906.30187001772, 216743.0070390522, 222686.45308589886, 228737.60752580228, 234897.43787400713, 241166.91164575802, 247546.9963562996, 254038.65952087648, 260642.8686547333, 267360.5912731147, 274192.7948912653, 281140.4470244297, 288204.51518785255, 295385.96689677844, 302685.7696664521, 310104.8910121181, 317644.29844902107, 325304.9594924056, 333087.8416575164, 340993.91245959804, 349024.1394138952, 357179.4900356524, 365460.9318401144, 373869.4323425258, 382405.9590581312, 391071.47950217524, 399866.9611899025, 408793.3716365577, 417851.67835738545, 427042.8488676303, 436367.85068253695, 445827.65131735, 455423.2182873141, 465155.5191076739, 475025.52129367396, 485034.192360559, 495182.49982357357, 505471.41119796236, 515901.8939989699, 526474.915741841, 537191.4439418201, 548052.4461141519, 559058.889774081, 570211.7424368522, 581511.9716177098, 592960.5448318988, 604558.4295946637, 616306.593421249, 628206.0038268993, 640257.6283268594, 652462.434436374, 664821.3896706875, 677335.4615450447, 690005.6175746901, 702832.8252748684, 715818.0521608243, 728962.2657478023, 742266.433551047, 755731.5230858033, 769358.5018673155, 783148.3374108283, 797101.9972315865, 811220.4488448347, 825504.6597658173, 839955.5975097792, 854574.2295919649, 869361.523527619, 884318.4468319862, 899445.967020311, 914745.0516078384, 930216.6681098125, 945861.7840414783, 961681.3669180804, 977676.3842548633, 993847.8035670716, 1010196.59236995, 1026723.7181787433, 1043430.1485086958, 1060316.8508750524, 1077384.7927930576, 1094634.941777956, 1112068.2653449925, 1129685.7310094114, 1147488.3062864572, 1165476.958691375, 1183652.6557394094, 1202016.3649458045, 1220569.0538258054, 1239311.6898946567, 1258245.2406676027, 1277370.6736598883, 1296688.9563867582, 1316201.0563634569, 1335907.941105229, 1355810.5781273192, 1375909.9349449722, 1396206.9790734323, 1416702.6780279446, 1437397.9993237534, 1458293.9104761032, 1479391.379000239, 1500691.3724114054, 1522194.858224847, 1543902.803955808, 1565816.1771195335, 1587935.945231268, 1610263.0758062562, 1632798.5363597425, 1655543.294406972, 1678498.3174631887, 1701664.5730436377, 1725043.0286635633, 1748634.6518382104, 1772440.4100828236, 1796461.2709126475, 1820698.2018429264, 1845152.1703889056, 1869824.1440658292, 1894715.0903889418, 1919825.9768734884, 1945157.7710347134, 1970711.4403878616, 1996487.9524481774, 2022488.2747309054, 2048713.3747512905, 2075164.220024577, 2101841.7780660097, 2128747.0163908335, 2155880.902514293, 2183244.403951632, 2210838.488218096, 2238664.1228289297, 2266722.275299377, 2295013.913144683, 2323540.003880092, 2352301.515020849, 2381299.414082199, 2410534.6685793856, 2440008.246027654, 2469721.113942249, 2499674.239838415, 2529868.591231397, 2560305.1356364386, 2590984.8405687856, 2621908.673543682, 2653077.602076372, 2684492.593682102, 2716154.6158761145, 2748064.6361736553, 2780223.622089969, 2812632.5411402998, 2845292.3608398926, 2878204.048703992, 2911368.572247843, 2944786.8989866893, 2978459.996435776, 3012388.832110348, 3046574.37352565, 3081017.588196926, 3115719.443639421, 3150680.9073683796, 3185902.9468990467, 3221386.5297466666, 3257132.623426484, 3293142.1954537435, 3329416.2133436897, 3365955.6446115673, 3402761.4567726213, 3439834.6173420954, 3477176.093835235, 3514786.8537672847, 3552667.8646534886, 3590820.094009092, 3629244.509349339, 3667942.0781894745, 3706913.768044743, 3746160.5464303894, 3785683.3808616577, 3825483.2388537936, 3865561.0879220404, 3905917.8955816436, 3946554.629347848, 3987472.2567358976, 4028671.7452610373, 4070154.0624385118, 4111920.1757835653, 4153971.0528114433, 4196307.66103739]}, {\"mode\": \"lines+markers\", \"name\": \"Model 20\", \"type\": \"scatter\", \"x\": [0.0, 1.0, 2.0, 3.0, 4.0, 5.0, 6.0, 7.0, 8.0, 9.0, 10.0, 11.0, 12.0, 13.0, 14.0, 15.0, 16.0, 17.0, 18.0, 19.0, 20.0, 21.0, 22.0, 23.0, 24.0, 25.0, 26.0, 27.0, 28.0, 29.0, 30.0, 31.0, 32.0, 33.0, 34.0, 35.0, 36.0, 37.0, 38.0, 39.0, 40.0, 41.0, 42.0, 43.0, 44.0, 45.0, 46.0, 47.0, 48.0, 49.0, 50.0, 51.0, 52.0, 53.0, 54.0, 55.0, 56.0, 57.0, 58.0, 59.0, 60.0, 61.0, 62.0, 63.0, 64.0, 65.0, 66.0, 67.0, 68.0, 69.0, 70.0, 71.0, 72.0, 73.0, 74.0, 75.0, 76.0, 77.0, 78.0, 79.0, 80.0, 81.0, 82.0, 83.0, 84.0, 85.0, 86.0, 87.0, 88.0, 89.0, 90.0, 91.0, 92.0, 93.0, 94.0, 95.0, 96.0, 97.0, 98.0, 99.0, 100.0, 101.0, 102.0, 103.0, 104.0, 105.0, 106.0, 107.0, 108.0, 109.0, 110.0, 111.0, 112.0, 113.0, 114.0, 115.0, 116.0, 117.0, 118.0, 119.0, 120.0, 121.0, 122.0, 123.0, 124.0, 125.0, 126.0, 127.0, 128.0, 129.0, 130.0, 131.0, 132.0, 133.0, 134.0, 135.0, 136.0, 137.0, 138.0, 139.0, 140.0, 141.0, 142.0, 143.0, 144.0, 145.0, 146.0, 147.0, 148.0, 149.0, 150.0, 151.0, 152.0, 153.0, 154.0, 155.0, 156.0, 157.0, 158.0, 159.0, 160.0, 161.0, 162.0, 163.0, 164.0, 165.0, 166.0, 167.0, 168.0, 169.0, 170.0, 171.0, 172.0, 173.0, 174.0, 175.0, 176.0, 177.0, 178.0, 179.0, 180.0, 181.0, 182.0, 183.0, 184.0, 185.0, 186.0, 187.0, 188.0, 189.0, 190.0, 191.0, 192.0, 193.0, 194.0, 195.0, 196.0, 197.0, 198.0, 199.0, 200.0, 201.0, 202.0, 203.0, 204.0, 205.0, 206.0, 207.0, 208.0, 209.0, 210.0, 211.0, 212.0, 213.0, 214.0, 215.0, 216.0, 217.0, 218.0, 219.0, 220.0, 221.0, 222.0, 223.0, 224.0, 225.0, 226.0, 227.0, 228.0, 229.0, 230.0, 231.0, 232.0, 233.0, 234.0, 235.0, 236.0, 237.0, 238.0, 239.0, 240.0, 241.0, 242.0, 243.0, 244.0, 245.0, 246.0, 247.0, 248.0, 249.0, 250.0, 251.0, 252.0, 253.0, 254.0, 255.0, 256.0, 257.0, 258.0, 259.0, 260.0, 261.0, 262.0, 263.0, 264.0, 265.0, 266.0, 267.0, 268.0, 269.0, 270.0, 271.0, 272.0, 273.0, 274.0, 275.0, 276.0, 277.0, 278.0, 279.0, 280.0, 281.0, 282.0, 283.0, 284.0, 285.0, 286.0, 287.0, 288.0, 289.0, 290.0, 291.0, 292.0, 293.0, 294.0, 295.0, 296.0, 297.0, 298.0, 299.0], \"y\": [-2.581398160667419, 1.4073570712550425, 3.9556146104654797, 6.006932422612945, 8.504868473346484, 12.392980728315152, 18.614827153168, 28.11396571355407, 41.83395437512243, 60.71835110352212, 85.71071386440218, 117.75460062341169, 157.79356934619966, 206.77117799841517, 265.6309845457073, 335.31654695372504, 416.7714231881174, 510.93917121453364, 618.7633489986226, 741.1875145060334, 879.155225702415, 1033.6100405534164, 1205.4955170246872, 1395.7552130818758, 1605.3326866906314, 1835.1714958166033, 2086.2151984254406, 2359.407352482792, 2655.6915159543064, 2976.011246805633, 3321.310103002422, 3692.5316425103206, 4090.619423294979, 4516.517003322046, 4971.16794055717, 5455.515792966002, 5970.504118514188, 6517.07647516738, 7096.1764208912255, 7708.747513651373, 8355.733311413473, 9038.077372143174, 9756.723253806125, 10512.614514367975, 11306.694711794373, 12139.907404050968, 13013.196149103409, 13927.504504917346, 14883.776029458428, 15882.954280692302, 16925.98281658462, 18013.805195101027, 19147.36497420718, 20327.605711868717, 21555.470966051293, 22831.90429472056, 24157.84925584216, 25534.249407381747, 26962.04830730497, 28442.189513577476, 29975.616584164913, 31563.273077032933, 33206.10255014718, 34905.04856147331, 36661.054668976976, 38475.06443062382, 40348.021404379484, 42280.869148209626, 44274.55122007989, 46330.01117795593, 48448.1925798034, 50630.03898358794, 52876.493947275194, 55188.501028830826, 57567.00378622048, 60012.9457774098, 62527.270560364435, 65110.92169305003, 67764.84273343226, 70489.97723947675, 73287.26876914914, 76157.6608804151, 79102.09713124028, 82121.52107959031, 85216.87628343086, 88389.10630072755, 91639.15468944606, 94967.96500755203, 98376.48081301112, 101865.64566378895, 105436.40311785118, 109089.69673316347, 112826.47006769145, 116647.6666794008, 120554.23012625714, 124547.10396622613, 128627.23175727343, 132795.55705736467, 137053.0234244655, 141400.57441654158, 145839.15359155857, 150369.7045074821, 154993.1707222778, 159710.49579391137, 164522.6232803484, 169430.4967395546, 174435.05972949555, 179537.25580813698, 184738.02853344448, 190038.32146338373, 195439.07815592035, 200941.24216902, 206545.75706064835, 212253.56638877103, 218065.61371135368, 223982.84258636198, 230006.19657176154, 236136.61922551802, 242375.0541055971, 248722.4447699644, 255179.73477658557, 261747.86768342627, 268427.7870484521, 275220.43642962887, 282126.75938492204, 289147.69947229733, 296284.20024972036, 303537.2052751569, 310907.6581065724, 318396.50230193266, 326004.6814192033, 333733.13901635, 341582.8186513383, 349554.6638821339, 357649.6182667025, 365868.6253630097, 374212.6287290212, 382682.57192270254, 391279.39850201947, 400004.0520249376, 408857.4760494226, 417840.6141334401, 426954.40983495576, 436199.8067119352, 445577.74832234415, 455089.17822414817, 464735.03997531295, 474516.2771338041, 484433.83325758734, 494488.6519046282, 504681.6766328925, 515013.8510003457, 525486.1185649537, 536099.4228846818, 546854.707517496, 557752.9160213617, 568794.9919542447, 579981.8788741106, 591314.520338925, 602793.8599066536, 614420.841135262, 626196.407582716, 638121.502806981, 650197.0703660229, 662424.0538178071, 674803.3967202995, 687336.0426314656, 700022.9351092711, 712865.0177116815, 725863.2339966628, 739018.5275221802, 752331.8418461998, 765804.1205266869, 779436.3071216072, 793229.3451889266, 807184.1782866105, 821301.7499726246, 835583.0038049346, 850028.8833415061, 864640.3321403047, 879418.2937592963, 894363.7117564463, 909477.5296897204, 924760.6911170841, 940214.1395965035, 955838.8186859437, 971635.6719433708, 987605.6429267502, 1003749.6751940476, 1020068.7123032287, 1036563.6978122591, 1053235.5752791045, 1070085.2882617305, 1087113.7803181026, 1104321.9950061867, 1121710.8758839483, 1139281.3665093533, 1157034.410440367, 1174970.951234955, 1193091.9324510836, 1211398.2976467176, 1229890.9903798234, 1248570.954208366, 1267439.1326903116, 1286496.4693836253, 1305743.9078462734, 1325182.391636221, 1344812.8643114339, 1364636.2694298779, 1384653.5505495183, 1404865.6512283213, 1425273.515024252, 1445878.0854952766, 1466680.3061993602, 1487681.1206944687, 1508881.4725385678, 1530282.305289623, 1551884.5625056, 1573689.1877444647, 1595697.1245641822, 1617909.3165227189, 1640326.7071780397, 1662950.2400881108, 1685780.8588108975, 1708819.5069043655, 1732067.1279264807, 1755524.6654352085, 1779193.0629885145, 1803073.2641443647, 1827166.2124607244, 1851472.8514955593, 1875994.1248068353, 1900730.9759525177, 1925684.3484905725, 1950855.185978965, 1976244.431975661, 2001853.0300386264, 2027681.9237258264, 2053732.056595227, 2080004.3722047936, 2106499.814112492, 2133219.3258762877, 2160163.8510541464, 2187334.3332040343, 2214731.7158839162, 2242356.942651758, 2270210.9570655255, 2298294.7026831848, 2326609.1230627005, 2355155.1617620387, 2383933.7623391654, 2412945.8683520462, 2442192.423358646, 2471674.370916932, 2501392.654584868, 2531348.2179204207, 2561542.0044815554, 2591974.957826238, 2622648.0215124344, 2653562.1390981097, 2684718.2541412297, 2716117.31019976, 2747760.2508316664, 2779648.0195949143, 2811781.5600474696, 2844161.8157472983, 2876789.730252365, 2909666.2471206365, 2942792.3099100776, 2976168.8621786544, 3009796.8474843325, 3043677.2093850775, 3077810.891438855, 3112198.8372036307, 3146841.99023737, 3181741.294098039, 3216897.6923436034, 3252312.1285320283, 3287985.5462212795, 3323918.8889693227, 3360113.1003341237, 3396569.1238736482, 3433287.903145862, 3470270.38170873, 3507517.5031202184, 3545030.210938293, 3582809.448720919, 3620856.1600260623, 3659171.2884116885, 3697755.7774357637, 3736610.5706562526, 3775736.6116311215, 3815134.843918336, 3854806.2110758615, 3894751.6566616637, 3934972.1242337087, 3975468.5573499617, 4016241.8995683882, 4057293.0944469543, 4098623.0855436255]}, {\"mode\": \"lines+markers\", \"name\": \"Model 25\", \"type\": \"scatter\", \"x\": [0.0, 1.0, 2.0, 3.0, 4.0, 5.0, 6.0, 7.0, 8.0, 9.0, 10.0, 11.0, 12.0, 13.0, 14.0, 15.0, 16.0, 17.0, 18.0, 19.0, 20.0, 21.0, 22.0, 23.0, 24.0, 25.0, 26.0, 27.0, 28.0, 29.0, 30.0, 31.0, 32.0, 33.0, 34.0, 35.0, 36.0, 37.0, 38.0, 39.0, 40.0, 41.0, 42.0, 43.0, 44.0, 45.0, 46.0, 47.0, 48.0, 49.0, 50.0, 51.0, 52.0, 53.0, 54.0, 55.0, 56.0, 57.0, 58.0, 59.0, 60.0, 61.0, 62.0, 63.0, 64.0, 65.0, 66.0, 67.0, 68.0, 69.0, 70.0, 71.0, 72.0, 73.0, 74.0, 75.0, 76.0, 77.0, 78.0, 79.0, 80.0, 81.0, 82.0, 83.0, 84.0, 85.0, 86.0, 87.0, 88.0, 89.0, 90.0, 91.0, 92.0, 93.0, 94.0, 95.0, 96.0, 97.0, 98.0, 99.0, 100.0, 101.0, 102.0, 103.0, 104.0, 105.0, 106.0, 107.0, 108.0, 109.0, 110.0, 111.0, 112.0, 113.0, 114.0, 115.0, 116.0, 117.0, 118.0, 119.0, 120.0, 121.0, 122.0, 123.0, 124.0, 125.0, 126.0, 127.0, 128.0, 129.0, 130.0, 131.0, 132.0, 133.0, 134.0, 135.0, 136.0, 137.0, 138.0, 139.0, 140.0, 141.0, 142.0, 143.0, 144.0, 145.0, 146.0, 147.0, 148.0, 149.0, 150.0, 151.0, 152.0, 153.0, 154.0, 155.0, 156.0, 157.0, 158.0, 159.0, 160.0, 161.0, 162.0, 163.0, 164.0, 165.0, 166.0, 167.0, 168.0, 169.0, 170.0, 171.0, 172.0, 173.0, 174.0, 175.0, 176.0, 177.0, 178.0, 179.0, 180.0, 181.0, 182.0, 183.0, 184.0, 185.0, 186.0, 187.0, 188.0, 189.0, 190.0, 191.0, 192.0, 193.0, 194.0, 195.0, 196.0, 197.0, 198.0, 199.0, 200.0, 201.0, 202.0, 203.0, 204.0, 205.0, 206.0, 207.0, 208.0, 209.0, 210.0, 211.0, 212.0, 213.0, 214.0, 215.0, 216.0, 217.0, 218.0, 219.0, 220.0, 221.0, 222.0, 223.0, 224.0, 225.0, 226.0, 227.0, 228.0, 229.0, 230.0, 231.0, 232.0, 233.0, 234.0, 235.0, 236.0, 237.0, 238.0, 239.0, 240.0, 241.0, 242.0, 243.0, 244.0, 245.0, 246.0, 247.0, 248.0, 249.0, 250.0, 251.0, 252.0, 253.0, 254.0, 255.0, 256.0, 257.0, 258.0, 259.0, 260.0, 261.0, 262.0, 263.0, 264.0, 265.0, 266.0, 267.0, 268.0, 269.0, 270.0, 271.0, 272.0, 273.0, 274.0, 275.0, 276.0, 277.0, 278.0, 279.0, 280.0, 281.0, 282.0, 283.0, 284.0, 285.0, 286.0, 287.0, 288.0, 289.0, 290.0, 291.0, 292.0, 293.0, 294.0, 295.0, 296.0, 297.0, 298.0, 299.0], \"y\": [-2.044890847188526, 2.607884982719204, 5.429012677137234, 7.426662642841006, 9.609005286605964, 12.984211015207551, 18.56045023542121, 27.34589335402239, 40.34871077778652, 58.577072913489054, 83.03915016790543, 114.74311294781111, 154.69713165998152, 203.9093767111921, 263.3880185082183, 334.14122745783556, 417.17717396681934, 513.504028441945, 624.1299612899882, 750.0631429177241, 892.3117437319283, 1051.8839341393764, 1229.7878845468435, 1427.031765361105, 1644.623746988937, 1883.5719998371142, 2144.8846943124126, 2429.570000821607, 2738.6360897714735, 3073.091131568787, 3433.9432966203235, 3822.200755332858, 4238.871678113166, 4684.964235368023, 5161.486597504205, 5669.446934928486, 6209.853418047644, 6783.714217268451, 7392.037502997686, 8035.831445642121, 8716.104215608535, 9433.8639833037, 10190.118919134395, 10985.877193507391, 11822.146976829466, 12699.936439507397, 13620.253751947957, 14584.107084557923, 15592.504607744067, 16646.45449191317, 17746.964907472004, 18895.044024827344, 20091.70001438597, 21337.94104655465, 22634.775291740163, 23983.210920349287, 25384.256102788797, 26838.919009465462, 28348.207810786065, 29913.130677157376, 31534.695778986177, 33213.911286679235, 34951.78537064333, 36749.32620128524, 38607.54194901174, 40527.4407842296, 42510.0308773456, 44556.32039876652, 46667.317518899115, 48844.03040815019, 51087.467236926495, 53398.63617563482, 55778.54539468193, 58228.20306447462, 60748.61735541964, 63340.79643792378, 66005.74848239381, 68744.48165923652, 71558.00413885867, 74447.32409166703, 77413.4496880684, 80457.38909846953, 83580.15049327721, 86782.74204289822, 90066.17191773931, 93431.44828820728, 96879.57932470889, 100411.57319765093, 104028.43807744017, 107731.18213448337, 111520.81353918734, 115398.34046195883, 119364.77107320461, 123421.11354333148, 127568.37604274618, 131807.5667418555, 136139.69381106624, 140565.76542078517, 145086.78974141902, 149703.77494337465, 154417.72919705874, 159229.66067287812, 164140.57754123956, 169151.48797254983, 174263.4001372157, 179477.32220564396, 184794.26234824135, 190215.2287354147, 195741.22953757076, 201373.2729251163, 207112.3670684581, 212959.5201380029, 218915.74030415752, 224982.03573732876, 231159.41460792333, 237448.88508634805, 243851.45534300967, 250368.13354831497, 256999.92787267073, 263747.84648648376, 270612.8975601608, 277596.0892641086, 284698.429768734, 291920.9272444437, 299264.5898616445, 306730.42579074326, 314319.4432021466, 322032.6502662614, 329871.05515349447, 337835.6660342525, 345927.4910789423, 354147.53845797066, 362496.81634174427, 370976.33290067007, 379587.0963051547, 388330.11472560494, 397206.3963324276, 406216.9492960295, 415362.78178681736, 424644.90197519795, 434064.31803157803, 443622.03812636447, 453319.07042996393, 463156.4231127833, 473135.1043452292, 483256.1222977086, 493520.4851406281, 503929.2010443946, 514483.2781794148, 525183.7247160955, 536031.5488248435, 547027.7586760655, 558173.3624401684, 569469.3682875589, 580916.7843886437, 592516.6189138297, 604269.8800335235, 616177.5759181322, 628240.7147380624, 640460.3046637207, 652837.353865514, 665372.8705138493, 678067.862779133, 690923.3388317722, 703940.3068421734, 717119.7749807436, 730462.7514178895, 743970.2443240178, 757643.2618695353, 771482.8122248489, 785489.9035603652, 799665.5440464912, 814010.7418536333, 828526.5051521987, 843213.8421125939, 858073.7609052259, 873107.2697005012, 888315.3766688268, 903699.0899806092, 919259.4178062555, 934997.3683161724, 950913.9496807666, 967010.1700704448, 983287.037655614, 999745.5606066807, 1016386.7470940518, 1033211.6052881342, 1050221.1433593344, 1067416.3694780595, 1084798.291814716, 1102367.918539711, 1120126.257823451, 1138074.3178363426, 1156213.106748793, 1174543.6327312088, 1193066.903953997, 1211783.9285875638, 1230695.7148023164, 1249803.2707686615, 1269107.604657006, 1288609.7246377566, 1308310.6388813197, 1328211.3555581027, 1348312.8828385118, 1368616.2288929543, 1389122.4018918367, 1409832.4100055657, 1430747.2614045483, 1451867.964259191, 1473195.5267399007, 1494730.9570170844, 1516475.2632611485, 1538429.4536425, 1560594.5363315458, 1582971.5194986924, 1605561.4113143466, 1628365.2199489153, 1651383.9535728053, 1674618.620356423, 1698070.2284701758, 1721739.78608447, 1745628.3013697127, 1769736.7824963103, 1794066.23763467, 1818617.6749551983, 1843392.102628302, 1868390.5288243878, 1893613.9617138628, 1919063.4094671335, 1944739.8802546065, 1970644.382246689, 1996777.9236137876, 2023141.5125263091, 2049736.1571546602, 2076562.8656692477, 2103622.6462404784, 2130916.507038759, 2158445.4562344966, 2186210.5019980976, 2214212.6524999687, 2242452.915910517, 2270932.300400149, 2299651.8141392716, 2328612.4652982918, 2357815.2620476163, 2387261.212557651, 2416951.3249988044, 2446886.6075414815, 2477068.06835609, 2507496.715613037, 2538173.5574827287, 2569099.6021355717, 2600275.8577419734, 2631703.33247234, 2663383.0344970785, 2695315.971986596, 2727503.1531112986, 2759945.5860415935, 2792644.278947888, 2825600.2400005874, 2858814.4773701, 2892287.999226832, 2926021.8137411894, 2960016.9290835806, 2994274.353424411, 3028795.0949340877, 3063580.161783018, 3098630.562141608, 3133947.304180265, 3169531.3960693954, 3205383.8459794065, 3241505.6620807042, 3277897.852543696, 3314561.4255387885, 3351497.3892363883, 3388706.7518069022, 3426190.5214207377, 3463949.7062483, 3501985.3144599977, 3540298.354226236, 3578889.833717423, 3617760.761103965, 3656912.144556268, 3696344.9922447396, 3736060.3123397864, 3776059.113011815, 3816342.402431233, 3856911.188768446, 3897766.4801938613, 3938909.2848778856, 3980340.6109909257, 4022061.466703389, 4064072.860185681, 4106375.799608209, 4148971.2931413804, 4191860.3489556015, 4235043.975221279, 4278523.18010882, 4322298.971788631, 4366372.358431119]}, {\"mode\": \"lines+markers\", \"name\": \"Model 30\", \"type\": \"scatter\", \"x\": [0.0, 1.0, 2.0, 3.0, 4.0, 5.0, 6.0, 7.0, 8.0, 9.0, 10.0, 11.0, 12.0, 13.0, 14.0, 15.0, 16.0, 17.0, 18.0, 19.0, 20.0, 21.0, 22.0, 23.0, 24.0, 25.0, 26.0, 27.0, 28.0, 29.0, 30.0, 31.0, 32.0, 33.0, 34.0, 35.0, 36.0, 37.0, 38.0, 39.0, 40.0, 41.0, 42.0, 43.0, 44.0, 45.0, 46.0, 47.0, 48.0, 49.0, 50.0, 51.0, 52.0, 53.0, 54.0, 55.0, 56.0, 57.0, 58.0, 59.0, 60.0, 61.0, 62.0, 63.0, 64.0, 65.0, 66.0, 67.0, 68.0, 69.0, 70.0, 71.0, 72.0, 73.0, 74.0, 75.0, 76.0, 77.0, 78.0, 79.0, 80.0, 81.0, 82.0, 83.0, 84.0, 85.0, 86.0, 87.0, 88.0, 89.0, 90.0, 91.0, 92.0, 93.0, 94.0, 95.0, 96.0, 97.0, 98.0, 99.0, 100.0, 101.0, 102.0, 103.0, 104.0, 105.0, 106.0, 107.0, 108.0, 109.0, 110.0, 111.0, 112.0, 113.0, 114.0, 115.0, 116.0, 117.0, 118.0, 119.0, 120.0, 121.0, 122.0, 123.0, 124.0, 125.0, 126.0, 127.0, 128.0, 129.0, 130.0, 131.0, 132.0, 133.0, 134.0, 135.0, 136.0, 137.0, 138.0, 139.0, 140.0, 141.0, 142.0, 143.0, 144.0, 145.0, 146.0, 147.0, 148.0, 149.0, 150.0, 151.0, 152.0, 153.0, 154.0, 155.0, 156.0, 157.0, 158.0, 159.0, 160.0, 161.0, 162.0, 163.0, 164.0, 165.0, 166.0, 167.0, 168.0, 169.0, 170.0, 171.0, 172.0, 173.0, 174.0, 175.0, 176.0, 177.0, 178.0, 179.0, 180.0, 181.0, 182.0, 183.0, 184.0, 185.0, 186.0, 187.0, 188.0, 189.0, 190.0, 191.0, 192.0, 193.0, 194.0, 195.0, 196.0, 197.0, 198.0, 199.0, 200.0, 201.0, 202.0, 203.0, 204.0, 205.0, 206.0, 207.0, 208.0, 209.0, 210.0, 211.0, 212.0, 213.0, 214.0, 215.0, 216.0, 217.0, 218.0, 219.0, 220.0, 221.0, 222.0, 223.0, 224.0, 225.0, 226.0, 227.0, 228.0, 229.0, 230.0, 231.0, 232.0, 233.0, 234.0, 235.0, 236.0, 237.0, 238.0, 239.0, 240.0, 241.0, 242.0, 243.0, 244.0, 245.0, 246.0, 247.0, 248.0, 249.0, 250.0, 251.0, 252.0, 253.0, 254.0, 255.0, 256.0, 257.0, 258.0, 259.0, 260.0, 261.0, 262.0, 263.0, 264.0, 265.0, 266.0, 267.0, 268.0, 269.0, 270.0, 271.0, 272.0, 273.0, 274.0, 275.0, 276.0, 277.0, 278.0, 279.0, 280.0, 281.0, 282.0, 283.0, 284.0, 285.0, 286.0, 287.0, 288.0, 289.0, 290.0, 291.0, 292.0, 293.0, 294.0, 295.0, 296.0, 297.0, 298.0, 299.0], \"y\": [37.91080809722462, 16.44993821436669, 0.1559708054558797, -10.695380082660556, -15.828400403135348, -14.967376109121254, -7.836593153771048, 5.83966250976259, 26.33710492832688, 53.93144814876908, 88.89840621793644, 131.51369318267623, 182.05302308983562, 240.79210998626203, 308.0066679188026, 383.9724109343046, 468.96505307961536, 563.260308401582, 667.1338909470519, 780.8615147628723, 904.7188938958903, 1038.9817423929535, 1183.9257743009086, 1339.8267036666034, 1506.9602445368848, 1685.6021109586004, 1876.0280169785972, 2078.5136766437226, 2293.3348040008236, 2520.7671130967474, 2761.086317978342, 3014.5681326924537, 3281.4882712859308, 3562.1224478056192, 3856.7463762983675, 4165.635770811022, 4489.06634539043, 4827.31381408344, 5180.653890936897, 5549.362289997651, 5933.714725312547, 6333.986910928433, 6750.454560892157, 7183.393389250565, 7633.079110050506, 8099.787437338824, 8583.794085162372, 9085.374767567988, 9604.805198602531, 10142.361092312836, 10698.31816274576, 11272.952123948147, 11866.538689966845, 12479.353574848697, 13111.672492640555, 13763.771157389263, 14435.925283141674, 15128.410583944627, 15841.502773844975, 16575.477566889564, 17330.61067712524, 18107.17781859885, 18905.454705357246, 19725.71705144727, 20568.240570915772, 21433.300977809595, 22321.173986175592, 23232.13531006061, 24166.46066351149, 25124.425760575083, 26106.30631529824, 27112.378041727803, 28142.91665391062, 29198.19786589354, 30278.49739172341, 31384.09094544708, 32515.254241111386, 33672.262992763186, 34855.39291444932, 36064.919720216654, 37301.11912411201, 38564.26684018225, 39854.63858247422, 41172.51006503476, 42518.157001910724, 43891.85510714896, 45293.8800947963, 46724.50767889962, 48184.01357350574, 49672.67349266153, 51190.76315041382, 52738.55826080946, 54316.3345378953, 55924.36769571819, 57562.93344832498, 59232.3075097625, 60932.76559407762, 62664.58341531717, 64428.036687528, 66223.40112475697, 68050.9524410509, 69910.96635045669, 71803.71856702112, 73729.48480479108, 75688.54077781341, 77681.16220013496, 79707.62478580256, 81768.20424886308, 83863.17630336335, 85992.81666335023, 88157.40104287055, 90357.20515597117, 92592.50471669894, 94863.57543910069, 97170.6930372233, 99514.13322511359, 101894.17171681841, 104311.08422638461, 106765.14646785904, 109256.63415528856, 111785.82300271999, 114352.98872420019, 116958.407033776, 119602.3536454943, 122285.10427340188, 125006.93463154564, 127768.1204339724, 130568.93739472902, 133409.66122786235, 136290.5676474192, 139211.93236744648, 142174.031101991, 145177.13956509958, 148221.53347081912, 151307.48853319642, 154435.28046627837, 157605.1849841118, 160817.47780074357, 164072.4346302205, 167370.33118658944, 170711.44318389727, 174096.0463361908, 177524.4163575169, 180996.8289619224, 184513.5598634542, 188074.88477615904, 191681.07941408388, 195332.4194912755, 199029.18072178078, 202771.63881964653, 206560.06949891965, 210394.74847364693, 214275.95145787526, 218203.95416565146, 222179.0323110224, 226201.46160803494, 230271.51777073587, 234389.4765131721, 238555.6135493904, 242770.20459343772, 247033.52535936082, 251345.8515612066, 255707.45891302187, 260118.6231288535, 264579.61992274836, 269090.72500875324, 273652.214100915, 278264.36291328055, 282927.44715989666, 287641.74255481025, 292407.5248120681, 297225.06964571704, 302094.652769804, 307016.5498983758, 311991.0367454793, 317018.3890251613, 322098.8824514686, 327232.7927384482, 332420.39560014685, 337661.9667506114, 342957.7819038887, 348308.1167740256, 353713.24707506894, 359173.44852106564, 364688.99682606244, 370260.16770410625, 375887.2368692439, 381570.48003552225, 387310.1729169881, 393106.59122768836, 398960.01068166987, 404870.70699297945, 410838.9558756639, 416865.0330437702, 422949.21421134507, 429091.7750924355, 435292.99140108813, 441553.13885134994, 447872.4931572678, 454251.3300328885, 460689.9251922589, 467188.55434942583, 473747.4932184362, 480367.0175133368, 487047.40294817445, 493788.9252369961, 500591.86009384855, 507456.48323277856, 514383.07036783313, 521371.89721305895, 528423.239482503, 535537.3728902121, 542714.573150233, 549955.1159766127, 557259.2770833978, 564627.3321846355, 572059.5569943724, 579556.2272266553, 587117.6185955313, 594744.0068150471, 602435.6675992495, 610192.8766621854, 618015.9097179016, 625905.0424804451, 633860.5506638625, 641882.7099822009, 649971.7961495069, 658128.0848798277, 666351.8518872097, 674643.3728857001, 683002.9235893455, 691430.7797121931, 699927.2169682893, 708492.5110716813, 717126.9377364157, 725830.7726765395, 734604.2916060995, 743447.7702391426, 752361.4842897155, 761345.7094718652, 770400.7214996385, 779526.7960870822, 788724.2089482433, 797993.2357971685, 807334.1523479046, 816747.2343144986, 826232.7574109973, 835790.9973514475, 845422.229849896, 855126.7306203898, 864904.7753769757, 874756.6398337004, 884682.5997046109, 894682.9307037541, 904757.9085451766, 914907.8089429254, 925132.9076110475, 935433.4802635895, 945809.8026145984, 956262.150378121, 966790.7992682041, 977396.0249988945, 988078.1032842393, 998837.3098382851, 1009673.9203750788, 1020588.2106086673, 1031580.4562530975, 1042650.9330224161, 1053799.9166306702, 1065027.6827919062, 1076334.5072201714, 1087720.6656295122, 1099186.433733976, 1110732.0872476092, 1122357.9018844587, 1134064.1533585717, 1145851.1173839946, 1157719.0696747745, 1169668.2859449582, 1181699.0419085925, 1193811.6132797243, 1206006.2757724004, 1218283.3051006678, 1230642.976978573, 1243085.5671201632, 1255611.3512394852, 1268220.6050505857, 1280913.6042675117, 1293690.62460431, 1306551.9417750272, 1319497.8314937104, 1332528.5694744065, 1345644.4314311622, 1358845.6930780243, 1372132.63012904, 1385505.5182982557, 1398964.6332997184, 1412510.2508474751, 1426142.6466555726, 1439862.0964380575]}, {\"mode\": \"lines+markers\", \"name\": \"Model 35\", \"type\": \"scatter\", \"x\": [0.0, 1.0, 2.0, 3.0, 4.0, 5.0, 6.0, 7.0, 8.0, 9.0, 10.0, 11.0, 12.0, 13.0, 14.0, 15.0, 16.0, 17.0, 18.0, 19.0, 20.0, 21.0, 22.0, 23.0, 24.0, 25.0, 26.0, 27.0, 28.0, 29.0, 30.0, 31.0, 32.0, 33.0, 34.0, 35.0, 36.0, 37.0, 38.0, 39.0, 40.0, 41.0, 42.0, 43.0, 44.0, 45.0, 46.0, 47.0, 48.0, 49.0, 50.0, 51.0, 52.0, 53.0, 54.0, 55.0, 56.0, 57.0, 58.0, 59.0, 60.0, 61.0, 62.0, 63.0, 64.0, 65.0, 66.0, 67.0, 68.0, 69.0, 70.0, 71.0, 72.0, 73.0, 74.0, 75.0, 76.0, 77.0, 78.0, 79.0, 80.0, 81.0, 82.0, 83.0, 84.0, 85.0, 86.0, 87.0, 88.0, 89.0, 90.0, 91.0, 92.0, 93.0, 94.0, 95.0, 96.0, 97.0, 98.0, 99.0, 100.0, 101.0, 102.0, 103.0, 104.0, 105.0, 106.0, 107.0, 108.0, 109.0, 110.0, 111.0, 112.0, 113.0, 114.0, 115.0, 116.0, 117.0, 118.0, 119.0, 120.0, 121.0, 122.0, 123.0, 124.0, 125.0, 126.0, 127.0, 128.0, 129.0, 130.0, 131.0, 132.0, 133.0, 134.0, 135.0, 136.0, 137.0, 138.0, 139.0, 140.0, 141.0, 142.0, 143.0, 144.0, 145.0, 146.0, 147.0, 148.0, 149.0, 150.0, 151.0, 152.0, 153.0, 154.0, 155.0, 156.0, 157.0, 158.0, 159.0, 160.0, 161.0, 162.0, 163.0, 164.0, 165.0, 166.0, 167.0, 168.0, 169.0, 170.0, 171.0, 172.0, 173.0, 174.0, 175.0, 176.0, 177.0, 178.0, 179.0, 180.0, 181.0, 182.0, 183.0, 184.0, 185.0, 186.0, 187.0, 188.0, 189.0, 190.0, 191.0, 192.0, 193.0, 194.0, 195.0, 196.0, 197.0, 198.0, 199.0, 200.0, 201.0, 202.0, 203.0, 204.0, 205.0, 206.0, 207.0, 208.0, 209.0, 210.0, 211.0, 212.0, 213.0, 214.0, 215.0, 216.0, 217.0, 218.0, 219.0, 220.0, 221.0, 222.0, 223.0, 224.0, 225.0, 226.0, 227.0, 228.0, 229.0, 230.0, 231.0, 232.0, 233.0, 234.0, 235.0, 236.0, 237.0, 238.0, 239.0, 240.0, 241.0, 242.0, 243.0, 244.0, 245.0, 246.0, 247.0, 248.0, 249.0, 250.0, 251.0, 252.0, 253.0, 254.0, 255.0, 256.0, 257.0, 258.0, 259.0, 260.0, 261.0, 262.0, 263.0, 264.0, 265.0, 266.0, 267.0, 268.0, 269.0, 270.0, 271.0, 272.0, 273.0, 274.0, 275.0, 276.0, 277.0, 278.0, 279.0, 280.0, 281.0, 282.0, 283.0, 284.0, 285.0, 286.0, 287.0, 288.0, 289.0, 290.0, 291.0, 292.0, 293.0, 294.0, 295.0, 296.0, 297.0, 298.0, 299.0], \"y\": [95.41689397553421, 44.97793206373607, 5.710105198239631, -22.60823867477248, -40.19875160911772, -47.28308565861349, -44.08289287707714, -30.819825318326195, -7.715535036177926, 25.008325915550202, 67.13010548304071, 118.42815161247626, 178.68081225003954, 247.66643534191294, 325.16336883427914, 410.9499606733209, 504.8045588052205, 606.5055111761608, 715.8311657323242, 832.5598704198933, 956.4699731850509, 1087.3398219739793, 1224.9477647328613, 1369.0721494078798, 1519.4913239452167, 1675.9836362910546, 1838.3274343915773, 2006.3010661929657, 2179.6828796414034, 2358.251222683073, 2541.7844432641564, 2730.0608893308367, 2922.858908829297, 3119.9568497057194, 3321.133059906286, 3526.16588737718, 3734.833680064584, 3946.9147859146806, 4162.187552873652, 4380.430328887682, 4601.42146190295, 4824.939299865642, 5050.76219072194, 5278.668482418026, 5508.43652290008, 5739.84466011429, 5972.671242006835, 6206.694616523898, 6441.6931316116625, 6677.445135216309, 6913.728975284022, 7150.322999760985, 7387.00555659338, 7623.554993727386, 7859.74965910919, 8095.367900684974, 8330.188066400919, 8563.988504203207, 8796.547562038024, 9027.643587851551, 9257.054929589967, 9484.559935199459, 9709.936952626209, 9932.964329816397, 10153.42041471621, 10371.083555271825, 10585.732099429431, 10797.144395135205, 11005.098790335333, 11209.373632975994, 11409.747271003376, 11605.998052363657, 11797.90432500302, 11985.244436867648, 12167.796735903727, 12345.339570057438, 12517.651287274959, 12684.51023550248, 12845.694762686175, 13000.983216772234, 13150.153945706837, 13292.985297436166, 13429.255619906404, 13558.743261063739, 13681.226568854341, 13796.483891224403, 13904.293576120099, 14004.43397148762, 14096.683425273148, 14180.820285422866, 14256.622899882948, 14323.869616599584, 14382.338783518959, 14431.808748587246, 14472.057859750636, 14502.864464955304, 14524.006912147446, 14535.263549273232, 14536.412724278844, 14527.23278511047, 14507.502079714295, 14476.998956036501, 14435.501762023261, 14382.78884562077, 14318.638554775205, 14242.829237432745, 14155.139241539579, 14055.346915041888, 13943.230605885848, 13818.568662017651, 13681.139431383479, 13530.721261929504, 13367.09250160192, 13190.031498346905, 12999.316600110647, 12794.72615483931, 12576.03851047911, 12343.032014976194, 12095.485016276765, 11833.175862327002, 11555.88290107309, 11263.384480461194, 10955.458948437516, 10631.884652948249, 10292.439941939547, 9936.903163357609, 9565.052665148602, 9176.666795258736, 8771.523901634167, 8349.402332221107, 7910.080434965706, 7453.336557814166, 6978.949048712651, 6486.696255607374, 5976.35652644449, 5447.708209170208, 4900.529651730683, 4334.599202072112, 3749.6952081406635, 3145.596017882549, 2522.079979243921, 1878.9254401709927, 1215.910748609916, 532.8142525068895, -170.58570019190518, -894.5107615402997, -1639.1825835920822, -2404.8228184010995, -3191.653118021154, -3999.8951345060636, -4829.770519909645, -5681.500926285717, -6555.30800568811, -7451.413410170628, -8370.038791787087, -9311.405802591307, -10275.736094637103, -11263.251319978292, -12274.173130668694, -13308.723178762139, -14367.123116312445, -15449.5945953734, -16556.359267998825, -17687.638786242558, -18843.654802158424, -20024.62896780021, -21230.78293522176, -22462.338356476892, -23719.516883619395, -25002.540168703086, -26311.629863781844, -27647.007620909393, -29008.895092139643, -30397.51392952635, -31813.085785123334, -33255.83231098447, -34725.975159163485, -36223.735981714286, -37749.33643069061, -39302.99815814634, -40884.94281613526, -42495.39205671121, -44134.56753192797, -45802.69089383939, -47499.98379449926, -49226.667885961426, -50982.964820279674, -52769.096249507886, -54585.283825699786, -56431.74920090928, -58308.71402719011, -60216.39995659616, -62155.0286411812, -64124.821732999044, -66126.00088410357, -68158.7877465485, -70223.40397238776, -72320.0712136751, -74449.01112246433, -76610.4453508093, -78804.59555076381, -81031.68337438168, -83291.93047371674, -85585.55850082282, -87912.78910775369, -90273.84394656317, -92668.94466930511, -95098.31292803334, -97562.17037480163, -100060.73866166384, -102594.23944067377, -105162.89436388522, -107766.92508335205, -110406.55325112803, -113082.000519267, -115793.48853982278, -118541.23896484918, -121325.47344640004, -124146.41363652913, -127004.28118729031, -129899.29775073737, -132831.68497892414, -135801.66452390447, -138809.4580377321, -141855.2871724609, -144939.37358014475, -148061.9389128373, -151223.20482259252, -154423.3929614642, -157662.72498150606, -160941.42253477202, -164259.7072733159, -167617.80084919147, -171015.9249144525, -174454.30112115288, -177933.15112134645, -181452.696567087, -185013.15911042833, -188614.76040342424, -192257.72209812858, -195942.26584659517, -199668.61330087783, -203436.98611303032, -207247.60593510658, -211100.6944191603, -214996.47321724537, -218935.1639814156, -222916.98836372473, -226942.16801622667, -231010.92459097528, -235123.47974002417, -239280.05511542739, -243480.87236923867, -247726.15315351178, -252016.11912030057, -256350.9919216589, -260730.99320964047, -265156.3446362993, -269627.267853689, -274143.98451386346, -278706.71626887657, -283315.684770782, -287971.1116716338, -292673.2186234855, -297422.22727839113, -302218.3592884044, -307061.83630557917, -311952.87998196925, -316891.7119696285, -321878.5539206107, -326913.6274869696, -331997.1543207591, -337129.356074033, -342310.4543988451, -347540.6709472493, -352820.2273712993, -358149.34532304894, -363528.2464545521, -368957.15241786256, -374436.28486503416, -379965.8654481207, -385546.11581917596, -391177.2576302538, -396859.51253340807, -402593.1021806925, -408378.248224161, -414215.17231586727, -420104.0961078653, -426045.2412522087, -432038.82940095145, -438085.0822061473, -444184.2213198501, -450336.46839411365, -456542.04508099175, -462801.1730325382, -469114.0739008069, -475480.96933785157, -481902.0809957261, -488377.6305264843, -494907.83958217996]}, {\"mode\": \"lines+markers\", \"name\": \"Model 40\", \"type\": \"scatter\", \"x\": [0.0, 1.0, 2.0, 3.0, 4.0, 5.0, 6.0, 7.0, 8.0, 9.0, 10.0, 11.0, 12.0, 13.0, 14.0, 15.0, 16.0, 17.0, 18.0, 19.0, 20.0, 21.0, 22.0, 23.0, 24.0, 25.0, 26.0, 27.0, 28.0, 29.0, 30.0, 31.0, 32.0, 33.0, 34.0, 35.0, 36.0, 37.0, 38.0, 39.0, 40.0, 41.0, 42.0, 43.0, 44.0, 45.0, 46.0, 47.0, 48.0, 49.0, 50.0, 51.0, 52.0, 53.0, 54.0, 55.0, 56.0, 57.0, 58.0, 59.0, 60.0, 61.0, 62.0, 63.0, 64.0, 65.0, 66.0, 67.0, 68.0, 69.0, 70.0, 71.0, 72.0, 73.0, 74.0, 75.0, 76.0, 77.0, 78.0, 79.0, 80.0, 81.0, 82.0, 83.0, 84.0, 85.0, 86.0, 87.0, 88.0, 89.0, 90.0, 91.0, 92.0, 93.0, 94.0, 95.0, 96.0, 97.0, 98.0, 99.0, 100.0, 101.0, 102.0, 103.0, 104.0, 105.0, 106.0, 107.0, 108.0, 109.0, 110.0, 111.0, 112.0, 113.0, 114.0, 115.0, 116.0, 117.0, 118.0, 119.0, 120.0, 121.0, 122.0, 123.0, 124.0, 125.0, 126.0, 127.0, 128.0, 129.0, 130.0, 131.0, 132.0, 133.0, 134.0, 135.0, 136.0, 137.0, 138.0, 139.0, 140.0, 141.0, 142.0, 143.0, 144.0, 145.0, 146.0, 147.0, 148.0, 149.0, 150.0, 151.0, 152.0, 153.0, 154.0, 155.0, 156.0, 157.0, 158.0, 159.0, 160.0, 161.0, 162.0, 163.0, 164.0, 165.0, 166.0, 167.0, 168.0, 169.0, 170.0, 171.0, 172.0, 173.0, 174.0, 175.0, 176.0, 177.0, 178.0, 179.0, 180.0, 181.0, 182.0, 183.0, 184.0, 185.0, 186.0, 187.0, 188.0, 189.0, 190.0, 191.0, 192.0, 193.0, 194.0, 195.0, 196.0, 197.0, 198.0, 199.0, 200.0, 201.0, 202.0, 203.0, 204.0, 205.0, 206.0, 207.0, 208.0, 209.0, 210.0, 211.0, 212.0, 213.0, 214.0, 215.0, 216.0, 217.0, 218.0, 219.0, 220.0, 221.0, 222.0, 223.0, 224.0, 225.0, 226.0, 227.0, 228.0, 229.0, 230.0, 231.0, 232.0, 233.0, 234.0, 235.0, 236.0, 237.0, 238.0, 239.0, 240.0, 241.0, 242.0, 243.0, 244.0, 245.0, 246.0, 247.0, 248.0, 249.0, 250.0, 251.0, 252.0, 253.0, 254.0, 255.0, 256.0, 257.0, 258.0, 259.0, 260.0, 261.0, 262.0, 263.0, 264.0, 265.0, 266.0, 267.0, 268.0, 269.0, 270.0, 271.0, 272.0, 273.0, 274.0, 275.0, 276.0, 277.0, 278.0, 279.0, 280.0, 281.0, 282.0, 283.0, 284.0, 285.0, 286.0, 287.0, 288.0, 289.0, 290.0, 291.0, 292.0, 293.0, 294.0, 295.0, 296.0, 297.0, 298.0, 299.0], \"y\": [175.06236170577813, 96.5137835062452, 33.40784281428179, -14.752326079890594, -48.4635888860503, -68.2228113139758, -74.52685907344565, -67.87259787423807, -48.75689342613157, -17.676611438904615, 24.87138237766439, 78.39022231379685, 142.3830426597145, 216.352977705639, 299.80316174179177, 392.2367290583944, 493.15681394566855, 602.0665506938357, 718.4690735931174, 841.867516933735, 971.7650150059105, 1107.664702099865, 1249.0697125058207, 1395.4831805139986, 1546.4082404146206, 1701.3480264979082, 1859.8056730540827, 2021.2843143733664, 2185.2870847459794, 2351.3171184621447, 2518.877549812084, 2687.4715130860177, 2856.6021425741674, 3025.772572566755, 3194.485937354003, 3362.2453712261326, 3528.554008473365, 3692.9149833859206, 3854.831430254023, 4013.8064833678927, 4169.343277017751, 4320.94494549382, 4468.1146230863205, 4610.355444085476, 4747.170542781506, 4878.063053464633, 5002.536110425081, 5120.092847953067, 5230.236400338813, 5332.469901872543, 5426.296486844478, 5511.21928954484, 5586.741444263848, 5652.366085291729, 5707.596346918698, 5751.93536343498, 5784.886269130798, 5805.952198296368, 5814.636285221916, 5810.441664197665, 5792.871469513834, 5761.428835460647, 5715.61689632832, 5654.938786407079, 5578.897639987145, 5486.9965913587375, 5378.73877481208, 5253.627324637395, 5111.165375124904, 4950.856060564828, 4772.2025152473825, 4574.7078734627985, 4357.8752695012945, 4121.207837653092, 3864.208712208413, 3586.3810274574716, 3287.227917690504, 2966.2525171977168, 2622.9579602693393, 2256.8473811955923, 1867.4239142666984, 1454.1906937728786, 1016.6508540043471, 554.3075292513404, 66.66385380406518, -446.77703804724956, -986.512012012375, -1553.0379338011041, -2146.851669123208, -2768.4500836884727, -3418.3300432066617, -4096.98841338756, -4804.9220599409555, -5542.627848576617, -6310.602645004325, -7109.343314933849, -7939.34672407499, -8801.109738137504, -9695.129222831183, -10621.90204386579, -11581.925066951124, -12575.695157796952, -13603.709182113053, -14666.464005609207, -15764.456493995189, -16898.18351298078, -18068.141928275756, -19274.8286055899, -20518.740410633, -21800.37420911481, -23120.226866745117, -24478.79524923372, -25876.576222290365, -27314.06665162486, -28791.76340294697, -30310.163341966458, -31869.76333439313, -33471.06024593675, -35114.5509423071, -36800.73228921396, -38530.1011523671, -40303.1543974763, -42120.38889025134, -43982.30149640201, -45889.38908163807, -47842.14851166933, -49841.07665220553, -51886.67036895647, -53979.42652763191, -56119.84199394166, -58308.41363359546, -60545.63831230313, -62832.01289577442, -65168.03424971911, -67554.19923984697, -69991.00473186783, -72478.9475914914, -75018.52468442751, -77610.23287638588, -80254.56903307636, -82952.0300202087, -85703.11270349263, -88508.31394863801, -91368.13062135458, -94283.05958735208, -97253.59771234036, -100280.24186202916, -103363.48890212826, -106503.83569834745, -109701.7791163965, -112957.81602198517, -116272.44328082328, -119646.15775862057, -123079.45632108684, -126572.83583393185, -130126.7931628654, -133741.82517359723, -137418.4287318372, -141157.100703295, -144958.33795368043, -148822.63734870334, -152750.4957540734, -156742.41003550048, -160798.8770586943, -164920.39368936466, -169107.45679322132, -173360.56323597408, -177680.20988333272, -182066.89360100703, -186521.11125470672, -191043.35971014167, -195634.13583302154, -200293.93648905624, -205023.25854395545, -209822.59886342898, -214692.4543131866, -219633.32175893814, -224645.69806639332, -229730.0801012619, -234886.96472925373, -240116.84881607853, -245420.2292274461, -250797.60282906625, -256249.46648664871, -261776.31706590325, -267378.65143253974, -273056.96645226784, -278811.7589907974, -284643.5259138381, -290552.76408709993, -296539.9703762924, -302605.64164712554, -308750.274765309, -314974.36659655254, -321278.41400656593, -327662.91386105906, -334128.3630257416, -340675.2583663233, -347304.09674851416, -354015.3750380237, -360809.5901005618, -367687.2388018382, -374648.8180075628, -381694.82458344527, -388825.7553951954, -396042.107308523, -403344.3771891378, -410733.06190274964, -418208.6583150682, -425771.66329180344, -433422.57369866496, -441161.88640136266, -448990.09826560615, -456907.7061571054, -464915.2069415701, -473013.09748471, -481201.87465223495, -489482.03530985466, -497854.076323279, -506318.49455821764, -514875.7868803805, -523526.45015547716, -532270.9812492174, -541109.8770273114, -550043.6343554684, -559072.7500993985, -568197.7211248114, -577419.0442974169, -586737.2164829248, -596152.7345470447, -605666.0953554866, -615277.7957739602, -624988.3326681752, -634798.2029038416, -644707.9033466688, -654717.930862367, -664828.7823166457, -675040.9545752149, -685354.9445037841, -695771.2489680632, -706290.3648337619, -716912.7889665903, -727639.0182322579, -738469.5494964744, -749404.8796249499, -760445.5054833939, -771591.9239375163, -782844.6318530268, -794204.1260956352, -805670.9035310514, -817245.4610249851, -828928.2954431459, -840719.9036512438, -852620.7825149886, -864631.4289000899, -876752.3396722577, -888984.0116972015, -901326.9418406313, -913781.6269682568, -926348.5639457878, -939028.249638934, -951821.1809134054, -964727.8546349114, -977748.7676691622, -990884.4168818672, -1004135.2991387366, -1017501.9113054798, -1030984.7502478067, -1044584.3128314271, -1058301.0959220508, -1072135.5963853875, -1086088.311087147, -1100159.7368930392, -1114350.3706687738, -1128660.7092800606, -1143091.2495926092, -1157642.4884721295, -1172314.9227843315, -1187109.0493949247, -1202025.3651696187, -1217064.366974124, -1232226.5516741497, -1247512.4161354057, -1262922.4572236019, -1278457.1718044481, -1294117.056743654, -1309902.6089069294, -1325814.3251599842, -1341852.702368528, -1358018.2373982703, -1374311.4271149216, -1390732.7683841912, -1407282.758071789, -1423961.8930434247, -1440770.6701648082, -1457709.5863016492, -1474779.1383196574, -1491979.823084543, -1509312.137462015, -1526776.578317784]}, {\"mode\": \"lines+markers\", \"name\": \"Model 45\", \"type\": \"scatter\", \"x\": [0.0, 1.0, 2.0, 3.0, 4.0, 5.0, 6.0, 7.0, 8.0, 9.0, 10.0, 11.0, 12.0, 13.0, 14.0, 15.0, 16.0, 17.0, 18.0, 19.0, 20.0, 21.0, 22.0, 23.0, 24.0, 25.0, 26.0, 27.0, 28.0, 29.0, 30.0, 31.0, 32.0, 33.0, 34.0, 35.0, 36.0, 37.0, 38.0, 39.0, 40.0, 41.0, 42.0, 43.0, 44.0, 45.0, 46.0, 47.0, 48.0, 49.0, 50.0, 51.0, 52.0, 53.0, 54.0, 55.0, 56.0, 57.0, 58.0, 59.0, 60.0, 61.0, 62.0, 63.0, 64.0, 65.0, 66.0, 67.0, 68.0, 69.0, 70.0, 71.0, 72.0, 73.0, 74.0, 75.0, 76.0, 77.0, 78.0, 79.0, 80.0, 81.0, 82.0, 83.0, 84.0, 85.0, 86.0, 87.0, 88.0, 89.0, 90.0, 91.0, 92.0, 93.0, 94.0, 95.0, 96.0, 97.0, 98.0, 99.0, 100.0, 101.0, 102.0, 103.0, 104.0, 105.0, 106.0, 107.0, 108.0, 109.0, 110.0, 111.0, 112.0, 113.0, 114.0, 115.0, 116.0, 117.0, 118.0, 119.0, 120.0, 121.0, 122.0, 123.0, 124.0, 125.0, 126.0, 127.0, 128.0, 129.0, 130.0, 131.0, 132.0, 133.0, 134.0, 135.0, 136.0, 137.0, 138.0, 139.0, 140.0, 141.0, 142.0, 143.0, 144.0, 145.0, 146.0, 147.0, 148.0, 149.0, 150.0, 151.0, 152.0, 153.0, 154.0, 155.0, 156.0, 157.0, 158.0, 159.0, 160.0, 161.0, 162.0, 163.0, 164.0, 165.0, 166.0, 167.0, 168.0, 169.0, 170.0, 171.0, 172.0, 173.0, 174.0, 175.0, 176.0, 177.0, 178.0, 179.0, 180.0, 181.0, 182.0, 183.0, 184.0, 185.0, 186.0, 187.0, 188.0, 189.0, 190.0, 191.0, 192.0, 193.0, 194.0, 195.0, 196.0, 197.0, 198.0, 199.0, 200.0, 201.0, 202.0, 203.0, 204.0, 205.0, 206.0, 207.0, 208.0, 209.0, 210.0, 211.0, 212.0, 213.0, 214.0, 215.0, 216.0, 217.0, 218.0, 219.0, 220.0, 221.0, 222.0, 223.0, 224.0, 225.0, 226.0, 227.0, 228.0, 229.0, 230.0, 231.0, 232.0, 233.0, 234.0, 235.0, 236.0, 237.0, 238.0, 239.0, 240.0, 241.0, 242.0, 243.0, 244.0, 245.0, 246.0, 247.0, 248.0, 249.0, 250.0, 251.0, 252.0, 253.0, 254.0, 255.0, 256.0, 257.0, 258.0, 259.0, 260.0, 261.0, 262.0, 263.0, 264.0, 265.0, 266.0, 267.0, 268.0, 269.0, 270.0, 271.0, 272.0, 273.0, 274.0, 275.0, 276.0, 277.0, 278.0, 279.0, 280.0, 281.0, 282.0, 283.0, 284.0, 285.0, 286.0, 287.0, 288.0, 289.0, 290.0, 291.0, 292.0, 293.0, 294.0, 295.0, 296.0, 297.0, 298.0, 299.0], \"y\": [102.93493944423176, 45.90493892263407, 1.4582839311468092, -30.748315361912745, -51.058148788227356, -59.81450617947982, -57.36067736735282, -44.039952183529124, -20.195620459691554, 13.829027972477192, 57.690703281294404, 111.04611563507729, 173.55197520214296, 244.8649921508089, 324.64187664939226, 412.5393388662102, 508.2140889695801, 611.322837127819, 721.5222935092445, 838.4691682821737, 961.8201716149235, 1091.2320136758117, 1226.3614046331552, 1366.8650546552708, 1512.399673910477, 1662.6219725670899, 1817.1886607934275, 1975.7564487578063, 2137.9820466285446, 2303.5221645739584, 2472.0335127623657, 2643.172801362084, 2816.5967405414294, 2991.9620404687203, 3168.9254113122734, 3347.1435632404064, 3526.273206421436, 3705.97105102368, 3885.893807215455, 4065.698185165078, 4245.040895040867, 4423.578647011141, 4600.968151244213, 4776.866117908403, 4950.92925717203, 5122.814279203406, 5292.177894170852, 5458.676812242685, 5621.967743587223, 5781.70739837278, 5937.552486767676, 6089.159718940228, 6236.185805058752, 6378.287455291567, 6515.121379806988, 6646.344288773336, 6771.612892358923, 6890.583900732069, 7002.914024061091, 7108.259972514311, 7206.278456260038, 7296.626185466593, 7378.959870302296, 7452.936220935458, 7518.2119475344, 7574.4437602674425, 7621.288369302895, 7658.402484809083, 7685.442816954316, 7702.066075906916, 7707.928971835202, 7702.6882149074845, 7686.000515292085, 7657.522583157323, 7616.9111286715115, 7563.822862002972, 7497.914493320016, 7418.842732790963, 7326.264290584135, 7219.835876867846, 7099.214201810412, 6964.055975580144, 6814.017908345374, 6648.756710274411, 6467.929091535571, 6271.191762297168, 6058.20143272753, 5828.614812994969, 5582.0886132678015, 5318.279543714338, 5036.844314502909, 4737.439635801826, 4419.722217779406, 4083.348770603965, 3727.976004443821, 3353.260629467284, 2958.8593558426865, 2544.428893738338, 2109.625953322555, 1654.1072447636557, 1177.5294782299568, 679.5493638897685, 159.82361191142257, -381.991067536771, -946.2379642864951, -1533.2603681694322, -2143.4015690172655, -2777.004856661677, -3434.4135209343576, -4115.970851666975, -4822.020138691213, -5552.904671838767, -6308.967740941321, -7090.552635830542, -7898.002646338129, -8731.661062295749, -9591.871173535086, -10478.976269887837, -11393.319641185682, -12335.244577260293, -13305.094367943351, -14303.212303066553, -15329.941672461584, -16385.62576596011, -17470.607873393812, -18585.231284594392, -19729.83928939353, -20904.775177622894, -22110.382239114166, -23347.003763699046, -24614.983041209212, -25914.66336147634, -27246.388014332108, -28610.50028960821, -30007.343477136335, -31437.260866748147, -32900.59574827534, -34397.69141154959, -35928.89114640259, -37494.538242666014, -39094.97599017154, -40730.54767875087, -42401.59659823567, -44108.46603845763, -45851.49928924842, -47631.03964043975, -49447.43038186327, -51301.014803350685, -53192.13619473368, -55121.13784584392, -57088.36304651309, -59094.15508657291, -61138.857255854986, -63222.812844191074, -65346.365141412825, -67509.85743735195, -69713.6330218401, -71958.03518470896, -74243.40721579021, -76570.09240491553, -78938.43404191664, -81348.77541662518, -83801.45981887286, -86296.83053849137, -88835.23086531233, -91417.0040891675, -94042.49349988856, -96712.04238730711, -99425.99404125492, -102184.69175156362, -104988.47880806492, -107837.69850059047, -110732.69411897201, -113673.80895304118, -116661.38629262967, -119695.76942756919, -122777.30164769136, -125906.32624282793, -129083.18650281054, -132308.2257174709, -135581.78717664065, -138904.2141701515, -142275.8499878352, -145697.0379195233, -149168.1212550476, -152689.4432842397, -156261.34729693132, -159884.17658295415, -163558.27443213985, -167283.98413432014, -171061.64897932665, -174891.6122569911, -178774.21725714515, -182709.8072696205, -186698.72558424884, -190741.31549086186, -194837.92027929117, -198988.88323936853, -203194.5476609256, -207455.2568337941, -211771.35404780562, -216143.1825927919, -220571.08575858467, -225055.40683501554, -229596.48911191622, -234194.67587911835, -238850.3104264537, -243563.73604375383, -248335.29602085057, -253165.33364757552, -258054.19221376034, -263002.2150092368, -268009.7453238365, -273077.1264473911, -278204.7016697324, -283392.814280692, -288641.8075701016, -293952.02482779283, -299323.8093435975, -304757.5044073472, -310253.4533088736, -315811.9993380084, -321433.4857845834, -327118.2559384301, -332866.6530893802, -338679.0205272655, -344555.70154191763, -350497.0394231683, -356503.3774608491, -362575.0589447918, -368712.4271648281, -374915.82541078964, -381185.596972508, -387522.085139815, -393925.6332025423, -400396.5844505217, -406935.2821735846, -413542.06966156285, -420217.2902042882, -426961.2870915922, -433774.4036133065, -440656.98305926303, -447609.3687192932, -454631.9038832289, -461724.9318409016, -468888.7958821432, -476123.83929678524, -483430.4053746594, -490808.83740559744, -498259.478679431, -505782.6724859918, -513378.76211511146, -521048.0908566218, -528791.0020003543, -536607.8388361408, -544498.9446538129, -552464.6627432023, -560505.3363941407, -568621.3088964598, -576812.9235399911, -585080.5236145667, -593424.4524100178, -601845.0532161765, -610342.669322874, -618917.6440199425, -627570.3205972135, -636301.0423445185, -645110.1525516893, -653997.9945085577, -662964.9115049553, -672011.2468307137, -681137.3437756647, -690343.5456296399, -699630.1956824709, -708997.6372239897, -718446.2135440276, -727976.2679324166, -737588.1436789882, -747282.1840735741, -757058.7324060061, -766918.1319661158, -776860.7260437347, -786886.8579286948, -796996.8709108277, -807191.1082799649, -817469.9133259383, -827833.6293385794, -838282.5996077199, -848817.1674231918, -859437.6760748264, -870144.4688524555, -880937.8890459109, -891818.2799450242, -902785.9848396268, -913841.347019551, -924984.709774628, -936216.4163946896, -947536.8101695675, -958946.2343890934, -970445.0323430989]}, {\"mode\": \"lines+markers\", \"name\": \"Model 50\", \"type\": \"scatter\", \"x\": [0.0, 1.0, 2.0, 3.0, 4.0, 5.0, 6.0, 7.0, 8.0, 9.0, 10.0, 11.0, 12.0, 13.0, 14.0, 15.0, 16.0, 17.0, 18.0, 19.0, 20.0, 21.0, 22.0, 23.0, 24.0, 25.0, 26.0, 27.0, 28.0, 29.0, 30.0, 31.0, 32.0, 33.0, 34.0, 35.0, 36.0, 37.0, 38.0, 39.0, 40.0, 41.0, 42.0, 43.0, 44.0, 45.0, 46.0, 47.0, 48.0, 49.0, 50.0, 51.0, 52.0, 53.0, 54.0, 55.0, 56.0, 57.0, 58.0, 59.0, 60.0, 61.0, 62.0, 63.0, 64.0, 65.0, 66.0, 67.0, 68.0, 69.0, 70.0, 71.0, 72.0, 73.0, 74.0, 75.0, 76.0, 77.0, 78.0, 79.0, 80.0, 81.0, 82.0, 83.0, 84.0, 85.0, 86.0, 87.0, 88.0, 89.0, 90.0, 91.0, 92.0, 93.0, 94.0, 95.0, 96.0, 97.0, 98.0, 99.0, 100.0, 101.0, 102.0, 103.0, 104.0, 105.0, 106.0, 107.0, 108.0, 109.0, 110.0, 111.0, 112.0, 113.0, 114.0, 115.0, 116.0, 117.0, 118.0, 119.0, 120.0, 121.0, 122.0, 123.0, 124.0, 125.0, 126.0, 127.0, 128.0, 129.0, 130.0, 131.0, 132.0, 133.0, 134.0, 135.0, 136.0, 137.0, 138.0, 139.0, 140.0, 141.0, 142.0, 143.0, 144.0, 145.0, 146.0, 147.0, 148.0, 149.0, 150.0, 151.0, 152.0, 153.0, 154.0, 155.0, 156.0, 157.0, 158.0, 159.0, 160.0, 161.0, 162.0, 163.0, 164.0, 165.0, 166.0, 167.0, 168.0, 169.0, 170.0, 171.0, 172.0, 173.0, 174.0, 175.0, 176.0, 177.0, 178.0, 179.0, 180.0, 181.0, 182.0, 183.0, 184.0, 185.0, 186.0, 187.0, 188.0, 189.0, 190.0, 191.0, 192.0, 193.0, 194.0, 195.0, 196.0, 197.0, 198.0, 199.0, 200.0, 201.0, 202.0, 203.0, 204.0, 205.0, 206.0, 207.0, 208.0, 209.0, 210.0, 211.0, 212.0, 213.0, 214.0, 215.0, 216.0, 217.0, 218.0, 219.0, 220.0, 221.0, 222.0, 223.0, 224.0, 225.0, 226.0, 227.0, 228.0, 229.0, 230.0, 231.0, 232.0, 233.0, 234.0, 235.0, 236.0, 237.0, 238.0, 239.0, 240.0, 241.0, 242.0, 243.0, 244.0, 245.0, 246.0, 247.0, 248.0, 249.0, 250.0, 251.0, 252.0, 253.0, 254.0, 255.0, 256.0, 257.0, 258.0, 259.0, 260.0, 261.0, 262.0, 263.0, 264.0, 265.0, 266.0, 267.0, 268.0, 269.0, 270.0, 271.0, 272.0, 273.0, 274.0, 275.0, 276.0, 277.0, 278.0, 279.0, 280.0, 281.0, 282.0, 283.0, 284.0, 285.0, 286.0, 287.0, 288.0, 289.0, 290.0, 291.0, 292.0, 293.0, 294.0, 295.0, 296.0, 297.0, 298.0, 299.0], \"y\": [68.12507797925628, 20.7405582394747, -15.470188768815504, -40.77048090357161, -55.42363602275081, -59.69297198431043, -53.84180664620763, -38.13345786639971, -12.831243502843904, 21.80151858650254, 65.50151054368231, 118.00541451073828, 179.04991262971316, 248.37168704264965, 325.7074198915906, 410.79379331857865, 503.3674894656566, 603.1651904748672, 709.9235784882533, 823.3793356478575, 943.2691440957224, 1069.3296859738912, 1201.2976434244065, 1338.9096985893107, 1481.9025336106472, 1630.0128306304582, 1782.9772717907865, 1940.5325392336754, 2102.4153151011665, 2268.362281535304, 2438.1101206781295, 2611.3955146716867, 2787.9551456580175, 2967.5256957791644, 3149.8438471771715, 3334.6462819940807, 3521.669682371935, 3710.650730452777, 3901.326108378649, 4093.4324982915946, 4286.706582333656, 4480.885042646876, 4675.704561373298, 4870.901820654964, 5066.213502633917, 5261.376289452199, 5456.126863251855, 5650.201906174925, 5843.338100363454, 6035.272127959483, 6225.740671105055, 6414.480411942214, 6601.228032613001, 6785.720215259462, 6967.693642023635, 7146.884995047567, 7323.030956473299, 7495.868208442873, 7665.133433098333, 7830.5633125817185, 7991.894529035079, 8148.863764600452, 8301.20770141988, 8448.66302163541, 8590.966407389082, 8727.854540822937, 8859.064104079018, 8984.331779299373, 9103.394248626038, 9215.988194201058, 9321.850298166479, 9420.717242664341, 9512.325709836688, 9596.412381825561, 9672.713940773006, 9740.967068821057, 9800.908448111768, 9852.274760787175, 9894.802688989323, 9928.228914860258, 9952.290120542013, 9966.722988176636, 9971.264199906178, 9965.650437872668, 9949.61838421816, 9922.904721084691, 9885.246130614298, 9836.379294949038, 9776.040896230941, 9703.967616602058, 9619.896138204425, 9523.563143180098, 9414.705313671097, 9293.059331819484, 9158.361879767293, 9010.349639656579, 8848.75929362937, 8673.32752382771, 8483.791012393645, 8279.886441469225, 8061.350493196483, 7827.919849717463, 7579.331193174207, 7315.321205708767, 7035.626569463176, 6739.983966579478, 6428.130079199723, 6099.801589465947, 5754.735179520191, 5392.6675315044995, 5013.335327560922, 4616.475249831494, 4201.823980458251, 3769.118201583257, 3318.0945953485407, 2848.489843896145, 2360.0406293681126, 1852.4836339065005, 1325.5555396533225, 778.9930287506505, 212.5327833404981, -374.08851443506285, -981.1341824340041, -1608.8675385142828, -2257.5519005338565, -2927.4505863506674, -3618.8269138227024, -4331.9442008078895, -5067.0657651642005, -5824.4549247495925, -6604.374997422023, -7407.089301039448, -8232.861153459813, -9081.9538725411, -9954.630776141243, -10851.155182118207, -11771.790408329969, -12716.799772634444, -13686.446592889624, -14680.994186953463, -15700.705872683895, -16745.84496793891, -17816.674790576435, -18913.45865845444, -20036.45988943089, -21185.941801363737, -22362.167712110935, -23565.40093953043, -24795.904801480214, -26053.942615818203, -27339.777700402377, -28653.673373090693, -29995.892951741105, -31366.69975421157, -32766.35709836004, -34195.12830204449, -35653.27668312285, -37141.06555945308, -38658.75824889317, -40206.61806930107, -41784.90833853471, -43393.89237445205, -45033.83349491107, -46704.99501776971, -48407.64026088595, -50142.03254211771, -51908.43517932296, -53707.11149035968, -55538.3247930858, -57402.3384053593, -59299.41564503812, -61229.81982998024, -63193.81427804358, -65191.66230708612, -67223.62723496581, -69289.97237954065, -71390.9610586685, -73526.85659020743, -75697.92229201531, -77904.42148195014, -80146.61747786989, -82424.77359763248, -84739.15315909588, -87090.01948011805, -89477.63587855695, -91902.26567227054, -94364.17217911677, -96863.61871695358, -99400.86860363897, -101976.18515703085, -104589.83169498722, -107242.07153536605, -109933.16799602521, -112663.38439482273, -115432.98404961657, -118242.23027826466, -121091.38639862493, -123980.71572855541, -126910.481585914, -129880.9472885587, -132892.3761543474, -135945.03150113815, -139039.17664678884, -142175.07490915744, -145352.98960610194, -148573.18405548023, -151835.92157515034, -155141.46548297015, -158490.07909679768, -161882.0257344909, -165317.5687139077, -168796.97135290605, -172320.496969344, -175888.40888107938, -179500.97040597026, -183158.4448618745, -186861.09556665012, -190609.18583815504, -194402.97899424724, -198242.73835278468, -202128.72723162532, -206061.20894862706, -210040.44682164796, -214066.7041685459, -218140.2443071788, -222261.33055540477, -226430.22623108161, -230647.19465206735, -234912.4991362199, -239226.40300139735, -243589.1695654575, -248001.06214625834, -252462.34406165793, -256973.2786295141, -261534.12916768488, -266145.15899402817, -270806.6314264021, -275518.80978266435, -280281.957380673, -285096.3375382861, -289962.2135733615, -294879.8488037572, -299849.5065473312, -304871.45012194134, -309945.94284544565, -315073.2480357021, -320253.6290105686, -325487.34908790316, -330774.6715855637, -336115.85982140823, -341511.1771132946, -346960.88677908084, -352465.25213662494, -358024.53650378477, -363639.0031984184, -369308.91553838365, -375034.5368415386, -380816.13042574114, -386653.95960884925, -392548.2877087209, -398499.37804321403, -404507.49393018655, -410572.8986874965, -416695.8556330017, -422876.6280845604, -429115.4793600302, -435412.6727772693, -441768.47165413556, -448183.13930848695, -454656.9390581814, -461190.13422107697, -467782.9881150315, -474435.764057903, -481148.72536754946, -487922.1353618288, -494756.257358599, -501651.3546757178, -508607.6906310436, -515625.528542434, -522705.1317277471, -529846.7635048407, -537050.687191573, -544317.1661058018, -551646.4635653851, -559038.8428881809, -566494.567392047, -574013.9003948416, -581597.1052144225, -589244.4451686476, -596956.183575375, -604732.5837524625, -612573.9090177682, -620480.4226891501, -628452.3880844661, -636490.0685215739, -644593.727318332, -652763.6277925977, -661000.0332622295, -669303.2070450851, -677673.4124590225]}, {\"mode\": \"lines+markers\", \"name\": \"Model 55\", \"type\": \"scatter\", \"x\": [0.0, 1.0, 2.0, 3.0, 4.0, 5.0, 6.0, 7.0, 8.0, 9.0, 10.0, 11.0, 12.0, 13.0, 14.0, 15.0, 16.0, 17.0, 18.0, 19.0, 20.0, 21.0, 22.0, 23.0, 24.0, 25.0, 26.0, 27.0, 28.0, 29.0, 30.0, 31.0, 32.0, 33.0, 34.0, 35.0, 36.0, 37.0, 38.0, 39.0, 40.0, 41.0, 42.0, 43.0, 44.0, 45.0, 46.0, 47.0, 48.0, 49.0, 50.0, 51.0, 52.0, 53.0, 54.0, 55.0, 56.0, 57.0, 58.0, 59.0, 60.0, 61.0, 62.0, 63.0, 64.0, 65.0, 66.0, 67.0, 68.0, 69.0, 70.0, 71.0, 72.0, 73.0, 74.0, 75.0, 76.0, 77.0, 78.0, 79.0, 80.0, 81.0, 82.0, 83.0, 84.0, 85.0, 86.0, 87.0, 88.0, 89.0, 90.0, 91.0, 92.0, 93.0, 94.0, 95.0, 96.0, 97.0, 98.0, 99.0, 100.0, 101.0, 102.0, 103.0, 104.0, 105.0, 106.0, 107.0, 108.0, 109.0, 110.0, 111.0, 112.0, 113.0, 114.0, 115.0, 116.0, 117.0, 118.0, 119.0, 120.0, 121.0, 122.0, 123.0, 124.0, 125.0, 126.0, 127.0, 128.0, 129.0, 130.0, 131.0, 132.0, 133.0, 134.0, 135.0, 136.0, 137.0, 138.0, 139.0, 140.0, 141.0, 142.0, 143.0, 144.0, 145.0, 146.0, 147.0, 148.0, 149.0, 150.0, 151.0, 152.0, 153.0, 154.0, 155.0, 156.0, 157.0, 158.0, 159.0, 160.0, 161.0, 162.0, 163.0, 164.0, 165.0, 166.0, 167.0, 168.0, 169.0, 170.0, 171.0, 172.0, 173.0, 174.0, 175.0, 176.0, 177.0, 178.0, 179.0, 180.0, 181.0, 182.0, 183.0, 184.0, 185.0, 186.0, 187.0, 188.0, 189.0, 190.0, 191.0, 192.0, 193.0, 194.0, 195.0, 196.0, 197.0, 198.0, 199.0, 200.0, 201.0, 202.0, 203.0, 204.0, 205.0, 206.0, 207.0, 208.0, 209.0, 210.0, 211.0, 212.0, 213.0, 214.0, 215.0, 216.0, 217.0, 218.0, 219.0, 220.0, 221.0, 222.0, 223.0, 224.0, 225.0, 226.0, 227.0, 228.0, 229.0, 230.0, 231.0, 232.0, 233.0, 234.0, 235.0, 236.0, 237.0, 238.0, 239.0, 240.0, 241.0, 242.0, 243.0, 244.0, 245.0, 246.0, 247.0, 248.0, 249.0, 250.0, 251.0, 252.0, 253.0, 254.0, 255.0, 256.0, 257.0, 258.0, 259.0, 260.0, 261.0, 262.0, 263.0, 264.0, 265.0, 266.0, 267.0, 268.0, 269.0, 270.0, 271.0, 272.0, 273.0, 274.0, 275.0, 276.0, 277.0, 278.0, 279.0, 280.0, 281.0, 282.0, 283.0, 284.0, 285.0, 286.0, 287.0, 288.0, 289.0, 290.0, 291.0, 292.0, 293.0, 294.0, 295.0, 296.0, 297.0, 298.0, 299.0], \"y\": [-6.81852900740023, -27.76365782785838, -40.84651943240752, -46.16941166507673, -43.83463236989511, -33.94447939089176, -16.601250572095786, 8.09275624246376, 40.03524320875772, 79.12391248275704, 125.25646622043263, 178.33060657775536, 238.24403571069615, 304.8944557752259, 378.1795689273156, 457.997077322936, 544.244683118058, 636.8200884686527, 735.6209955306908, 840.5451064601434, 951.4901234129813, 1068.3537485451754, 1191.0336840126965, 1319.4276319715157, 1453.4332945776039, 1592.9483739869318, 1737.8705723554704, 1888.0975918391907, 2043.5271345940637, 2204.05690277606, 2369.5845985411506, 2540.007924045306, 2715.224581444498, 2895.1322728946975, 3079.628700551874, 3268.611566572, 3461.9785731110455, 3659.627422324982, 3861.45581636978, 4067.36145740141, 4277.2420475758445, 4490.995289049051, 4708.518883977005, 4929.710534515674, 5154.467942821031, 5382.688811049045, 5614.270841355688, 5849.111735896931, 6087.109196828744, 6328.160926307099, 6572.1646264879655, 6819.017999527316, 7068.618747581122, 7320.864572805351, 7575.653177355978, 7832.88226338897, 8092.449533060302, 8354.252688525943, 8618.18943194186, 8884.157465464032, 9152.054491248422, 9421.778211451006, 9693.226328227754, 9966.296543734636, 10240.886560127621, 10516.894079562684, 10794.216804195794, 11072.75243618292, 11352.398677680034, 11633.05323084311, 11914.613797828117, 12196.978080791027, 12480.043781887805, 12763.708603274426, 13047.870247106866, 13332.426415541086, 13617.274810733066, 13902.31313483877, 14187.43909001417, 14472.550378415242, 14757.544702197953, 15042.319763518277, 15326.77326453218, 15610.802907395631, 15894.306394264611, 16177.181427295081, 16459.32570864302, 16740.636940464396, 17021.012824915175, 17300.35106415133, 17578.549360328838, 17855.505415603664, 18131.11693213178, 18405.281612069157, 18677.89715757177, 18948.861270795576, 19218.071653896568, 19485.4260090307, 19750.822038353945, 20014.15744402228, 20275.329928191673, 20534.237193018093, 20790.77694065751, 21044.846873265906, 21296.34469299923, 21545.168102013482, 21791.21480246461, 22034.382496508588, 22274.568886301393, 22511.67167399899, 22745.588561757366, 22976.217251732465, 23203.45544608028, 23427.200846956774, 23647.351156517918, 23863.804076919685, 24076.457310318045, 24285.20855886896, 24489.95552472842, 24690.595910052376, 24887.027416996814, 25079.147747717696, 25266.85460437099, 25450.04568911268, 25628.618704098724, 25802.471351485106, 25971.501333427783, 26135.60635208273, 26294.684109605925, 26448.632308153337, 26597.34864988093, 26740.73083694467, 26878.67657150055, 27011.083555704525, 27137.849491712554, 27258.87208168064, 27374.04902776473, 27483.2780321208, 27586.456796904826, 27683.483024272766, 27774.254416380616, 27858.668675384317, 27936.62350343986, 28008.0166027032, 28072.74567533033, 28130.7084234772, 28181.80254929979, 28225.925754954063, 28262.975742596012, 28292.850214381582, 28315.44687246676, 28330.663419007513, 28338.397556159816, 28338.546986079622, 28331.009410922918, 28315.682532845676, 28292.464054003864, 28261.251676553453, 28221.943102650403, 28174.436034450697, 28118.628174110305, 28054.417223785185, 27981.700885631337, 27900.376861804703, 27810.342854461265, 27711.496565756985, 27603.73569784786, 27486.957952889832, 27361.061033038884, 27225.94264045099, 27081.500477282123, 26927.632245688234, 26764.235647825313, 26591.208385849328, 26408.44816191625, 26215.852678182036, 26013.319636802673, 25800.74673993413, 25578.03168973238, 25345.072188353388, 25101.765937953118, 24848.010640687553, 24583.703998712663, 24308.743714184417, 24023.027489258773, 23726.45302609173, 23418.918026839223, 23100.320193657255, 22770.557228701775, 22429.526834128777, 22077.12671209421, 21713.254564754043, 21337.808094264274, 20950.685002780843, 20551.782992459757, 20140.99976545695, 19718.233023928395, 19283.380470030097, 18836.33980591799, 18377.00873374808, 17905.284955676307, 17421.066173858642, 16924.25009045108, 16414.734407609576, 15892.416827490088, 15357.195052248619, 14808.966784041113, 14247.629725023571, 13673.081577351932, 13085.220043182197, 12483.94282467028, 11869.147623972234, 11240.73214324395, 10598.594084641452, 9942.631150320685, 9272.741042437647, 8588.82146314828, 7890.770114608584, 7178.484698974502, 6451.862918402003, 5710.802475047089, 4955.2010710657, 4184.956408613809, 3399.966189847413, 2600.1281169224562, 1785.339891994938, 955.4992172208, 110.50379475601328, -749.7486732434222, -1625.3604846215646, -2516.433937222414, -3423.071328890029, -4345.374957468437, -5283.44712080164, -6237.390116733695, -7207.306243108604, -8193.297797770452, -9195.46707856318, -10213.916383330909, -11248.748009917605, -12300.064256167298, -13367.967419924047, -14452.559799031882, -15553.943691334833, -16672.221394676897, -17807.495206902102, -18959.86742585451, -20129.44034937815, -21316.31627531705, -22520.59750151521, -23742.386325816657, -24981.78504606548, -26238.895960105652, -27513.8213657812, -28806.663560936184, -30117.524843414627, -31446.507511060536, -32793.713861717966, -34159.24619323095, -35543.206803443485, -36945.697990199624, -38366.8220513434, -39806.68128471879, -41265.37798816993, -42743.01445954074, -44239.6929966753, -45755.515897417594, -47290.58545961175, -48845.0039811017, -50418.87375973151, -52012.29709334522, -53625.37627978686, -55258.213616900466, -56910.91140252999, -58583.57193451954, -60276.297510713135, -61989.1904289548, -63722.35298708857, -65475.88748295841, -67249.89621440842, -69044.48147928261, -70859.74557542503, -72695.7908006797, -74552.71945289058, -76430.63382990178, -78329.6362295573, -80249.8289497012, -82191.31428817748, -84154.1945428302, -86138.5720115033, -88144.54899204089, -90172.227782287, -92221.71068008557, -94293.09998328079, -96386.49798971653, -98502.00699723691, -100639.72930368595, -102799.76720690767, -104982.22300474609, -107187.19899504521]}, {\"mode\": \"lines+markers\", \"name\": \"Model 60\", \"type\": \"scatter\", \"x\": [0.0, 1.0, 2.0, 3.0, 4.0, 5.0, 6.0, 7.0, 8.0, 9.0, 10.0, 11.0, 12.0, 13.0, 14.0, 15.0, 16.0, 17.0, 18.0, 19.0, 20.0, 21.0, 22.0, 23.0, 24.0, 25.0, 26.0, 27.0, 28.0, 29.0, 30.0, 31.0, 32.0, 33.0, 34.0, 35.0, 36.0, 37.0, 38.0, 39.0, 40.0, 41.0, 42.0, 43.0, 44.0, 45.0, 46.0, 47.0, 48.0, 49.0, 50.0, 51.0, 52.0, 53.0, 54.0, 55.0, 56.0, 57.0, 58.0, 59.0, 60.0, 61.0, 62.0, 63.0, 64.0, 65.0, 66.0, 67.0, 68.0, 69.0, 70.0, 71.0, 72.0, 73.0, 74.0, 75.0, 76.0, 77.0, 78.0, 79.0, 80.0, 81.0, 82.0, 83.0, 84.0, 85.0, 86.0, 87.0, 88.0, 89.0, 90.0, 91.0, 92.0, 93.0, 94.0, 95.0, 96.0, 97.0, 98.0, 99.0, 100.0, 101.0, 102.0, 103.0, 104.0, 105.0, 106.0, 107.0, 108.0, 109.0, 110.0, 111.0, 112.0, 113.0, 114.0, 115.0, 116.0, 117.0, 118.0, 119.0, 120.0, 121.0, 122.0, 123.0, 124.0, 125.0, 126.0, 127.0, 128.0, 129.0, 130.0, 131.0, 132.0, 133.0, 134.0, 135.0, 136.0, 137.0, 138.0, 139.0, 140.0, 141.0, 142.0, 143.0, 144.0, 145.0, 146.0, 147.0, 148.0, 149.0, 150.0, 151.0, 152.0, 153.0, 154.0, 155.0, 156.0, 157.0, 158.0, 159.0, 160.0, 161.0, 162.0, 163.0, 164.0, 165.0, 166.0, 167.0, 168.0, 169.0, 170.0, 171.0, 172.0, 173.0, 174.0, 175.0, 176.0, 177.0, 178.0, 179.0, 180.0, 181.0, 182.0, 183.0, 184.0, 185.0, 186.0, 187.0, 188.0, 189.0, 190.0, 191.0, 192.0, 193.0, 194.0, 195.0, 196.0, 197.0, 198.0, 199.0, 200.0, 201.0, 202.0, 203.0, 204.0, 205.0, 206.0, 207.0, 208.0, 209.0, 210.0, 211.0, 212.0, 213.0, 214.0, 215.0, 216.0, 217.0, 218.0, 219.0, 220.0, 221.0, 222.0, 223.0, 224.0, 225.0, 226.0, 227.0, 228.0, 229.0, 230.0, 231.0, 232.0, 233.0, 234.0, 235.0, 236.0, 237.0, 238.0, 239.0, 240.0, 241.0, 242.0, 243.0, 244.0, 245.0, 246.0, 247.0, 248.0, 249.0, 250.0, 251.0, 252.0, 253.0, 254.0, 255.0, 256.0, 257.0, 258.0, 259.0, 260.0, 261.0, 262.0, 263.0, 264.0, 265.0, 266.0, 267.0, 268.0, 269.0, 270.0, 271.0, 272.0, 273.0, 274.0, 275.0, 276.0, 277.0, 278.0, 279.0, 280.0, 281.0, 282.0, 283.0, 284.0, 285.0, 286.0, 287.0, 288.0, 289.0, 290.0, 291.0, 292.0, 293.0, 294.0, 295.0, 296.0, 297.0, 298.0, 299.0], \"y\": [-134.78719436632855, -119.94048303737262, -101.20000625720166, -78.49314530081205, -51.74728144320014, -20.889795959362303, 14.15192987570515, 53.45051478700577, 97.07857749954326, 145.10873673832123, 197.61361122834336, 254.66581969461328, 316.3379808621346, 382.70271345591095, 453.832636200946, 529.8003678222434, 610.6785270448067, 696.5397325936398, 787.456603193746, 883.501757570129, 984.7478144477927, 1091.2673925517406, 1203.133110606976, 1320.4175873385032, 1443.1934414713255, 1571.5332917304463, 1705.5097568408696, 1845.1954555275988, 1990.6630065156378, 2141.98502852999, 2299.234140295659, 2462.482960537649, 2631.8041079809627, 2807.2702013506046, 2988.9538593715774, 3176.927700768886, 3371.2643442675335, 3572.0364085925225, 3779.3165124688585, 3993.177274621544, 4213.691313775582, 4440.9312486559775, 4674.969697987734, 4915.879280495854, 5163.732614905343, 5418.602319941203, 5680.5610143284375, 5949.681316792052, 6226.035846057048, 6509.697220848429, 6800.738059891201, 7099.2309819103675, 7405.248605630929, 7718.863549777892, 8040.1484330762605, 8369.175874251036, 8706.01849202722, 9050.748905129823, 9403.439732283845, 9764.163592214287, 10132.993103646157, 10510.000885304456, 10895.259555914188, 11288.84173420036, 11690.820038887969, 12101.267088702023, 12520.255502367525, 12947.85789860948, 13384.146896152888, 13829.195113722757, 14283.075170044089, 14745.859683841883, 15217.62127384115, 15698.432558766892, 16188.36615734411, 16687.494688297804, 17195.89077035299, 17713.627022234657, 18240.77606266782, 18777.41051037748, 19323.602984088633, 19879.426102526297, 20444.95248441546, 21020.25474848113, 21605.40551344832, 22200.47739804202, 22805.54302098725, 23420.675001009004, 24045.945956832278, 24681.428507182092, 25327.195270783435, 25983.31886636132, 26649.871912640745, 27326.92702834672, 28014.556832204238, 28712.83394293832, 29421.830979273953, 30141.62055993615, 30872.275303649905, 31613.867829140232, 32366.470755132126, 33130.156700350606, 33904.99828352066, 34691.068123367295, 35488.43883861552, 36297.18304799033, 37117.37337021674, 37949.08242401973, 38792.38282812434, 39647.34720125555, 40514.048162138366, 41392.55832949779, 42282.95032205883, 43185.296758546494, 44099.67025768578, 45026.14343820169, 45964.788918819235, 46915.67931826341, 47878.887255259215, 48854.48534853167, 49842.54621680577, 50843.14247880651, 51856.34675325891, 52882.23165888796, 53920.86981441867, 54972.33383857605, 56036.69635008508, 57114.029967670795, 58204.40731005818, 59307.90099597224, 60424.58364413799, 61554.527873280414, 62697.806302124525, 63854.49154939533, 65024.656233817834, 66208.37297411702, 67405.71438901793, 68616.75309724554, 69841.56171752486, 71080.2128685809, 72332.77916913865, 73599.33323792313, 74879.94769365931, 76174.69515507224, 77483.64824088689, 78806.87956982829, 80144.46176062142, 81496.46743199129, 82862.96920266292, 84244.03969136128, 85639.75151681142, 87050.1772977383, 88475.38965286693, 89915.46120092233, 91370.46456062951, 92840.47235071346, 94325.55718989919, 95825.79169691169, 97341.24849047598, 98872.00018931704, 100418.1194121599, 101979.67877772957, 103556.75090475101, 105149.40841194926, 106757.72391804932, 108381.77004177618, 110021.61940185487, 111677.34461701036, 113349.01830596768, 115036.7130874518, 116740.50158018777, 118460.45640290057, 120196.65017431519, 121949.15551315666, 123718.04503814995, 125503.39136802011, 127305.2671214921, 129123.74491729095, 130958.89737414167, 132810.79711076923, 134679.51674589867, 136565.12889825494, 138467.7061865631, 140387.32122954814, 142324.04664593507, 144277.95505444886, 146249.11907381454, 148237.61132275712, 150243.50442000155, 152266.87098427291, 154307.78363429618, 156366.31498879634, 158442.5376664984, 160536.5242861274, 162648.34746640828, 164778.07982606607, 166925.7939838258, 169091.56255841246, 171275.45816855103, 173477.55343296655, 175697.920970384, 177936.6333995284, 180193.7633391247, 182469.383407898, 184763.56622457324, 187076.38440787542, 189407.91057652957, 191758.21734926067, 194127.37734479373, 196515.46318185373, 198922.54747916575, 201348.70285545473, 203794.0019294457, 206258.51731986363, 208742.32164543358, 211245.4875248805, 213768.08757692942, 216310.1944203053, 218871.88067373322, 221453.21895593815, 224054.2818856451, 226675.14208157902, 229315.87216246498, 231976.54474702795, 234657.23245399294, 237358.00790208497, 240078.943710029, 242820.1124965501, 245581.58688037322, 248363.4394802234, 251165.74291482562, 253988.56980290488, 256831.9927631862, 259696.08441439454, 262580.91737525497, 265486.5642644925, 268413.097700832, 271360.59030299867, 274329.11468971736, 277318.74347971316, 280329.549291711, 283361.6047444359, 286414.982456613, 289489.7550469671, 292585.9951342233, 295703.7753371066, 298843.1682743421, 302004.2465646546, 305187.0828267692, 308391.749679411, 311618.31974130485, 314866.86563117587, 318137.45996774896, 321430.1753697492, 324745.0844559016, 328082.25984493113, 331441.77415556274, 334823.70000652154, 338228.11001653253, 341655.0768043206, 345104.67298861087, 348576.9711881283, 352072.04402159783, 355589.96410774457, 359130.80406529346, 362694.63651296956, 366281.5340694978, 369891.56935360323, 373524.8149840108, 377181.3435794456, 380861.2277586326, 384564.5401402968, 388291.3533431632, 392041.73998595675, 395815.77268740255, 399613.52406622557, 403435.06674115075, 407280.4733309032, 411149.8164542078, 415043.16872978973, 418960.6027763738, 422902.19121268514, 426868.0066574487, 430858.1217293895, 434872.60904723254, 438911.5412297028, 442974.9908955253, 447063.0306634251, 451175.7331521271, 455313.17098035646, 459475.416766838, 463662.54313029686, 467874.62268945796, 472111.7280630463, 476373.931869787, 480661.3067284049, 484973.9252576251, 489311.8600761726, 493675.18380277243, 498063.96905614954]}, {\"mode\": \"lines+markers\", \"name\": \"Model 65\", \"type\": \"scatter\", \"x\": [0.0, 1.0, 2.0, 3.0, 4.0, 5.0, 6.0, 7.0, 8.0, 9.0, 10.0, 11.0, 12.0, 13.0, 14.0, 15.0, 16.0, 17.0, 18.0, 19.0, 20.0, 21.0, 22.0, 23.0, 24.0, 25.0, 26.0, 27.0, 28.0, 29.0, 30.0, 31.0, 32.0, 33.0, 34.0, 35.0, 36.0, 37.0, 38.0, 39.0, 40.0, 41.0, 42.0, 43.0, 44.0, 45.0, 46.0, 47.0, 48.0, 49.0, 50.0, 51.0, 52.0, 53.0, 54.0, 55.0, 56.0, 57.0, 58.0, 59.0, 60.0, 61.0, 62.0, 63.0, 64.0, 65.0, 66.0, 67.0, 68.0, 69.0, 70.0, 71.0, 72.0, 73.0, 74.0, 75.0, 76.0, 77.0, 78.0, 79.0, 80.0, 81.0, 82.0, 83.0, 84.0, 85.0, 86.0, 87.0, 88.0, 89.0, 90.0, 91.0, 92.0, 93.0, 94.0, 95.0, 96.0, 97.0, 98.0, 99.0, 100.0, 101.0, 102.0, 103.0, 104.0, 105.0, 106.0, 107.0, 108.0, 109.0, 110.0, 111.0, 112.0, 113.0, 114.0, 115.0, 116.0, 117.0, 118.0, 119.0, 120.0, 121.0, 122.0, 123.0, 124.0, 125.0, 126.0, 127.0, 128.0, 129.0, 130.0, 131.0, 132.0, 133.0, 134.0, 135.0, 136.0, 137.0, 138.0, 139.0, 140.0, 141.0, 142.0, 143.0, 144.0, 145.0, 146.0, 147.0, 148.0, 149.0, 150.0, 151.0, 152.0, 153.0, 154.0, 155.0, 156.0, 157.0, 158.0, 159.0, 160.0, 161.0, 162.0, 163.0, 164.0, 165.0, 166.0, 167.0, 168.0, 169.0, 170.0, 171.0, 172.0, 173.0, 174.0, 175.0, 176.0, 177.0, 178.0, 179.0, 180.0, 181.0, 182.0, 183.0, 184.0, 185.0, 186.0, 187.0, 188.0, 189.0, 190.0, 191.0, 192.0, 193.0, 194.0, 195.0, 196.0, 197.0, 198.0, 199.0, 200.0, 201.0, 202.0, 203.0, 204.0, 205.0, 206.0, 207.0, 208.0, 209.0, 210.0, 211.0, 212.0, 213.0, 214.0, 215.0, 216.0, 217.0, 218.0, 219.0, 220.0, 221.0, 222.0, 223.0, 224.0, 225.0, 226.0, 227.0, 228.0, 229.0, 230.0, 231.0, 232.0, 233.0, 234.0, 235.0, 236.0, 237.0, 238.0, 239.0, 240.0, 241.0, 242.0, 243.0, 244.0, 245.0, 246.0, 247.0, 248.0, 249.0, 250.0, 251.0, 252.0, 253.0, 254.0, 255.0, 256.0, 257.0, 258.0, 259.0, 260.0, 261.0, 262.0, 263.0, 264.0, 265.0, 266.0, 267.0, 268.0, 269.0, 270.0, 271.0, 272.0, 273.0, 274.0, 275.0, 276.0, 277.0, 278.0, 279.0, 280.0, 281.0, 282.0, 283.0, 284.0, 285.0, 286.0, 287.0, 288.0, 289.0, 290.0, 291.0, 292.0, 293.0, 294.0, 295.0, 296.0, 297.0, 298.0, 299.0], \"y\": [-360.30845632370983, -289.3590987185111, -220.069827952081, -152.15070925294668, -85.31180784963533, -19.26318897067415, 46.28508215540967, 111.622940300089, 177.0403202348366, 242.82715673112523, 309.27338456042787, 376.6689384942173, 445.3037533039661, 515.4677637611474, 587.4509046372337, 661.5431107036981, 738.0343167320134, 817.2144574936524, 899.3734677600874, 984.8012823027918, 1073.7878358932385, 1166.6230633029002, 1263.5968993032493, 1364.9992786657588, 1471.1201361619019, 1582.2494065631513, 1698.6770246409792, 1820.692925166859, 1948.5870429122633, 2082.6493126486653, 2223.169669147537, 2370.4380471803524, 2524.7443815185834, 2686.378606933703, 2855.6306581971844, 3032.7904700804993, 3218.147977355122, 3411.9931147925245, 3614.615817164179, 3826.3060192415605, 4047.3536557961397, 4278.04866159939, 4518.680971422784, 4769.5405200377945, 5030.917242215895, 5303.101072728558, 5586.381946347257, 5881.049797843463, 6187.394561988651, 6505.706173554292, 6836.27456731186, 7179.389678032826, 7535.341440488665, 7904.419789450849, 8286.91465969085, 8683.115985980143, 9093.3137030902, 9517.797745792492, 9956.858048858492, 10410.784547059675, 10879.867175167512, 11364.395867953477, 11864.660560189042, 12380.951186645681, 12913.557682094866, 13462.769981308069, 14028.878019056765, 14612.171730112424, 15212.94104924652, 15831.475911230526, 16468.066250835916, 17123.00200283416, 17796.57310199673, 18489.069483095107, 19200.781080900757, 19931.99783018515, 20683.009665719765, 21454.106522276074, 22245.57833462555, 23057.71503753966, 23890.80656578988, 24745.142854147685, 25621.013837384548, 26518.70945027194, 27438.519627581336, 28380.734304084202, 29345.64341455202, 30333.53689375626, 31344.70467646839, 32379.43669745989, 33438.02289150223, 34520.75319336688, 35627.91753782531, 36759.805859649, 37916.70809360941, 39098.91417447805, 40306.71403702635, 41540.39761602579, 42800.25484624786, 44086.575662464034, 45399.64999944577, 46739.767791964536, 48107.21897479182, 49502.2934826991, 50925.28125045782, 52376.47221283948, 53856.15630461555, 55364.62346055749, 56902.16361543679, 58469.066704024895, 60065.62266109331, 61692.12142141348, 63348.852919756915, 65036.107090895035, 66754.17386959937, 68503.34319064135, 70283.90498879246, 72096.14919882418, 73940.36575550797, 75816.84459361531, 77725.87564791768, 79667.74885318655, 81642.75414419339, 83651.18145570967, 85693.32072250685, 87769.46187935643, 89879.89486102987, 92024.90960229865, 94204.79603793423, 96419.84410270808, 98670.3437313917, 100956.58485875653, 103278.85741957407, 105637.45134861577, 108032.65658065311, 110464.76305045756, 112934.06069280062, 115440.83944245373, 117985.38923418838, 120568.00000277603, 123188.96168298816, 125848.56420959624, 128547.09751737176, 131284.85154108616, 134062.11621551093, 136879.18147541754, 139736.3372555775, 142633.87349076223, 145572.0801157432, 148551.24706529194, 151571.66427417987, 154633.62167717848, 157737.40920905926, 160883.31680459366, 164071.63439855314, 167302.65192570921, 170576.65932083334, 173893.94651869696, 177254.8034540716, 180659.52006172866, 184108.3862764397, 187601.69203297613, 191139.72726610943, 194722.7819106111, 198351.1459012526, 202025.1091728054, 205744.96166004095, 209510.99329773078, 213323.4940206463, 217182.753763559, 221089.06246124042, 225042.71004846194, 229043.98645999507, 233093.18163061127, 237190.58549508205, 241336.48798817885, 245531.17904467316, 249774.94859933644, 254068.08658694016, 258410.88294225582, 262803.6276000549, 267246.61049510876, 271740.121562189, 276284.4507360671, 280879.8879515144, 285526.7231433025, 290225.2462462028, 294975.74719498685, 299778.515924426, 304633.8423692919, 309542.0164643558, 314503.3281443894, 319518.067344164, 324586.5239984512, 329708.98804202233, 334885.749409649, 340117.09803610266, 345403.3238561547, 350744.71680457663, 356141.56681613997, 361594.1638256161, 367102.79776777665, 372667.7585773929, 378289.3361892365, 383967.8205380788, 389703.5015586913, 395496.6691858455, 401347.61335431284, 407256.62399886484, 413223.9910542729, 419250.0044553086, 425334.9541367433, 431479.13003334857, 437682.8220798958, 443946.3202111565, 450269.91436190216, 456653.8944669042, 463098.5504609342, 469604.1722787635, 476171.0498551636, 482799.4731249061, 489489.73202276224, 496242.1164835037, 503056.91644190194, 509934.4218327283, 516874.9225907544, 523878.70865075156, 530946.0699474914, 538077.2964157453, 545272.6779902847, 552532.5046058813, 559857.0661973063, 567246.6526993313, 574701.5540467277, 582222.060174267, 589808.4610167209, 597461.0465088604, 605180.1065854575, 612965.9311812832, 620818.8102311093, 628739.0336697071, 636726.8914318482, 644782.673452304, 652906.6696658459, 661099.1700072455, 669360.4644112743, 677690.8428127036, 686090.595146305, 694560.01134685, 703099.3813491099, 711708.9950878563, 720389.1424978608, 729140.1135138946, 737962.1980707294, 746855.6861031365, 755820.8675458875, 764858.0323337539, 773967.470401507, 783149.4716839184, 792404.3261157596, 801732.3236318019, 811133.754166817, 820608.9076555761, 830158.0740328509, 839781.5432334129, 849479.6051920335, 859252.5498434841, 869100.6671225361, 879024.2469639613, 889023.5793025309, 899098.9540730164, 909250.6612101893, 919478.9906488212, 929784.2323236834, 940166.6761695475, 950626.6121211848, 961164.330113367, 971780.1200808653, 982474.2719584515, 993247.0756808968, 1004098.8211829729, 1015029.798399451, 1026040.2972651027, 1037130.6077146996, 1048301.0196830131, 1059551.8231048144, 1070883.3079148752, 1082295.7640479673, 1093789.4814388617, 1105364.75002233, 1117021.8597331438, 1128761.1005060745, 1140582.7622758935, 1152487.1349773721, 1164474.5085452823, 1176545.172914395, 1188699.4180194822, 1200937.533795315, 1213259.810176665, 1225666.5370983037]}, {\"mode\": \"lines+markers\", \"name\": \"Model 70\", \"type\": \"scatter\", \"x\": [0.0, 1.0, 2.0, 3.0, 4.0, 5.0, 6.0, 7.0, 8.0, 9.0, 10.0, 11.0, 12.0, 13.0, 14.0, 15.0, 16.0, 17.0, 18.0, 19.0, 20.0, 21.0, 22.0, 23.0, 24.0, 25.0, 26.0, 27.0, 28.0, 29.0, 30.0, 31.0, 32.0, 33.0, 34.0, 35.0, 36.0, 37.0, 38.0, 39.0, 40.0, 41.0, 42.0, 43.0, 44.0, 45.0, 46.0, 47.0, 48.0, 49.0, 50.0, 51.0, 52.0, 53.0, 54.0, 55.0, 56.0, 57.0, 58.0, 59.0, 60.0, 61.0, 62.0, 63.0, 64.0, 65.0, 66.0, 67.0, 68.0, 69.0, 70.0, 71.0, 72.0, 73.0, 74.0, 75.0, 76.0, 77.0, 78.0, 79.0, 80.0, 81.0, 82.0, 83.0, 84.0, 85.0, 86.0, 87.0, 88.0, 89.0, 90.0, 91.0, 92.0, 93.0, 94.0, 95.0, 96.0, 97.0, 98.0, 99.0, 100.0, 101.0, 102.0, 103.0, 104.0, 105.0, 106.0, 107.0, 108.0, 109.0, 110.0, 111.0, 112.0, 113.0, 114.0, 115.0, 116.0, 117.0, 118.0, 119.0, 120.0, 121.0, 122.0, 123.0, 124.0, 125.0, 126.0, 127.0, 128.0, 129.0, 130.0, 131.0, 132.0, 133.0, 134.0, 135.0, 136.0, 137.0, 138.0, 139.0, 140.0, 141.0, 142.0, 143.0, 144.0, 145.0, 146.0, 147.0, 148.0, 149.0, 150.0, 151.0, 152.0, 153.0, 154.0, 155.0, 156.0, 157.0, 158.0, 159.0, 160.0, 161.0, 162.0, 163.0, 164.0, 165.0, 166.0, 167.0, 168.0, 169.0, 170.0, 171.0, 172.0, 173.0, 174.0, 175.0, 176.0, 177.0, 178.0, 179.0, 180.0, 181.0, 182.0, 183.0, 184.0, 185.0, 186.0, 187.0, 188.0, 189.0, 190.0, 191.0, 192.0, 193.0, 194.0, 195.0, 196.0, 197.0, 198.0, 199.0, 200.0, 201.0, 202.0, 203.0, 204.0, 205.0, 206.0, 207.0, 208.0, 209.0, 210.0, 211.0, 212.0, 213.0, 214.0, 215.0, 216.0, 217.0, 218.0, 219.0, 220.0, 221.0, 222.0, 223.0, 224.0, 225.0, 226.0, 227.0, 228.0, 229.0, 230.0, 231.0, 232.0, 233.0, 234.0, 235.0, 236.0, 237.0, 238.0, 239.0, 240.0, 241.0, 242.0, 243.0, 244.0, 245.0, 246.0, 247.0, 248.0, 249.0, 250.0, 251.0, 252.0, 253.0, 254.0, 255.0, 256.0, 257.0, 258.0, 259.0, 260.0, 261.0, 262.0, 263.0, 264.0, 265.0, 266.0, 267.0, 268.0, 269.0, 270.0, 271.0, 272.0, 273.0, 274.0, 275.0, 276.0, 277.0, 278.0, 279.0, 280.0, 281.0, 282.0, 283.0, 284.0, 285.0, 286.0, 287.0, 288.0, 289.0, 290.0, 291.0, 292.0, 293.0, 294.0, 295.0, 296.0, 297.0, 298.0, 299.0], \"y\": [-497.8920094758978, -387.0233753615938, -281.7354466138812, -181.59154054051936, -86.15497444926746, 5.010934352115385, 92.34286855586981, 176.27751085423654, 257.2515439394565, 335.70165050377045, 412.06451323941894, 486.77681483864285, 560.275237993683, 632.99646539678, 705.377179740175, 777.8540637161082, 850.863800016821, 924.8430713345538, 1000.2285603615474, 1077.4569497900425, 1156.9649223122797, 1239.1891606205, 1324.5663474069443, 1413.5331653638532, 1506.5262971834677, 1603.982425558028, 1706.3382331797757, 1814.0304027409506, 1927.4956169337938, 2047.1705584505467, 2173.4919099834497, 2306.896354224743, 2447.820573866668, 2596.701251601465, 2753.9750701213757, 2920.0787121186395, 3095.4488602854985, 3280.5221973141925, 3475.7354058969627, 3681.5251687260497, 3898.3281684936946, 4126.5810878921375, 4366.72060961362, 4619.183416350382, 4884.406190794665, 5162.825615638709, 5454.878373574756, 5761.001147295045, 6081.630619491818, 6417.203472857315, 6768.156390083779, 7134.926053863448, 7517.949146888564, 7917.662351851368, 8334.5023514441, 8768.905828359, 9221.309465288312, 9692.149944924273, 10181.863949959126, 10690.888163085112, 11219.65926699447, 11768.613944379442, 12338.188877932269, 12928.820750345189, 13540.946244310446, 14175.002042520282, 14831.424827666933, 15510.651282442643, 16213.11808953965, 16939.261931650202, 17689.51949146653, 18464.32745168088, 19264.122494985495, 20089.341304072612, 20940.42056163447, 21817.796950363314, 22721.907152951386, 23653.18785209092, 24612.07573047416, 25599.007470793353, 26614.419755740728, 27658.749268008534, 28732.43269028901, 29835.9067052744, 30969.607995656937, 32133.97324412887, 33329.43913338243, 34556.44234610986, 35815.41956500342, 37106.80747275533, 38431.04275205782, 39788.56208560316, 41179.80215608359, 42605.19964619132, 44065.191238618616, 45560.21361605771, 47090.70346120084, 48657.09745674026, 50259.83228536819, 51899.3446297769, 53576.0711726586, 55290.44859670555, 57042.91358460998, 58833.90281906414, 60663.85298276026, 62533.200758390594, 64442.38282864737, 66391.83587622285, 68381.99658380925, 70413.30163409881, 72486.1877097838, 74601.09149355644, 76758.44966810895, 78958.69891613361, 81202.27592032265, 83489.61736336829, 85821.1599279628, 88197.3402967984, 90618.59515256734, 93085.36117796185, 95598.0750556742, 98157.17346839659, 100763.09309882128, 103416.27062964052, 106117.14274354654, 108866.14612323158, 111663.71745138789, 114510.29341070769, 117406.31068388325, 120352.20595360678, 123348.41590257056, 126395.3772134668, 129493.52656898773, 132643.30065182562, 135845.1361446727, 139099.4697302212, 142406.73809116337, 145767.37791019148, 149181.82586999773, 152650.51865327434, 156173.89294271363, 159752.38542100778, 163386.43277084903, 167076.47167492966, 170822.9388159419, 174626.27087657794, 178486.90453953008, 182405.2764874905, 186381.82340315153, 190416.98196920534, 194511.1888683442, 198664.88078326036, 202878.494396646, 207152.46639119345, 211487.23344959487, 215883.23225454256, 220340.89948872873, 224860.67183484562, 229442.98597558547, 234088.27859364054, 238796.98637170304, 243569.54599246525, 248406.3941386194, 253307.96749285772, 258274.70273787243, 263307.03655635583, 268405.40563100006, 273570.2466444975, 278801.9962795403, 284101.09121882066, 289467.9681450309, 294903.0637408633, 300406.81468901, 305979.6576721632, 311622.02937301534, 317334.3664742585, 323117.1056585849, 328970.6836086869, 334895.5370072567, 340892.1025369865, 346960.8168805686, 353102.11672069516, 359316.43874005845, 365604.21962135076, 371965.8960472643, 378401.9047004913, 384912.68226372404, 391498.6654196547, 398160.29085097555, 404897.99524037883, 411712.2152705568, 418603.38762420166, 425571.94898400566, 432618.3360326611, 439742.9854528602, 446946.3339272951, 454228.8181386581, 461590.87476964155, 469032.94050293753, 476555.4520212384, 484158.84600723634, 491843.55914362357, 499610.0281130924, 507458.689598335, 515389.98028204363, 523404.3368469106, 531502.1959756281, 539683.9943508883, 547950.1686553835, 556301.155571806, 564737.391782848, 573259.3139712017, 581867.3588195593, 590561.9630106132, 599343.5632270556, 608212.5961515786, 617169.4984668746, 626214.7068556356, 635348.6580005542, 644571.7885843224, 653884.5352896325, 663287.3347991767, 672780.6237956473, 682364.8389617365, 692040.4169801365, 701807.7945335398, 711667.4083046382, 721619.6949761243, 731665.0912306902, 741804.0337510282, 752036.9592198306, 762364.3043197894, 772786.505733597, 783304.0001439457, 793917.2242335276, 804626.614685035, 815432.6081811602, 826335.6414045952, 837336.1510380326, 848434.5737641645, 859631.3462656831, 870926.9052252806, 882321.6873256492, 893816.1292494814, 905410.6676794692, 917105.7392983049, 928901.7807886808, 940799.228833289, 952798.520114822, 964900.0913159718, 977104.3791194307, 989411.8202078909, 1001822.8512640448, 1014337.9089705845, 1026957.4300102023, 1039681.8510655904, 1052511.608819441, 1065447.1399544463, 1078488.881153299, 1091637.2690986907, 1104892.740473314, 1118255.7319598612, 1131726.6802410244, 1145306.0219994956, 1158994.1939179674, 1172791.632679132, 1186698.7749656816, 1200716.0574603083, 1214843.9168457047, 1229082.7898045625, 1243433.1130195742, 1257895.3231734324, 1272469.8569488288, 1287157.1510284557, 1301957.6420950058, 1316871.7668311708, 1331899.9619196435, 1347042.6640431155, 1362300.3098842795, 1377673.3361258276, 1393162.1794504519, 1408767.276540845, 1424489.0640796989, 1440327.9787497057, 1456284.457233558, 1472358.9362139476, 1488551.8523735672, 1504863.6423951087, 1521294.7429612644, 1537845.5907547267, 1554516.6224581879, 1571308.2747543398, 1588220.984325875, 1605255.1878554858, 1622411.3220258644, 1639689.8235197028, 1657091.1290196935, 1674615.6752085285, 1692263.8987689002, 1710036.236383501]}, {\"mode\": \"lines+markers\", \"name\": \"Model 75\", \"type\": \"scatter\", \"x\": [0.0, 1.0, 2.0, 3.0, 4.0, 5.0, 6.0, 7.0, 8.0, 9.0, 10.0, 11.0, 12.0, 13.0, 14.0, 15.0, 16.0, 17.0, 18.0, 19.0, 20.0, 21.0, 22.0, 23.0, 24.0, 25.0, 26.0, 27.0, 28.0, 29.0, 30.0, 31.0, 32.0, 33.0, 34.0, 35.0, 36.0, 37.0, 38.0, 39.0, 40.0, 41.0, 42.0, 43.0, 44.0, 45.0, 46.0, 47.0, 48.0, 49.0, 50.0, 51.0, 52.0, 53.0, 54.0, 55.0, 56.0, 57.0, 58.0, 59.0, 60.0, 61.0, 62.0, 63.0, 64.0, 65.0, 66.0, 67.0, 68.0, 69.0, 70.0, 71.0, 72.0, 73.0, 74.0, 75.0, 76.0, 77.0, 78.0, 79.0, 80.0, 81.0, 82.0, 83.0, 84.0, 85.0, 86.0, 87.0, 88.0, 89.0, 90.0, 91.0, 92.0, 93.0, 94.0, 95.0, 96.0, 97.0, 98.0, 99.0, 100.0, 101.0, 102.0, 103.0, 104.0, 105.0, 106.0, 107.0, 108.0, 109.0, 110.0, 111.0, 112.0, 113.0, 114.0, 115.0, 116.0, 117.0, 118.0, 119.0, 120.0, 121.0, 122.0, 123.0, 124.0, 125.0, 126.0, 127.0, 128.0, 129.0, 130.0, 131.0, 132.0, 133.0, 134.0, 135.0, 136.0, 137.0, 138.0, 139.0, 140.0, 141.0, 142.0, 143.0, 144.0, 145.0, 146.0, 147.0, 148.0, 149.0, 150.0, 151.0, 152.0, 153.0, 154.0, 155.0, 156.0, 157.0, 158.0, 159.0, 160.0, 161.0, 162.0, 163.0, 164.0, 165.0, 166.0, 167.0, 168.0, 169.0, 170.0, 171.0, 172.0, 173.0, 174.0, 175.0, 176.0, 177.0, 178.0, 179.0, 180.0, 181.0, 182.0, 183.0, 184.0, 185.0, 186.0, 187.0, 188.0, 189.0, 190.0, 191.0, 192.0, 193.0, 194.0, 195.0, 196.0, 197.0, 198.0, 199.0, 200.0, 201.0, 202.0, 203.0, 204.0, 205.0, 206.0, 207.0, 208.0, 209.0, 210.0, 211.0, 212.0, 213.0, 214.0, 215.0, 216.0, 217.0, 218.0, 219.0, 220.0, 221.0, 222.0, 223.0, 224.0, 225.0, 226.0, 227.0, 228.0, 229.0, 230.0, 231.0, 232.0, 233.0, 234.0, 235.0, 236.0, 237.0, 238.0, 239.0, 240.0, 241.0, 242.0, 243.0, 244.0, 245.0, 246.0, 247.0, 248.0, 249.0, 250.0, 251.0, 252.0, 253.0, 254.0, 255.0, 256.0, 257.0, 258.0, 259.0, 260.0, 261.0, 262.0, 263.0, 264.0, 265.0, 266.0, 267.0, 268.0, 269.0, 270.0, 271.0, 272.0, 273.0, 274.0, 275.0, 276.0, 277.0, 278.0, 279.0, 280.0, 281.0, 282.0, 283.0, 284.0, 285.0, 286.0, 287.0, 288.0, 289.0, 290.0, 291.0, 292.0, 293.0, 294.0, 295.0, 296.0, 297.0, 298.0, 299.0], \"y\": [-641.8557619271078, -496.5488278572683, -359.7205574344816, -230.83902398847806, -109.37230084898817, 5.211538654257765, 113.4444211915295, 215.8582734330962, 312.9850220492283, 405.35659371019483, 493.5049150862653, 577.9619128477098, 659.2595136647979, 737.9296442077987, 814.5042311469822, 889.5152011526184, 963.4944808949763, 1036.9739970443256, 1110.4856762709367, 1184.561445245078, 1259.73323063702, 1336.5329591170323, 1415.4925573553837, 1497.1439520223448, 1582.0190697881853, 1670.6498373231739, 1763.5681812975808, 1861.3060283816753, 1964.3953052457273, 2073.367938560007, 2188.7558549947835, 2311.0909812203254, 2440.9052439069037, 2578.7305697247875, 2725.098885344247, 2880.5421174355506, 3045.59219266897, 3220.781037714772, 3406.640579243229, 3603.7027439246085, 3812.499458429181, 4033.5626494272155, 4267.424243588985, 4514.616167584753, 4775.670348084795, 5051.118711759376, 5341.4931852787695, 5647.325695313242, 5969.148168533066, 6307.492531608509, 6662.890711209841, 7035.874634007332, 7426.976226671251, 7836.727415871869, 8265.660128279455, 8714.306290564276, 9183.197829396606, 9672.866671446714, 10183.844743384867, 10716.663971881335, 11271.85628360639, 11849.953605230297, 12451.487863423332, 13076.990984855762, 13726.994896197855, 14402.03152411988, 15102.63279529211, 15829.330636384813, 16582.656974068257, 17363.143735012713, 18171.32284588845, 19007.72623336574, 19872.885824114855, 20767.333544806057, 21691.60132210962, 22646.22108269581, 23631.724753234903, 24648.644260397166, 25697.511530852866, 26778.858491272276, 27893.21706832566, 29041.119188683293, 30223.096779015446, 31439.681765992384, 32691.40607628438, 33978.8016365617, 35302.400373494616, 36662.7342137534, 38060.335084008315, 39495.73491092964, 40969.465621187635, 42482.05914145258, 44034.04739839473, 45625.96231868437, 47258.33582899176, 48931.69985598717, 50646.586326340876, 52403.52716672314, 54203.05430380424, 56045.69966425443, 57931.99517474401, 59862.472761943216, 61837.66435252233, 63858.10187315164, 65924.3172505014, 68036.84241124186, 70196.20928204332, 72402.94978957603, 74657.59586051026, 76960.6794215163, 79312.73239926441, 81714.28672042485, 84165.8743116679, 86668.02709966381, 89221.27701108289, 91826.15597259537, 94483.19591087154, 97192.92875258166, 99955.88642439601, 102772.60085298485, 105643.60396501845, 108569.42768716709, 111550.60394610102, 114587.66466849053, 117681.14178100589, 120831.56721031736, 124039.4728830952, 127305.39072600969, 130629.85266573109, 134013.3906289297, 137456.53654227575, 140959.82233243954, 144523.77992609135, 148148.9412499014, 151835.83823054002, 155585.00279467742, 159396.9668689839, 163272.26238012972, 167211.42125478518, 171214.9754196205, 175283.456801306, 179417.39732651188, 183617.3289219085, 187883.78351416608, 192217.2930299549, 196618.38939594518, 201087.60453880727, 205625.4703852114, 210232.51886182785, 214909.28189532686, 219656.29141237872, 224474.07933965372, 229363.1776038221, 234324.11813155416, 239357.43284952015, 244463.65368439033, 249643.31256283497, 254896.94141152437, 260225.07215712877, 265628.2367263184, 271106.9670457637, 276661.7950421347, 282293.25264210184, 288001.8717723353, 293788.1843595054, 299652.72233028244, 305596.0176113366, 311618.60212933825, 317721.00781095756, 323903.76658286486, 330167.4103717304, 336512.47110422445, 342939.48070701724, 349448.9711067791, 356041.4742301803, 362717.5220038911, 369477.6463545818, 376322.3792089226, 383252.25249358383, 390267.7981352357, 397369.5480605485, 404558.0341961925, 411833.78846883797, 419197.34280515526, 426649.2291318145, 434189.9793754861, 441820.1254628402, 449540.1993205471, 457350.7328752772, 465252.25805370056, 473245.3067824876, 481330.41098830855, 489508.1025978337, 497778.91353773326, 506143.37573467754, 514602.02111533686, 523155.3816063813, 531803.9891344814, 540548.3756263072, 549389.0730085291, 558326.6132078174, 567361.5281508423, 576494.349764274, 585725.6099747828, 595055.8407090391, 604485.5738937131, 614015.341455475, 623645.6753209952, 633377.1074169438, 643210.1696699911, 653145.3940068075, 663183.3123540633, 673324.4566384285, 683569.3587865736, 693918.5507251688, 704372.5643808844, 714931.9316803906, 725597.1845503579, 736368.8549174562, 747247.474708356, 758233.5758497275, 769327.6902682411, 780530.3498905669, 791842.0866433752, 803263.4324533363, 814794.9192471205, 826437.078951398, 838190.4434928392, 850055.5447981142, 862032.9147938935, 874123.0854068471, 886326.5885636454, 898643.9561909586, 911075.7202154571, 923622.4125638112, 936284.5651626909, 949062.7099387668, 961957.3788187089, 974969.1037291876, 988098.4165968732, 1001345.8493484359, 1014711.9339105459, 1028197.2022098736, 1041802.1861730892, 1055527.4177268632, 1069373.4287978653, 1083340.7513127665, 1097429.9171982366, 1111641.4583809457, 1125975.9067875647, 1140433.7943447633, 1155015.652979212, 1169722.0146175812, 1184553.411186541, 1199510.3746127617, 1214593.4368229134, 1229803.1297436666, 1245139.9853016916, 1260604.5354236586, 1276197.3120362377, 1291918.8470660993, 1307769.6724399137, 1323750.320084351, 1339861.321926082, 1356103.2098917766, 1372476.5159081046, 1388981.7719017372, 1405619.509799344, 1422390.2615275953, 1439294.5590131618, 1456332.9341827133, 1473505.9189629203, 1490814.0452804533, 1508257.845061982, 1525837.8502341772, 1543554.5927237088, 1561408.6044572473, 1579400.417361463, 1597530.563363026, 1615799.5743886065, 1634207.982364875, 1652756.3192185017, 1671445.1168761568, 1690274.9072645106, 1709246.2223102334, 1728359.5939399954, 1747615.554080467, 1767014.6346583185, 1786557.3676002198, 1806244.2848328417, 1826075.918282854, 1846052.7998769272, 1866175.4615417316, 1886444.4352039373, 1906860.2527902147, 1927423.4462272343, 1948134.5474416658, 1968994.08836018, 1990002.6009094468, 2011160.6170161366]}, {\"mode\": \"lines+markers\", \"name\": \"Model 80\", \"type\": \"scatter\", \"x\": [0.0, 1.0, 2.0, 3.0, 4.0, 5.0, 6.0, 7.0, 8.0, 9.0, 10.0, 11.0, 12.0, 13.0, 14.0, 15.0, 16.0, 17.0, 18.0, 19.0, 20.0, 21.0, 22.0, 23.0, 24.0, 25.0, 26.0, 27.0, 28.0, 29.0, 30.0, 31.0, 32.0, 33.0, 34.0, 35.0, 36.0, 37.0, 38.0, 39.0, 40.0, 41.0, 42.0, 43.0, 44.0, 45.0, 46.0, 47.0, 48.0, 49.0, 50.0, 51.0, 52.0, 53.0, 54.0, 55.0, 56.0, 57.0, 58.0, 59.0, 60.0, 61.0, 62.0, 63.0, 64.0, 65.0, 66.0, 67.0, 68.0, 69.0, 70.0, 71.0, 72.0, 73.0, 74.0, 75.0, 76.0, 77.0, 78.0, 79.0, 80.0, 81.0, 82.0, 83.0, 84.0, 85.0, 86.0, 87.0, 88.0, 89.0, 90.0, 91.0, 92.0, 93.0, 94.0, 95.0, 96.0, 97.0, 98.0, 99.0, 100.0, 101.0, 102.0, 103.0, 104.0, 105.0, 106.0, 107.0, 108.0, 109.0, 110.0, 111.0, 112.0, 113.0, 114.0, 115.0, 116.0, 117.0, 118.0, 119.0, 120.0, 121.0, 122.0, 123.0, 124.0, 125.0, 126.0, 127.0, 128.0, 129.0, 130.0, 131.0, 132.0, 133.0, 134.0, 135.0, 136.0, 137.0, 138.0, 139.0, 140.0, 141.0, 142.0, 143.0, 144.0, 145.0, 146.0, 147.0, 148.0, 149.0, 150.0, 151.0, 152.0, 153.0, 154.0, 155.0, 156.0, 157.0, 158.0, 159.0, 160.0, 161.0, 162.0, 163.0, 164.0, 165.0, 166.0, 167.0, 168.0, 169.0, 170.0, 171.0, 172.0, 173.0, 174.0, 175.0, 176.0, 177.0, 178.0, 179.0, 180.0, 181.0, 182.0, 183.0, 184.0, 185.0, 186.0, 187.0, 188.0, 189.0, 190.0, 191.0, 192.0, 193.0, 194.0, 195.0, 196.0, 197.0, 198.0, 199.0, 200.0, 201.0, 202.0, 203.0, 204.0, 205.0, 206.0, 207.0, 208.0, 209.0, 210.0, 211.0, 212.0, 213.0, 214.0, 215.0, 216.0, 217.0, 218.0, 219.0, 220.0, 221.0, 222.0, 223.0, 224.0, 225.0, 226.0, 227.0, 228.0, 229.0, 230.0, 231.0, 232.0, 233.0, 234.0, 235.0, 236.0, 237.0, 238.0, 239.0, 240.0, 241.0, 242.0, 243.0, 244.0, 245.0, 246.0, 247.0, 248.0, 249.0, 250.0, 251.0, 252.0, 253.0, 254.0, 255.0, 256.0, 257.0, 258.0, 259.0, 260.0, 261.0, 262.0, 263.0, 264.0, 265.0, 266.0, 267.0, 268.0, 269.0, 270.0, 271.0, 272.0, 273.0, 274.0, 275.0, 276.0, 277.0, 278.0, 279.0, 280.0, 281.0, 282.0, 283.0, 284.0, 285.0, 286.0, 287.0, 288.0, 289.0, 290.0, 291.0, 292.0, 293.0, 294.0, 295.0, 296.0, 297.0, 298.0, 299.0], \"y\": [-836.281736810266, -653.0853702960263, -481.44629224533486, -320.7339681073772, -170.31786333133846, -29.567443366404405, 102.1478263382395, 225.45848033340826, 340.99505316991576, 449.388079398577, 551.2680935702067, 647.265630235619, 738.0112239456287, 824.1354092510501, 906.2687207026984, 985.0416928513873, 1061.0848602479318, 1135.0287574431466, 1207.5039189878457, 1279.140879432845, 1350.570173328957, 1422.4223352269978, 1495.3278996777822, 1569.9174012321232, 1646.8213744408367, 1726.6703538547363, 1810.0948740246372, 1897.725469501354, 1990.1926748357018, 2088.127024578494, 2192.1590532805453, 2302.9192954926702, 2421.038285765684, 2547.146558650401, 2681.874648697635, 2825.853090458202, 2979.7124184829154, 3144.083167322591, 3319.595871528042, 3506.8810656500827, 3706.569284239529, 3919.291061847195, 4145.676933023895, 4386.357432320443, 4641.963094287656, 4913.124453476344, 5200.472044437327, 5504.636401721415, 5826.248059879425, 6165.937553462172, 6524.335417020469, 6902.072185105131, 7299.778392266972, 7718.084573056809, 8157.621262025452, 8619.018993723723, 9102.908302702428, 9609.919723512387, 10140.683790704414, 10695.83103882932, 11275.992002437924, 11881.797216081037, 12513.877214309477, 13172.862531674054, 13859.38370272559, 14574.071262014895, 15317.55574409278, 16090.467683510065, 16893.43761481756, 17727.096072566088, 18592.07359130645, 19489.000705589475, 20418.507949965966, 21381.225858986745, 22377.784967202628, 23408.815809164418, 24474.948919422943, 25576.814832529006, 26715.044083033434, 27890.267205487027, 29103.114734440613, 30354.217204445, 31644.205150051002, 32973.70910580944, 34343.359606271115, 35753.78718598686, 37205.62237950748, 38699.49572138378, 40236.03774616658, 41815.87898840671, 43439.64998265497, 45107.98126346218, 46821.50336537915, 48580.84682295669, 50386.64217074562, 52239.519943296764, 54140.11067516093, 56089.044900888926, 58086.95315503157, 60134.465972139675, 62232.213886764075, 64380.82743345556, 66580.93714676495, 68833.17356124305, 71138.1672114407, 73496.5486319087, 75908.94835719788, 78375.99692185901, 80898.32486044295, 83476.56270750052, 86111.34099758249, 88803.2902652397, 91553.04104502297, 94361.2238714831, 97228.46927917092, 100155.40780263724, 103142.66997643287, 106190.8863351086, 109300.6874132153, 112472.70374530376, 115707.56586592477, 119005.90430962917, 122368.34961096778, 125795.5323044914, 129288.08292475084, 132846.63200629692, 136471.81008368047, 140164.2476914523, 143924.57536416317, 147753.423636364, 151651.42304260551, 155619.20411743855, 159657.39739541395, 163766.6334110825, 167947.54269899504, 172200.75579370232, 176526.90322975523, 180926.61554170455, 185400.52326410112, 189949.25693149574, 194573.4470784392, 199273.72423948234, 204050.718949176, 208905.06174207092, 213837.383152718, 218848.313715668, 223938.4839654717, 229108.52443668002, 234359.0656638437, 239690.7381815136, 245104.17252424048, 250599.99922657516, 256178.84882306852, 261841.3518482713, 267588.1388367343, 273419.8403230084, 279337.0868416445, 285340.5089271932, 291430.73711420543, 297608.40193723206, 303874.1339308238, 310228.5636295315, 316672.321567906, 323206.03828049806, 329830.34430185857, 336545.87016653834, 343353.2464090881, 350253.10356405866, 357246.072166001, 364332.7827494657, 371513.86584900384, 378789.951999166, 386161.6717345031, 393629.6555895659, 401194.5340989054, 408856.9377970721, 416617.49721861706, 424476.84289809107, 432435.6053700448, 440494.4151690292, 448653.9028295951, 456914.69888629316, 465277.43387367437, 473742.7383262894, 482311.2427786892, 490983.57776542444, 499760.3738210461, 508642.2614801048, 517629.8712771515, 526723.8337467371, 535924.7794234122, 545233.3388417277, 554650.1425362343, 564175.8210414831, 573811.0048920247, 583556.3246224099, 593412.4107671896, 603379.8938609146, 613459.4044381358, 623651.5730334038, 633957.0301812695, 644376.4064162839, 654910.3322729976, 665559.4382859614, 676324.3549897263, 687205.7129188429, 698204.1426078622, 709320.2745913349, 720554.7394038119, 731908.1675798439, 743381.1896539818, 754974.4361607764, 766688.5376347785, 778524.1246105391, 790481.8276226086, 802562.2772055381, 814766.1038938784, 827093.9382221802, 839546.4107249946, 852124.151936872, 864827.7923923635, 877657.96262602, 890615.293172392, 903700.4145660304, 916913.9573414861, 930256.55203331, 943728.8291760528, 957331.4193042653, 971064.9529524983, 984930.0606553027, 998927.3729472293, 1013057.520362829, 1027321.1334366522, 1041718.8427032502, 1056251.2786971736, 1070919.0719529733, 1085722.8530052, 1100663.2523884047, 1115740.900637138, 1130956.4282859506, 1146310.4658693937, 1161803.643922018, 1177436.592978374, 1193209.943573013, 1209124.3262404855, 1225180.3715153425, 1241378.7099321345, 1257719.9720254126, 1274204.7883297275, 1290833.7893796302, 1307607.6057096713, 1324526.8678544015, 1341592.206348372, 1358804.2517261333, 1376163.6345222364, 1393670.985271232, 1411326.9345076708, 1429132.112766104, 1447087.150581082, 1465192.6784871558, 1483449.3270188763, 1501857.7267107943, 1520418.5080974605, 1539132.3017134257, 1557999.7380932407, 1577021.4477714563, 1596198.0612826236, 1615530.2091612932, 1635018.521942016, 1654663.6301593424, 1674466.1643478237, 1694426.7550420107, 1714546.032776454, 1734824.6280857045, 1755263.1715043131, 1775862.2935668305, 1796622.6248078074, 1817544.7957617948, 1838629.4369633435, 1859877.1789470045, 1881288.652247328, 1902864.4873988654, 1924605.3149361673, 1946511.7653937847, 1968584.4693062683, 1990824.0572081686, 2013231.1596340367, 2035806.4071184236, 2058550.4301958797, 2081463.8594009562, 2104547.325268204, 2127801.458332173, 2151226.889127415, 2174824.2481884807, 2198594.1660499205, 2222537.2732462855, 2246654.2003121264, 2270945.577781994, 2295412.036190439, 2320054.2060720124]}, {\"mode\": \"lines+markers\", \"name\": \"Model 85\", \"type\": \"scatter\", \"x\": [0.0, 1.0, 2.0, 3.0, 4.0, 5.0, 6.0, 7.0, 8.0, 9.0, 10.0, 11.0, 12.0, 13.0, 14.0, 15.0, 16.0, 17.0, 18.0, 19.0, 20.0, 21.0, 22.0, 23.0, 24.0, 25.0, 26.0, 27.0, 28.0, 29.0, 30.0, 31.0, 32.0, 33.0, 34.0, 35.0, 36.0, 37.0, 38.0, 39.0, 40.0, 41.0, 42.0, 43.0, 44.0, 45.0, 46.0, 47.0, 48.0, 49.0, 50.0, 51.0, 52.0, 53.0, 54.0, 55.0, 56.0, 57.0, 58.0, 59.0, 60.0, 61.0, 62.0, 63.0, 64.0, 65.0, 66.0, 67.0, 68.0, 69.0, 70.0, 71.0, 72.0, 73.0, 74.0, 75.0, 76.0, 77.0, 78.0, 79.0, 80.0, 81.0, 82.0, 83.0, 84.0, 85.0, 86.0, 87.0, 88.0, 89.0, 90.0, 91.0, 92.0, 93.0, 94.0, 95.0, 96.0, 97.0, 98.0, 99.0, 100.0, 101.0, 102.0, 103.0, 104.0, 105.0, 106.0, 107.0, 108.0, 109.0, 110.0, 111.0, 112.0, 113.0, 114.0, 115.0, 116.0, 117.0, 118.0, 119.0, 120.0, 121.0, 122.0, 123.0, 124.0, 125.0, 126.0, 127.0, 128.0, 129.0, 130.0, 131.0, 132.0, 133.0, 134.0, 135.0, 136.0, 137.0, 138.0, 139.0, 140.0, 141.0, 142.0, 143.0, 144.0, 145.0, 146.0, 147.0, 148.0, 149.0, 150.0, 151.0, 152.0, 153.0, 154.0, 155.0, 156.0, 157.0, 158.0, 159.0, 160.0, 161.0, 162.0, 163.0, 164.0, 165.0, 166.0, 167.0, 168.0, 169.0, 170.0, 171.0, 172.0, 173.0, 174.0, 175.0, 176.0, 177.0, 178.0, 179.0, 180.0, 181.0, 182.0, 183.0, 184.0, 185.0, 186.0, 187.0, 188.0, 189.0, 190.0, 191.0, 192.0, 193.0, 194.0, 195.0, 196.0, 197.0, 198.0, 199.0, 200.0, 201.0, 202.0, 203.0, 204.0, 205.0, 206.0, 207.0, 208.0, 209.0, 210.0, 211.0, 212.0, 213.0, 214.0, 215.0, 216.0, 217.0, 218.0, 219.0, 220.0, 221.0, 222.0, 223.0, 224.0, 225.0, 226.0, 227.0, 228.0, 229.0, 230.0, 231.0, 232.0, 233.0, 234.0, 235.0, 236.0, 237.0, 238.0, 239.0, 240.0, 241.0, 242.0, 243.0, 244.0, 245.0, 246.0, 247.0, 248.0, 249.0, 250.0, 251.0, 252.0, 253.0, 254.0, 255.0, 256.0, 257.0, 258.0, 259.0, 260.0, 261.0, 262.0, 263.0, 264.0, 265.0, 266.0, 267.0, 268.0, 269.0, 270.0, 271.0, 272.0, 273.0, 274.0, 275.0, 276.0, 277.0, 278.0, 279.0, 280.0, 281.0, 282.0, 283.0, 284.0, 285.0, 286.0, 287.0, 288.0, 289.0, 290.0, 291.0, 292.0, 293.0, 294.0, 295.0, 296.0, 297.0, 298.0, 299.0], \"y\": [-880.1480633642441, -682.554347244085, -497.7254337190186, -324.99333695326413, -163.69007111104065, -13.14765035656751, 127.30191114593583, 258.3265992322506, 380.59439973815734, 494.7732984994366, 601.5312813518694, 701.5363341312368, 795.4564426733189, 883.9595928138967, 967.7137703887515, 1047.3869612336634, 1123.6471511844134, 1197.162326076782, 1268.6004717465503, 1338.6295740295, 1407.9176187614103, 1477.1325917780619, 1546.9424789152372, 1618.0152660087151, 1691.018938894278, 1766.621483407706, 1845.4908853847787, 1928.2951306612795, 2015.702205072987, 2108.380094455682, 2206.9967846451464, 2312.22026147716, 2424.718510787505, 2545.1595184119606, 2674.211270186308, 2812.5417519463285, 2960.8189495278016, 3119.71084876651, 3289.885435498233, 3472.0106955587516, 3666.7546147838475, 3874.7851790093, 4096.770374070891, 4333.3781858044, 4585.27660004561, 4853.1336026303, 5137.61717939425, 5439.395316173245, 5759.13599880306, 6097.5072131194775, 6455.176944958283, 6832.813180155251, 7231.083904546164, 7650.657103966805, 8092.200764252953, 8556.38287124039, 9043.871410764896, 9555.33436866225, 10091.439730768234, 10652.85548291863, 11240.249610949219, 11854.29010069578, 12495.644937994093, 13164.982108679944, 13862.969598589107, 14590.275393557366, 15347.567479420502, 16135.513842014296, 16954.782467174526, 17806.041340736978, 18689.95844853743, 19607.20177641166, 20558.43931019545, 21544.33903572458, 22565.56893883484, 23622.797005361994, 24716.691221141846, 25847.91957201015, 27017.150043802707, 28225.050622355287, 29472.289293503673, 30759.53404308365, 32087.452856931, 33456.71372088149, 34867.98462077092, 36321.93354243506, 37819.228471709685, 39360.53739443059, 40946.52829643354, 42577.86916355433, 44255.227981628734, 45979.27273649254, 47750.67141398151, 49570.09199993145, 51438.20248017812, 53355.6708405573, 55323.165066904796, 57341.35314505637, 59410.9030608478, 61532.48280011487, 63706.76034869337, 65934.40369241906, 68216.08081712775, 70552.4597086552, 72944.20835283719, 75391.9947355095, 77896.48684250795, 80458.35265966826, 83078.26017282624, 85756.87736781768, 88494.87223047834, 91292.91274664403, 94151.6669021505, 97071.80268283353, 100053.98807452893, 103098.89106307246, 106207.1796342999, 109379.52177404704, 112616.58546814966, 115919.03870244353, 119287.54946276444, 122722.78573494818, 126225.4155048305, 129796.10675824722, 133435.5274810341, 137144.3456590269, 140923.22927806145, 144772.8463239735, 148693.86478259883, 152686.9526397732, 156752.77788133244, 160892.0084931123, 165105.31246094857, 169393.35777067704, 173756.81240813344, 178196.34435915362, 182712.62160957334, 187306.31214522835, 191978.08395195447, 196728.60501558744, 201558.54332196308, 206468.56685691714, 211459.34360628543, 216531.5415559037, 221685.82869160778, 226922.87299923337, 232243.34246461632, 237647.90507359238, 243137.22881199737, 248711.98166566703, 254372.83162043712, 260120.44666214348, 265955.49477662187, 271878.643949708, 277890.5621672378, 283991.9174150469, 290183.3776789712, 296465.61094484635, 302839.2851985083, 309305.0684257927, 315863.62861253537, 322515.63374457206, 329261.7518077386, 336102.65078787075, 343038.9986708043, 350071.46344237507, 357200.7130884187, 364427.4155947711, 371752.23894726805, 379175.85113174526, 386698.92013403855, 394322.1139399837, 402046.1005354165, 409871.54790617275, 417799.12403808814, 425829.4969169985, 433963.3345287397, 442201.30485914735, 450544.0758940574, 458992.3156193055, 467546.6920207275, 476207.87308415916, 484976.5267954363, 493853.3211403946, 502838.92410487, 511934.0036746981, 521139.2278357148, 530455.2645737559, 539882.7818746571, 549422.4477242542, 559074.930108383, 568840.8970128793, 578721.0164235788, 588715.9563263173, 598826.3847069307, 609052.9695512546, 619396.378845125, 629857.2805743775, 640436.3427248478, 651134.233282372, 661951.6202327857, 672889.1715619246, 683947.5552556246, 695127.4392997215, 706429.4916800509, 717854.3803824488, 729402.7733927508, 741075.3386967928, 752872.7442804106, 764795.6581294398, 776844.7482297164, 789020.6825670761, 801324.1291273547, 813755.7558963879, 826316.2308600115, 839006.2220040613, 851826.3973143732, 864777.4247767827, 877859.9723771259, 891074.7081012384, 904422.299934956, 917903.4158641144, 931518.7238745496, 945268.8919520973, 959154.5880825932, 973176.480251873, 987335.2364457727, 1001631.524650128, 1016066.0128507746, 1030639.3690335484, 1045352.261184285, 1060205.3572888204, 1075199.3253329904, 1090334.8333026306, 1105612.5491835766, 1121033.1409616647, 1136597.2766227303, 1152305.6241526094, 1168158.8515371375, 1184157.6267621508, 1200302.6178134845, 1216594.492676975, 1233033.9193384575, 1249621.5657837684, 1266358.099998743, 1283244.1899692172, 1300280.5036810269, 1317467.7091200077, 1334806.4742719955, 1352297.467122826, 1369941.3556583351, 1387738.8078643586, 1405690.491726732, 1423797.0752312916, 1442059.2263638726, 1460477.613110311, 1479052.9034564428, 1497785.7653881034, 1516676.866891129, 1535726.875951355, 1554936.4605546175, 1574306.288686752, 1593837.0283335946, 1613529.3474809807, 1633383.9141147463, 1653401.3962207271, 1673582.461784759, 1693927.778792678, 1714438.0152303192, 1735113.8390835188, 1755955.9183381128, 1776964.9209799364, 1798141.514994826, 1819486.3683686168, 1841000.1490871452, 1862683.5251362463, 1884537.1645017567, 1906561.7351695113, 1928757.9051253465, 1951126.3423550979, 1973667.7148446012, 1996382.6905796921, 2019271.9375462069, 2042336.1237299806, 2065575.9171168497, 2088991.9856926494, 2112584.997443216, 2136355.6203543846, 2160304.522411992, 2184432.3716018726, 2208739.8359098635, 2233227.5833218, 2257896.2818235178, 2282746.599400853, 2307779.2040396403, 2332994.7637257166, 2358393.9464449175, 2383977.420183079, 2409745.852926036, 2435699.9126596246]}, {\"mode\": \"lines+markers\", \"name\": \"Model 90\", \"type\": \"scatter\", \"x\": [0.0, 1.0, 2.0, 3.0, 4.0, 5.0, 6.0, 7.0, 8.0, 9.0, 10.0, 11.0, 12.0, 13.0, 14.0, 15.0, 16.0, 17.0, 18.0, 19.0, 20.0, 21.0, 22.0, 23.0, 24.0, 25.0, 26.0, 27.0, 28.0, 29.0, 30.0, 31.0, 32.0, 33.0, 34.0, 35.0, 36.0, 37.0, 38.0, 39.0, 40.0, 41.0, 42.0, 43.0, 44.0, 45.0, 46.0, 47.0, 48.0, 49.0, 50.0, 51.0, 52.0, 53.0, 54.0, 55.0, 56.0, 57.0, 58.0, 59.0, 60.0, 61.0, 62.0, 63.0, 64.0, 65.0, 66.0, 67.0, 68.0, 69.0, 70.0, 71.0, 72.0, 73.0, 74.0, 75.0, 76.0, 77.0, 78.0, 79.0, 80.0, 81.0, 82.0, 83.0, 84.0, 85.0, 86.0, 87.0, 88.0, 89.0, 90.0, 91.0, 92.0, 93.0, 94.0, 95.0, 96.0, 97.0, 98.0, 99.0, 100.0, 101.0, 102.0, 103.0, 104.0, 105.0, 106.0, 107.0, 108.0, 109.0, 110.0, 111.0, 112.0, 113.0, 114.0, 115.0, 116.0, 117.0, 118.0, 119.0, 120.0, 121.0, 122.0, 123.0, 124.0, 125.0, 126.0, 127.0, 128.0, 129.0, 130.0, 131.0, 132.0, 133.0, 134.0, 135.0, 136.0, 137.0, 138.0, 139.0, 140.0, 141.0, 142.0, 143.0, 144.0, 145.0, 146.0, 147.0, 148.0, 149.0, 150.0, 151.0, 152.0, 153.0, 154.0, 155.0, 156.0, 157.0, 158.0, 159.0, 160.0, 161.0, 162.0, 163.0, 164.0, 165.0, 166.0, 167.0, 168.0, 169.0, 170.0, 171.0, 172.0, 173.0, 174.0, 175.0, 176.0, 177.0, 178.0, 179.0, 180.0, 181.0, 182.0, 183.0, 184.0, 185.0, 186.0, 187.0, 188.0, 189.0, 190.0, 191.0, 192.0, 193.0, 194.0, 195.0, 196.0, 197.0, 198.0, 199.0, 200.0, 201.0, 202.0, 203.0, 204.0, 205.0, 206.0, 207.0, 208.0, 209.0, 210.0, 211.0, 212.0, 213.0, 214.0, 215.0, 216.0, 217.0, 218.0, 219.0, 220.0, 221.0, 222.0, 223.0, 224.0, 225.0, 226.0, 227.0, 228.0, 229.0, 230.0, 231.0, 232.0, 233.0, 234.0, 235.0, 236.0, 237.0, 238.0, 239.0, 240.0, 241.0, 242.0, 243.0, 244.0, 245.0, 246.0, 247.0, 248.0, 249.0, 250.0, 251.0, 252.0, 253.0, 254.0, 255.0, 256.0, 257.0, 258.0, 259.0, 260.0, 261.0, 262.0, 263.0, 264.0, 265.0, 266.0, 267.0, 268.0, 269.0, 270.0, 271.0, 272.0, 273.0, 274.0, 275.0, 276.0, 277.0, 278.0, 279.0, 280.0, 281.0, 282.0, 283.0, 284.0, 285.0, 286.0, 287.0, 288.0, 289.0, 290.0, 291.0, 292.0, 293.0, 294.0, 295.0, 296.0, 297.0, 298.0, 299.0], \"y\": [-866.2384083962879, -668.9786393167267, -484.4172548228842, -311.89011003267603, -150.7330600640172, -0.281960034823328, 140.12733493699022, 271.15896973350846, 393.4770892368156, 507.7458383289968, 614.6293618921361, 714.7918048083184, 808.8973119596287, 897.6100282281514, 981.5940984959709, 1061.5136676451723, 1138.0328805578401, 1211.8158821160587, 1283.5268172019132, 1353.829830697488, 1423.389067484868, 1492.8686724461368, 1562.9327904633801, 1634.2455664186828, 1707.4711451941293, 1783.2736716718036, 1862.3172907337912, 1945.2661472621762, 2032.7843861390434, 2125.5361522464773, 2224.185590466563, 2329.396845681385, 2441.8340627730277, 2562.1613866235757, 2691.0429621151143, 2829.1429341297276, 2977.1254475495, 3135.654647256517, 3305.394678132863, 3487.0096850606224, 3681.163812921879, 3888.521206598719, 4109.746010973226, 4345.502370927486, 4596.454431343581, 4863.2663371036, 5146.602233089622, 5447.1262641837375, 5765.502575268027, 6102.395311224577, 6458.46861693547, 6834.386637282795, 7230.813517148632, 7648.413401415068, 8087.850434964188, 8549.788762678076, 9034.892529438815, 9543.825880128494, 10077.252959629192, 10635.837912822999, 11220.244884591995, 11831.138019818269, 12469.181463383902, 13135.039360170982, 13829.37585506159, 14552.855092937813, 15306.141218681734, 16089.898377175441, 16904.790713301016, 17751.48237194054, 18630.63749797611, 19542.920236289792, 20488.99473176369, 21469.52512927988, 22485.175573720444, 23536.61020996746, 24624.49318290304, 25749.48863740924, 26912.260718368154, 28113.473570661867, 29353.791339172465, 30633.878168782037, 31954.398204372657, 33316.01559082642, 34719.3944730254, 36165.19899585169, 37654.09330418737, 39186.74154291454, 40763.80785691526, 42385.956391071624, 44053.851290265724, 45768.156699379644, 47529.53676329546, 49338.655626895255, 51196.17743506112, 53102.76633267515, 55059.08646461941, 57065.801975776, 59123.577011026995, 61233.07571525448, 63394.96223334054, 65609.90071016728, 67878.55529061676, 70201.59011957105, 72579.66934191227, 75013.4571025225, 77503.61754628381, 80050.81481807829, 82655.71306278801, 85318.97642529508, 88041.26905048158, 90823.25508322958, 93665.59866842118, 96568.96395093846, 99534.0150756635, 102561.41618747837, 105651.83143126521, 108805.92495190604, 112024.36089428297, 115307.80340327809, 118656.91662377349, 122072.36470065123, 125554.81177879342, 129104.92200308213, 132723.35951839943, 136410.78846962747, 140167.87300164826, 143995.27725934391, 147893.66538759653, 151863.70153128816, 155906.04983530092, 160021.37444451687, 164210.3395038181, 168473.60915808674, 172811.8475522048, 177225.7188310544, 181715.88713951764, 186283.0166224766, 190927.77142481334, 195650.81569140995, 200452.81356714852, 205334.42919691117, 210296.32672557991, 215339.17029803692, 220463.62405916417, 225670.35215384385, 230960.018726958, 236333.28792338868, 241790.82388801806, 247333.2907657281, 252961.35270140096, 258675.67383991875, 264476.9183261635, 270365.7503050173, 276342.83392136224, 282408.8333200804, 288564.41264605394, 294810.23604416486, 301146.9676592953, 307575.27163632726, 314095.8121201429, 320709.25325562427, 327416.2591876535, 334217.4940611126, 341113.62202088366, 348105.3072118489, 355193.21377889026, 362378.00586688984, 369660.34762072976, 377040.90318529215, 384520.336705459, 392099.3123261125, 399778.49419213453, 407558.54644840746, 415440.13323981315, 423423.9187112338, 431510.5670075515, 439700.7422736482, 447995.10865440615, 456394.3302947073, 464899.0713394339, 473509.9959334679, 482227.76822169137, 491053.0523489865, 499986.51246023533, 509028.81270031986, 518180.61721412226, 527442.5901465247, 536815.3956424091, 546299.6978466576, 555896.1609041523, 565605.4489597753, 575428.2261584087, 585365.1566449344, 595416.9045642348, 605584.1340611918, 615867.5092806874, 626267.6943676039, 636785.3534668232, 647421.1507232275, 658175.7502816988, 669049.8162871193, 680044.012884371, 691159.004218336, 702395.4544338962, 713754.0276759341, 725235.3880893314, 736840.1998189704, 748569.1270097331, 760422.8338065017, 772401.984354158, 784507.2427975845, 796739.273281663, 809098.7399512755, 821586.3069513043, 834202.6384266315, 846948.3985221391, 859824.251382709, 872830.8611532236, 885968.8919785648, 899239.0080036148, 912641.8733732556, 926178.1522323693, 939848.5087258379, 953653.6069985437, 967594.1111953686, 981670.6854611948, 995883.9939409043, 1010234.7007793791, 1024723.4701215016, 1039350.9661121536, 1054117.8528962173, 1069024.7946185747, 1084072.4554241078, 1099261.499457699, 1114592.5908642302, 1130066.3937885833, 1145683.572375641, 1161444.7907702846, 1177350.7131173967, 1193402.0035618593, 1209599.326248554, 1225943.3453223638, 1242434.72492817, 1259074.129210855, 1275862.222315301, 1292799.6683863897, 1309887.1315690035, 1327125.2760080246, 1344514.7658483346, 1362056.2652348161, 1379750.4383123508, 1397597.949225821, 1415599.4621201088, 1433755.6411400961, 1452067.1504306654, 1470534.654136698, 1489158.8164030768, 1507940.3013746836, 1526879.7731964001, 1545977.896013109, 1565235.333969692, 1584652.7512110313, 1604230.811882009, 1623970.1801275073, 1643871.520092408, 1663935.4959215934, 1684162.7717599454, 1704554.0117523463, 1725109.880043678, 1745831.0407788227, 1766718.1581026625, 1787771.8961600794, 1808992.9190959556, 1830381.891055173, 1851939.4761826138, 1873666.3386231603, 1895563.142521694, 1917630.5520230974, 1939869.2312722527, 1962279.8444140418, 1984863.0555933467, 2007619.5289550498, 2030549.9286440327, 2053654.918805178, 2076935.1635833674, 2100391.3271234827, 2124024.073570407, 2147834.0670690215, 2171821.9717642087, 2195988.4518008507, 2220334.1713238293, 2244859.7944780267, 2269565.985408325, 2294453.4082596065, 2319522.727176753, 2344774.6063046465, 2370209.7097881692, 2395828.7017722037, 2421632.2464016313]}, {\"mode\": \"lines+markers\", \"name\": \"Model 95\", \"type\": \"scatter\", \"x\": [0.0, 1.0, 2.0, 3.0, 4.0, 5.0, 6.0, 7.0, 8.0, 9.0, 10.0, 11.0, 12.0, 13.0, 14.0, 15.0, 16.0, 17.0, 18.0, 19.0, 20.0, 21.0, 22.0, 23.0, 24.0, 25.0, 26.0, 27.0, 28.0, 29.0, 30.0, 31.0, 32.0, 33.0, 34.0, 35.0, 36.0, 37.0, 38.0, 39.0, 40.0, 41.0, 42.0, 43.0, 44.0, 45.0, 46.0, 47.0, 48.0, 49.0, 50.0, 51.0, 52.0, 53.0, 54.0, 55.0, 56.0, 57.0, 58.0, 59.0, 60.0, 61.0, 62.0, 63.0, 64.0, 65.0, 66.0, 67.0, 68.0, 69.0, 70.0, 71.0, 72.0, 73.0, 74.0, 75.0, 76.0, 77.0, 78.0, 79.0, 80.0, 81.0, 82.0, 83.0, 84.0, 85.0, 86.0, 87.0, 88.0, 89.0, 90.0, 91.0, 92.0, 93.0, 94.0, 95.0, 96.0, 97.0, 98.0, 99.0, 100.0, 101.0, 102.0, 103.0, 104.0, 105.0, 106.0, 107.0, 108.0, 109.0, 110.0, 111.0, 112.0, 113.0, 114.0, 115.0, 116.0, 117.0, 118.0, 119.0, 120.0, 121.0, 122.0, 123.0, 124.0, 125.0, 126.0, 127.0, 128.0, 129.0, 130.0, 131.0, 132.0, 133.0, 134.0, 135.0, 136.0, 137.0, 138.0, 139.0, 140.0, 141.0, 142.0, 143.0, 144.0, 145.0, 146.0, 147.0, 148.0, 149.0, 150.0, 151.0, 152.0, 153.0, 154.0, 155.0, 156.0, 157.0, 158.0, 159.0, 160.0, 161.0, 162.0, 163.0, 164.0, 165.0, 166.0, 167.0, 168.0, 169.0, 170.0, 171.0, 172.0, 173.0, 174.0, 175.0, 176.0, 177.0, 178.0, 179.0, 180.0, 181.0, 182.0, 183.0, 184.0, 185.0, 186.0, 187.0, 188.0, 189.0, 190.0, 191.0, 192.0, 193.0, 194.0, 195.0, 196.0, 197.0, 198.0, 199.0, 200.0, 201.0, 202.0, 203.0, 204.0, 205.0, 206.0, 207.0, 208.0, 209.0, 210.0, 211.0, 212.0, 213.0, 214.0, 215.0, 216.0, 217.0, 218.0, 219.0, 220.0, 221.0, 222.0, 223.0, 224.0, 225.0, 226.0, 227.0, 228.0, 229.0, 230.0, 231.0, 232.0, 233.0, 234.0, 235.0, 236.0, 237.0, 238.0, 239.0, 240.0, 241.0, 242.0, 243.0, 244.0, 245.0, 246.0, 247.0, 248.0, 249.0, 250.0, 251.0, 252.0, 253.0, 254.0, 255.0, 256.0, 257.0, 258.0, 259.0, 260.0, 261.0, 262.0, 263.0, 264.0, 265.0, 266.0, 267.0, 268.0, 269.0, 270.0, 271.0, 272.0, 273.0, 274.0, 275.0, 276.0, 277.0, 278.0, 279.0, 280.0, 281.0, 282.0, 283.0, 284.0, 285.0, 286.0, 287.0, 288.0, 289.0, 290.0, 291.0, 292.0, 293.0, 294.0, 295.0, 296.0, 297.0, 298.0, 299.0], \"y\": [-862.8938679347611, -671.9208704354514, -493.1843724396786, -326.0317979136843, -169.81057082371, -23.8681151359973, 112.44814518321198, 239.79078616767652, 358.81238385115466, 470.16551426740466, 574.5027534501851, 672.476677433254, 764.7398622503704, 851.9448839352924, 934.7443185217785, 1013.7907420435868, 1089.736730534476, 1163.2348600282046, 1234.9377065585304, 1305.4978461592127, 1375.567854864009, 1445.8003087066786, 1516.847783720979, 1589.3628559406698, 1663.9981013995075, 1741.406096131253, 1822.2394161696625, 1907.150637548496, 1996.7923363015102, 2091.8170884624656, 2192.8774700651184, 2300.6260571432294, 2415.7154257305547, 2538.7981518608535, 2670.5268115678855, 2811.5539808854073, 2962.532235847179, 3124.114152486957, 3296.9523068385015, 3481.6992749355704, 3679.007632811921, 3889.529956501313, 4113.9188220375045, 4352.826805454255, 4606.906482785319, 4876.81043006446, 5163.1912233254325, 5466.701438601998, 5787.993651927911, 6127.720439336935, 6486.5343768628245, 6865.088040539337, 7264.034006400236, 7684.024850479276, 8125.713148810217, 8589.751477426815, 9076.79241236283, 9587.488529652022, 10122.492405328148, 10682.456615424964, 11268.033735976234, 11879.876343015712, 12518.637012577157, 13184.968320694328, 13879.522843400984, 14602.953156730882, 15355.911836717782, 16139.051459395441, 16953.024600797617, 17798.483836958076, 18676.08174391056, 19586.470897688843, 20530.303874326673, 21508.233249857818, 22520.91160031603, 23568.991501735072, 24653.12553014869, 25773.966261590664, 26932.166272094728, 28128.378137694664, 29363.254434424212, 30637.447738317132, 31951.610625407193, 33306.395671728154, 34702.45545331376, 36140.44254619778, 37621.00952641397, 39144.808969996084, 40712.493452977884, 42324.715551393136, 43982.127841275586, 45685.382898659, 47435.13329957713, 49232.03162006374, 51076.73043615258, 52969.88232387742, 54912.13985927202, 56904.15561837013, 58946.582177205506, 61040.07211181191, 63185.27799822311, 65382.85241247284, 67633.44793059488, 69937.71712862299, 72296.31258259091, 74709.88686853241, 77179.09256248125, 79704.5822404712, 82287.00847853598, 84927.02385270939, 87625.28093902516, 90382.43231351707, 93199.13055221886, 96076.0282311643, 99013.77792638713, 102013.03221392115, 105074.44366980008, 108198.66487005768, 111386.34839072773, 114638.14680784398, 117954.71269744018, 121336.69863555008, 124784.75719820747, 128299.5409614461, 131881.7025012997, 135531.89439380204, 139250.76921498688, 143038.97954088802, 146897.17794753917, 150826.0170109741, 154826.14930722656, 158898.2274123303, 163042.9039023191, 167260.83135322676, 171552.66234108695, 175919.0494419335, 180360.64523180012, 184878.1022867206, 189472.07318272867, 194143.21049585813, 198892.1668021427, 203719.59467761614, 208626.14669831222, 213612.47544026474, 218679.23347950738, 223827.07339207391, 229056.64775399817, 234368.60914131382, 239763.61013005467, 245242.30329625448, 250805.341215947, 256453.376465166, 262187.06161994516, 268007.04925631837, 273913.9919503193, 279908.54227798176, 285991.3528153394, 292163.07613842614, 298424.3648232756, 304775.8714459216, 311218.2485823979, 317752.1488087383, 324378.2247009764, 331097.12883514614, 337909.5137872812, 344816.03213341534, 351817.3364495823, 358914.0793118159, 366106.9132961498, 373396.49097861786, 380783.4649352538, 388268.48774209135, 395852.2119751643, 403535.2902105064, 411318.3750241514, 419202.1189921331, 427187.1746904852, 435274.1946952415, 443463.83158243576, 451756.7379281017, 460153.56630827306, 468654.9692989837, 477261.5994762673, 485974.1094161576, 494793.1516946884, 503719.3788878935, 512753.4435718066, 521895.99832246144, 531147.6957158919, 540509.1883281316, 549981.1287352142, 559564.1695131738, 569258.9632380438, 579066.1624858582, 588986.4198326507, 599020.3878544549, 609168.7191273049, 619432.0662272341, 629811.0817302765, 640306.4182124657, 650918.7282498355, 661648.6644184198, 672496.8792942521, 683464.0254533665, 694550.7554717964, 705757.7219255758, 717085.5773907383, 728534.9744433177, 740106.565659348, 751801.0036148626, 763618.9408858955, 775561.0300484803, 787627.9236786508, 799820.2743524408, 812138.7346458841, 824583.9571350144, 837156.5943958655, 849857.299004471, 862686.7235368649, 875645.5205690807, 888734.3426771524, 901953.8424371136, 915304.6724249981, 928787.4852168398, 942402.9333886722, 956151.6695165292, 970034.3461764446, 984051.6159444521, 998204.1313965855, 1012492.5451088784, 1026917.5096573648, 1041479.6776180783, 1056179.7015670526, 1071018.2340803216, 1085995.927733919, 1101113.4351038786, 1116371.4087662343, 1131770.5012970194, 1147311.3652722682, 1162994.653268014, 1178821.0178602908, 1194791.1116251324, 1210905.5871385725, 1227165.0969766448, 1243570.2937153832, 1260121.8299308212, 1276820.3581989927, 1293666.5310959315, 1310661.0011976715, 1327804.421080246, 1345097.4433196892, 1362540.720492035, 1380134.9051733164, 1397880.649939568, 1415778.607366823, 1433829.4300311152, 1452033.7705084786, 1470392.281374947, 1488905.6152065538, 1507574.424579333, 1526399.3620693185, 1545381.0802525438, 1564520.2317050428, 1583817.469002849, 1603273.4447219966, 1622888.811438519, 1642664.2217284502, 1662600.3281678236, 1682697.7833326736, 1702957.2397990332, 1723379.3501429367, 1743964.7669404177, 1764714.1427675097, 1785628.1302002468, 1806707.3818146628, 1827952.5501867912, 1849364.287892666, 1870943.2475083205, 1892690.081609789, 1914605.442773105, 1936689.9835743024, 1958944.3565894146, 1981369.214394476, 2003965.2095655198, 2026732.9946785797, 2049673.22230969, 2072786.545034884, 2096073.6154301956, 2119535.086071659, 2143171.609535307, 2166983.838397174, 2190972.425233294, 2215138.0226197, 2239481.283132426, 2264002.8593475064, 2288703.403840974, 2313583.5691888635, 2338644.007967208, 2363885.372752041, 2389308.3161193975]}, {\"mode\": \"lines+markers\", \"name\": \"Model 100\", \"type\": \"scatter\", \"x\": [0.0, 1.0, 2.0, 3.0, 4.0, 5.0, 6.0, 7.0, 8.0, 9.0, 10.0, 11.0, 12.0, 13.0, 14.0, 15.0, 16.0, 17.0, 18.0, 19.0, 20.0, 21.0, 22.0, 23.0, 24.0, 25.0, 26.0, 27.0, 28.0, 29.0, 30.0, 31.0, 32.0, 33.0, 34.0, 35.0, 36.0, 37.0, 38.0, 39.0, 40.0, 41.0, 42.0, 43.0, 44.0, 45.0, 46.0, 47.0, 48.0, 49.0, 50.0, 51.0, 52.0, 53.0, 54.0, 55.0, 56.0, 57.0, 58.0, 59.0, 60.0, 61.0, 62.0, 63.0, 64.0, 65.0, 66.0, 67.0, 68.0, 69.0, 70.0, 71.0, 72.0, 73.0, 74.0, 75.0, 76.0, 77.0, 78.0, 79.0, 80.0, 81.0, 82.0, 83.0, 84.0, 85.0, 86.0, 87.0, 88.0, 89.0, 90.0, 91.0, 92.0, 93.0, 94.0, 95.0, 96.0, 97.0, 98.0, 99.0, 100.0, 101.0, 102.0, 103.0, 104.0, 105.0, 106.0, 107.0, 108.0, 109.0, 110.0, 111.0, 112.0, 113.0, 114.0, 115.0, 116.0, 117.0, 118.0, 119.0, 120.0, 121.0, 122.0, 123.0, 124.0, 125.0, 126.0, 127.0, 128.0, 129.0, 130.0, 131.0, 132.0, 133.0, 134.0, 135.0, 136.0, 137.0, 138.0, 139.0, 140.0, 141.0, 142.0, 143.0, 144.0, 145.0, 146.0, 147.0, 148.0, 149.0, 150.0, 151.0, 152.0, 153.0, 154.0, 155.0, 156.0, 157.0, 158.0, 159.0, 160.0, 161.0, 162.0, 163.0, 164.0, 165.0, 166.0, 167.0, 168.0, 169.0, 170.0, 171.0, 172.0, 173.0, 174.0, 175.0, 176.0, 177.0, 178.0, 179.0, 180.0, 181.0, 182.0, 183.0, 184.0, 185.0, 186.0, 187.0, 188.0, 189.0, 190.0, 191.0, 192.0, 193.0, 194.0, 195.0, 196.0, 197.0, 198.0, 199.0, 200.0, 201.0, 202.0, 203.0, 204.0, 205.0, 206.0, 207.0, 208.0, 209.0, 210.0, 211.0, 212.0, 213.0, 214.0, 215.0, 216.0, 217.0, 218.0, 219.0, 220.0, 221.0, 222.0, 223.0, 224.0, 225.0, 226.0, 227.0, 228.0, 229.0, 230.0, 231.0, 232.0, 233.0, 234.0, 235.0, 236.0, 237.0, 238.0, 239.0, 240.0, 241.0, 242.0, 243.0, 244.0, 245.0, 246.0, 247.0, 248.0, 249.0, 250.0, 251.0, 252.0, 253.0, 254.0, 255.0, 256.0, 257.0, 258.0, 259.0, 260.0, 261.0, 262.0, 263.0, 264.0, 265.0, 266.0, 267.0, 268.0, 269.0, 270.0, 271.0, 272.0, 273.0, 274.0, 275.0, 276.0, 277.0, 278.0, 279.0, 280.0, 281.0, 282.0, 283.0, 284.0, 285.0, 286.0, 287.0, 288.0, 289.0, 290.0, 291.0, 292.0, 293.0, 294.0, 295.0, 296.0, 297.0, 298.0, 299.0], \"y\": [-1045.3886330487694, -827.8295441862236, -624.2935864946521, -434.08227105974333, -256.4971089671858, -90.83961130266778, 63.58871084812199, 207.48634639949523, 341.5517842657637, 466.4835133612387, 582.9800226002319, 691.7398008970542, 793.4613371660182, 888.8431203214352, 978.5836392776159, 1063.3813829488731, 1143.934840249518, 1220.9425000938613, 1295.1028513962156, 1367.1143830708916, 1437.6755840322016, 1507.4849431944563, 1577.2409494719677, 1647.6420917790488, 1719.3868590300085, 1793.1737401391597, 1869.7012240208146, 1949.6677995892833, 2033.771955758878, 2122.7121814439115, 2217.1869655586934, 2317.894797017537, 2425.5341647347514, 2540.80355762465, 2664.401464601545, 2797.026374579746, 2939.3767764735667, 3092.151159197316, 3256.048011665307, 3431.765822791852, 3620.0030814912625, 3821.4582766778485, 4036.829897265922, 4266.816432169795, 4512.116370303778, 4773.428200582185, 5051.450411919327, 5346.881493229513, 5660.419933427056, 5992.764221426268, 6344.61284614146, 6716.664296486945, 7109.617061377034, 7524.169629726037, 7961.020490448263, 8420.86813245803, 8904.411044669647, 9412.347715997426, 9945.376635355678, 10504.196291658713, 11089.505173820842, 11702.00177075638, 12342.38457137964, 13011.352064604926, 13709.602739346556, 14437.83508451884, 15196.747589036087, 15987.038741812612, 16809.407031762723, 17664.55094780074, 18553.168978840964, 19475.95961379771, 20433.621341585294, 21426.85265111802, 22456.352031310205, 23522.81797107616, 24626.948959330195, 25769.443484986623, 26951.00003695975, 28172.3171041639, 29434.093175513375, 30737.026739922487, 32081.81628630555, 33469.16030357688, 34899.75728065077, 36374.30570644155, 37893.50406986353, 39458.05085983101, 41068.64456525832, 42725.98367505976, 44430.76667814964, 46183.69206344227, 47985.45831985197, 49836.763936293035, 51738.30740167979, 53690.78720492656, 55694.90183494764, 57751.34978065733, 59860.829530969975, 62024.039574799855, 64241.67840106129, 66514.44449866858, 68843.03635653609, 71228.15246357807, 73670.49130870885, 76170.75138084275, 78729.63116889408, 81347.82916177715, 84026.04384840626, 86764.97371769574, 89565.3172585599, 92427.77295991304, 95353.03931066947, 98341.81479974352, 101394.79791604947, 104512.68714850167, 107696.18098601441, 110945.977917502, 114262.77643187875, 117647.27501805898, 121100.17216495701, 124622.16636148714, 128213.95609656366, 131876.23985910093, 135609.71613801323, 139415.08342221487, 143293.04020062016, 147244.28496214343, 151269.516195699, 155369.43239020114, 159544.7320345642, 163796.11361770245, 168124.27562853025, 172529.91655596189, 177013.73488891165, 181576.4291162939, 186218.69772702293, 190941.23921001304, 195744.75205417853, 200629.93474843376, 205597.485781693, 210648.10364287053, 215782.48682088073, 221001.3338046379, 226305.34308305633, 231695.21314505034, 237171.64247953423, 242735.32957542234, 248386.97292162894, 254127.27100706837, 259956.92232065494, 265876.62535130297, 271887.07858792675, 277988.9805194406, 284183.02963475883, 290469.9244227957, 296850.36337246565, 303325.0449726829, 309894.6677123618, 316559.93008041655, 323321.5305657616, 330180.16765731125, 337136.53984397976, 344191.3456146814, 351345.2834583306, 358599.0518638416, 365953.34932012873, 373408.87431610626, 380966.3253406886, 388626.4008827899, 396389.7994313246, 404257.219475207, 412229.3595033514, 420306.91800467204, 428490.59346808336, 436781.08438249957, 445179.089236835, 453685.306520004, 462300.43472092086, 471025.17232849984, 479860.2178316554, 488806.26971930166, 497864.0264803531, 507034.1866037239, 516317.4485783285, 525714.5108930811, 535226.072036896, 544852.8304986877, 554595.4847673702, 564454.7333318581, 574431.2746810656, 584525.8073039069, 594739.0296892965, 605071.6403261487, 615524.3377033776, 626097.8203098978, 636792.7866346234, 647609.9351664687, 658549.9643943482, 669613.572807176, 680801.4588938666, 692114.3211433343, 703552.8580444932, 715117.7680862579, 726809.7497575424, 738629.5015472611, 750577.7219443286, 762655.1094376589, 774862.3625161664, 787200.1796687654, 799669.2593843703, 812270.3001518953, 825004.0004602547, 837871.058798363, 850872.1736551342, 864008.0435194828, 877279.3668803232, 890686.8422265695, 904231.1680471363, 917913.0428309377, 931733.1650668879, 945692.2332439014, 959790.9458508926, 974030.0013767754, 988410.0983104646, 1002931.9351408744, 1017596.2103569189, 1032403.6224475125, 1047354.8699015696, 1062450.6512080042, 1077691.664855731, 1093078.6093336642, 1108612.183130718, 1124293.084735807, 1140122.0126378452, 1156099.665325747, 1172226.7412884268, 1188503.9390147987, 1204931.9569937773, 1221511.4937142767, 1238243.2476652113, 1255127.9173354956, 1272166.2012140434, 1289358.7977897695, 1306706.4055515877, 1324209.722988413, 1341869.4485891592, 1359686.2808427406, 1377660.9182380717, 1395794.059264067, 1414086.4024096406, 1432538.6461637067, 1451151.4890151795, 1469925.6294529738, 1488861.7659660035, 1507960.5970431832, 1527222.821173427, 1546649.1368456492, 1566240.2425487642, 1585996.8367716863, 1605919.61800333, 1626009.284732609, 1646266.5354484383, 1666692.068639732, 1687286.5827954044, 1708050.7764043694, 1728985.347955542, 1750090.9959378361, 1771368.4188401662, 1792818.3151514463, 1814441.383360591, 1836238.3219565146, 1858209.8294281312, 1880356.6042643555, 1902679.3449541014, 1925178.7499862835, 1947855.5178498158, 1970710.347033613, 1993743.936026589, 2016956.9833176585, 2040350.1873957356, 2063924.2467497345, 2087679.85986857, 2111617.725241156, 2135738.5413564066, 2160043.0067032366, 2184531.81977056, 2209205.6790472916, 2234065.2830223446, 2259111.330184635, 2284344.5190230752, 2309765.548026581, 2335375.115684066, 2361173.9204844446, 2387162.6609166316, 2413342.0354695404, 2439712.742632086, 2466275.4808931826, 2493030.9487417447, 2519979.844666686]}, {\"mode\": \"lines+markers\", \"name\": \"Model 105\", \"type\": \"scatter\", \"x\": [0.0, 1.0, 2.0, 3.0, 4.0, 5.0, 6.0, 7.0, 8.0, 9.0, 10.0, 11.0, 12.0, 13.0, 14.0, 15.0, 16.0, 17.0, 18.0, 19.0, 20.0, 21.0, 22.0, 23.0, 24.0, 25.0, 26.0, 27.0, 28.0, 29.0, 30.0, 31.0, 32.0, 33.0, 34.0, 35.0, 36.0, 37.0, 38.0, 39.0, 40.0, 41.0, 42.0, 43.0, 44.0, 45.0, 46.0, 47.0, 48.0, 49.0, 50.0, 51.0, 52.0, 53.0, 54.0, 55.0, 56.0, 57.0, 58.0, 59.0, 60.0, 61.0, 62.0, 63.0, 64.0, 65.0, 66.0, 67.0, 68.0, 69.0, 70.0, 71.0, 72.0, 73.0, 74.0, 75.0, 76.0, 77.0, 78.0, 79.0, 80.0, 81.0, 82.0, 83.0, 84.0, 85.0, 86.0, 87.0, 88.0, 89.0, 90.0, 91.0, 92.0, 93.0, 94.0, 95.0, 96.0, 97.0, 98.0, 99.0, 100.0, 101.0, 102.0, 103.0, 104.0, 105.0, 106.0, 107.0, 108.0, 109.0, 110.0, 111.0, 112.0, 113.0, 114.0, 115.0, 116.0, 117.0, 118.0, 119.0, 120.0, 121.0, 122.0, 123.0, 124.0, 125.0, 126.0, 127.0, 128.0, 129.0, 130.0, 131.0, 132.0, 133.0, 134.0, 135.0, 136.0, 137.0, 138.0, 139.0, 140.0, 141.0, 142.0, 143.0, 144.0, 145.0, 146.0, 147.0, 148.0, 149.0, 150.0, 151.0, 152.0, 153.0, 154.0, 155.0, 156.0, 157.0, 158.0, 159.0, 160.0, 161.0, 162.0, 163.0, 164.0, 165.0, 166.0, 167.0, 168.0, 169.0, 170.0, 171.0, 172.0, 173.0, 174.0, 175.0, 176.0, 177.0, 178.0, 179.0, 180.0, 181.0, 182.0, 183.0, 184.0, 185.0, 186.0, 187.0, 188.0, 189.0, 190.0, 191.0, 192.0, 193.0, 194.0, 195.0, 196.0, 197.0, 198.0, 199.0, 200.0, 201.0, 202.0, 203.0, 204.0, 205.0, 206.0, 207.0, 208.0, 209.0, 210.0, 211.0, 212.0, 213.0, 214.0, 215.0, 216.0, 217.0, 218.0, 219.0, 220.0, 221.0, 222.0, 223.0, 224.0, 225.0, 226.0, 227.0, 228.0, 229.0, 230.0, 231.0, 232.0, 233.0, 234.0, 235.0, 236.0, 237.0, 238.0, 239.0, 240.0, 241.0, 242.0, 243.0, 244.0, 245.0, 246.0, 247.0, 248.0, 249.0, 250.0, 251.0, 252.0, 253.0, 254.0, 255.0, 256.0, 257.0, 258.0, 259.0, 260.0, 261.0, 262.0, 263.0, 264.0, 265.0, 266.0, 267.0, 268.0, 269.0, 270.0, 271.0, 272.0, 273.0, 274.0, 275.0, 276.0, 277.0, 278.0, 279.0, 280.0, 281.0, 282.0, 283.0, 284.0, 285.0, 286.0, 287.0, 288.0, 289.0, 290.0, 291.0, 292.0, 293.0, 294.0, 295.0, 296.0, 297.0, 298.0, 299.0], \"y\": [-1165.73624462933, -929.1288380792652, -707.6299338939843, -500.5165908119343, -307.0658675715613, -126.55482291131216, 41.7394844303667, 198.53999571502868, 344.56965220422717, 480.55139515951555, 607.2081658424474, 725.2629055145762, 835.4385554374555, 938.4580568726383, 1035.0443510816785, 1125.9203793261295, 1211.8090828675445, 1293.433402967477, 1371.5162808874802, 1446.7806578891086, 1519.9494752339142, 1591.7456741834517, 1662.8921959992736, 1734.1119819429337, 1806.1279732759858, 1879.6631112599825, 1955.440337156478, 2034.182592227026, 2116.612817733179, 2203.453954936491, 2295.428945098515, 2393.260729480805, 2497.6722493449142, 2609.386445952396, 2729.1262605648044, 2857.614634443692, 2995.574508850612, 3143.7288250471192, 3302.8005242947665, 3473.5125478551063, 3656.5878369896936, 3852.749332960081, 4062.719977027822, 4287.22271045447, 4526.980474501578, 4782.716210430701, 5055.152859503391, 5345.013362981202, 5653.0206621256875, 5979.8976981984, 6326.367412460894, 6693.152746174723, 7080.9766406014405, 7490.562037002597, 7922.631876639753, 8377.909100774454, 8857.116650668258, 9360.977467582718, 9890.214492779385, 10445.550667519816, 11027.708933065562, 11637.412230678177, 12275.383501619215, 12942.34568715023, 13639.02172853277, 14366.134567028397, 15124.40714389866, 15914.56240040511, 16737.323277809304, 17593.4127173728, 18483.55366035714, 19408.469048023882, 20368.881821634586, 21365.514922450802, 22399.09129173408, 23470.33387074597, 24579.965600748033, 25728.709423001827, 26917.288278768894, 28146.42510931079, 29416.842855889074, 30729.264459765294, 32084.412862201007, 33483.01100445776, 34925.781827797124, 36413.44827348062, 37946.73328276984, 39526.35979692631, 41153.05075721159, 42827.529104887246, 44550.5177812148, 46322.739727455846, 48144.91788487192, 50017.775194724556, 51942.034598275335, 53918.419036785795, 55947.65145151751, 58030.454783732, 60167.55197469084, 62359.665965655586, 64607.51969788778, 66911.83611264899, 69273.33815120076, 71692.74875480463, 74170.79086472218, 76708.18742221495, 79305.66136854448, 81963.93564497234, 84683.73319276009, 87465.77695316928, 90310.78986746144, 93219.49487689816, 96192.61492274096, 99230.87294625143, 102334.99188869107, 105505.69469132149, 108743.70429540421, 112049.7436422008, 115424.5356729728, 118868.80332898175, 122383.26955148924, 125968.65728175681, 129625.68946104601, 133355.08903061837, 137157.57893173548, 141033.88210565888, 144984.72149365014, 149010.82003697078, 153112.90067688236, 157291.68635464646, 161547.90001152462, 165882.26458877837, 170295.5030276693, 174788.33826945894, 179361.49325540886, 184015.69092678057, 188751.65422483571, 193570.10609083576, 198471.7694660423, 203457.36729171683, 208527.622509121, 213683.2580595163, 218924.99688416428, 224253.56192432655, 229669.6761212646, 235174.06241624005, 240767.44375051436, 246450.54306534913, 252224.08330200598, 258088.78740174635, 264045.37830583187, 270094.5789555241, 276237.1122920845, 282473.7012567747, 288805.0687908562, 295231.9378355907, 301755.03133223957, 308375.0722220645, 315092.7834463269, 321908.88794628845, 328824.10866321065, 335839.1685383551, 342954.7905129833, 350171.69752835674, 357490.61252573715, 364912.25844638597, 372437.35823156475, 380066.63482253504, 387800.8111605585, 395640.6101868965, 403586.7548428108, 411639.96806956275, 419800.9728084141, 428070.4920006262, 436449.2485874608, 444937.9655101793, 453537.36571004335, 462248.17212831444, 471071.1077062542, 480006.8953851241, 489056.2581061857, 498219.9188107006, 507498.6004399304, 516893.0259351365, 526403.9182375806, 536032.0002885241, 545777.9950292287, 555642.6254009559, 565626.6143449673, 575730.6848025244, 585955.5597148888, 596301.962023322, 606770.6146690855, 617362.240593441, 628077.5627376499, 638917.3040429739, 649882.1874506745, 660972.9359020132, 672190.2723382516, 683534.9197006512, 695007.6009304737, 706609.0389689804, 718339.9567574331, 730201.0772370932, 742193.1233492225, 754316.8180350822, 766572.884235934, 778962.0448930395, 791485.0229476602, 804142.5413410577, 816935.3230144937, 829864.0909092294, 842929.5679665265, 856132.4771276467, 869473.5413338514, 882953.4835264023, 896573.0266465608, 910332.8936355883, 924233.8074347469, 938276.4909852976, 952461.6672285022, 966790.0591056222, 981262.3895579192, 995879.3815266548, 1010641.7579530904, 1025550.2417784877, 1040605.555944108, 1055808.4233912132, 1071159.5670610648, 1086659.709894924, 1102309.5748340527, 1118109.8848197125, 1134061.3627931646, 1150164.7316956709, 1166420.7144684927, 1182830.0340528917, 1199393.4133901296, 1216111.5754214674, 1232985.2430881674, 1250015.1393314907, 1267201.9870926987, 1284546.5093130535, 1302049.4289338163, 1319711.4688962484, 1337533.352141612, 1355515.801611168, 1373659.5402461784, 1391965.2909879046, 1410433.7767776083, 1429065.720556551, 1447861.8452659938, 1466822.8738471987, 1485949.5292414273, 1505242.534389941, 1524702.6122340013, 1544330.48571487, 1564126.8777738085, 1584092.5113520783, 1604228.109390941, 1624534.3948316579, 1645012.0906154911, 1665661.9196837018, 1686484.6049775514, 1707480.869438302, 1728651.4360072145, 1749997.027625551, 1771518.3672345728, 1793216.1777755416, 1815091.1821897186, 1837144.1034183656, 1859375.6644027443, 1881786.5880841159, 1904377.5974037421, 1927149.4153028848, 1950102.764722805, 1973238.3686047646, 1996556.949890025, 2020059.2315198479, 2043745.9364354948, 2067617.787578227, 2091675.5078893066, 2115919.8203099947, 2140351.447781553, 2164971.1132452427, 2189779.539642326, 2214777.4499140643, 2239965.5670017186, 2265344.613846551, 2290915.3133898233, 2316678.3885727962, 2342634.5623367317, 2368784.5576228914, 2395129.097372537, 2421668.90452693, 2448404.702027331, 2475337.2128150035, 2502467.1598312072, 2529795.2660172046, 2557322.254314257, 2585048.8476636256]}, {\"mode\": \"lines+markers\", \"name\": \"Model 110\", \"type\": \"scatter\", \"x\": [0.0, 1.0, 2.0, 3.0, 4.0, 5.0, 6.0, 7.0, 8.0, 9.0, 10.0, 11.0, 12.0, 13.0, 14.0, 15.0, 16.0, 17.0, 18.0, 19.0, 20.0, 21.0, 22.0, 23.0, 24.0, 25.0, 26.0, 27.0, 28.0, 29.0, 30.0, 31.0, 32.0, 33.0, 34.0, 35.0, 36.0, 37.0, 38.0, 39.0, 40.0, 41.0, 42.0, 43.0, 44.0, 45.0, 46.0, 47.0, 48.0, 49.0, 50.0, 51.0, 52.0, 53.0, 54.0, 55.0, 56.0, 57.0, 58.0, 59.0, 60.0, 61.0, 62.0, 63.0, 64.0, 65.0, 66.0, 67.0, 68.0, 69.0, 70.0, 71.0, 72.0, 73.0, 74.0, 75.0, 76.0, 77.0, 78.0, 79.0, 80.0, 81.0, 82.0, 83.0, 84.0, 85.0, 86.0, 87.0, 88.0, 89.0, 90.0, 91.0, 92.0, 93.0, 94.0, 95.0, 96.0, 97.0, 98.0, 99.0, 100.0, 101.0, 102.0, 103.0, 104.0, 105.0, 106.0, 107.0, 108.0, 109.0, 110.0, 111.0, 112.0, 113.0, 114.0, 115.0, 116.0, 117.0, 118.0, 119.0, 120.0, 121.0, 122.0, 123.0, 124.0, 125.0, 126.0, 127.0, 128.0, 129.0, 130.0, 131.0, 132.0, 133.0, 134.0, 135.0, 136.0, 137.0, 138.0, 139.0, 140.0, 141.0, 142.0, 143.0, 144.0, 145.0, 146.0, 147.0, 148.0, 149.0, 150.0, 151.0, 152.0, 153.0, 154.0, 155.0, 156.0, 157.0, 158.0, 159.0, 160.0, 161.0, 162.0, 163.0, 164.0, 165.0, 166.0, 167.0, 168.0, 169.0, 170.0, 171.0, 172.0, 173.0, 174.0, 175.0, 176.0, 177.0, 178.0, 179.0, 180.0, 181.0, 182.0, 183.0, 184.0, 185.0, 186.0, 187.0, 188.0, 189.0, 190.0, 191.0, 192.0, 193.0, 194.0, 195.0, 196.0, 197.0, 198.0, 199.0, 200.0, 201.0, 202.0, 203.0, 204.0, 205.0, 206.0, 207.0, 208.0, 209.0, 210.0, 211.0, 212.0, 213.0, 214.0, 215.0, 216.0, 217.0, 218.0, 219.0, 220.0, 221.0, 222.0, 223.0, 224.0, 225.0, 226.0, 227.0, 228.0, 229.0, 230.0, 231.0, 232.0, 233.0, 234.0, 235.0, 236.0, 237.0, 238.0, 239.0, 240.0, 241.0, 242.0, 243.0, 244.0, 245.0, 246.0, 247.0, 248.0, 249.0, 250.0, 251.0, 252.0, 253.0, 254.0, 255.0, 256.0, 257.0, 258.0, 259.0, 260.0, 261.0, 262.0, 263.0, 264.0, 265.0, 266.0, 267.0, 268.0, 269.0, 270.0, 271.0, 272.0, 273.0, 274.0, 275.0, 276.0, 277.0, 278.0, 279.0, 280.0, 281.0, 282.0, 283.0, 284.0, 285.0, 286.0, 287.0, 288.0, 289.0, 290.0, 291.0, 292.0, 293.0, 294.0, 295.0, 296.0, 297.0, 298.0, 299.0], \"y\": [-1378.5354822476256, -1110.0121997910105, -858.5041061509847, -623.2437833052173, -403.4638132313771, -198.39677790713313, -7.275259310154979, 170.66816058188897, 336.2008997913297, 490.09037634049764, 633.104008251724, 766.0092135473396, 889.5734102496754, 1004.5640163810631, 1111.7484499638326, 1211.8941290203156, 1305.7684715728428, 1394.138895643745, 1477.7728192553527, 1557.4376604299987, 1633.9008371900118, 1707.9297675577236, 1780.2918695554663, 1851.7545612055696, 1923.0852605303635, 1995.0513855521817, 2068.4203542933533, 2143.95958477621, 2222.436495023081, 2304.6185030562997, 2391.273026898195, 2483.1674845711004, 2581.069294097344, 2685.745873499258, 2797.964640799175, 2918.493014019423, 3048.0984111823336, 3187.5482503102403, 3337.6099494254704, 3499.050926550358, 3672.638599707233, 3859.140386918425, 4059.3237062062663, 4273.955975593089, 4503.804613101221, 4749.637036752994, 5012.220664570744, 5292.322914576794, 5590.71120479348, 5908.152953243133, 6245.415577948082, 6603.266496930659, 6982.4731282131925, 7383.802889818018, 7808.023199767464, 8255.90147608386, 8728.205136789538, 9225.701599906832, 9749.15828345807, 10299.34260546558, 10877.021983951698, 11482.963836938752, 12117.935582449081, 12782.704638505002, 13478.038423128855, 14204.704354342968, 14963.469850169673, 15755.102328631307, 16580.36920775019, 17440.03790554866, 18334.875840049044, 19265.650429273675, 20233.129091244882, 21238.079243985005, 22281.268305516358, 23363.463693861286, 24485.432827042117, 25647.94312308118, 26851.762000000803, 28097.656875823326, 29386.395168571074, 30718.744296266374, 32095.471676931567, 33517.34472858897, 34985.13086926093, 36499.59751696976, 38061.51208973782, 39671.642005587404, 41330.754682540864, 43039.61753862054, 44798.99799184874, 46609.663460247815, 48472.381361840075, 50387.91911464787, 52357.04413669353, 54380.52384599937, 56459.12566058773, 58593.61699848095, 60784.76527770134, 63033.33791627125, 65340.10233221302, 67705.82594354895, 70131.27616830138, 72617.22042449265, 75164.4261301451, 77773.66070328104, 80445.69156192282, 83181.28612409275, 85981.21180781318, 88846.23603110644, 91777.12621199485, 94774.64976850072, 97839.57411864644, 100972.66668045429, 104174.69487194662, 107446.42611114577, 110788.62781607403, 114202.06740475379, 117687.51229520734, 121245.72990545703, 124877.48765352518, 128583.55295743413, 132364.6932352062, 136221.67590486372, 140155.26838442904, 144166.23809192446, 148255.35244537235, 152423.378862795, 156671.0847622148, 160999.237561654, 165408.604679135, 169899.95353268008, 174474.05154031163, 179131.6661200519, 183873.5646899233, 188700.51466794813, 193613.28347214873, 198612.6385205474, 203699.34723116647, 208874.1770220283, 214137.89531115524, 219491.2695165696, 224935.0670562937, 230470.05534834985, 236097.00181076038, 241816.6738615477, 247629.83891873408, 253537.26440034184, 259539.71772439335, 265637.96630891087, 271832.7775719169, 278124.9189314335, 284515.15780548326, 291004.26161208836, 297592.99776927126, 304282.1336950541, 311072.43680745934, 317964.67452450935, 324959.61426422634, 332058.02344463277, 339260.6694837508, 346568.31979960296, 353981.74181021145, 361501.7029335986, 369128.9705877868, 376864.31219079834, 384708.4951606556, 392662.28691538086, 400726.4548729965, 408901.7664515248, 417188.9890689881, 425588.89014340873, 434102.23709280905, 442729.7973352114, 451472.3382886381, 460330.6273711114, 469305.43200065376, 478397.5195952874, 487607.65757303475, 496936.61335191806, 506385.15434995963, 515954.0479851819, 525644.0616756072, 535455.9628392578, 545390.5188941561, 555448.4972583243, 565630.6653497848, 575937.7905865599, 586370.640386672, 596929.9821681434, 607616.5833489965, 618431.2113472535, 629374.6335809368, 640447.6174680687, 651650.9304266715, 662985.3398747677, 674451.6132303795, 686050.5179115293, 697782.8213362392, 709649.2909225319, 721650.6940884294, 733787.7982519543, 746061.3708311287, 758472.1792439751, 771020.9909085156, 783708.5732427728, 796535.693664769, 809503.1195925265, 822611.6184440674, 835861.9576374143, 849254.9045905895, 862791.2267216152, 876471.6914485139, 890297.0661893077, 904268.1183620192, 918385.6153846706, 932650.3246752842, 947063.0136518824, 961624.4497324876, 976335.4003351218, 991196.6328778077, 1006208.9147785674, 1021373.0134554234, 1036689.6963263979, 1052159.7308095132, 1067783.884322792, 1083562.924284256, 1099497.6181119282, 1115588.7332238303, 1131837.0370379852, 1148243.296972415, 1164808.2804451417, 1181532.7548741882, 1198417.4876775765, 1215463.2462733288, 1232670.7980794678, 1250040.9105140157, 1267574.3509949946, 1285271.8869404271, 1303134.2857683355, 1321162.314896742, 1339356.7417436691, 1357718.333727139, 1376247.858265174, 1394946.0827757968, 1413813.774677029, 1432851.7013868936, 1452060.6303234128, 1471441.3289046087, 1490994.5645485038, 1510721.1046731202, 1530621.7166964805, 1550697.168036607, 1570948.2261115222, 1591375.658339248, 1611980.232137807, 1632762.7149252214, 1653723.8741195134, 1674864.477138706, 1696185.2914008207, 1717687.0843238803, 1739370.6233259072, 1761236.6758249234, 1783286.0092389514, 1805519.3909860135, 1827937.588484132, 1850541.3691513294, 1873331.500405628, 1896308.7496650498, 1919473.8843476176, 1942827.6718713534, 1966370.8796542797, 1990104.2751144187, 2014028.6256697928, 2038144.6987384243, 2062453.2617383357, 2086955.082087549, 2111650.9272040864, 2136541.564505971, 2161627.761411225, 2186910.28533787, 2212389.903703929, 2238067.383927424, 2263943.493426377, 2290018.999618811, 2316294.669922748, 2342771.271756211, 2369449.572537221, 2396330.3396838014, 2423414.3406139743, 2450702.3427457614, 2478195.113497186, 2505893.42028627, 2533798.0305310357, 2561909.7116495054, 2590229.231059701, 2618757.356179646, 2647494.854427362, 2676442.4932208713, 2705601.039978196]}, {\"mode\": \"lines+markers\", \"name\": \"Model 115\", \"type\": \"scatter\", \"x\": [0.0, 1.0, 2.0, 3.0, 4.0, 5.0, 6.0, 7.0, 8.0, 9.0, 10.0, 11.0, 12.0, 13.0, 14.0, 15.0, 16.0, 17.0, 18.0, 19.0, 20.0, 21.0, 22.0, 23.0, 24.0, 25.0, 26.0, 27.0, 28.0, 29.0, 30.0, 31.0, 32.0, 33.0, 34.0, 35.0, 36.0, 37.0, 38.0, 39.0, 40.0, 41.0, 42.0, 43.0, 44.0, 45.0, 46.0, 47.0, 48.0, 49.0, 50.0, 51.0, 52.0, 53.0, 54.0, 55.0, 56.0, 57.0, 58.0, 59.0, 60.0, 61.0, 62.0, 63.0, 64.0, 65.0, 66.0, 67.0, 68.0, 69.0, 70.0, 71.0, 72.0, 73.0, 74.0, 75.0, 76.0, 77.0, 78.0, 79.0, 80.0, 81.0, 82.0, 83.0, 84.0, 85.0, 86.0, 87.0, 88.0, 89.0, 90.0, 91.0, 92.0, 93.0, 94.0, 95.0, 96.0, 97.0, 98.0, 99.0, 100.0, 101.0, 102.0, 103.0, 104.0, 105.0, 106.0, 107.0, 108.0, 109.0, 110.0, 111.0, 112.0, 113.0, 114.0, 115.0, 116.0, 117.0, 118.0, 119.0, 120.0, 121.0, 122.0, 123.0, 124.0, 125.0, 126.0, 127.0, 128.0, 129.0, 130.0, 131.0, 132.0, 133.0, 134.0, 135.0, 136.0, 137.0, 138.0, 139.0, 140.0, 141.0, 142.0, 143.0, 144.0, 145.0, 146.0, 147.0, 148.0, 149.0, 150.0, 151.0, 152.0, 153.0, 154.0, 155.0, 156.0, 157.0, 158.0, 159.0, 160.0, 161.0, 162.0, 163.0, 164.0, 165.0, 166.0, 167.0, 168.0, 169.0, 170.0, 171.0, 172.0, 173.0, 174.0, 175.0, 176.0, 177.0, 178.0, 179.0, 180.0, 181.0, 182.0, 183.0, 184.0, 185.0, 186.0, 187.0, 188.0, 189.0, 190.0, 191.0, 192.0, 193.0, 194.0, 195.0, 196.0, 197.0, 198.0, 199.0, 200.0, 201.0, 202.0, 203.0, 204.0, 205.0, 206.0, 207.0, 208.0, 209.0, 210.0, 211.0, 212.0, 213.0, 214.0, 215.0, 216.0, 217.0, 218.0, 219.0, 220.0, 221.0, 222.0, 223.0, 224.0, 225.0, 226.0, 227.0, 228.0, 229.0, 230.0, 231.0, 232.0, 233.0, 234.0, 235.0, 236.0, 237.0, 238.0, 239.0, 240.0, 241.0, 242.0, 243.0, 244.0, 245.0, 246.0, 247.0, 248.0, 249.0, 250.0, 251.0, 252.0, 253.0, 254.0, 255.0, 256.0, 257.0, 258.0, 259.0, 260.0, 261.0, 262.0, 263.0, 264.0, 265.0, 266.0, 267.0, 268.0, 269.0, 270.0, 271.0, 272.0, 273.0, 274.0, 275.0, 276.0, 277.0, 278.0, 279.0, 280.0, 281.0, 282.0, 283.0, 284.0, 285.0, 286.0, 287.0, 288.0, 289.0, 290.0, 291.0, 292.0, 293.0, 294.0, 295.0, 296.0, 297.0, 298.0, 299.0], \"y\": [-1108.7559337358107, -879.5157159899463, -665.0139386444133, -464.5339547547428, -277.3591173764654, -102.7727795651125, 59.941705623784856, 211.50098513469607, 352.62170591208996, 484.0205149004355, 606.4140590442016, 720.5189852878575, 827.0519405758714, 926.7295718527134, 1020.2685260628523, 1108.3854501507572, 1191.7969910608963, 1271.2197957377389, 1347.3705111257545, 1420.9657841694116, 1492.72226181318, 1563.3565910015277, 1633.5854186789238, 1704.125391789838, 1775.693157278738, 1849.0053620900944, 1924.778653168376, 2003.729677458051, 2086.575081903589, 2174.031513449458, 2266.8156190401287, 2365.6440456200685, 2471.2334401337475, 2584.300449525634, 2705.5617207401974, 2835.7339007219066, 2975.533636415231, 3125.677574764639, 3286.8823627145994, 3459.8646472095816, 3645.3410751940546, 3844.0282936124877, 4056.642949409349, 4283.901689529109, 4526.521160916235, 4785.218010515197, 5060.708885270465, 5353.710432126506, 5664.939298027788, 5995.1121299187835, 6344.945574743961, 6715.156279447787, 7106.460890974731, 7519.576056269265, 7955.218422275855, 8414.104635938971, 8896.951344203082, 9404.475194012657, 9937.392832312164, 10496.420906046073, 11082.276062158853, 11695.674947594975, 12337.334209298902, 13007.970494215111, 13708.300449288065, 14439.040721462234, 15200.907957682091, 15994.6188048921, 16820.889910036727, 17680.437920060456, 18573.979481907736, 19502.231242523052, 20465.909848850868, 21465.731947835648, 22502.414186421865, 23576.673211553993, 24689.225670176493, 25840.788209233837, 27032.077475670496, 28263.81011643093, 29536.70277845962, 30851.472108701026, 32208.834754099633, 33609.507361599884, 35054.20657814627, 36543.64905068325, 38078.55142615529, 39659.63035150687, 41287.602473682455, 42963.18443962651, 44687.0928962835, 46460.04449059791, 48282.75586951419, 50155.94367997683, 52080.32456893028, 54056.61518331901, 56085.5321700875, 58167.79217618021, 60304.111848541615, 62495.20783411619, 64741.79677984839, 67044.5953326827, 69404.32013956356, 71821.68784743547, 74297.41510324288, 76832.21855393029, 79426.81484644211, 82081.92062772287, 84798.252544717, 87576.52724436899, 90417.4613736233, 93321.7715794244, 96290.17450871675, 99323.38680844483, 102422.12512555312, 105587.10610698606, 108819.04639968814, 112118.66265060384, 115486.6715066776, 118923.7896148539, 122430.73362207721, 126008.22017529201, 129656.96592144275, 133377.68750747392, 137171.10158032997, 141037.92478695538, 144978.8737742946, 148994.66518929214, 153086.0156788924, 157253.64189003993, 161498.26046967917, 165820.58806475453, 170221.3413222106, 174701.23688899173, 179260.99141204244, 183901.3215383072, 188622.94391473048, 193426.57518825674, 198312.93200583046, 203282.7310143961, 208336.6888608981, 213475.52219228103, 218699.94765548923, 224010.68189746726, 229408.44156515953, 234893.94330551056, 240467.90376546478, 246131.0395919667, 251884.06743196072, 257727.7039323914, 263662.6657402031, 269689.6695023404, 275809.4318657477, 282022.6694773695, 288330.0989841503, 294732.43703303445, 301230.4002709665, 307824.70534489094, 314516.06890175224, 321305.2075884948, 328192.8380520632, 335179.6769394018, 342266.44089745503, 349453.84657316754, 356742.61061348364, 364133.4496653479, 371627.0803757047, 379224.2193914986, 386925.583359674, 394731.8889271754, 402643.8527409473, 410662.191447934, 418787.6216950802, 427020.8601293303, 435362.62339762866, 443813.6281469199, 452374.59102414834, 461046.2286762586, 469829.257750195, 478724.3948929021, 487732.3567513244, 496853.85997240624, 506089.6212030922, 515440.3570903268, 524906.7842810543, 534489.6194222195, 544189.5791607664, 554007.3801436399, 563943.7390177844, 573999.3724301439, 584174.9970276635, 594471.3294572874, 604889.0863659601, 615428.984400626, 626091.7402082297, 636878.0704357154, 647788.691730028, 658824.3207381116, 669985.6741069108, 681273.46848337, 692688.4205144339, 704231.2468470465, 715902.6641281529, 727703.3890046971, 739634.1381236236, 751695.6281318772, 763888.5756764021, 776213.6974041427, 788671.7099620434, 801263.3299970492, 813989.2741561041, 826850.2590861528, 839847.0014341394, 852980.2178470087, 866250.6249717053, 879658.9394551732, 893205.8779443575, 906892.157086202, 920718.4935276515, 934685.6039156506, 948794.2048971434, 963045.0131190747, 977438.7452283888, 991976.1178720305, 1006657.8476969437, 1021484.651350073, 1036457.2454783632, 1051576.346728759, 1066842.671748204, 1082256.9371836432, 1097819.859682021, 1113532.1558902818, 1129394.5424553703, 1145407.7360242307, 1161572.4532438077, 1177889.4107610455, 1194359.3252228887, 1210982.913276282, 1227760.8915681695, 1244693.9767454958, 1261782.8854552056, 1279028.334344243, 1296431.0400595525, 1313991.7192480788, 1331711.0885567663, 1349589.8646325595, 1367628.7641224028, 1385828.5036732405, 1404189.7999320175, 1422713.3695456777, 1441399.929161166, 1460250.1954254268, 1479264.8849854046, 1498444.7144880437, 1517790.4005802888, 1537302.659909084, 1556982.2091213742, 1576829.7648641034, 1596846.0437842165, 1617031.762528658, 1637387.6377443718, 1657914.386078303, 1678612.7241773957, 1699483.3686885945, 1720527.0362588437, 1741744.443535088, 1763136.307164272, 1784703.3437933398, 1806446.270069236, 1828365.8026389051, 1850462.6581492915, 1872737.55324734, 1895191.2045799945, 1917824.3287942, 1940637.6425369005, 1963631.862455041, 1986807.7051955655, 2010165.8874054186, 2033707.1257315448, 2057432.1368208886, 2081341.6373203944, 2105436.343877007, 2129716.97313767, 2154184.241749329, 2178838.866358928, 2203681.563613411, 2228713.050159723, 2253934.0426448085, 2279345.2577156117, 2304947.412019077, 2330741.222202149, 2356727.404911773, 2382906.6767948917, 2409279.754498451, 2435847.354669395, 2462610.193954668, 2489568.9890012145, 2516724.456455979, 2544077.3129659058, 2571628.27517794]}],\n",
              "                        {\"template\": {\"data\": {\"bar\": [{\"error_x\": {\"color\": \"#2a3f5f\"}, \"error_y\": {\"color\": \"#2a3f5f\"}, \"marker\": {\"line\": {\"color\": \"#E5ECF6\", \"width\": 0.5}}, \"type\": \"bar\"}], \"barpolar\": [{\"marker\": {\"line\": {\"color\": \"#E5ECF6\", \"width\": 0.5}}, \"type\": \"barpolar\"}], \"carpet\": [{\"aaxis\": {\"endlinecolor\": \"#2a3f5f\", \"gridcolor\": \"white\", \"linecolor\": \"white\", \"minorgridcolor\": \"white\", \"startlinecolor\": \"#2a3f5f\"}, \"baxis\": {\"endlinecolor\": \"#2a3f5f\", \"gridcolor\": \"white\", \"linecolor\": \"white\", \"minorgridcolor\": \"white\", \"startlinecolor\": \"#2a3f5f\"}, \"type\": \"carpet\"}], \"choropleth\": [{\"colorbar\": {\"outlinewidth\": 0, \"ticks\": \"\"}, \"type\": \"choropleth\"}], \"contour\": [{\"colorbar\": {\"outlinewidth\": 0, \"ticks\": \"\"}, \"colorscale\": [[0.0, \"#0d0887\"], [0.1111111111111111, \"#46039f\"], [0.2222222222222222, \"#7201a8\"], [0.3333333333333333, \"#9c179e\"], [0.4444444444444444, \"#bd3786\"], [0.5555555555555556, \"#d8576b\"], [0.6666666666666666, \"#ed7953\"], [0.7777777777777778, \"#fb9f3a\"], [0.8888888888888888, \"#fdca26\"], [1.0, \"#f0f921\"]], \"type\": \"contour\"}], \"contourcarpet\": [{\"colorbar\": {\"outlinewidth\": 0, \"ticks\": \"\"}, \"type\": \"contourcarpet\"}], \"heatmap\": [{\"colorbar\": {\"outlinewidth\": 0, \"ticks\": \"\"}, \"colorscale\": [[0.0, \"#0d0887\"], [0.1111111111111111, \"#46039f\"], [0.2222222222222222, \"#7201a8\"], [0.3333333333333333, \"#9c179e\"], [0.4444444444444444, \"#bd3786\"], [0.5555555555555556, \"#d8576b\"], [0.6666666666666666, \"#ed7953\"], [0.7777777777777778, \"#fb9f3a\"], [0.8888888888888888, \"#fdca26\"], [1.0, \"#f0f921\"]], \"type\": \"heatmap\"}], \"heatmapgl\": [{\"colorbar\": {\"outlinewidth\": 0, \"ticks\": \"\"}, \"colorscale\": [[0.0, \"#0d0887\"], [0.1111111111111111, \"#46039f\"], [0.2222222222222222, \"#7201a8\"], [0.3333333333333333, \"#9c179e\"], [0.4444444444444444, \"#bd3786\"], [0.5555555555555556, \"#d8576b\"], [0.6666666666666666, \"#ed7953\"], [0.7777777777777778, \"#fb9f3a\"], [0.8888888888888888, \"#fdca26\"], [1.0, \"#f0f921\"]], \"type\": \"heatmapgl\"}], \"histogram\": [{\"marker\": {\"colorbar\": {\"outlinewidth\": 0, \"ticks\": \"\"}}, \"type\": \"histogram\"}], \"histogram2d\": [{\"colorbar\": {\"outlinewidth\": 0, \"ticks\": \"\"}, \"colorscale\": [[0.0, \"#0d0887\"], [0.1111111111111111, \"#46039f\"], [0.2222222222222222, \"#7201a8\"], [0.3333333333333333, \"#9c179e\"], [0.4444444444444444, \"#bd3786\"], [0.5555555555555556, \"#d8576b\"], [0.6666666666666666, \"#ed7953\"], [0.7777777777777778, \"#fb9f3a\"], [0.8888888888888888, \"#fdca26\"], [1.0, \"#f0f921\"]], \"type\": \"histogram2d\"}], \"histogram2dcontour\": [{\"colorbar\": {\"outlinewidth\": 0, \"ticks\": \"\"}, \"colorscale\": [[0.0, \"#0d0887\"], [0.1111111111111111, \"#46039f\"], [0.2222222222222222, \"#7201a8\"], [0.3333333333333333, \"#9c179e\"], [0.4444444444444444, \"#bd3786\"], [0.5555555555555556, \"#d8576b\"], [0.6666666666666666, \"#ed7953\"], [0.7777777777777778, \"#fb9f3a\"], [0.8888888888888888, \"#fdca26\"], [1.0, \"#f0f921\"]], \"type\": \"histogram2dcontour\"}], \"mesh3d\": [{\"colorbar\": {\"outlinewidth\": 0, \"ticks\": \"\"}, \"type\": \"mesh3d\"}], \"parcoords\": [{\"line\": {\"colorbar\": {\"outlinewidth\": 0, \"ticks\": \"\"}}, \"type\": \"parcoords\"}], \"pie\": [{\"automargin\": true, \"type\": \"pie\"}], \"scatter\": [{\"marker\": {\"colorbar\": {\"outlinewidth\": 0, \"ticks\": \"\"}}, \"type\": \"scatter\"}], \"scatter3d\": [{\"line\": {\"colorbar\": {\"outlinewidth\": 0, \"ticks\": \"\"}}, \"marker\": {\"colorbar\": {\"outlinewidth\": 0, \"ticks\": \"\"}}, \"type\": \"scatter3d\"}], \"scattercarpet\": [{\"marker\": {\"colorbar\": {\"outlinewidth\": 0, \"ticks\": \"\"}}, \"type\": \"scattercarpet\"}], \"scattergeo\": [{\"marker\": {\"colorbar\": {\"outlinewidth\": 0, \"ticks\": \"\"}}, \"type\": \"scattergeo\"}], \"scattergl\": [{\"marker\": {\"colorbar\": {\"outlinewidth\": 0, \"ticks\": \"\"}}, \"type\": \"scattergl\"}], \"scattermapbox\": [{\"marker\": {\"colorbar\": {\"outlinewidth\": 0, \"ticks\": \"\"}}, \"type\": \"scattermapbox\"}], \"scatterpolar\": [{\"marker\": {\"colorbar\": {\"outlinewidth\": 0, \"ticks\": \"\"}}, \"type\": \"scatterpolar\"}], \"scatterpolargl\": [{\"marker\": {\"colorbar\": {\"outlinewidth\": 0, \"ticks\": \"\"}}, \"type\": \"scatterpolargl\"}], \"scatterternary\": [{\"marker\": {\"colorbar\": {\"outlinewidth\": 0, \"ticks\": \"\"}}, \"type\": \"scatterternary\"}], \"surface\": [{\"colorbar\": {\"outlinewidth\": 0, \"ticks\": \"\"}, \"colorscale\": [[0.0, \"#0d0887\"], [0.1111111111111111, \"#46039f\"], [0.2222222222222222, \"#7201a8\"], [0.3333333333333333, \"#9c179e\"], [0.4444444444444444, \"#bd3786\"], [0.5555555555555556, \"#d8576b\"], [0.6666666666666666, \"#ed7953\"], [0.7777777777777778, \"#fb9f3a\"], [0.8888888888888888, \"#fdca26\"], [1.0, \"#f0f921\"]], \"type\": \"surface\"}], \"table\": [{\"cells\": {\"fill\": {\"color\": \"#EBF0F8\"}, \"line\": {\"color\": \"white\"}}, \"header\": {\"fill\": {\"color\": \"#C8D4E3\"}, \"line\": {\"color\": \"white\"}}, \"type\": \"table\"}]}, \"layout\": {\"annotationdefaults\": {\"arrowcolor\": \"#2a3f5f\", \"arrowhead\": 0, \"arrowwidth\": 1}, \"coloraxis\": {\"colorbar\": {\"outlinewidth\": 0, \"ticks\": \"\"}}, \"colorscale\": {\"diverging\": [[0, \"#8e0152\"], [0.1, \"#c51b7d\"], [0.2, \"#de77ae\"], [0.3, \"#f1b6da\"], [0.4, \"#fde0ef\"], [0.5, \"#f7f7f7\"], [0.6, \"#e6f5d0\"], [0.7, \"#b8e186\"], [0.8, \"#7fbc41\"], [0.9, \"#4d9221\"], [1, \"#276419\"]], \"sequential\": [[0.0, \"#0d0887\"], [0.1111111111111111, \"#46039f\"], [0.2222222222222222, \"#7201a8\"], [0.3333333333333333, \"#9c179e\"], [0.4444444444444444, \"#bd3786\"], [0.5555555555555556, \"#d8576b\"], [0.6666666666666666, \"#ed7953\"], [0.7777777777777778, \"#fb9f3a\"], [0.8888888888888888, \"#fdca26\"], [1.0, \"#f0f921\"]], \"sequentialminus\": [[0.0, \"#0d0887\"], [0.1111111111111111, \"#46039f\"], [0.2222222222222222, \"#7201a8\"], [0.3333333333333333, \"#9c179e\"], [0.4444444444444444, \"#bd3786\"], [0.5555555555555556, \"#d8576b\"], [0.6666666666666666, \"#ed7953\"], [0.7777777777777778, \"#fb9f3a\"], [0.8888888888888888, \"#fdca26\"], [1.0, \"#f0f921\"]]}, \"colorway\": [\"#636efa\", \"#EF553B\", \"#00cc96\", \"#ab63fa\", \"#FFA15A\", \"#19d3f3\", \"#FF6692\", \"#B6E880\", \"#FF97FF\", \"#FECB52\"], \"font\": {\"color\": \"#2a3f5f\"}, \"geo\": {\"bgcolor\": \"white\", \"lakecolor\": \"white\", \"landcolor\": \"#E5ECF6\", \"showlakes\": true, \"showland\": true, \"subunitcolor\": \"white\"}, \"hoverlabel\": {\"align\": \"left\"}, \"hovermode\": \"closest\", \"mapbox\": {\"style\": \"light\"}, \"paper_bgcolor\": \"white\", \"plot_bgcolor\": \"#E5ECF6\", \"polar\": {\"angularaxis\": {\"gridcolor\": \"white\", \"linecolor\": \"white\", \"ticks\": \"\"}, \"bgcolor\": \"#E5ECF6\", \"radialaxis\": {\"gridcolor\": \"white\", \"linecolor\": \"white\", \"ticks\": \"\"}}, \"scene\": {\"xaxis\": {\"backgroundcolor\": \"#E5ECF6\", \"gridcolor\": \"white\", \"gridwidth\": 2, \"linecolor\": \"white\", \"showbackground\": true, \"ticks\": \"\", \"zerolinecolor\": \"white\"}, \"yaxis\": {\"backgroundcolor\": \"#E5ECF6\", \"gridcolor\": \"white\", \"gridwidth\": 2, \"linecolor\": \"white\", \"showbackground\": true, \"ticks\": \"\", \"zerolinecolor\": \"white\"}, \"zaxis\": {\"backgroundcolor\": \"#E5ECF6\", \"gridcolor\": \"white\", \"gridwidth\": 2, \"linecolor\": \"white\", \"showbackground\": true, \"ticks\": \"\", \"zerolinecolor\": \"white\"}}, \"shapedefaults\": {\"line\": {\"color\": \"#2a3f5f\"}}, \"ternary\": {\"aaxis\": {\"gridcolor\": \"white\", \"linecolor\": \"white\", \"ticks\": \"\"}, \"baxis\": {\"gridcolor\": \"white\", \"linecolor\": \"white\", \"ticks\": \"\"}, \"bgcolor\": \"#E5ECF6\", \"caxis\": {\"gridcolor\": \"white\", \"linecolor\": \"white\", \"ticks\": \"\"}}, \"title\": {\"x\": 0.05}, \"xaxis\": {\"automargin\": true, \"gridcolor\": \"white\", \"linecolor\": \"white\", \"ticks\": \"\", \"title\": {\"standoff\": 15}, \"zerolinecolor\": \"white\", \"zerolinewidth\": 2}, \"yaxis\": {\"automargin\": true, \"gridcolor\": \"white\", \"linecolor\": \"white\", \"ticks\": \"\", \"title\": {\"standoff\": 15}, \"zerolinecolor\": \"white\", \"zerolinewidth\": 2}}}},\n",
              "                        {\"responsive\": true}\n",
              "                    ).then(function(){\n",
              "                            \n",
              "var gd = document.getElementById('a53f6560-f79b-4380-899d-69537069095f');\n",
              "var x = new MutationObserver(function (mutations, observer) {{\n",
              "        var display = window.getComputedStyle(gd).display;\n",
              "        if (!display || display === 'none') {{\n",
              "            console.log([gd, 'removed!']);\n",
              "            Plotly.purge(gd);\n",
              "            observer.disconnect();\n",
              "        }}\n",
              "}});\n",
              "\n",
              "// Listen for the removal of the full notebook cells\n",
              "var notebookContainer = gd.closest('#notebook-container');\n",
              "if (notebookContainer) {{\n",
              "    x.observe(notebookContainer, {childList: true});\n",
              "}}\n",
              "\n",
              "// Listen for the clearing of the current output cell\n",
              "var outputEl = gd.closest('.output');\n",
              "if (outputEl) {{\n",
              "    x.observe(outputEl, {childList: true});\n",
              "}}\n",
              "\n",
              "                        })\n",
              "                };\n",
              "                \n",
              "            </script>\n",
              "        </div>\n",
              "</body>\n",
              "</html>"
            ]
          },
          "metadata": {
            "tags": []
          }
        }
      ]
    }
  ]
}